{
  "nbformat": 4,
  "nbformat_minor": 0,
  "metadata": {
    "colab": {
      "name": "TimeSeries.ipynb",
      "provenance": [],
      "collapsed_sections": []
    },
    "kernelspec": {
      "name": "python3",
      "display_name": "Python 3"
    }
  },
  "cells": [
    {
      "cell_type": "markdown",
      "metadata": {
        "id": "Dv3WoBsmeWA1",
        "colab_type": "text"
      },
      "source": [
        "# **Projet Time Series Master 2 IMSD 2019/2020**\n",
        "\n",
        "- Abdou Lahat DIOP\n",
        "- Amady DIOP\n",
        "\n",
        "- Encadreur : Jean-Michel ETIENNE"
      ]
    },
    {
      "cell_type": "markdown",
      "metadata": {
        "id": "ipgHVpkU9_Fi",
        "colab_type": "text"
      },
      "source": [
        "### **Les Modules utilisés**"
      ]
    },
    {
      "cell_type": "code",
      "metadata": {
        "id": "4G806DXO9ffU",
        "colab_type": "code",
        "colab": {}
      },
      "source": [
        "# Load in the r magic\n",
        "import warnings\n",
        "warnings.filterwarnings('ignore')\n",
        "%reload_ext rpy2.ipython\n",
        "%config IPCompleter.greedy=True\n",
        "%config InlineBackend.figure_format = 'retina'"
      ],
      "execution_count": 0,
      "outputs": []
    },
    {
      "cell_type": "code",
      "metadata": {
        "id": "7wZN77OS9p6Z",
        "colab_type": "code",
        "colab": {}
      },
      "source": [
        "%%R\n",
        "install.packages('ggplot2')\n",
        "install.packages('zoo')\n",
        "install.packages('dygraphs')\n",
        "install.packages('plotly')\n",
        "install.packages('tseries')\n",
        "install.packages('lubridate')\n",
        "install.packages('tidyverse')\n",
        "install.packages(\"urca\")\n",
        "install.packages('caschrono')\n",
        "install.packages('moments')\n",
        "install.packages('forecast')\n",
        "install.packages('readxl')\n",
        "install.packages('lmtest')\n",
        "install.packages('dse')\n",
        "install.packages('vars')\n",
        "library(dse)\n",
        "library(vars)\n",
        "library(lmtest)\n",
        "library(readxl)\n",
        "library(forecast)\n",
        "library(moments) \n",
        "library(caschrono)\n",
        "library(urca)\n",
        "library(ggplot2)\n",
        "library(zoo)\n",
        "library(dygraphs)\n",
        "library(plotly)\n",
        "library(tseries)\n",
        "library(lubridate)\n",
        "library(tidyverse)"
      ],
      "execution_count": 0,
      "outputs": []
    },
    {
      "cell_type": "markdown",
      "metadata": {
        "id": "icerJ0Oz-FgZ",
        "colab_type": "text"
      },
      "source": [
        "### **Chargement des fichiers de données**\n",
        "\n",
        "Pour charger les fichiers : il faut exécuter le code ci-dessous, selectionner les fichiers enrégistrés dans votre ordinateur et attendre que le chargement de chacun des fichier soit à 100%. Pour ensuite commencer à éxécuter les codes qui suivent. "
      ]
    },
    {
      "cell_type": "code",
      "metadata": {
        "id": "qOW1xWtS9rTp",
        "colab_type": "code",
        "outputId": "4e71b558-3fab-4c4a-bb82-a35d38d28847",
        "colab": {
          "resources": {
            "http://localhost:8080/nbextensions/google.colab/files.js": {
              "data": "Ly8gQ29weXJpZ2h0IDIwMTcgR29vZ2xlIExMQwovLwovLyBMaWNlbnNlZCB1bmRlciB0aGUgQXBhY2hlIExpY2Vuc2UsIFZlcnNpb24gMi4wICh0aGUgIkxpY2Vuc2UiKTsKLy8geW91IG1heSBub3QgdXNlIHRoaXMgZmlsZSBleGNlcHQgaW4gY29tcGxpYW5jZSB3aXRoIHRoZSBMaWNlbnNlLgovLyBZb3UgbWF5IG9idGFpbiBhIGNvcHkgb2YgdGhlIExpY2Vuc2UgYXQKLy8KLy8gICAgICBodHRwOi8vd3d3LmFwYWNoZS5vcmcvbGljZW5zZXMvTElDRU5TRS0yLjAKLy8KLy8gVW5sZXNzIHJlcXVpcmVkIGJ5IGFwcGxpY2FibGUgbGF3IG9yIGFncmVlZCB0byBpbiB3cml0aW5nLCBzb2Z0d2FyZQovLyBkaXN0cmlidXRlZCB1bmRlciB0aGUgTGljZW5zZSBpcyBkaXN0cmlidXRlZCBvbiBhbiAiQVMgSVMiIEJBU0lTLAovLyBXSVRIT1VUIFdBUlJBTlRJRVMgT1IgQ09ORElUSU9OUyBPRiBBTlkgS0lORCwgZWl0aGVyIGV4cHJlc3Mgb3IgaW1wbGllZC4KLy8gU2VlIHRoZSBMaWNlbnNlIGZvciB0aGUgc3BlY2lmaWMgbGFuZ3VhZ2UgZ292ZXJuaW5nIHBlcm1pc3Npb25zIGFuZAovLyBsaW1pdGF0aW9ucyB1bmRlciB0aGUgTGljZW5zZS4KCi8qKgogKiBAZmlsZW92ZXJ2aWV3IEhlbHBlcnMgZm9yIGdvb2dsZS5jb2xhYiBQeXRob24gbW9kdWxlLgogKi8KKGZ1bmN0aW9uKHNjb3BlKSB7CmZ1bmN0aW9uIHNwYW4odGV4dCwgc3R5bGVBdHRyaWJ1dGVzID0ge30pIHsKICBjb25zdCBlbGVtZW50ID0gZG9jdW1lbnQuY3JlYXRlRWxlbWVudCgnc3BhbicpOwogIGVsZW1lbnQudGV4dENvbnRlbnQgPSB0ZXh0OwogIGZvciAoY29uc3Qga2V5IG9mIE9iamVjdC5rZXlzKHN0eWxlQXR0cmlidXRlcykpIHsKICAgIGVsZW1lbnQuc3R5bGVba2V5XSA9IHN0eWxlQXR0cmlidXRlc1trZXldOwogIH0KICByZXR1cm4gZWxlbWVudDsKfQoKLy8gTWF4IG51bWJlciBvZiBieXRlcyB3aGljaCB3aWxsIGJlIHVwbG9hZGVkIGF0IGEgdGltZS4KY29uc3QgTUFYX1BBWUxPQURfU0laRSA9IDEwMCAqIDEwMjQ7Ci8vIE1heCBhbW91bnQgb2YgdGltZSB0byBibG9jayB3YWl0aW5nIGZvciB0aGUgdXNlci4KY29uc3QgRklMRV9DSEFOR0VfVElNRU9VVF9NUyA9IDMwICogMTAwMDsKCmZ1bmN0aW9uIF91cGxvYWRGaWxlcyhpbnB1dElkLCBvdXRwdXRJZCkgewogIGNvbnN0IHN0ZXBzID0gdXBsb2FkRmlsZXNTdGVwKGlucHV0SWQsIG91dHB1dElkKTsKICBjb25zdCBvdXRwdXRFbGVtZW50ID0gZG9jdW1lbnQuZ2V0RWxlbWVudEJ5SWQob3V0cHV0SWQpOwogIC8vIENhY2hlIHN0ZXBzIG9uIHRoZSBvdXRwdXRFbGVtZW50IHRvIG1ha2UgaXQgYXZhaWxhYmxlIGZvciB0aGUgbmV4dCBjYWxsCiAgLy8gdG8gdXBsb2FkRmlsZXNDb250aW51ZSBmcm9tIFB5dGhvbi4KICBvdXRwdXRFbGVtZW50LnN0ZXBzID0gc3RlcHM7CgogIHJldHVybiBfdXBsb2FkRmlsZXNDb250aW51ZShvdXRwdXRJZCk7Cn0KCi8vIFRoaXMgaXMgcm91Z2hseSBhbiBhc3luYyBnZW5lcmF0b3IgKG5vdCBzdXBwb3J0ZWQgaW4gdGhlIGJyb3dzZXIgeWV0KSwKLy8gd2hlcmUgdGhlcmUgYXJlIG11bHRpcGxlIGFzeW5jaHJvbm91cyBzdGVwcyBhbmQgdGhlIFB5dGhvbiBzaWRlIGlzIGdvaW5nCi8vIHRvIHBvbGwgZm9yIGNvbXBsZXRpb24gb2YgZWFjaCBzdGVwLgovLyBUaGlzIHVzZXMgYSBQcm9taXNlIHRvIGJsb2NrIHRoZSBweXRob24gc2lkZSBvbiBjb21wbGV0aW9uIG9mIGVhY2ggc3RlcCwKLy8gdGhlbiBwYXNzZXMgdGhlIHJlc3VsdCBvZiB0aGUgcHJldmlvdXMgc3RlcCBhcyB0aGUgaW5wdXQgdG8gdGhlIG5leHQgc3RlcC4KZnVuY3Rpb24gX3VwbG9hZEZpbGVzQ29udGludWUob3V0cHV0SWQpIHsKICBjb25zdCBvdXRwdXRFbGVtZW50ID0gZG9jdW1lbnQuZ2V0RWxlbWVudEJ5SWQob3V0cHV0SWQpOwogIGNvbnN0IHN0ZXBzID0gb3V0cHV0RWxlbWVudC5zdGVwczsKCiAgY29uc3QgbmV4dCA9IHN0ZXBzLm5leHQob3V0cHV0RWxlbWVudC5sYXN0UHJvbWlzZVZhbHVlKTsKICByZXR1cm4gUHJvbWlzZS5yZXNvbHZlKG5leHQudmFsdWUucHJvbWlzZSkudGhlbigodmFsdWUpID0+IHsKICAgIC8vIENhY2hlIHRoZSBsYXN0IHByb21pc2UgdmFsdWUgdG8gbWFrZSBpdCBhdmFpbGFibGUgdG8gdGhlIG5leHQKICAgIC8vIHN0ZXAgb2YgdGhlIGdlbmVyYXRvci4KICAgIG91dHB1dEVsZW1lbnQubGFzdFByb21pc2VWYWx1ZSA9IHZhbHVlOwogICAgcmV0dXJuIG5leHQudmFsdWUucmVzcG9uc2U7CiAgfSk7Cn0KCi8qKgogKiBHZW5lcmF0b3IgZnVuY3Rpb24gd2hpY2ggaXMgY2FsbGVkIGJldHdlZW4gZWFjaCBhc3luYyBzdGVwIG9mIHRoZSB1cGxvYWQKICogcHJvY2Vzcy4KICogQHBhcmFtIHtzdHJpbmd9IGlucHV0SWQgRWxlbWVudCBJRCBvZiB0aGUgaW5wdXQgZmlsZSBwaWNrZXIgZWxlbWVudC4KICogQHBhcmFtIHtzdHJpbmd9IG91dHB1dElkIEVsZW1lbnQgSUQgb2YgdGhlIG91dHB1dCBkaXNwbGF5LgogKiBAcmV0dXJuIHshSXRlcmFibGU8IU9iamVjdD59IEl0ZXJhYmxlIG9mIG5leHQgc3RlcHMuCiAqLwpmdW5jdGlvbiogdXBsb2FkRmlsZXNTdGVwKGlucHV0SWQsIG91dHB1dElkKSB7CiAgY29uc3QgaW5wdXRFbGVtZW50ID0gZG9jdW1lbnQuZ2V0RWxlbWVudEJ5SWQoaW5wdXRJZCk7CiAgaW5wdXRFbGVtZW50LmRpc2FibGVkID0gZmFsc2U7CgogIGNvbnN0IG91dHB1dEVsZW1lbnQgPSBkb2N1bWVudC5nZXRFbGVtZW50QnlJZChvdXRwdXRJZCk7CiAgb3V0cHV0RWxlbWVudC5pbm5lckhUTUwgPSAnJzsKCiAgY29uc3QgcGlja2VkUHJvbWlzZSA9IG5ldyBQcm9taXNlKChyZXNvbHZlKSA9PiB7CiAgICBpbnB1dEVsZW1lbnQuYWRkRXZlbnRMaXN0ZW5lcignY2hhbmdlJywgKGUpID0+IHsKICAgICAgcmVzb2x2ZShlLnRhcmdldC5maWxlcyk7CiAgICB9KTsKICB9KTsKCiAgY29uc3QgY2FuY2VsID0gZG9jdW1lbnQuY3JlYXRlRWxlbWVudCgnYnV0dG9uJyk7CiAgaW5wdXRFbGVtZW50LnBhcmVudEVsZW1lbnQuYXBwZW5kQ2hpbGQoY2FuY2VsKTsKICBjYW5jZWwudGV4dENvbnRlbnQgPSAnQ2FuY2VsIHVwbG9hZCc7CiAgY29uc3QgY2FuY2VsUHJvbWlzZSA9IG5ldyBQcm9taXNlKChyZXNvbHZlKSA9PiB7CiAgICBjYW5jZWwub25jbGljayA9ICgpID0+IHsKICAgICAgcmVzb2x2ZShudWxsKTsKICAgIH07CiAgfSk7CgogIC8vIENhbmNlbCB1cGxvYWQgaWYgdXNlciBoYXNuJ3QgcGlja2VkIGFueXRoaW5nIGluIHRpbWVvdXQuCiAgY29uc3QgdGltZW91dFByb21pc2UgPSBuZXcgUHJvbWlzZSgocmVzb2x2ZSkgPT4gewogICAgc2V0VGltZW91dCgoKSA9PiB7CiAgICAgIHJlc29sdmUobnVsbCk7CiAgICB9LCBGSUxFX0NIQU5HRV9USU1FT1VUX01TKTsKICB9KTsKCiAgLy8gV2FpdCBmb3IgdGhlIHVzZXIgdG8gcGljayB0aGUgZmlsZXMuCiAgY29uc3QgZmlsZXMgPSB5aWVsZCB7CiAgICBwcm9taXNlOiBQcm9taXNlLnJhY2UoW3BpY2tlZFByb21pc2UsIHRpbWVvdXRQcm9taXNlLCBjYW5jZWxQcm9taXNlXSksCiAgICByZXNwb25zZTogewogICAgICBhY3Rpb246ICdzdGFydGluZycsCiAgICB9CiAgfTsKCiAgaWYgKCFmaWxlcykgewogICAgcmV0dXJuIHsKICAgICAgcmVzcG9uc2U6IHsKICAgICAgICBhY3Rpb246ICdjb21wbGV0ZScsCiAgICAgIH0KICAgIH07CiAgfQoKICBjYW5jZWwucmVtb3ZlKCk7CgogIC8vIERpc2FibGUgdGhlIGlucHV0IGVsZW1lbnQgc2luY2UgZnVydGhlciBwaWNrcyBhcmUgbm90IGFsbG93ZWQuCiAgaW5wdXRFbGVtZW50LmRpc2FibGVkID0gdHJ1ZTsKCiAgZm9yIChjb25zdCBmaWxlIG9mIGZpbGVzKSB7CiAgICBjb25zdCBsaSA9IGRvY3VtZW50LmNyZWF0ZUVsZW1lbnQoJ2xpJyk7CiAgICBsaS5hcHBlbmQoc3BhbihmaWxlLm5hbWUsIHtmb250V2VpZ2h0OiAnYm9sZCd9KSk7CiAgICBsaS5hcHBlbmQoc3BhbigKICAgICAgICBgKCR7ZmlsZS50eXBlIHx8ICduL2EnfSkgLSAke2ZpbGUuc2l6ZX0gYnl0ZXMsIGAgKwogICAgICAgIGBsYXN0IG1vZGlmaWVkOiAkewogICAgICAgICAgICBmaWxlLmxhc3RNb2RpZmllZERhdGUgPyBmaWxlLmxhc3RNb2RpZmllZERhdGUudG9Mb2NhbGVEYXRlU3RyaW5nKCkgOgogICAgICAgICAgICAgICAgICAgICAgICAgICAgICAgICAgICAnbi9hJ30gLSBgKSk7CiAgICBjb25zdCBwZXJjZW50ID0gc3BhbignMCUgZG9uZScpOwogICAgbGkuYXBwZW5kQ2hpbGQocGVyY2VudCk7CgogICAgb3V0cHV0RWxlbWVudC5hcHBlbmRDaGlsZChsaSk7CgogICAgY29uc3QgZmlsZURhdGFQcm9taXNlID0gbmV3IFByb21pc2UoKHJlc29sdmUpID0+IHsKICAgICAgY29uc3QgcmVhZGVyID0gbmV3IEZpbGVSZWFkZXIoKTsKICAgICAgcmVhZGVyLm9ubG9hZCA9IChlKSA9PiB7CiAgICAgICAgcmVzb2x2ZShlLnRhcmdldC5yZXN1bHQpOwogICAgICB9OwogICAgICByZWFkZXIucmVhZEFzQXJyYXlCdWZmZXIoZmlsZSk7CiAgICB9KTsKICAgIC8vIFdhaXQgZm9yIHRoZSBkYXRhIHRvIGJlIHJlYWR5LgogICAgbGV0IGZpbGVEYXRhID0geWllbGQgewogICAgICBwcm9taXNlOiBmaWxlRGF0YVByb21pc2UsCiAgICAgIHJlc3BvbnNlOiB7CiAgICAgICAgYWN0aW9uOiAnY29udGludWUnLAogICAgICB9CiAgICB9OwoKICAgIC8vIFVzZSBhIGNodW5rZWQgc2VuZGluZyB0byBhdm9pZCBtZXNzYWdlIHNpemUgbGltaXRzLiBTZWUgYi82MjExNTY2MC4KICAgIGxldCBwb3NpdGlvbiA9IDA7CiAgICB3aGlsZSAocG9zaXRpb24gPCBmaWxlRGF0YS5ieXRlTGVuZ3RoKSB7CiAgICAgIGNvbnN0IGxlbmd0aCA9IE1hdGgubWluKGZpbGVEYXRhLmJ5dGVMZW5ndGggLSBwb3NpdGlvbiwgTUFYX1BBWUxPQURfU0laRSk7CiAgICAgIGNvbnN0IGNodW5rID0gbmV3IFVpbnQ4QXJyYXkoZmlsZURhdGEsIHBvc2l0aW9uLCBsZW5ndGgpOwogICAgICBwb3NpdGlvbiArPSBsZW5ndGg7CgogICAgICBjb25zdCBiYXNlNjQgPSBidG9hKFN0cmluZy5mcm9tQ2hhckNvZGUuYXBwbHkobnVsbCwgY2h1bmspKTsKICAgICAgeWllbGQgewogICAgICAgIHJlc3BvbnNlOiB7CiAgICAgICAgICBhY3Rpb246ICdhcHBlbmQnLAogICAgICAgICAgZmlsZTogZmlsZS5uYW1lLAogICAgICAgICAgZGF0YTogYmFzZTY0LAogICAgICAgIH0sCiAgICAgIH07CiAgICAgIHBlcmNlbnQudGV4dENvbnRlbnQgPQogICAgICAgICAgYCR7TWF0aC5yb3VuZCgocG9zaXRpb24gLyBmaWxlRGF0YS5ieXRlTGVuZ3RoKSAqIDEwMCl9JSBkb25lYDsKICAgIH0KICB9CgogIC8vIEFsbCBkb25lLgogIHlpZWxkIHsKICAgIHJlc3BvbnNlOiB7CiAgICAgIGFjdGlvbjogJ2NvbXBsZXRlJywKICAgIH0KICB9Owp9CgpzY29wZS5nb29nbGUgPSBzY29wZS5nb29nbGUgfHwge307CnNjb3BlLmdvb2dsZS5jb2xhYiA9IHNjb3BlLmdvb2dsZS5jb2xhYiB8fCB7fTsKc2NvcGUuZ29vZ2xlLmNvbGFiLl9maWxlcyA9IHsKICBfdXBsb2FkRmlsZXMsCiAgX3VwbG9hZEZpbGVzQ29udGludWUsCn07Cn0pKHNlbGYpOwo=",
              "ok": true,
              "headers": [
                [
                  "content-type",
                  "application/javascript"
                ]
              ],
              "status": 200,
              "status_text": ""
            }
          },
          "base_uri": "https://localhost:8080/",
          "height": 108
        }
      },
      "source": [
        "from google.colab import files\n",
        "uploaded = files.upload()"
      ],
      "execution_count": 0,
      "outputs": [
        {
          "output_type": "display_data",
          "data": {
            "text/html": [
              "\n",
              "     <input type=\"file\" id=\"files-b54eab5b-5ade-4e85-a442-3db862ebb068\" name=\"files[]\" multiple disabled />\n",
              "     <output id=\"result-b54eab5b-5ade-4e85-a442-3db862ebb068\">\n",
              "      Upload widget is only available when the cell has been executed in the\n",
              "      current browser session. Please rerun this cell to enable.\n",
              "      </output>\n",
              "      <script src=\"/nbextensions/google.colab/files.js\"></script> "
            ],
            "text/plain": [
              "<IPython.core.display.HTML object>"
            ]
          },
          "metadata": {
            "tags": []
          }
        },
        {
          "output_type": "stream",
          "text": [
            "Saving coint.csv to coint.csv\n",
            "Saving valeurs.csv to valeurs.csv\n"
          ],
          "name": "stdout"
        }
      ]
    },
    {
      "cell_type": "markdown",
      "metadata": {
        "id": "1jGEucnpIuMh",
        "colab_type": "text"
      },
      "source": [
        "# **Exercice 1 (Modèle NATREX)**"
      ]
    },
    {
      "cell_type": "markdown",
      "metadata": {
        "id": "Lgu6D7tifcMt",
        "colab_type": "text"
      },
      "source": [
        "##### **Importation du fichier coint.csv**"
      ]
    },
    {
      "cell_type": "code",
      "metadata": {
        "id": "m9OyJhao9zx-",
        "colab_type": "code",
        "outputId": "89cfe93b-9f4b-4254-ad1f-44c996c4d23d",
        "colab": {
          "base_uri": "https://localhost:8080/",
          "height": 136
        }
      },
      "source": [
        "%%R\n",
        "coint <- read.table(\"coint.csv\",header=TRUE, sep=',')\n",
        "head(coint)"
      ],
      "execution_count": 0,
      "outputs": [
        {
          "output_type": "stream",
          "text": [
            "  YEAR QTR INTDIFF     lrexr   lusprod  lusdisrat    ldisrat        ltot t\n",
            "1 1973  Q1   -4.12 -2.729751 -7.637016 -0.2030911 -0.2494994  0.06925844 1\n",
            "2 1973  Q2   -5.03 -2.714500 -7.662765 -0.2083541 -0.2705876  0.02898754 2\n",
            "3 1973  Q3   -4.42 -2.677293 -7.684658 -0.2111504 -0.2939538  0.01615544 3\n",
            "4 1973  Q4   -2.39 -2.755821 -7.680526 -0.2225078 -0.2901915 -0.02184174 4\n",
            "5 1974  Q1   -3.95 -2.754249 -7.693607 -0.2076609 -0.3018166 -0.17264981 5\n",
            "6 1974  Q2   -4.19 -2.769823 -7.708230 -0.1978514 -0.2966107 -0.20409536 6\n"
          ],
          "name": "stdout"
        }
      ]
    },
    {
      "cell_type": "markdown",
      "metadata": {
        "id": "AD-LR4dv-RW9",
        "colab_type": "text"
      },
      "source": [
        "## **Question 1 : Graphique et statistiques de chacune des séries**"
      ]
    },
    {
      "cell_type": "markdown",
      "metadata": {
        "id": "uy1y1KPw-VQ9",
        "colab_type": "text"
      },
      "source": [
        "#### **Les graphiqes pour chacune des variables**"
      ]
    },
    {
      "cell_type": "code",
      "metadata": {
        "id": "yegdBPZEVNBA",
        "colab_type": "code",
        "outputId": "7f29434e-9c76-4a14-ac61-7e209df1070a",
        "colab": {
          "base_uri": "https://localhost:8080/",
          "height": 497
        }
      },
      "source": [
        "%%R\n",
        "# Transformation des données en séries chronologiques\n",
        "lrexr <- ts(coint$lrexr, start=1973, end=c(1997,4), frequency=4)\n",
        "lusprod <- ts(coint$lusprod, start=1973, end=c(1997,4), frequency = 4)\n",
        "lusdisrat <- ts(coint$lusdisrat, start=1973, end=c(1997,4), frequency = 4)\n",
        "ldisrat <- ts(coint$ldisrat, start=1973, end=c(1997,4), frequency = 4)\n",
        "ltot <- ts(coint$ltot, start=1973, end=c(1997,4), frequency = 4)\n",
        "INTDIFF <- ts(coint$INTDIFF, start=1973, end=c(1997,4), frequency = 4)\n",
        "\n",
        "# Tracer les graphiques\n",
        "par(mfrow=c(3,2))\n",
        "plot(lrexr, xlab=\"trimestre\", col='blue')\n",
        "plot(lusprod, xlab=\"trimestre\", col='blue')\n",
        "plot(lusdisrat, xlab=\"trimestre\", col='blue')\n",
        "plot(ldisrat, xlab=\"trimestre\", col='blue')\n",
        "plot(ltot, xlab=\"trimestre\", col='blue')\n",
        "plot(INTDIFF, xlab=\"trimestre\", col='blue')"
      ],
      "execution_count": 0,
      "outputs": [
        {
          "output_type": "display_data",
          "data": {
            "image/png": "[encoded data removed]"
          },
          "metadata": {
            "tags": []
          }
        }
      ]
    },
    {
      "cell_type": "code",
      "metadata": {
        "id": "KFQpt_RmoryB",
        "colab_type": "code",
        "outputId": "742110f5-d132-4007-9cfc-ac4c0e53b1ad",
        "colab": {
          "base_uri": "https://localhost:8080/",
          "height": 459
        }
      },
      "source": [
        "%%R\n",
        "lrexr"
      ],
      "execution_count": 0,
      "outputs": [
        {
          "output_type": "stream",
          "text": [
            "          Qtr1      Qtr2      Qtr3      Qtr4\n",
            "1973 -2.729751 -2.714500 -2.677293 -2.755821\n",
            "1974 -2.754249 -2.769823 -2.760691 -2.711355\n",
            "1975 -2.667373 -2.659680 -2.743329 -2.727721\n",
            "1976 -2.902212 -2.849950 -2.860803 -2.831031\n",
            "1977 -2.816069 -2.798479 -2.784921 -2.750693\n",
            "1978 -2.718846 -2.716905 -2.679209 -2.678633\n",
            "1979 -2.675195 -2.664978 -2.625657 -2.604285\n",
            "1980 -2.688304 -2.618268 -2.623542 -2.672267\n",
            "1981 -2.766365 -2.874899 -2.861894 -2.849782\n",
            "1982 -2.915733 -2.945044 -2.951618 -2.872618\n",
            "1983 -2.890898 -2.917462 -2.965908 -2.975360\n",
            "1984 -2.933755 -2.978760 -3.069110 -3.080701\n",
            "1985 -3.081462 -3.053870 -2.972413 -2.887039\n",
            "1986 -2.813937 -2.756696 -2.677824 -2.645259\n",
            "1987 -2.589407 -2.620204 -2.619835 -2.487960\n",
            "1988 -2.532469 -2.628438 -2.668380 -2.590004\n",
            "1989 -2.642975 -2.659592 -2.626157 -2.546274\n",
            "1990 -2.525500 -2.506143 -2.462397 -2.423776\n",
            "1991 -2.530891 -2.583799 -2.500235 -2.414932\n",
            "1992 -2.480918 -2.407055 -2.472067 -2.644116\n",
            "1993 -2.723723 -2.685247 -2.704443 -2.775324\n",
            "1994 -2.712691 -2.696286 -2.679570 -2.717923\n",
            "1995 -2.759685 -2.708226 -2.685311 -2.662020\n",
            "1996 -2.651081 -2.626523 -2.624673 -2.630684\n",
            "1997 -2.721890 -2.734307 -2.752326 -2.768945\n"
          ],
          "name": "stdout"
        }
      ]
    },
    {
      "cell_type": "markdown",
      "metadata": {
        "id": "NK6LoTfUYswE",
        "colab_type": "text"
      },
      "source": [
        "#### **Graphiques autocorrélation et autocorrélation partielle pour chaque série**"
      ]
    },
    {
      "cell_type": "code",
      "metadata": {
        "id": "InY8usdoaaOi",
        "colab_type": "code",
        "outputId": "fd069a6e-6b73-4d20-cbf2-5094a160e0da",
        "colab": {
          "base_uri": "https://localhost:8080/",
          "height": 1000
        }
      },
      "source": [
        "%%R\n",
        "print(acf2y(lrexr, lag.max=40, numer=FALSE))\n",
        "print(acf2y(lusprod, lag.max=40, numer=FALSE))\n",
        "print(acf2y(lusdisrat, lag.max=40, numer=FALSE))\n",
        "print(acf2y(ldisrat, lag.max=40, numer=FALSE))\n",
        "print(acf2y(ltot, lag.max=40, numer=FALSE))\n",
        "print(acf2y(INTDIFF, lag.max=40, numer=FALSE))"
      ],
      "execution_count": 0,
      "outputs": [
        {
          "output_type": "stream",
          "text": [
            "NULL\n",
            "NULL\n",
            "NULL\n",
            "NULL\n",
            "NULL\n",
            "NULL\n"
          ],
          "name": "stdout"
        },
        {
          "output_type": "display_data",
          "data": {
            "image/png": "[encoded data removed]"
          },
          "metadata": {
            "tags": []
          }
        },
        {
          "output_type": "display_data",
          "data": {
            "image/png": "[encoded data removed]"
          },
          "metadata": {
            "tags": []
          }
        },
        {
          "output_type": "display_data",
          "data": {
            "image/png": "[encoded data removed]"
          },
          "metadata": {
            "tags": []
          }
        },
        {
          "output_type": "display_data",
          "data": {
            "image/png": "[encoded data removed]"
          },
          "metadata": {
            "tags": []
          }
        },
        {
          "output_type": "display_data",
          "data": {
            "image/png": "[encoded data removed]"
          },
          "metadata": {
            "tags": []
          }
        },
        {
          "output_type": "display_data",
          "data": {
            "image/png": "[encoded data removed]"
          },
          "metadata": {
            "tags": []
          }
        }
      ]
    },
    {
      "cell_type": "markdown",
      "metadata": {
        "id": "z4SUU-hLDjgz",
        "colab_type": "text"
      },
      "source": [
        "###### **Statistiques des séries**"
      ]
    },
    {
      "cell_type": "code",
      "metadata": {
        "id": "caPRwmEdDp_1",
        "colab_type": "code",
        "colab": {}
      },
      "source": [
        "%%R\n",
        "stats <- function(x){\n",
        "    \n",
        "    cat(\"variance :\", var(x))\n",
        "    cat(\"\\nécart-type :\", sd(x))\n",
        "    cat('\\nsummary :\\n')\n",
        "    print(summary(x))\n",
        "    cat(\"\\nskewness :\", skewness(x))\n",
        "    cat(\"\\nkurtosis :\", kurtosis(x))\n",
        "    print(jarque.bera.test((x)))\n",
        "}"
      ],
      "execution_count": 0,
      "outputs": []
    },
    {
      "cell_type": "code",
      "metadata": {
        "id": "3k3GIUE4KBpc",
        "colab_type": "code",
        "outputId": "83b8fc7f-341c-4dd9-c770-4ea9e756de2b",
        "colab": {
          "base_uri": "https://localhost:8080/",
          "height": 238
        }
      },
      "source": [
        "%%R\n",
        "stats(lrexr)"
      ],
      "execution_count": 0,
      "outputs": [
        {
          "output_type": "stream",
          "text": [
            "variance : 0.02238514\n",
            "écart-type : 0.1496167\n",
            "summary :\n",
            "   Min. 1st Qu.  Median    Mean 3rd Qu.    Max. \n",
            " -3.081  -2.802  -2.710  -2.722  -2.628  -2.407 \n",
            "\n",
            "skewness : -0.3166919\n",
            "kurtosis : 2.951115\n",
            "\tJarque Bera Test\n",
            "\n",
            "data:  (x)\n",
            "X-squared = 1.6815, df = 2, p-value = 0.4314\n",
            "\n"
          ],
          "name": "stdout"
        }
      ]
    },
    {
      "cell_type": "code",
      "metadata": {
        "id": "mB947LppKVSf",
        "colab_type": "code",
        "outputId": "b49de7b2-b7aa-4bd9-edd6-27da8c357a55",
        "colab": {
          "base_uri": "https://localhost:8080/",
          "height": 238
        }
      },
      "source": [
        "%%R\n",
        "stats(lusprod)"
      ],
      "execution_count": 0,
      "outputs": [
        {
          "output_type": "stream",
          "text": [
            "variance : 0.001847075\n",
            "écart-type : 0.04297761\n",
            "summary :\n",
            "   Min. 1st Qu.  Median    Mean 3rd Qu.    Max. \n",
            " -7.767  -7.695  -7.659  -7.664  -7.633  -7.583 \n",
            "\n",
            "skewness : -0.2871044\n",
            "kurtosis : 2.351676\n",
            "\tJarque Bera Test\n",
            "\n",
            "data:  (x)\n",
            "X-squared = 3.1252, df = 2, p-value = 0.2096\n",
            "\n"
          ],
          "name": "stdout"
        }
      ]
    },
    {
      "cell_type": "code",
      "metadata": {
        "id": "UgJlg1O5KeR0",
        "colab_type": "code",
        "outputId": "5ca116dd-8b03-4688-e1e9-42e985211b3e",
        "colab": {
          "base_uri": "https://localhost:8080/",
          "height": 238
        }
      },
      "source": [
        "%%R\n",
        "stats(lusdisrat)"
      ],
      "execution_count": 0,
      "outputs": [
        {
          "output_type": "stream",
          "text": [
            "variance : 0.0008550506\n",
            "écart-type : 0.02924125\n",
            "summary :\n",
            "   Min. 1st Qu.  Median    Mean 3rd Qu.    Max. \n",
            "-0.2225 -0.1897 -0.1735 -0.1686 -0.1435 -0.1104 \n",
            "\n",
            "skewness : 0.2259202\n",
            "kurtosis : 2.122555\n",
            "\tJarque Bera Test\n",
            "\n",
            "data:  (x)\n",
            "X-squared = 4.0586, df = 2, p-value = 0.1314\n",
            "\n"
          ],
          "name": "stdout"
        }
      ]
    },
    {
      "cell_type": "code",
      "metadata": {
        "id": "HPMPLGcOKh2u",
        "colab_type": "code",
        "outputId": "8328b9df-2b3e-42fe-f71d-1927070b18b6",
        "colab": {
          "base_uri": "https://localhost:8080/",
          "height": 238
        }
      },
      "source": [
        "%%R\n",
        "stats(ldisrat)"
      ],
      "execution_count": 0,
      "outputs": [
        {
          "output_type": "stream",
          "text": [
            "variance : 0.0005978011\n",
            "écart-type : 0.02444997\n",
            "summary :\n",
            "   Min. 1st Qu.  Median    Mean 3rd Qu.    Max. \n",
            "-0.3104 -0.2598 -0.2365 -0.2452 -0.2299 -0.2083 \n",
            "\n",
            "skewness : -0.9446502\n",
            "kurtosis : 2.924778\n",
            "\tJarque Bera Test\n",
            "\n",
            "data:  (x)\n",
            "X-squared = 14.896, df = 2, p-value = 0.0005825\n",
            "\n"
          ],
          "name": "stdout"
        }
      ]
    },
    {
      "cell_type": "code",
      "metadata": {
        "id": "VSSoCLsHKkS8",
        "colab_type": "code",
        "outputId": "f6c42969-7e46-4e0d-b704-43a77ecebfaf",
        "colab": {
          "base_uri": "https://localhost:8080/",
          "height": 238
        }
      },
      "source": [
        "%%R\n",
        "stats(ltot)"
      ],
      "execution_count": 0,
      "outputs": [
        {
          "output_type": "stream",
          "text": [
            "variance : 0.01050901\n",
            "écart-type : 0.1025135\n",
            "summary :\n",
            "    Min.  1st Qu.   Median     Mean  3rd Qu.     Max. \n",
            "-0.25711 -0.17951 -0.05594 -0.07216  0.02976  0.08594 \n",
            "\n",
            "skewness : -0.1313549\n",
            "kurtosis : 1.520979\n",
            "\tJarque Bera Test\n",
            "\n",
            "data:  (x)\n",
            "X-squared = 9.4022, df = 2, p-value = 0.009085\n",
            "\n"
          ],
          "name": "stdout"
        }
      ]
    },
    {
      "cell_type": "code",
      "metadata": {
        "id": "0_z6ydj0Kq78",
        "colab_type": "code",
        "outputId": "ed06c0d7-2fae-4072-ff88-439cf32cad9a",
        "colab": {
          "base_uri": "https://localhost:8080/",
          "height": 238
        }
      },
      "source": [
        "%%R\n",
        "stats(INTDIFF)"
      ],
      "execution_count": 0,
      "outputs": [
        {
          "output_type": "stream",
          "text": [
            "variance : 11.31534\n",
            "écart-type : 3.363828\n",
            "summary :\n",
            "   Min. 1st Qu.  Median    Mean 3rd Qu.    Max. \n",
            "-9.5400 -3.6150 -0.2600 -0.8581  1.7825  5.8900 \n",
            "\n",
            "skewness : -0.3196573\n",
            "kurtosis : 2.49591\n",
            "\tJarque Bera Test\n",
            "\n",
            "data:  (x)\n",
            "X-squared = 2.7618, df = 2, p-value = 0.2514\n",
            "\n"
          ],
          "name": "stdout"
        }
      ]
    },
    {
      "cell_type": "markdown",
      "metadata": {
        "id": "CAPSOEuS-emk",
        "colab_type": "text"
      },
      "source": [
        "### **Question 2 : Stationnarité des séries**"
      ]
    },
    {
      "cell_type": "markdown",
      "metadata": {
        "id": "X6NGKkiX-jMW",
        "colab_type": "text"
      },
      "source": [
        "#### **Test de Dikey Fuller Augmenté pour chacune des séries**"
      ]
    },
    {
      "cell_type": "markdown",
      "metadata": {
        "id": "XzbFgktw-okW",
        "colab_type": "text"
      },
      "source": [
        "#### **Modèle 3 pour chaque série**"
      ]
    },
    {
      "cell_type": "code",
      "metadata": {
        "id": "j_2ycU0t26CZ",
        "colab_type": "code",
        "outputId": "2fe83a8e-1e33-4b95-f686-3ed7feef5cf9",
        "colab": {
          "base_uri": "https://localhost:8080/",
          "height": 1000
        }
      },
      "source": [
        "%%R\n",
        "test <-function(i){\n",
        "    ur.df(i, type = \"trend\", lags = 4)\n",
        "} \n",
        "print(\"Modèle 3 pour la série LREXR\")\n",
        "print(summary(test(lrexr)))\n",
        "print(\"Modèle 3 pour la série LUSPROD\")\n",
        "print(summary(test(lusprod)))\n",
        "print(\"Modèle 3 pour la série LUSDISRAT\")\n",
        "print(summary(test(lusdisrat)))\n",
        "print(\"Modèle 3 pour la série LDISRAT\")\n",
        "print(summary(test(ldisrat)))\n",
        "print(\"Modèle 3 pour la série LTOT\")\n",
        "print(summary(test(ltot)))\n",
        "print(\"Modèle 3 pour la série INTDIFF\")\n",
        "print(summary(test(INTDIFF)))"
      ],
      "execution_count": 0,
      "outputs": [
        {
          "output_type": "stream",
          "text": [
            "[1] \"Modèle 3 pour la série LREXR\"\n",
            "\n",
            "############################################### \n",
            "# Augmented Dickey-Fuller Test Unit Root Test # \n",
            "############################################### \n",
            "\n",
            "Test regression trend \n",
            "\n",
            "\n",
            "Call:\n",
            "lm(formula = z.diff ~ z.lag.1 + 1 + tt + z.diff.lag)\n",
            "\n",
            "Residuals:\n",
            "      Min        1Q    Median        3Q       Max \n",
            "-0.181076 -0.033798  0.003129  0.036472  0.131103 \n",
            "\n",
            "Coefficients:\n",
            "              Estimate Std. Error t value Pr(>|t|)  \n",
            "(Intercept) -0.3252874  0.1261877  -2.578   0.0116 *\n",
            "z.lag.1     -0.1159915  0.0444576  -2.609   0.0107 *\n",
            "tt           0.0001789  0.0002264   0.790   0.4317  \n",
            "z.diff.lag1  0.2029686  0.1039247   1.953   0.0540 .\n",
            "z.diff.lag2 -0.0160863  0.1047223  -0.154   0.8783  \n",
            "z.diff.lag3  0.0902507  0.1034378   0.873   0.3853  \n",
            "z.diff.lag4  0.1847634  0.1047951   1.763   0.0814 .\n",
            "---\n",
            "Signif. codes:  0 ‘***’ 0.001 ‘**’ 0.01 ‘*’ 0.05 ‘.’ 0.1 ‘ ’ 1\n",
            "\n",
            "Residual standard error: 0.05565 on 88 degrees of freedom\n",
            "Multiple R-squared:  0.1132,\tAdjusted R-squared:  0.05278 \n",
            "F-statistic: 1.873 on 6 and 88 DF,  p-value: 0.09437\n",
            "\n",
            "\n",
            "Value of test-statistic is: -2.609 2.2911 3.435 \n",
            "\n",
            "Critical values for test statistics: \n",
            "      1pct  5pct 10pct\n",
            "tau3 -4.04 -3.45 -3.15\n",
            "phi2  6.50  4.88  4.16\n",
            "phi3  8.73  6.49  5.47\n",
            "\n",
            "[1] \"Modèle 3 pour la série LUSPROD\"\n",
            "\n",
            "############################################### \n",
            "# Augmented Dickey-Fuller Test Unit Root Test # \n",
            "############################################### \n",
            "\n",
            "Test regression trend \n",
            "\n",
            "\n",
            "Call:\n",
            "lm(formula = z.diff ~ z.lag.1 + 1 + tt + z.diff.lag)\n",
            "\n",
            "Residuals:\n",
            "      Min        1Q    Median        3Q       Max \n",
            "-0.026764 -0.008172 -0.000570  0.007759  0.028959 \n",
            "\n",
            "Coefficients:\n",
            "              Estimate Std. Error t value Pr(>|t|)    \n",
            "(Intercept) -9.723e-01  4.021e-01  -2.418   0.0177 *  \n",
            "z.lag.1     -1.259e-01  5.204e-02  -2.419   0.0176 *  \n",
            "tt           1.648e-04  7.642e-05   2.157   0.0337 *  \n",
            "z.diff.lag1  2.410e-02  9.532e-02   0.253   0.8010    \n",
            "z.diff.lag2 -2.790e-01  9.439e-02  -2.956   0.0040 ** \n",
            "z.diff.lag3 -1.911e-02  9.024e-02  -0.212   0.8328    \n",
            "z.diff.lag4  4.702e-01  8.947e-02   5.255 1.02e-06 ***\n",
            "---\n",
            "Signif. codes:  0 ‘***’ 0.001 ‘**’ 0.01 ‘*’ 0.05 ‘.’ 0.1 ‘ ’ 1\n",
            "\n",
            "Residual standard error: 0.0122 on 88 degrees of freedom\n",
            "Multiple R-squared:  0.5614,\tAdjusted R-squared:  0.5315 \n",
            "F-statistic: 18.78 on 6 and 88 DF,  p-value: 5.998e-14\n",
            "\n",
            "\n",
            "Value of test-statistic is: -2.4191 2.3799 3.0085 \n",
            "\n",
            "Critical values for test statistics: \n",
            "      1pct  5pct 10pct\n",
            "tau3 -4.04 -3.45 -3.15\n",
            "phi2  6.50  4.88  4.16\n",
            "phi3  8.73  6.49  5.47\n",
            "\n",
            "[1] \"Modèle 3 pour la série LUSDISRAT\"\n",
            "\n",
            "############################################### \n",
            "# Augmented Dickey-Fuller Test Unit Root Test # \n",
            "############################################### \n",
            "\n",
            "Test regression trend \n",
            "\n",
            "\n",
            "Call:\n",
            "lm(formula = z.diff ~ z.lag.1 + 1 + tt + z.diff.lag)\n",
            "\n",
            "Residuals:\n",
            "      Min        1Q    Median        3Q       Max \n",
            "-0.049044 -0.003797 -0.000219  0.004818  0.022946 \n",
            "\n",
            "Coefficients:\n",
            "              Estimate Std. Error t value Pr(>|t|)\n",
            "(Intercept) -1.005e-02  8.489e-03  -1.184    0.240\n",
            "z.lag.1     -6.181e-02  4.156e-02  -1.487    0.141\n",
            "tt          -1.016e-06  4.252e-05  -0.024    0.981\n",
            "z.diff.lag1  1.602e-01  1.059e-01   1.513    0.134\n",
            "z.diff.lag2 -7.931e-02  1.065e-01  -0.745    0.458\n",
            "z.diff.lag3  1.055e-01  1.054e-01   1.001    0.320\n",
            "z.diff.lag4 -5.131e-02  1.054e-01  -0.487    0.628\n",
            "\n",
            "Residual standard error: 0.008981 on 88 degrees of freedom\n",
            "Multiple R-squared:  0.07233,\tAdjusted R-squared:  0.009077 \n",
            "F-statistic: 1.144 on 6 and 88 DF,  p-value: 0.3441\n",
            "\n",
            "\n",
            "Value of test-statistic is: -1.4872 1.1577 1.7083 \n",
            "\n",
            "Critical values for test statistics: \n",
            "      1pct  5pct 10pct\n",
            "tau3 -4.04 -3.45 -3.15\n",
            "phi2  6.50  4.88  4.16\n",
            "phi3  8.73  6.49  5.47\n",
            "\n",
            "[1] \"Modèle 3 pour la série LDISRAT\"\n",
            "\n",
            "############################################### \n",
            "# Augmented Dickey-Fuller Test Unit Root Test # \n",
            "############################################### \n",
            "\n",
            "Test regression trend \n",
            "\n",
            "\n",
            "Call:\n",
            "lm(formula = z.diff ~ z.lag.1 + 1 + tt + z.diff.lag)\n",
            "\n",
            "Residuals:\n",
            "       Min         1Q     Median         3Q        Max \n",
            "-0.0176568 -0.0042410  0.0000138  0.0041723  0.0194015 \n",
            "\n",
            "Coefficients:\n",
            "              Estimate Std. Error t value Pr(>|t|)   \n",
            "(Intercept) -3.688e-02  1.818e-02  -2.028  0.04554 * \n",
            "z.lag.1     -1.401e-01  6.445e-02  -2.173  0.03246 * \n",
            "tt           6.441e-05  5.290e-05   1.218  0.22666   \n",
            "z.diff.lag1  2.746e-01  1.066e-01   2.576  0.01167 * \n",
            "z.diff.lag2  2.111e-02  1.012e-01   0.209  0.83522   \n",
            "z.diff.lag3 -2.914e-01  9.832e-02  -2.964  0.00391 **\n",
            "z.diff.lag4  1.108e-03  1.007e-01   0.011  0.99125   \n",
            "---\n",
            "Signif. codes:  0 ‘***’ 0.001 ‘**’ 0.01 ‘*’ 0.05 ‘.’ 0.1 ‘ ’ 1\n",
            "\n",
            "Residual standard error: 0.00759 on 88 degrees of freedom\n",
            "Multiple R-squared:  0.2623,\tAdjusted R-squared:  0.212 \n",
            "F-statistic: 5.214 on 6 and 88 DF,  p-value: 0.0001243\n",
            "\n",
            "\n",
            "Value of test-statistic is: -2.1731 2.3234 3.0044 \n",
            "\n",
            "Critical values for test statistics: \n",
            "      1pct  5pct 10pct\n",
            "tau3 -4.04 -3.45 -3.15\n",
            "phi2  6.50  4.88  4.16\n",
            "phi3  8.73  6.49  5.47\n",
            "\n",
            "[1] \"Modèle 3 pour la série LTOT\"\n",
            "\n",
            "############################################### \n",
            "# Augmented Dickey-Fuller Test Unit Root Test # \n",
            "############################################### \n",
            "\n",
            "Test regression trend \n",
            "\n",
            "\n",
            "Call:\n",
            "lm(formula = z.diff ~ z.lag.1 + 1 + tt + z.diff.lag)\n",
            "\n",
            "Residuals:\n",
            "      Min        1Q    Median        3Q       Max \n",
            "-0.070564 -0.013404 -0.002804  0.014306  0.072402 \n",
            "\n",
            "Coefficients:\n",
            "              Estimate Std. Error t value Pr(>|t|)  \n",
            "(Intercept) -0.0170872  0.0107277  -1.593   0.1148  \n",
            "z.lag.1     -0.0812412  0.0412694  -1.969   0.0522 .\n",
            "tt           0.0002516  0.0001489   1.690   0.0947 .\n",
            "z.diff.lag1  0.1124281  0.0876503   1.283   0.2030  \n",
            "z.diff.lag2  0.0755637  0.0872329   0.866   0.3887  \n",
            "z.diff.lag3 -0.1830211  0.0875414  -2.091   0.0394 *\n",
            "z.diff.lag4  0.0678675  0.0863706   0.786   0.4341  \n",
            "---\n",
            "Signif. codes:  0 ‘***’ 0.001 ‘**’ 0.01 ‘*’ 0.05 ‘.’ 0.1 ‘ ’ 1\n",
            "\n",
            "Residual standard error: 0.02396 on 88 degrees of freedom\n",
            "Multiple R-squared:  0.1097,\tAdjusted R-squared:  0.049 \n",
            "F-statistic: 1.807 on 6 and 88 DF,  p-value: 0.1068\n",
            "\n",
            "\n",
            "Value of test-statistic is: -1.9686 1.6066 1.9669 \n",
            "\n",
            "Critical values for test statistics: \n",
            "      1pct  5pct 10pct\n",
            "tau3 -4.04 -3.45 -3.15\n",
            "phi2  6.50  4.88  4.16\n",
            "phi3  8.73  6.49  5.47\n",
            "\n",
            "[1] \"Modèle 3 pour la série INTDIFF\"\n",
            "\n",
            "############################################### \n",
            "# Augmented Dickey-Fuller Test Unit Root Test # \n",
            "############################################### \n",
            "\n",
            "Test regression trend \n",
            "\n",
            "\n",
            "Call:\n",
            "lm(formula = z.diff ~ z.lag.1 + 1 + tt + z.diff.lag)\n",
            "\n",
            "Residuals:\n",
            "     Min       1Q   Median       3Q      Max \n",
            "-2.69130 -0.78688 -0.06174  0.84876  2.59101 \n",
            "\n",
            "Coefficients:\n",
            "             Estimate Std. Error t value Pr(>|t|)    \n",
            "(Intercept) -0.801105   0.494355  -1.621 0.108702    \n",
            "z.lag.1     -0.169769   0.073581  -2.307 0.023389 *  \n",
            "tt           0.013900   0.008174   1.700 0.092573 .  \n",
            "z.diff.lag1  0.202775   0.097211   2.086 0.039880 *  \n",
            "z.diff.lag2  0.052862   0.098804   0.535 0.593987    \n",
            "z.diff.lag3  0.116173   0.097874   1.187 0.238438    \n",
            "z.diff.lag4 -0.359513   0.098248  -3.659 0.000431 ***\n",
            "---\n",
            "Signif. codes:  0 ‘***’ 0.001 ‘**’ 0.01 ‘*’ 0.05 ‘.’ 0.1 ‘ ’ 1\n",
            "\n",
            "Residual standard error: 1.21 on 88 degrees of freedom\n",
            "Multiple R-squared:  0.2704,\tAdjusted R-squared:  0.2206 \n",
            "F-statistic: 5.435 on 6 and 88 DF,  p-value: 8.068e-05\n",
            "\n",
            "\n",
            "Value of test-statistic is: -2.3072 1.9196 2.7404 \n",
            "\n",
            "Critical values for test statistics: \n",
            "      1pct  5pct 10pct\n",
            "tau3 -4.04 -3.45 -3.15\n",
            "phi2  6.50  4.88  4.16\n",
            "phi3  8.73  6.49  5.47\n",
            "\n"
          ],
          "name": "stdout"
        }
      ]
    },
    {
      "cell_type": "markdown",
      "metadata": {
        "id": "2geiwmRb-upl",
        "colab_type": "text"
      },
      "source": [
        "#### **Modèle 2 pour chaque série**"
      ]
    },
    {
      "cell_type": "code",
      "metadata": {
        "id": "0OzDWGoS-yV4",
        "colab_type": "code",
        "outputId": "25dec854-ab97-44d1-f2a2-c81668f4134b",
        "colab": {
          "base_uri": "https://localhost:8080/",
          "height": 1000
        }
      },
      "source": [
        "%%R\n",
        "test <-function(i){\n",
        "    ur.df(i, type = \"drift\", lags = 4)\n",
        "} \n",
        "print(\"Modèle 2 pour la série LREXR\")\n",
        "print(summary(test(lrexr)))\n",
        "print(\"Modèle 2 pour la série LUSPROD\")\n",
        "print(summary(test(lusprod)))\n",
        "print(\"Modèle 2 pour la série LUSDISRAT\")\n",
        "print(summary(test(lusdisrat)))\n",
        "print(\"Modèle 2 pour la série LDISRAT\")\n",
        "print(summary(test(ldisrat)))\n",
        "print(\"Modèle 2 pour la série LTOT\")\n",
        "print(summary(test(ltot)))\n",
        "print(\"Modèle 2 pour la série INTDIFF\")\n",
        "print(summary(test(INTDIFF)))"
      ],
      "execution_count": 0,
      "outputs": [
        {
          "output_type": "stream",
          "text": [
            "[1] \"Modèle 2 pour la série LREXR\"\n",
            "\n",
            "############################################### \n",
            "# Augmented Dickey-Fuller Test Unit Root Test # \n",
            "############################################### \n",
            "\n",
            "Test regression drift \n",
            "\n",
            "\n",
            "Call:\n",
            "lm(formula = z.diff ~ z.lag.1 + 1 + z.diff.lag)\n",
            "\n",
            "Residuals:\n",
            "      Min        1Q    Median        3Q       Max \n",
            "-0.188261 -0.032210  0.002373  0.035889  0.131315 \n",
            "\n",
            "Coefficients:\n",
            "            Estimate Std. Error t value Pr(>|t|)  \n",
            "(Intercept) -0.27859    0.11125  -2.504   0.0141 *\n",
            "z.lag.1     -0.10225    0.04083  -2.504   0.0141 *\n",
            "z.diff.lag1  0.19489    0.10320   1.888   0.0622 .\n",
            "z.diff.lag2 -0.02242    0.10419  -0.215   0.8302  \n",
            "z.diff.lag3  0.08359    0.10288   0.813   0.4187  \n",
            "z.diff.lag4  0.17946    0.10436   1.720   0.0890 .\n",
            "---\n",
            "Signif. codes:  0 ‘***’ 0.001 ‘**’ 0.01 ‘*’ 0.05 ‘.’ 0.1 ‘ ’ 1\n",
            "\n",
            "Residual standard error: 0.05553 on 89 degrees of freedom\n",
            "Multiple R-squared:  0.1069,\tAdjusted R-squared:  0.05678 \n",
            "F-statistic: 2.132 on 5 and 89 DF,  p-value: 0.06887\n",
            "\n",
            "\n",
            "Value of test-statistic is: -2.5045 3.138 \n",
            "\n",
            "Critical values for test statistics: \n",
            "      1pct  5pct 10pct\n",
            "tau2 -3.51 -2.89 -2.58\n",
            "phi1  6.70  4.71  3.86\n",
            "\n",
            "[1] \"Modèle 2 pour la série LUSPROD\"\n",
            "\n",
            "############################################### \n",
            "# Augmented Dickey-Fuller Test Unit Root Test # \n",
            "############################################### \n",
            "\n",
            "Test regression drift \n",
            "\n",
            "\n",
            "Call:\n",
            "lm(formula = z.diff ~ z.lag.1 + 1 + z.diff.lag)\n",
            "\n",
            "Residuals:\n",
            "       Min         1Q     Median         3Q        Max \n",
            "-0.0266234 -0.0076467 -0.0000297  0.0076556  0.0301701 \n",
            "\n",
            "Coefficients:\n",
            "            Estimate Std. Error t value Pr(>|t|)    \n",
            "(Intercept) -0.28538    0.25047  -1.139  0.25759    \n",
            "z.lag.1     -0.03740    0.03267  -1.145  0.25537    \n",
            "z.diff.lag1 -0.01299    0.09566  -0.136  0.89231    \n",
            "z.diff.lag2 -0.31062    0.09514  -3.265  0.00156 ** \n",
            "z.diff.lag3 -0.01870    0.09207  -0.203  0.83949    \n",
            "z.diff.lag4  0.47839    0.09120   5.246 1.04e-06 ***\n",
            "---\n",
            "Signif. codes:  0 ‘***’ 0.001 ‘**’ 0.01 ‘*’ 0.05 ‘.’ 0.1 ‘ ’ 1\n",
            "\n",
            "Residual standard error: 0.01245 on 89 degrees of freedom\n",
            "Multiple R-squared:  0.5383,\tAdjusted R-squared:  0.5123 \n",
            "F-statistic: 20.75 on 5 and 89 DF,  p-value: 1.101e-13\n",
            "\n",
            "\n",
            "Value of test-statistic is: -1.1448 1.1944 \n",
            "\n",
            "Critical values for test statistics: \n",
            "      1pct  5pct 10pct\n",
            "tau2 -3.51 -2.89 -2.58\n",
            "phi1  6.70  4.71  3.86\n",
            "\n",
            "[1] \"Modèle 2 pour la série LUSDISRAT\"\n",
            "\n",
            "############################################### \n",
            "# Augmented Dickey-Fuller Test Unit Root Test # \n",
            "############################################### \n",
            "\n",
            "Test regression drift \n",
            "\n",
            "\n",
            "Call:\n",
            "lm(formula = z.diff ~ z.lag.1 + 1 + z.diff.lag)\n",
            "\n",
            "Residuals:\n",
            "      Min        1Q    Median        3Q       Max \n",
            "-0.049043 -0.003839 -0.000221  0.004797  0.022960 \n",
            "\n",
            "Coefficients:\n",
            "             Estimate Std. Error t value Pr(>|t|)  \n",
            "(Intercept) -0.010203   0.005682  -1.796   0.0759 .\n",
            "z.lag.1     -0.062387   0.033565  -1.859   0.0664 .\n",
            "z.diff.lag1  0.160842   0.102335   1.572   0.1196  \n",
            "z.diff.lag2 -0.078696   0.102785  -0.766   0.4459  \n",
            "z.diff.lag3  0.105981   0.102572   1.033   0.3043  \n",
            "z.diff.lag4 -0.050779   0.102474  -0.496   0.6214  \n",
            "---\n",
            "Signif. codes:  0 ‘***’ 0.001 ‘**’ 0.01 ‘*’ 0.05 ‘.’ 0.1 ‘ ’ 1\n",
            "\n",
            "Residual standard error: 0.008931 on 89 degrees of freedom\n",
            "Multiple R-squared:  0.07232,\tAdjusted R-squared:  0.0202 \n",
            "F-statistic: 1.388 on 5 and 89 DF,  p-value: 0.2365\n",
            "\n",
            "\n",
            "Value of test-statistic is: -1.8587 1.756 \n",
            "\n",
            "Critical values for test statistics: \n",
            "      1pct  5pct 10pct\n",
            "tau2 -3.51 -2.89 -2.58\n",
            "phi1  6.70  4.71  3.86\n",
            "\n",
            "[1] \"Modèle 2 pour la série LDISRAT\"\n",
            "\n",
            "############################################### \n",
            "# Augmented Dickey-Fuller Test Unit Root Test # \n",
            "############################################### \n",
            "\n",
            "Test regression drift \n",
            "\n",
            "\n",
            "Call:\n",
            "lm(formula = z.diff ~ z.lag.1 + 1 + z.diff.lag)\n",
            "\n",
            "Residuals:\n",
            "       Min         1Q     Median         3Q        Max \n",
            "-0.0176320 -0.0048102  0.0002072  0.0044709  0.0190676 \n",
            "\n",
            "Coefficients:\n",
            "             Estimate Std. Error t value Pr(>|t|)   \n",
            "(Intercept) -0.017343   0.008572  -2.023  0.04604 * \n",
            "z.lag.1     -0.073991   0.034871  -2.122  0.03663 * \n",
            "z.diff.lag1  0.230706   0.100595   2.293  0.02418 * \n",
            "z.diff.lag2 -0.017896   0.096224  -0.186  0.85288   \n",
            "z.diff.lag3 -0.319675   0.095793  -3.337  0.00124 **\n",
            "z.diff.lag4 -0.030276   0.097629  -0.310  0.75720   \n",
            "---\n",
            "Signif. codes:  0 ‘***’ 0.001 ‘**’ 0.01 ‘*’ 0.05 ‘.’ 0.1 ‘ ’ 1\n",
            "\n",
            "Residual standard error: 0.007611 on 89 degrees of freedom\n",
            "Multiple R-squared:  0.2498,\tAdjusted R-squared:  0.2077 \n",
            "F-statistic: 5.928 on 5 and 89 DF,  p-value: 8.92e-05\n",
            "\n",
            "\n",
            "Value of test-statistic is: -2.1218 2.7292 \n",
            "\n",
            "Critical values for test statistics: \n",
            "      1pct  5pct 10pct\n",
            "tau2 -3.51 -2.89 -2.58\n",
            "phi1  6.70  4.71  3.86\n",
            "\n",
            "[1] \"Modèle 2 pour la série LTOT\"\n",
            "\n",
            "############################################### \n",
            "# Augmented Dickey-Fuller Test Unit Root Test # \n",
            "############################################### \n",
            "\n",
            "Test regression drift \n",
            "\n",
            "\n",
            "Call:\n",
            "lm(formula = z.diff ~ z.lag.1 + 1 + z.diff.lag)\n",
            "\n",
            "Residuals:\n",
            "      Min        1Q    Median        3Q       Max \n",
            "-0.078060 -0.014321 -0.000543  0.014035  0.074897 \n",
            "\n",
            "Coefficients:\n",
            "              Estimate Std. Error t value Pr(>|t|)  \n",
            "(Intercept)  0.0002244  0.0032102   0.070   0.9444  \n",
            "z.lag.1     -0.0267515  0.0260160  -1.028   0.3066  \n",
            "z.diff.lag1  0.1102394  0.0885491   1.245   0.2164  \n",
            "z.diff.lag2  0.0709626  0.0880941   0.806   0.4227  \n",
            "z.diff.lag3 -0.1897489  0.0883572  -2.148   0.0345 *\n",
            "z.diff.lag4  0.0756121  0.0871428   0.868   0.3879  \n",
            "---\n",
            "Signif. codes:  0 ‘***’ 0.001 ‘**’ 0.01 ‘*’ 0.05 ‘.’ 0.1 ‘ ’ 1\n",
            "\n",
            "Residual standard error: 0.02421 on 89 degrees of freedom\n",
            "Multiple R-squared:  0.08082,\tAdjusted R-squared:  0.02918 \n",
            "F-statistic: 1.565 on 5 and 89 DF,  p-value: 0.1781\n",
            "\n",
            "\n",
            "Value of test-statistic is: -1.0283 0.9626 \n",
            "\n",
            "Critical values for test statistics: \n",
            "      1pct  5pct 10pct\n",
            "tau2 -3.51 -2.89 -2.58\n",
            "phi1  6.70  4.71  3.86\n",
            "\n",
            "[1] \"Modèle 2 pour la série INTDIFF\"\n",
            "\n",
            "############################################### \n",
            "# Augmented Dickey-Fuller Test Unit Root Test # \n",
            "############################################### \n",
            "\n",
            "Test regression drift \n",
            "\n",
            "\n",
            "Call:\n",
            "lm(formula = z.diff ~ z.lag.1 + 1 + z.diff.lag)\n",
            "\n",
            "Residuals:\n",
            "     Min       1Q   Median       3Q      Max \n",
            "-2.81671 -0.65656  0.01418  0.80903  2.41266 \n",
            "\n",
            "Coefficients:\n",
            "             Estimate Std. Error t value Pr(>|t|)    \n",
            "(Intercept)  0.010319   0.130559   0.079    0.937    \n",
            "z.lag.1     -0.065621   0.041212  -1.592    0.115    \n",
            "z.diff.lag1  0.154616   0.093977   1.645    0.103    \n",
            "z.diff.lag2 -0.004013   0.093954  -0.043    0.966    \n",
            "z.diff.lag3  0.062218   0.093567   0.665    0.508    \n",
            "z.diff.lag4 -0.415775   0.093487  -4.447  2.5e-05 ***\n",
            "---\n",
            "Signif. codes:  0 ‘***’ 0.001 ‘**’ 0.01 ‘*’ 0.05 ‘.’ 0.1 ‘ ’ 1\n",
            "\n",
            "Residual standard error: 1.223 on 89 degrees of freedom\n",
            "Multiple R-squared:  0.2464,\tAdjusted R-squared:  0.2041 \n",
            "F-statistic: 5.821 on 5 and 89 DF,  p-value: 0.0001071\n",
            "\n",
            "\n",
            "Value of test-statistic is: -1.5923 1.4037 \n",
            "\n",
            "Critical values for test statistics: \n",
            "      1pct  5pct 10pct\n",
            "tau2 -3.51 -2.89 -2.58\n",
            "phi1  6.70  4.71  3.86\n",
            "\n"
          ],
          "name": "stdout"
        }
      ]
    },
    {
      "cell_type": "markdown",
      "metadata": {
        "id": "YDDDYTFX-y3u",
        "colab_type": "text"
      },
      "source": [
        "#### **Modèle 1 pour chaque série**"
      ]
    },
    {
      "cell_type": "code",
      "metadata": {
        "id": "vfLGsfjN-3OY",
        "colab_type": "code",
        "outputId": "2260b0ef-a982-4736-977e-b105802db7c8",
        "colab": {
          "base_uri": "https://localhost:8080/",
          "height": 1000
        }
      },
      "source": [
        "%%R\n",
        "test <-function(i){\n",
        "    ur.df(i, type = \"none\", lags = 4)\n",
        "} \n",
        "print(\"Modèle 1 pour la série LREXR\")\n",
        "print(summary(test(lrexr)))\n",
        "print(\"Modèle 1 pour la série LUSPROD\")\n",
        "print(summary(test(lusprod)))\n",
        "print(\"Modèle 1 pour la série LUSDISRAT\")\n",
        "print(summary(test(lusdisrat)))\n",
        "print(\"Modèle 1 pour la série LDISRAT\")\n",
        "print(summary(test(ldisrat)))\n",
        "print(\"Modèle 1 pour la série LTOT\")\n",
        "print(summary(test(ltot)))\n",
        "print(\"Modèle 1 pour la série INTDIFF\")\n",
        "print(summary(test(INTDIFF)))"
      ],
      "execution_count": 0,
      "outputs": [
        {
          "output_type": "stream",
          "text": [
            "[1] \"Modèle 1 pour la série LREXR\"\n",
            "\n",
            "############################################### \n",
            "# Augmented Dickey-Fuller Test Unit Root Test # \n",
            "############################################### \n",
            "\n",
            "Test regression none \n",
            "\n",
            "\n",
            "Call:\n",
            "lm(formula = z.diff ~ z.lag.1 - 1 + z.diff.lag)\n",
            "\n",
            "Residuals:\n",
            "      Min        1Q    Median        3Q       Max \n",
            "-0.189503 -0.034082  0.007695  0.034136  0.122933 \n",
            "\n",
            "Coefficients:\n",
            "              Estimate Std. Error t value Pr(>|t|)\n",
            "z.lag.1     -0.0001468  0.0021517  -0.068    0.946\n",
            "z.diff.lag1  0.1505121  0.1046033   1.439    0.154\n",
            "z.diff.lag2 -0.0793451  0.1046196  -0.758    0.450\n",
            "z.diff.lag3  0.0377436  0.1041557   0.362    0.718\n",
            "z.diff.lag4  0.1213027  0.1046787   1.159    0.250\n",
            "\n",
            "Residual standard error: 0.05714 on 90 degrees of freedom\n",
            "Multiple R-squared:  0.04403,\tAdjusted R-squared:  -0.009078 \n",
            "F-statistic: 0.8291 on 5 and 90 DF,  p-value: 0.5323\n",
            "\n",
            "\n",
            "Value of test-statistic is: -0.0682 \n",
            "\n",
            "Critical values for test statistics: \n",
            "     1pct  5pct 10pct\n",
            "tau1 -2.6 -1.95 -1.61\n",
            "\n",
            "[1] \"Modèle 1 pour la série LUSPROD\"\n",
            "\n",
            "############################################### \n",
            "# Augmented Dickey-Fuller Test Unit Root Test # \n",
            "############################################### \n",
            "\n",
            "Test regression none \n",
            "\n",
            "\n",
            "Call:\n",
            "lm(formula = z.diff ~ z.lag.1 - 1 + z.diff.lag)\n",
            "\n",
            "Residuals:\n",
            "       Min         1Q     Median         3Q        Max \n",
            "-0.0260977 -0.0080933  0.0001615  0.0072152  0.0307146 \n",
            "\n",
            "Coefficients:\n",
            "              Estimate Std. Error t value Pr(>|t|)    \n",
            "z.lag.1     -0.0001756  0.0001684  -1.043 0.299945    \n",
            "z.diff.lag1 -0.0479154  0.0907694  -0.528 0.598882    \n",
            "z.diff.lag2 -0.3435086  0.0908067  -3.783 0.000279 ***\n",
            "z.diff.lag3 -0.0399829  0.0903060  -0.443 0.659009    \n",
            "z.diff.lag4  0.4603286  0.0899604   5.117 1.74e-06 ***\n",
            "---\n",
            "Signif. codes:  0 ‘***’ 0.001 ‘**’ 0.01 ‘*’ 0.05 ‘.’ 0.1 ‘ ’ 1\n",
            "\n",
            "Residual standard error: 0.01247 on 90 degrees of freedom\n",
            "Multiple R-squared:  0.5333,\tAdjusted R-squared:  0.5074 \n",
            "F-statistic: 20.57 on 5 and 90 DF,  p-value: 1.211e-13\n",
            "\n",
            "\n",
            "Value of test-statistic is: -1.0426 \n",
            "\n",
            "Critical values for test statistics: \n",
            "     1pct  5pct 10pct\n",
            "tau1 -2.6 -1.95 -1.61\n",
            "\n",
            "[1] \"Modèle 1 pour la série LUSDISRAT\"\n",
            "\n",
            "############################################### \n",
            "# Augmented Dickey-Fuller Test Unit Root Test # \n",
            "############################################### \n",
            "\n",
            "Test regression none \n",
            "\n",
            "\n",
            "Call:\n",
            "lm(formula = z.diff ~ z.lag.1 - 1 + z.diff.lag)\n",
            "\n",
            "Residuals:\n",
            "      Min        1Q    Median        3Q       Max \n",
            "-0.052427 -0.003817 -0.001272  0.004440  0.025062 \n",
            "\n",
            "Coefficients:\n",
            "             Estimate Std. Error t value Pr(>|t|)\n",
            "z.lag.1     -0.002909   0.005491  -0.530    0.598\n",
            "z.diff.lag1  0.142693   0.103086   1.384    0.170\n",
            "z.diff.lag2 -0.107574   0.102766  -1.047    0.298\n",
            "z.diff.lag3  0.084249   0.103107   0.817    0.416\n",
            "z.diff.lag4 -0.080438   0.102376  -0.786    0.434\n",
            "\n",
            "Residual standard error: 0.00904 on 90 degrees of freedom\n",
            "Multiple R-squared:  0.03948,\tAdjusted R-squared:  -0.01389 \n",
            "F-statistic: 0.7398 on 5 and 90 DF,  p-value: 0.5956\n",
            "\n",
            "\n",
            "Value of test-statistic is: -0.5299 \n",
            "\n",
            "Critical values for test statistics: \n",
            "     1pct  5pct 10pct\n",
            "tau1 -2.6 -1.95 -1.61\n",
            "\n",
            "[1] \"Modèle 1 pour la série LDISRAT\"\n",
            "\n",
            "############################################### \n",
            "# Augmented Dickey-Fuller Test Unit Root Test # \n",
            "############################################### \n",
            "\n",
            "Test regression none \n",
            "\n",
            "\n",
            "Call:\n",
            "lm(formula = z.diff ~ z.lag.1 - 1 + z.diff.lag)\n",
            "\n",
            "Residuals:\n",
            "       Min         1Q     Median         3Q        Max \n",
            "-0.0174744 -0.0042655 -0.0007765  0.0039414  0.0214585 \n",
            "\n",
            "Coefficients:\n",
            "             Estimate Std. Error t value Pr(>|t|)    \n",
            "z.lag.1     -0.003733   0.003250  -1.149 0.253755    \n",
            "z.diff.lag1  0.197694   0.100955   1.958 0.053299 .  \n",
            "z.diff.lag2 -0.045624   0.096866  -0.471 0.638782    \n",
            "z.diff.lag3 -0.353672   0.095915  -3.687 0.000387 ***\n",
            "z.diff.lag4 -0.062405   0.097971  -0.637 0.525760    \n",
            "---\n",
            "Signif. codes:  0 ‘***’ 0.001 ‘**’ 0.01 ‘*’ 0.05 ‘.’ 0.1 ‘ ’ 1\n",
            "\n",
            "Residual standard error: 0.00774 on 90 degrees of freedom\n",
            "Multiple R-squared:  0.2198,\tAdjusted R-squared:  0.1765 \n",
            "F-statistic: 5.072 on 5 and 90 DF,  p-value: 0.0003843\n",
            "\n",
            "\n",
            "Value of test-statistic is: -1.1486 \n",
            "\n",
            "Critical values for test statistics: \n",
            "     1pct  5pct 10pct\n",
            "tau1 -2.6 -1.95 -1.61\n",
            "\n",
            "[1] \"Modèle 1 pour la série LTOT\"\n",
            "\n",
            "############################################### \n",
            "# Augmented Dickey-Fuller Test Unit Root Test # \n",
            "############################################### \n",
            "\n",
            "Test regression none \n",
            "\n",
            "\n",
            "Call:\n",
            "lm(formula = z.diff ~ z.lag.1 - 1 + z.diff.lag)\n",
            "\n",
            "Residuals:\n",
            "      Min        1Q    Median        3Q       Max \n",
            "-0.077981 -0.014296 -0.000498  0.014143  0.075093 \n",
            "\n",
            "Coefficients:\n",
            "            Estimate Std. Error t value Pr(>|t|)  \n",
            "z.lag.1     -0.02790    0.02002  -1.394    0.167  \n",
            "z.diff.lag1  0.11095    0.08747   1.269    0.208  \n",
            "z.diff.lag2  0.07156    0.08720   0.821    0.414  \n",
            "z.diff.lag3 -0.18906    0.08731  -2.165    0.033 *\n",
            "z.diff.lag4  0.07622    0.08623   0.884    0.379  \n",
            "---\n",
            "Signif. codes:  0 ‘***’ 0.001 ‘**’ 0.01 ‘*’ 0.05 ‘.’ 0.1 ‘ ’ 1\n",
            "\n",
            "Residual standard error: 0.02407 on 90 degrees of freedom\n",
            "Multiple R-squared:  0.08911,\tAdjusted R-squared:  0.03851 \n",
            "F-statistic: 1.761 on 5 and 90 DF,  p-value: 0.129\n",
            "\n",
            "\n",
            "Value of test-statistic is: -1.3935 \n",
            "\n",
            "Critical values for test statistics: \n",
            "     1pct  5pct 10pct\n",
            "tau1 -2.6 -1.95 -1.61\n",
            "\n",
            "[1] \"Modèle 1 pour la série INTDIFF\"\n",
            "\n",
            "############################################### \n",
            "# Augmented Dickey-Fuller Test Unit Root Test # \n",
            "############################################### \n",
            "\n",
            "Test regression none \n",
            "\n",
            "\n",
            "Call:\n",
            "lm(formula = z.diff ~ z.lag.1 - 1 + z.diff.lag)\n",
            "\n",
            "Residuals:\n",
            "     Min       1Q   Median       3Q      Max \n",
            "-2.81205 -0.64737  0.02772  0.81634  2.42060 \n",
            "\n",
            "Coefficients:\n",
            "             Estimate Std. Error t value Pr(>|t|)    \n",
            "z.lag.1     -0.066488   0.039506  -1.683   0.0958 .  \n",
            "z.diff.lag1  0.155160   0.093206   1.665   0.0994 .  \n",
            "z.diff.lag2 -0.003332   0.093039  -0.036   0.9715    \n",
            "z.diff.lag3  0.062893   0.092660   0.679   0.4990    \n",
            "z.diff.lag4 -0.415030   0.092496  -4.487 2.13e-05 ***\n",
            "---\n",
            "Signif. codes:  0 ‘***’ 0.001 ‘**’ 0.01 ‘*’ 0.05 ‘.’ 0.1 ‘ ’ 1\n",
            "\n",
            "Residual standard error: 1.216 on 90 degrees of freedom\n",
            "Multiple R-squared:  0.2471,\tAdjusted R-squared:  0.2052 \n",
            "F-statistic: 5.907 on 5 and 90 DF,  p-value: 9.112e-05\n",
            "\n",
            "\n",
            "Value of test-statistic is: -1.683 \n",
            "\n",
            "Critical values for test statistics: \n",
            "     1pct  5pct 10pct\n",
            "tau1 -2.6 -1.95 -1.61\n",
            "\n"
          ],
          "name": "stdout"
        }
      ]
    },
    {
      "cell_type": "markdown",
      "metadata": {
        "id": "ZAwmUChoNtIu",
        "colab_type": "text"
      },
      "source": [
        "### **Question 3: Analyse univariée de la série LREXR et estimation d'un ARIMA**"
      ]
    },
    {
      "cell_type": "markdown",
      "metadata": {
        "id": "07l7Fx2qdRTc",
        "colab_type": "text"
      },
      "source": [
        "###### **Différentiation de la série LREXR et graphiques des autocorrélation et autocorrélations partielles**"
      ]
    },
    {
      "cell_type": "code",
      "metadata": {
        "id": "IipK3sSEbjIw",
        "colab_type": "code",
        "colab": {}
      },
      "source": [
        "%%R\n",
        "lrexr <- ts(coint$lrexr, start=1973, end=c(1997,4), frequency=4)\n",
        "diff_lrexr <- diff(lrexr)"
      ],
      "execution_count": 0,
      "outputs": []
    },
    {
      "cell_type": "markdown",
      "metadata": {
        "id": "jx3g-dILC3VI",
        "colab_type": "text"
      },
      "source": [
        "###### **Graphique de la série lrexr différenciée**"
      ]
    },
    {
      "cell_type": "code",
      "metadata": {
        "id": "2cxDK2OYbpPp",
        "colab_type": "code",
        "outputId": "2fb80ce9-db0d-49bf-e5a6-8ef4792b6521",
        "colab": {
          "base_uri": "https://localhost:8080/",
          "height": 1000
        }
      },
      "source": [
        "%%R\n",
        "plot(diff_lrexr, xlab=\"trimestre\", col='blue')\n",
        "acf2y(diff_lrexr, lag.max=20)"
      ],
      "execution_count": 0,
      "outputs": [
        {
          "output_type": "stream",
          "text": [
            "      LAG         ACF1         PACF\n",
            " [1,]   1  0.128998190  0.128998190\n",
            " [2,]   2 -0.066236151 -0.084279133\n",
            " [3,]   3  0.033219496  0.054646853\n",
            " [4,]   4  0.132667392  0.117858117\n",
            " [5,]   5 -0.109784967 -0.143879970\n",
            " [6,]   6 -0.144504531 -0.096406999\n",
            " [7,]   7  0.050134455  0.063849852\n",
            " [8,]   8  0.001571838 -0.042650243\n",
            " [9,]   9 -0.005066574  0.048266464\n",
            "[10,]  10 -0.117774514 -0.118621369\n",
            "[11,]  11 -0.032407002 -0.044117192\n",
            "[12,]  12 -0.051874271 -0.053725284\n",
            "[13,]  13 -0.179637204 -0.176165354\n",
            "[14,]  14 -0.006138097  0.073229633\n",
            "[15,]  15  0.159835817  0.140943559\n",
            "[16,]  16  0.064864963  0.004049501\n",
            "[17,]  17 -0.114779608 -0.081692301\n",
            "[18,]  18  0.121078118  0.095617775\n",
            "[19,]  19  0.002851897 -0.120946431\n",
            "[20,]  20 -0.089698403 -0.025700891\n"
          ],
          "name": "stdout"
        },
        {
          "output_type": "display_data",
          "data": {
            "image/png": "[encoded data removed]"
          },
          "metadata": {
            "tags": []
          }
        },
        {
          "output_type": "display_data",
          "data": {
            "image/png": "[encoded data removed]"
          },
          "metadata": {
            "tags": []
          }
        }
      ]
    },
    {
      "cell_type": "markdown",
      "metadata": {
        "id": "JqwLzgW3brbz",
        "colab_type": "text"
      },
      "source": [
        "Les graphiques ne nous permettent pas de sélectionner nos ARIMA. "
      ]
    },
    {
      "cell_type": "markdown",
      "metadata": {
        "id": "tCDn9XmU71J1",
        "colab_type": "text"
      },
      "source": [
        "##### **l'ordre p et q et AIC de plusieurs ARIMA estimés**"
      ]
    },
    {
      "cell_type": "code",
      "metadata": {
        "id": "n_xcCXc7BwvK",
        "colab_type": "code",
        "outputId": "cf2e5490-b6ea-4aab-bb96-a416f092debb",
        "colab": {
          "base_uri": "https://localhost:8080/",
          "height": 1000
        }
      },
      "source": [
        "%%R\n",
        "for(i in 0:6){\n",
        "  for(j in 0:6){\n",
        "    modell <- Arima(diff_lrexr, order=c(i,1,j), include.mean=FALSE, method=\"CSS-ML\")\n",
        "    aic <- AIC(modell)\n",
        "    print(aic)\n",
        "    print(i);print(j)\n",
        "  }\n",
        "}"
      ],
      "execution_count": 0,
      "outputs": [
        {
          "output_type": "stream",
          "text": [
            "[1] -228.0825\n",
            "[1] 0\n",
            "[1] 0\n",
            "[1] -275.7902\n",
            "[1] 0\n",
            "[1] 1\n",
            "[1] -276.0056\n",
            "[1] 0\n",
            "[1] 2\n",
            "[1] -274.2435\n",
            "[1] 0\n",
            "[1] 3\n",
            "[1] -272.2479\n",
            "[1] 0\n",
            "[1] 4\n",
            "[1] -273.1497\n",
            "[1] 0\n",
            "[1] 5\n",
            "[1] -271.8388\n",
            "[1] 0\n",
            "[1] 6\n",
            "[1] -242.0104\n",
            "[1] 1\n",
            "[1] 0\n",
            "[1] -275.7044\n",
            "[1] 1\n",
            "[1] 1\n",
            "[1] -274.179\n",
            "[1] 1\n",
            "[1] 2\n",
            "[1] -272.0063\n",
            "[1] 1\n",
            "[1] 3\n",
            "[1] -270.9263\n",
            "[1] 1\n",
            "[1] 4\n",
            "[1] -271.3856\n",
            "[1] 1\n",
            "[1] 5\n",
            "[1] -269.5544\n",
            "[1] 1\n",
            "[1] 6\n",
            "[1] -254.6935\n",
            "[1] 2\n",
            "[1] 0\n",
            "[1] -274.2388\n",
            "[1] 2\n",
            "[1] 1\n",
            "[1] -272.3223\n",
            "[1] 2\n",
            "[1] 2\n",
            "[1] -277.2478\n",
            "[1] 2\n",
            "[1] 3\n",
            "[1] -275.2488\n",
            "[1] 2\n",
            "[1] 4\n",
            "[1] -274.2026\n",
            "[1] 2\n",
            "[1] 5\n",
            "[1] -272.5137\n",
            "[1] 2\n",
            "[1] 6\n",
            "[1] -263.6489\n",
            "[1] 3\n",
            "[1] 0\n",
            "[1] -272.6533\n",
            "[1] 3\n",
            "[1] 1\n",
            "[1] -270.286\n",
            "[1] 3\n",
            "[1] 2\n",
            "[1] -272.3772\n",
            "[1] 3\n",
            "[1] 3\n",
            "[1] -274.1503\n",
            "[1] 3\n",
            "[1] 4\n",
            "[1] -269.2307\n",
            "[1] 3\n",
            "[1] 5\n",
            "[1] -270.5138\n",
            "[1] 3\n",
            "[1] 6\n",
            "[1] -261.7301\n",
            "[1] 4\n",
            "[1] 0\n",
            "[1] -272.3148\n",
            "[1] 4\n",
            "[1] 1\n",
            "[1] -270.9747\n",
            "[1] 4\n",
            "[1] 2\n",
            "[1] -270.8464\n",
            "[1] 4\n",
            "[1] 3\n",
            "[1] -272.4065\n",
            "[1] 4\n",
            "[1] 4\n",
            "[1] -272.3364\n",
            "[1] 4\n",
            "[1] 5\n",
            "[1] -271.4191\n",
            "[1] 4\n",
            "[1] 6\n",
            "[1] -260.5511\n",
            "[1] 5\n",
            "[1] 0\n",
            "[1] -272.1592\n",
            "[1] 5\n",
            "[1] 1\n",
            "[1] -270.5007\n",
            "[1] 5\n",
            "[1] 2\n",
            "[1] -268.9708\n",
            "[1] 5\n",
            "[1] 3\n",
            "[1] -266.9459\n",
            "[1] 5\n",
            "[1] 4\n",
            "[1] -271.9287\n",
            "[1] 5\n",
            "[1] 5\n",
            "[1] -268.6316\n",
            "[1] 5\n",
            "[1] 6\n",
            "[1] -263.3572\n",
            "[1] 6\n",
            "[1] 0\n",
            "[1] -270.8467\n",
            "[1] 6\n",
            "[1] 1\n",
            "[1] -268.6728\n",
            "[1] 6\n",
            "[1] 2\n",
            "[1] -267.9925\n",
            "[1] 6\n",
            "[1] 3\n",
            "[1] -267.2364\n",
            "[1] 6\n",
            "[1] 4\n",
            "[1] -268.1369\n",
            "[1] 6\n",
            "[1] 5\n",
            "[1] -267.0743\n",
            "[1] 6\n",
            "[1] 6\n"
          ],
          "name": "stdout"
        }
      ]
    },
    {
      "cell_type": "markdown",
      "metadata": {
        "id": "VYbEzq-KB1os",
        "colab_type": "text"
      },
      "source": [
        "#### **Le modèle ARIMA**"
      ]
    },
    {
      "cell_type": "code",
      "metadata": {
        "id": "2rmaQjfKCEJw",
        "colab_type": "code",
        "outputId": "207be3f5-1629-4e68-e701-ddb0b67ea4cc",
        "colab": {
          "base_uri": "https://localhost:8080/",
          "height": 1000
        }
      },
      "source": [
        "%%R\n",
        "# Modèle ARIMA(2,1,3)\n",
        "lrexr_arma <- Arima(diff_lrexr, order=c(2,1,3), include.mean=FALSE, method=\"CSS-ML\")\n",
        "summary(lrexr_arma)\n",
        "print(t_stat(lrexr_arma))\n",
        "res_diff_lrexr <- residuals(lrexr_arma)\n",
        "plot(res_diff_lrexr, main= 'Residuals')\n",
        "acf(res_diff_lrexr, main= 'Residuals Autocorrelations')\n",
        "print(jarque.bera.test((res_diff_lrexr)))\n",
        "print(Box.test.2(res_diff_lrexr,nlag=c(1,2,3,4,5,6,7,8,9,10,11,12,13,14,15,16,17,18,19,20),type=\"Ljung-Box\"))"
      ],
      "execution_count": 0,
      "outputs": [
        {
          "output_type": "stream",
          "text": [
            "Series: diff_lrexr \n",
            "ARIMA(2,1,3) \n",
            "\n",
            "Coefficients:\n",
            "          ar1      ar2     ma1      ma2      ma3\n",
            "      -1.0481  -0.7944  0.2723  -0.2723  -1.0000\n",
            "s.e.   0.0776   0.0724  0.0551   0.0530   0.0653\n",
            "\n",
            "sigma^2 estimated as 0.002955:  log likelihood=144.62\n",
            "AIC=-277.25   AICc=-276.32   BIC=-261.74\n",
            "\n",
            "Training set error measures:\n",
            "                        ME       RMSE        MAE      MPE     MAPE      MASE\n",
            "Training set -1.227464e-05 0.05269002 0.04081201 107.7418 215.2837 0.7229144\n",
            "                     ACF1\n",
            "Training set -0.008370528\n",
            "             ar1      ar2      ma1       ma2       ma3\n",
            "t.stat -13.51046 -10.9782 4.944705 -5.139062 -15.31049\n",
            "p.val    0.00000   0.0000 0.000001  0.000000   0.00000\n",
            "\n",
            "\tJarque Bera Test\n",
            "\n",
            "data:  (res_diff_lrexr)\n",
            "X-squared = 7.0443, df = 2, p-value = 0.02954\n",
            "\n",
            "      Retard   p-value\n",
            " [1,]      1 0.9336244\n",
            " [2,]      2 0.9896897\n",
            " [3,]      3 0.9301428\n",
            " [4,]      4 0.9685348\n",
            " [5,]      5 0.9854204\n",
            " [6,]      6 0.8847896\n",
            " [7,]      7 0.9379064\n",
            " [8,]      8 0.9595899\n",
            " [9,]      9 0.9795275\n",
            "[10,]     10 0.9482080\n",
            "[11,]     11 0.9693066\n",
            "[12,]     12 0.9695280\n",
            "[13,]     13 0.9131192\n",
            "[14,]     14 0.9411285\n",
            "[15,]     15 0.9395001\n",
            "[16,]     16 0.9409972\n",
            "[17,]     17 0.9348029\n",
            "[18,]     18 0.9342430\n",
            "[19,]     19 0.9546953\n",
            "[20,]     20 0.9628040\n"
          ],
          "name": "stdout"
        },
        {
          "output_type": "display_data",
          "data": {
            "image/png": "[encoded data removed]"
          },
          "metadata": {
            "tags": []
          }
        },
        {
          "output_type": "display_data",
          "data": {
            "image/png": "[encoded data removed]"
          },
          "metadata": {
            "tags": []
          }
        }
      ]
    },
    {
      "cell_type": "markdown",
      "metadata": {
        "id": "HA2-xwvkPprf",
        "colab_type": "text"
      },
      "source": [
        "### **Question 4 : Prévision à partir du ARIMA(2,1,3) sur la période 1998 - 2000 comprises**"
      ]
    },
    {
      "cell_type": "code",
      "metadata": {
        "id": "adXtVnS8CGDj",
        "colab_type": "code",
        "outputId": "dbaa0912-b2f9-4168-b5b7-abb70d7904b6",
        "colab": {
          "base_uri": "https://localhost:8080/",
          "height": 922
        }
      },
      "source": [
        "%%R\n",
        "futurVal <- forecast(lrexr_arma, h=12, level=95)\n",
        "print(futurVal)\n",
        "print(predict(lrexr_arma, start=1998, n.ahead=12, se.fit=TRUE))\n",
        "autoplot(futurVal)"
      ],
      "execution_count": 0,
      "outputs": [
        {
          "output_type": "stream",
          "text": [
            "        Point Forecast       Lo 95      Hi 95\n",
            "1998 Q1   -0.034104536 -0.14214064 0.07393157\n",
            "1998 Q2    0.022020068 -0.08866713 0.13270726\n",
            "1998 Q3    0.001916963 -0.10875948 0.11259341\n",
            "1998 Q4   -0.021597020 -0.13303673 0.08984269\n",
            "1999 Q1    0.019018750 -0.09404846 0.13208596\n",
            "1999 Q2   -0.004873092 -0.11808438 0.10833820\n",
            "1999 Q3   -0.012095845 -0.12542559 0.10123390\n",
            "1999 Q4    0.014454119 -0.09971589 0.12862412\n",
            "2000 Q1   -0.007636359 -0.12199832 0.10672560\n",
            "2000 Q2   -0.005573440 -0.11993447 0.10878759\n",
            "2000 Q3    0.009812818 -0.10491590 0.12454154\n",
            "2000 Q4   -0.007952954 -0.12282714 0.10692123\n",
            "$pred\n",
            "             Qtr1         Qtr2         Qtr3         Qtr4\n",
            "1998 -0.034104536  0.022020068  0.001916963 -0.021597020\n",
            "1999  0.019018750 -0.004873092 -0.012095845  0.014454119\n",
            "2000 -0.007636359 -0.005573440  0.009812818 -0.007952954\n",
            "\n",
            "$se\n",
            "           Qtr1       Qtr2       Qtr3       Qtr4\n",
            "1998 0.05512147 0.05647410 0.05646861 0.05685804\n",
            "1999 0.05768841 0.05776192 0.05782236 0.05825107\n",
            "2000 0.05834901 0.05834853 0.05853614 0.05861036\n",
            "\n"
          ],
          "name": "stdout"
        },
        {
          "output_type": "display_data",
          "data": {
            "image/png": "[encoded data removed]"
          },
          "metadata": {
            "tags": []
          }
        }
      ]
    },
    {
      "cell_type": "markdown",
      "metadata": {
        "id": "iBsgkD5sYCPF",
        "colab_type": "text"
      },
      "source": [
        "### **Question 5 : Test de cointégration des séries LREXR, LUSPROD, LUSDISRAT,LDISRAT, LTOT, INTDIFF.**"
      ]
    },
    {
      "cell_type": "code",
      "metadata": {
        "id": "EiWwjCOe4hi4",
        "colab_type": "code",
        "colab": {}
      },
      "source": [
        "%%R\n",
        "# Transformation des données en séries chronologiques\n",
        "lrexr <- ts(coint$lrexr, start=1973, end=c(1997,4), frequency = 4)\n",
        "lusprod <- ts(coint$lusprod, start=1973, end=c(1997,4), frequency = 4)\n",
        "lusdisrat <- ts(coint$lusdisrat, start=1973, end=c(1997,4), frequency = 4)\n",
        "ldisrat <- ts(coint$ldisrat, start=1973, end=c(1997,4), frequency = 4)\n",
        "ltot <- ts(coint$ltot, start=1973, end=c(1997,4), frequency = 4)\n",
        "INTDIFF <- ts(coint$INTDIFF, start=1973, end=c(1997,4), frequency = 4)"
      ],
      "execution_count": 0,
      "outputs": []
    },
    {
      "cell_type": "markdown",
      "metadata": {
        "id": "UALuy16AYAjY",
        "colab_type": "text"
      },
      "source": [
        "###### **Diférencier toutes les séries**"
      ]
    },
    {
      "cell_type": "code",
      "metadata": {
        "id": "eAy9sZak61rM",
        "colab_type": "code",
        "colab": {}
      },
      "source": [
        "%%R\n",
        "diff_lrexr = diff(lrexr, differences=1)\n",
        "diff_lusprod = diff(lusprod, differences=1)\n",
        "diff_lusdisrat = diff(lusdisrat, differences=1)\n",
        "diff_ldisrat = diff(ldisrat, differences=1)\n",
        "diff_ltot = diff(ltot, differences=1)\n",
        "diff_intdiff = diff(INTDIFF, differences=1)"
      ],
      "execution_count": 0,
      "outputs": []
    },
    {
      "cell_type": "markdown",
      "metadata": {
        "id": "uz821tzRHTPy",
        "colab_type": "text"
      },
      "source": [
        "#### **Etape 1 : Tests de racine unitaire sur toutes les séries pour vérifier qu’elles sont I(1) : test de Dikey Fuller**"
      ]
    },
    {
      "cell_type": "markdown",
      "metadata": {
        "id": "xCditkcH79X_",
        "colab_type": "text"
      },
      "source": [
        "#### **Modèle 3 pour chaque série**"
      ]
    },
    {
      "cell_type": "code",
      "metadata": {
        "id": "hk8uP-Or6wCp",
        "colab_type": "code",
        "outputId": "4be56c06-8c14-4576-b7d0-0ac499473ad2",
        "colab": {
          "base_uri": "https://localhost:8080/",
          "height": 1000
        }
      },
      "source": [
        "%%R\n",
        "test <-function(i){\n",
        "    ur.df(i, type = \"trend\", lags = 4)\n",
        "} \n",
        "print(\"Modèle 3 pour la série diff_lrexr\")\n",
        "print(summary(test(diff_lrexr)))\n",
        "print(\"Modèle 3 pour la série diff_lusprod\")\n",
        "print(summary(test(diff_lusprod)))\n",
        "print(\"Modèle 3 pour la série diff_lusdisrat\")\n",
        "print(summary(test(diff_lusdisrat)))\n",
        "print(\"Modèle 3 pour la série diff_ldisrat\")\n",
        "print(summary(test(diff_ldisrat)))\n",
        "print(\"Modèle 3 pour la série diff_ltot\")\n",
        "print(summary(test(diff_ltot)))\n",
        "print(\"Modèle 3 pour la série diff_intdiff\")\n",
        "print(summary(test(diff_intdiff)))"
      ],
      "execution_count": 0,
      "outputs": [
        {
          "output_type": "stream",
          "text": [
            "[1] \"Modèle 3 pour la série diff_lrexr\"\n",
            "\n",
            "############################################### \n",
            "# Augmented Dickey-Fuller Test Unit Root Test # \n",
            "############################################### \n",
            "\n",
            "Test regression trend \n",
            "\n",
            "\n",
            "Call:\n",
            "lm(formula = z.diff ~ z.lag.1 + 1 + tt + z.diff.lag)\n",
            "\n",
            "Residuals:\n",
            "      Min        1Q    Median        3Q       Max \n",
            "-0.185761 -0.032092  0.007239  0.033298  0.135076 \n",
            "\n",
            "Coefficients:\n",
            "              Estimate Std. Error t value Pr(>|t|)    \n",
            "(Intercept)  3.291e-03  1.270e-02   0.259    0.796    \n",
            "z.lag.1     -8.898e-01  2.108e-01  -4.220 5.97e-05 ***\n",
            "tt          -6.239e-05  2.183e-04  -0.286    0.776    \n",
            "z.diff.lag1  5.920e-02  1.958e-01   0.302    0.763    \n",
            "z.diff.lag2 -2.293e-02  1.708e-01  -0.134    0.894    \n",
            "z.diff.lag3  6.270e-03  1.395e-01   0.045    0.964    \n",
            "z.diff.lag4  1.488e-01  1.060e-01   1.405    0.164    \n",
            "---\n",
            "Signif. codes:  0 ‘***’ 0.001 ‘**’ 0.01 ‘*’ 0.05 ‘.’ 0.1 ‘ ’ 1\n",
            "\n",
            "Residual standard error: 0.05737 on 87 degrees of freedom\n",
            "Multiple R-squared:  0.4576,\tAdjusted R-squared:  0.4201 \n",
            "F-statistic: 12.23 on 6 and 87 DF,  p-value: 6.219e-10\n",
            "\n",
            "\n",
            "Value of test-statistic is: -4.2203 5.9791 8.9679 \n",
            "\n",
            "Critical values for test statistics: \n",
            "      1pct  5pct 10pct\n",
            "tau3 -4.04 -3.45 -3.15\n",
            "phi2  6.50  4.88  4.16\n",
            "phi3  8.73  6.49  5.47\n",
            "\n",
            "[1] \"Modèle 3 pour la série diff_lusprod\"\n",
            "\n",
            "############################################### \n",
            "# Augmented Dickey-Fuller Test Unit Root Test # \n",
            "############################################### \n",
            "\n",
            "Test regression trend \n",
            "\n",
            "\n",
            "Call:\n",
            "lm(formula = z.diff ~ z.lag.1 + 1 + tt + z.diff.lag)\n",
            "\n",
            "Residuals:\n",
            "       Min         1Q     Median         3Q        Max \n",
            "-0.0257743 -0.0094327  0.0007033  0.0073540  0.0304477 \n",
            "\n",
            "Coefficients:\n",
            "              Estimate Std. Error t value Pr(>|t|)    \n",
            "(Intercept)  6.758e-04  2.831e-03   0.239 0.811893    \n",
            "z.lag.1     -9.715e-01  2.638e-01  -3.682 0.000401 ***\n",
            "tt           1.438e-05  4.948e-05   0.291 0.772056    \n",
            "z.diff.lag1 -1.108e-01  2.415e-01  -0.459 0.647591    \n",
            "z.diff.lag2 -4.627e-01  1.944e-01  -2.380 0.019509 *  \n",
            "z.diff.lag3 -4.988e-01  1.399e-01  -3.565 0.000594 ***\n",
            "z.diff.lag4 -4.930e-02  1.045e-01  -0.472 0.638374    \n",
            "---\n",
            "Signif. codes:  0 ‘***’ 0.001 ‘**’ 0.01 ‘*’ 0.05 ‘.’ 0.1 ‘ ’ 1\n",
            "\n",
            "Residual standard error: 0.01265 on 87 degrees of freedom\n",
            "Multiple R-squared:  0.7708,\tAdjusted R-squared:  0.755 \n",
            "F-statistic: 48.77 on 6 and 87 DF,  p-value: < 2.2e-16\n",
            "\n",
            "\n",
            "Value of test-statistic is: -3.6821 4.7004 6.9408 \n",
            "\n",
            "Critical values for test statistics: \n",
            "      1pct  5pct 10pct\n",
            "tau3 -4.04 -3.45 -3.15\n",
            "phi2  6.50  4.88  4.16\n",
            "phi3  8.73  6.49  5.47\n",
            "\n",
            "[1] \"Modèle 3 pour la série diff_lusdisrat\"\n",
            "\n",
            "############################################### \n",
            "# Augmented Dickey-Fuller Test Unit Root Test # \n",
            "############################################### \n",
            "\n",
            "Test regression trend \n",
            "\n",
            "\n",
            "Call:\n",
            "lm(formula = z.diff ~ z.lag.1 + 1 + tt + z.diff.lag)\n",
            "\n",
            "Residuals:\n",
            "      Min        1Q    Median        3Q       Max \n",
            "-0.051337 -0.003904 -0.000459  0.004828  0.023687 \n",
            "\n",
            "Coefficients:\n",
            "              Estimate Std. Error t value Pr(>|t|)    \n",
            "(Intercept)  1.997e-03  2.091e-03   0.955    0.342    \n",
            "z.lag.1     -1.031e+00  2.284e-01  -4.513 1.99e-05 ***\n",
            "tt          -3.537e-05  3.587e-05  -0.986    0.327    \n",
            "z.diff.lag1  1.471e-01  2.011e-01   0.732    0.466    \n",
            "z.diff.lag2  3.719e-02  1.742e-01   0.214    0.831    \n",
            "z.diff.lag3  1.075e-01  1.392e-01   0.772    0.442    \n",
            "z.diff.lag4  2.512e-02  1.043e-01   0.241    0.810    \n",
            "---\n",
            "Signif. codes:  0 ‘***’ 0.001 ‘**’ 0.01 ‘*’ 0.05 ‘.’ 0.1 ‘ ’ 1\n",
            "\n",
            "Residual standard error: 0.00913 on 87 degrees of freedom\n",
            "Multiple R-squared:  0.4659,\tAdjusted R-squared:  0.4291 \n",
            "F-statistic: 12.65 on 6 and 87 DF,  p-value: 3.281e-10\n",
            "\n",
            "\n",
            "Value of test-statistic is: -4.5127 6.8022 10.1915 \n",
            "\n",
            "Critical values for test statistics: \n",
            "      1pct  5pct 10pct\n",
            "tau3 -4.04 -3.45 -3.15\n",
            "phi2  6.50  4.88  4.16\n",
            "phi3  8.73  6.49  5.47\n",
            "\n",
            "[1] \"Modèle 3 pour la série diff_ldisrat\"\n",
            "\n",
            "############################################### \n",
            "# Augmented Dickey-Fuller Test Unit Root Test # \n",
            "############################################### \n",
            "\n",
            "Test regression trend \n",
            "\n",
            "\n",
            "Call:\n",
            "lm(formula = z.diff ~ z.lag.1 + 1 + tt + z.diff.lag)\n",
            "\n",
            "Residuals:\n",
            "      Min        1Q    Median        3Q       Max \n",
            "-0.017798 -0.004149 -0.000341  0.004282  0.021064 \n",
            "\n",
            "Coefficients:\n",
            "              Estimate Std. Error t value Pr(>|t|)    \n",
            "(Intercept)  2.790e-03  1.737e-03   1.606 0.111835    \n",
            "z.lag.1     -1.514e+00  2.239e-01  -6.762  1.5e-09 ***\n",
            "tt          -3.708e-05  2.958e-05  -1.253 0.213397    \n",
            "z.diff.lag1  6.731e-01  1.811e-01   3.717 0.000356 ***\n",
            "z.diff.lag2  5.748e-01  1.480e-01   3.883 0.000200 ***\n",
            "z.diff.lag3  2.028e-01  1.255e-01   1.616 0.109642    \n",
            "z.diff.lag4  1.599e-01  9.777e-02   1.636 0.105482    \n",
            "---\n",
            "Signif. codes:  0 ‘***’ 0.001 ‘**’ 0.01 ‘*’ 0.05 ‘.’ 0.1 ‘ ’ 1\n",
            "\n",
            "Residual standard error: 0.007701 on 87 degrees of freedom\n",
            "Multiple R-squared:  0.506,\tAdjusted R-squared:  0.472 \n",
            "F-statistic: 14.85 on 6 and 87 DF,  p-value: 1.285e-11\n",
            "\n",
            "\n",
            "Value of test-statistic is: -6.7616 15.3043 22.9482 \n",
            "\n",
            "Critical values for test statistics: \n",
            "      1pct  5pct 10pct\n",
            "tau3 -4.04 -3.45 -3.15\n",
            "phi2  6.50  4.88  4.16\n",
            "phi3  8.73  6.49  5.47\n",
            "\n",
            "[1] \"Modèle 3 pour la série diff_ltot\"\n",
            "\n",
            "############################################### \n",
            "# Augmented Dickey-Fuller Test Unit Root Test # \n",
            "############################################### \n",
            "\n",
            "Test regression trend \n",
            "\n",
            "\n",
            "Call:\n",
            "lm(formula = z.diff ~ z.lag.1 + 1 + tt + z.diff.lag)\n",
            "\n",
            "Residuals:\n",
            "      Min        1Q    Median        3Q       Max \n",
            "-0.073300 -0.012348 -0.002604  0.013049  0.070000 \n",
            "\n",
            "Coefficients:\n",
            "              Estimate Std. Error t value Pr(>|t|)    \n",
            "(Intercept)  4.403e-04  5.492e-03   0.080   0.9363    \n",
            "z.lag.1     -1.192e+00  1.891e-01  -6.301 1.18e-08 ***\n",
            "tt           4.197e-05  9.534e-05   0.440   0.6608    \n",
            "z.diff.lag1  2.487e-01  1.572e-01   1.582   0.1172    \n",
            "z.diff.lag2  2.794e-01  1.338e-01   2.088   0.0397 *  \n",
            "z.diff.lag3  8.449e-02  1.153e-01   0.733   0.4656    \n",
            "z.diff.lag4  1.493e-01  8.719e-02   1.713   0.0903 .  \n",
            "---\n",
            "Signif. codes:  0 ‘***’ 0.001 ‘**’ 0.01 ‘*’ 0.05 ‘.’ 0.1 ‘ ’ 1\n",
            "\n",
            "Residual standard error: 0.02412 on 87 degrees of freedom\n",
            "Multiple R-squared:  0.5365,\tAdjusted R-squared:  0.5045 \n",
            "F-statistic: 16.78 on 6 and 87 DF,  p-value: 9.022e-13\n",
            "\n",
            "\n",
            "Value of test-statistic is: -6.3013 13.7454 20.4596 \n",
            "\n",
            "Critical values for test statistics: \n",
            "      1pct  5pct 10pct\n",
            "tau3 -4.04 -3.45 -3.15\n",
            "phi2  6.50  4.88  4.16\n",
            "phi3  8.73  6.49  5.47\n",
            "\n",
            "[1] \"Modèle 3 pour la série diff_intdiff\"\n",
            "\n",
            "############################################### \n",
            "# Augmented Dickey-Fuller Test Unit Root Test # \n",
            "############################################### \n",
            "\n",
            "Test regression trend \n",
            "\n",
            "\n",
            "Call:\n",
            "lm(formula = z.diff ~ z.lag.1 + 1 + tt + z.diff.lag)\n",
            "\n",
            "Residuals:\n",
            "     Min       1Q   Median       3Q      Max \n",
            "-2.68674 -0.65452 -0.03761  0.89169  2.62493 \n",
            "\n",
            "Coefficients:\n",
            "             Estimate Std. Error t value Pr(>|t|)    \n",
            "(Intercept)  0.182948   0.277893   0.658  0.51206    \n",
            "z.lag.1     -1.326676   0.226318  -5.862 8.03e-08 ***\n",
            "tt          -0.002183   0.004763  -0.458  0.64778    \n",
            "z.diff.lag1  0.447307   0.178760   2.502  0.01421 *  \n",
            "z.diff.lag2  0.416673   0.159534   2.612  0.01061 *  \n",
            "z.diff.lag3  0.449375   0.132748   3.385  0.00107 ** \n",
            "z.diff.lag4 -0.005017   0.104925  -0.048  0.96197    \n",
            "---\n",
            "Signif. codes:  0 ‘***’ 0.001 ‘**’ 0.01 ‘*’ 0.05 ‘.’ 0.1 ‘ ’ 1\n",
            "\n",
            "Residual standard error: 1.252 on 87 degrees of freedom\n",
            "Multiple R-squared:  0.5577,\tAdjusted R-squared:  0.5272 \n",
            "F-statistic: 18.28 on 6 and 87 DF,  p-value: 1.268e-13\n",
            "\n",
            "\n",
            "Value of test-statistic is: -5.862 11.4802 17.2193 \n",
            "\n",
            "Critical values for test statistics: \n",
            "      1pct  5pct 10pct\n",
            "tau3 -4.04 -3.45 -3.15\n",
            "phi2  6.50  4.88  4.16\n",
            "phi3  8.73  6.49  5.47\n",
            "\n"
          ],
          "name": "stdout"
        }
      ]
    },
    {
      "cell_type": "markdown",
      "metadata": {
        "id": "EvrHZ9WN8C7U",
        "colab_type": "text"
      },
      "source": [
        "#### **Modèle 2 pour chaque série**"
      ]
    },
    {
      "cell_type": "code",
      "metadata": {
        "id": "VZIl_3_c7dWG",
        "colab_type": "code",
        "outputId": "1baf0589-2bbb-47d6-b442-a655b5bf9189",
        "colab": {
          "base_uri": "https://localhost:8080/",
          "height": 1000
        }
      },
      "source": [
        "%%R\n",
        "test <-function(i){\n",
        "    ur.df(i, type = \"drift\", lags = 4)\n",
        "}\n",
        "print(\"Modèle 2 pour la série diff_lrexr\")\n",
        "print(summary(test(diff_lrexr))) \n",
        "print(\"Modèle 2 pour la série diff_lusprod\")\n",
        "print(summary(test(diff_lusprod)))\n",
        "print(\"Modèle 2 pour la série diff_lusdisrat\")\n",
        "print(summary(test(diff_lusdisrat)))\n",
        "print(\"Modèle 2 pour la série diff_ldisrat\")\n",
        "print(summary(test(diff_ldisrat)))\n",
        "print(\"Modèle 2 pour la série diff_ltot\")\n",
        "print(summary(test(diff_ltot)))\n",
        "print(\"Modèle 2 pour la série diff_intdiff\")\n",
        "print(summary(test(diff_intdiff)))"
      ],
      "execution_count": 0,
      "outputs": [
        {
          "output_type": "stream",
          "text": [
            "[1] \"Modèle 2 pour la série diff_lrexr\"\n",
            "\n",
            "############################################### \n",
            "# Augmented Dickey-Fuller Test Unit Root Test # \n",
            "############################################### \n",
            "\n",
            "Test regression drift \n",
            "\n",
            "\n",
            "Call:\n",
            "lm(formula = z.diff ~ z.lag.1 + 1 + z.diff.lag)\n",
            "\n",
            "Residuals:\n",
            "      Min        1Q    Median        3Q       Max \n",
            "-0.183133 -0.034049  0.006853  0.032702  0.134798 \n",
            "\n",
            "Coefficients:\n",
            "              Estimate Std. Error t value Pr(>|t|)    \n",
            "(Intercept)  7.917e-05  5.888e-03   0.013    0.989    \n",
            "z.lag.1     -8.908e-01  2.097e-01  -4.248 5.35e-05 ***\n",
            "z.diff.lag1  6.085e-02  1.947e-01   0.313    0.755    \n",
            "z.diff.lag2 -2.089e-02  1.698e-01  -0.123    0.902    \n",
            "z.diff.lag3  7.927e-03  1.387e-01   0.057    0.955    \n",
            "z.diff.lag4  1.497e-01  1.054e-01   1.421    0.159    \n",
            "---\n",
            "Signif. codes:  0 ‘***’ 0.001 ‘**’ 0.01 ‘*’ 0.05 ‘.’ 0.1 ‘ ’ 1\n",
            "\n",
            "Residual standard error: 0.05707 on 88 degrees of freedom\n",
            "Multiple R-squared:  0.457,\tAdjusted R-squared:  0.4262 \n",
            "F-statistic: 14.82 on 5 and 88 DF,  p-value: 1.571e-10\n",
            "\n",
            "\n",
            "Value of test-statistic is: -4.2476 9.0219 \n",
            "\n",
            "Critical values for test statistics: \n",
            "      1pct  5pct 10pct\n",
            "tau2 -3.51 -2.89 -2.58\n",
            "phi1  6.70  4.71  3.86\n",
            "\n",
            "[1] \"Modèle 2 pour la série diff_lusprod\"\n",
            "\n",
            "############################################### \n",
            "# Augmented Dickey-Fuller Test Unit Root Test # \n",
            "############################################### \n",
            "\n",
            "Test regression drift \n",
            "\n",
            "\n",
            "Call:\n",
            "lm(formula = z.diff ~ z.lag.1 + 1 + z.diff.lag)\n",
            "\n",
            "Residuals:\n",
            "       Min         1Q     Median         3Q        Max \n",
            "-0.0258668 -0.0089870  0.0004999  0.0073392  0.0303239 \n",
            "\n",
            "Coefficients:\n",
            "             Estimate Std. Error t value Pr(>|t|)    \n",
            "(Intercept)  0.001403   0.001317   1.065 0.289671    \n",
            "z.lag.1     -0.953925   0.255475  -3.734 0.000334 ***\n",
            "z.diff.lag1 -0.126935   0.233807  -0.543 0.588569    \n",
            "z.diff.lag2 -0.475215   0.188602  -2.520 0.013552 *  \n",
            "z.diff.lag3 -0.506435   0.136711  -3.704 0.000369 ***\n",
            "z.diff.lag4 -0.053155   0.103147  -0.515 0.607615    \n",
            "---\n",
            "Signif. codes:  0 ‘***’ 0.001 ‘**’ 0.01 ‘*’ 0.05 ‘.’ 0.1 ‘ ’ 1\n",
            "\n",
            "Residual standard error: 0.01258 on 88 degrees of freedom\n",
            "Multiple R-squared:  0.7706,\tAdjusted R-squared:  0.7576 \n",
            "F-statistic: 59.12 on 5 and 88 DF,  p-value: < 2.2e-16\n",
            "\n",
            "\n",
            "Value of test-statistic is: -3.7339 7.082 \n",
            "\n",
            "Critical values for test statistics: \n",
            "      1pct  5pct 10pct\n",
            "tau2 -3.51 -2.89 -2.58\n",
            "phi1  6.70  4.71  3.86\n",
            "\n",
            "[1] \"Modèle 2 pour la série diff_lusdisrat\"\n",
            "\n",
            "############################################### \n",
            "# Augmented Dickey-Fuller Test Unit Root Test # \n",
            "############################################### \n",
            "\n",
            "Test regression drift \n",
            "\n",
            "\n",
            "Call:\n",
            "lm(formula = z.diff ~ z.lag.1 + 1 + z.diff.lag)\n",
            "\n",
            "Residuals:\n",
            "      Min        1Q    Median        3Q       Max \n",
            "-0.052328 -0.003687 -0.000941  0.004420  0.025053 \n",
            "\n",
            "Coefficients:\n",
            "              Estimate Std. Error t value Pr(>|t|)    \n",
            "(Intercept)  0.0001574  0.0009441   0.167    0.868    \n",
            "z.lag.1     -0.9748997  0.2212447  -4.406 2.95e-05 ***\n",
            "z.diff.lag1  0.1033794  0.1961489   0.527    0.599    \n",
            "z.diff.lag2  0.0074580  0.1715132   0.043    0.965    \n",
            "z.diff.lag3  0.0893885  0.1379588   0.648    0.519    \n",
            "z.diff.lag4  0.0162343  0.1038780   0.156    0.876    \n",
            "---\n",
            "Signif. codes:  0 ‘***’ 0.001 ‘**’ 0.01 ‘*’ 0.05 ‘.’ 0.1 ‘ ’ 1\n",
            "\n",
            "Residual standard error: 0.009129 on 88 degrees of freedom\n",
            "Multiple R-squared:  0.4599,\tAdjusted R-squared:  0.4292 \n",
            "F-statistic: 14.99 on 5 and 88 DF,  p-value: 1.255e-10\n",
            "\n",
            "\n",
            "Value of test-statistic is: -4.4064 9.7201 \n",
            "\n",
            "Critical values for test statistics: \n",
            "      1pct  5pct 10pct\n",
            "tau2 -3.51 -2.89 -2.58\n",
            "phi1  6.70  4.71  3.86\n",
            "\n",
            "[1] \"Modèle 2 pour la série diff_ldisrat\"\n",
            "\n",
            "############################################### \n",
            "# Augmented Dickey-Fuller Test Unit Root Test # \n",
            "############################################### \n",
            "\n",
            "Test regression drift \n",
            "\n",
            "\n",
            "Call:\n",
            "lm(formula = z.diff ~ z.lag.1 + 1 + z.diff.lag)\n",
            "\n",
            "Residuals:\n",
            "       Min         1Q     Median         3Q        Max \n",
            "-0.0180601 -0.0044550 -0.0003995  0.0042618  0.0224310 \n",
            "\n",
            "Coefficients:\n",
            "              Estimate Std. Error t value Pr(>|t|)    \n",
            "(Intercept)  0.0008600  0.0008063   1.067 0.289097    \n",
            "z.lag.1     -1.4792544  0.2229061  -6.636 2.54e-09 ***\n",
            "z.diff.lag1  0.6538997  0.1810347   3.612 0.000505 ***\n",
            "z.diff.lag2  0.5608039  0.1480880   3.787 0.000278 ***\n",
            "z.diff.lag3  0.1933355  0.1256553   1.539 0.127486    \n",
            "z.diff.lag4  0.1575882  0.0980642   1.607 0.111639    \n",
            "---\n",
            "Signif. codes:  0 ‘***’ 0.001 ‘**’ 0.01 ‘*’ 0.05 ‘.’ 0.1 ‘ ’ 1\n",
            "\n",
            "Residual standard error: 0.007726 on 88 degrees of freedom\n",
            "Multiple R-squared:  0.4971,\tAdjusted R-squared:  0.4685 \n",
            "F-statistic:  17.4 on 5 and 88 DF,  p-value: 6.082e-12\n",
            "\n",
            "\n",
            "Value of test-statistic is: -6.6362 22.0278 \n",
            "\n",
            "Critical values for test statistics: \n",
            "      1pct  5pct 10pct\n",
            "tau2 -3.51 -2.89 -2.58\n",
            "phi1  6.70  4.71  3.86\n",
            "\n",
            "[1] \"Modèle 2 pour la série diff_ltot\"\n",
            "\n",
            "############################################### \n",
            "# Augmented Dickey-Fuller Test Unit Root Test # \n",
            "############################################### \n",
            "\n",
            "Test regression drift \n",
            "\n",
            "\n",
            "Call:\n",
            "lm(formula = z.diff ~ z.lag.1 + 1 + z.diff.lag)\n",
            "\n",
            "Residuals:\n",
            "      Min        1Q    Median        3Q       Max \n",
            "-0.075161 -0.012600 -0.001914  0.012328  0.070714 \n",
            "\n",
            "Coefficients:\n",
            "             Estimate Std. Error t value Pr(>|t|)    \n",
            "(Intercept)  0.002593   0.002489   1.042   0.3004    \n",
            "z.lag.1     -1.171768   0.182773  -6.411 6.97e-09 ***\n",
            "z.diff.lag1  0.230034   0.150669   1.527   0.1304    \n",
            "z.diff.lag2  0.265054   0.129176   2.052   0.0432 *  \n",
            "z.diff.lag3  0.073871   0.112207   0.658   0.5120    \n",
            "z.diff.lag4  0.142913   0.085561   1.670   0.0984 .  \n",
            "---\n",
            "Signif. codes:  0 ‘***’ 0.001 ‘**’ 0.01 ‘*’ 0.05 ‘.’ 0.1 ‘ ’ 1\n",
            "\n",
            "Residual standard error: 0.02401 on 88 degrees of freedom\n",
            "Multiple R-squared:  0.5354,\tAdjusted R-squared:  0.5091 \n",
            "F-statistic: 20.29 on 5 and 88 DF,  p-value: 2.065e-13\n",
            "\n",
            "\n",
            "Value of test-statistic is: -6.4111 20.7109 \n",
            "\n",
            "Critical values for test statistics: \n",
            "      1pct  5pct 10pct\n",
            "tau2 -3.51 -2.89 -2.58\n",
            "phi1  6.70  4.71  3.86\n",
            "\n",
            "[1] \"Modèle 2 pour la série diff_intdiff\"\n",
            "\n",
            "############################################### \n",
            "# Augmented Dickey-Fuller Test Unit Root Test # \n",
            "############################################### \n",
            "\n",
            "Test regression drift \n",
            "\n",
            "\n",
            "Call:\n",
            "lm(formula = z.diff ~ z.lag.1 + 1 + z.diff.lag)\n",
            "\n",
            "Residuals:\n",
            "    Min      1Q  Median      3Q     Max \n",
            "-2.6015 -0.6628 -0.1153  0.8179  2.7039 \n",
            "\n",
            "Coefficients:\n",
            "             Estimate Std. Error t value Pr(>|t|)    \n",
            "(Intercept)  0.070301   0.129217   0.544  0.58778    \n",
            "z.lag.1     -1.323428   0.225190  -5.877 7.33e-08 ***\n",
            "z.diff.lag1  0.445525   0.177913   2.504  0.01412 *  \n",
            "z.diff.lag2  0.414474   0.158744   2.611  0.01061 *  \n",
            "z.diff.lag3  0.447966   0.132116   3.391  0.00105 ** \n",
            "z.diff.lag4 -0.005735   0.104441  -0.055  0.95633    \n",
            "---\n",
            "Signif. codes:  0 ‘***’ 0.001 ‘**’ 0.01 ‘*’ 0.05 ‘.’ 0.1 ‘ ’ 1\n",
            "\n",
            "Residual standard error: 1.246 on 88 degrees of freedom\n",
            "Multiple R-squared:  0.5566,\tAdjusted R-squared:  0.5314 \n",
            "F-statistic: 22.09 on 5 and 88 DF,  p-value: 2.806e-14\n",
            "\n",
            "\n",
            "Value of test-statistic is: -5.8769 17.2702 \n",
            "\n",
            "Critical values for test statistics: \n",
            "      1pct  5pct 10pct\n",
            "tau2 -3.51 -2.89 -2.58\n",
            "phi1  6.70  4.71  3.86\n",
            "\n"
          ],
          "name": "stdout"
        }
      ]
    },
    {
      "cell_type": "markdown",
      "metadata": {
        "id": "m0jw9eOW8Fkk",
        "colab_type": "text"
      },
      "source": [
        "#### **Modèle 1 pour chaque série**"
      ]
    },
    {
      "cell_type": "code",
      "metadata": {
        "id": "As28wNQe7gcm",
        "colab_type": "code",
        "outputId": "e20f4d17-77ef-4241-ded4-7b871e20971f",
        "colab": {
          "base_uri": "https://localhost:8080/",
          "height": 1000
        }
      },
      "source": [
        "%%R\n",
        "test <-function(i){\n",
        "    ur.df(i, type = \"none\", lags = 4)\n",
        "} \n",
        "print(\"Modèle 1 pour la série diff_lrexr\")\n",
        "print(summary(test(diff_lrexr)))\n",
        "print(\"Modèle 1 pour la série diff_lusprod\")\n",
        "print(summary(test(diff_lusprod)))\n",
        "print(\"Modèle 1 pour la série diff_lusdisrat\")\n",
        "print(summary(test(diff_lusdisrat)))\n",
        "print(\"Modèle 1 pour la série diff_ldisrat\")\n",
        "print(summary(test(diff_ldisrat)))\n",
        "print(\"Modèle 1 pour la série diff_ltot\")\n",
        "print(summary(test(diff_ltot)))\n",
        "print(\"Modèle 1 pour la série diff_intdiff\")\n",
        "print(summary(test(diff_intdiff)))"
      ],
      "execution_count": 0,
      "outputs": [
        {
          "output_type": "stream",
          "text": [
            "[1] \"Modèle 1 pour la série diff_lrexr\"\n",
            "\n",
            "############################################### \n",
            "# Augmented Dickey-Fuller Test Unit Root Test # \n",
            "############################################### \n",
            "\n",
            "Test regression none \n",
            "\n",
            "\n",
            "Call:\n",
            "lm(formula = z.diff ~ z.lag.1 - 1 + z.diff.lag)\n",
            "\n",
            "Residuals:\n",
            "      Min        1Q    Median        3Q       Max \n",
            "-0.183055 -0.033968  0.006932  0.032780  0.134875 \n",
            "\n",
            "Coefficients:\n",
            "             Estimate Std. Error t value Pr(>|t|)    \n",
            "z.lag.1     -0.890768   0.208520  -4.272 4.84e-05 ***\n",
            "z.diff.lag1  0.060807   0.193586   0.314    0.754    \n",
            "z.diff.lag2 -0.020924   0.168807  -0.124    0.902    \n",
            "z.diff.lag3  0.007882   0.137877   0.057    0.955    \n",
            "z.diff.lag4  0.149701   0.104746   1.429    0.156    \n",
            "---\n",
            "Signif. codes:  0 ‘***’ 0.001 ‘**’ 0.01 ‘*’ 0.05 ‘.’ 0.1 ‘ ’ 1\n",
            "\n",
            "Residual standard error: 0.05675 on 89 degrees of freedom\n",
            "Multiple R-squared:  0.457,\tAdjusted R-squared:  0.4265 \n",
            "F-statistic: 14.98 on 5 and 89 DF,  p-value: 1.177e-10\n",
            "\n",
            "\n",
            "Value of test-statistic is: -4.2719 \n",
            "\n",
            "Critical values for test statistics: \n",
            "     1pct  5pct 10pct\n",
            "tau1 -2.6 -1.95 -1.61\n",
            "\n",
            "[1] \"Modèle 1 pour la série diff_lusprod\"\n",
            "\n",
            "############################################### \n",
            "# Augmented Dickey-Fuller Test Unit Root Test # \n",
            "############################################### \n",
            "\n",
            "Test regression none \n",
            "\n",
            "\n",
            "Call:\n",
            "lm(formula = z.diff ~ z.lag.1 - 1 + z.diff.lag)\n",
            "\n",
            "Residuals:\n",
            "      Min        1Q    Median        3Q       Max \n",
            "-0.023973 -0.007681  0.001706  0.008705  0.031670 \n",
            "\n",
            "Coefficients:\n",
            "            Estimate Std. Error t value Pr(>|t|)    \n",
            "z.lag.1     -0.91016    0.25234  -3.607 0.000511 ***\n",
            "z.diff.lag1 -0.15821    0.23213  -0.682 0.497288    \n",
            "z.diff.lag2 -0.49709    0.18762  -2.649 0.009541 ** \n",
            "z.diff.lag3 -0.51538    0.13656  -3.774 0.000289 ***\n",
            "z.diff.lag4 -0.05355    0.10322  -0.519 0.605209    \n",
            "---\n",
            "Signif. codes:  0 ‘***’ 0.001 ‘**’ 0.01 ‘*’ 0.05 ‘.’ 0.1 ‘ ’ 1\n",
            "\n",
            "Residual standard error: 0.01259 on 89 degrees of freedom\n",
            "Multiple R-squared:  0.7676,\tAdjusted R-squared:  0.7546 \n",
            "F-statistic: 58.81 on 5 and 89 DF,  p-value: < 2.2e-16\n",
            "\n",
            "\n",
            "Value of test-statistic is: -3.6069 \n",
            "\n",
            "Critical values for test statistics: \n",
            "     1pct  5pct 10pct\n",
            "tau1 -2.6 -1.95 -1.61\n",
            "\n",
            "[1] \"Modèle 1 pour la série diff_lusdisrat\"\n",
            "\n",
            "############################################### \n",
            "# Augmented Dickey-Fuller Test Unit Root Test # \n",
            "############################################### \n",
            "\n",
            "Test regression none \n",
            "\n",
            "\n",
            "Call:\n",
            "lm(formula = z.diff ~ z.lag.1 - 1 + z.diff.lag)\n",
            "\n",
            "Residuals:\n",
            "      Min        1Q    Median        3Q       Max \n",
            "-0.052174 -0.003530 -0.000782  0.004580  0.025200 \n",
            "\n",
            "Coefficients:\n",
            "             Estimate Std. Error t value Pr(>|t|)    \n",
            "z.lag.1     -0.972219   0.219452  -4.430 2.67e-05 ***\n",
            "z.diff.lag1  0.101159   0.194625   0.520    0.605    \n",
            "z.diff.lag2  0.005838   0.170300   0.034    0.973    \n",
            "z.diff.lag3  0.088316   0.137054   0.644    0.521    \n",
            "z.diff.lag4  0.015678   0.103256   0.152    0.880    \n",
            "---\n",
            "Signif. codes:  0 ‘***’ 0.001 ‘**’ 0.01 ‘*’ 0.05 ‘.’ 0.1 ‘ ’ 1\n",
            "\n",
            "Residual standard error: 0.009079 on 89 degrees of freedom\n",
            "Multiple R-squared:  0.4598,\tAdjusted R-squared:  0.4294 \n",
            "F-statistic: 15.15 on 5 and 89 DF,  p-value: 9.471e-11\n",
            "\n",
            "\n",
            "Value of test-statistic is: -4.4302 \n",
            "\n",
            "Critical values for test statistics: \n",
            "     1pct  5pct 10pct\n",
            "tau1 -2.6 -1.95 -1.61\n",
            "\n",
            "[1] \"Modèle 1 pour la série diff_ldisrat\"\n",
            "\n",
            "############################################### \n",
            "# Augmented Dickey-Fuller Test Unit Root Test # \n",
            "############################################### \n",
            "\n",
            "Test regression none \n",
            "\n",
            "\n",
            "Call:\n",
            "lm(formula = z.diff ~ z.lag.1 - 1 + z.diff.lag)\n",
            "\n",
            "Residuals:\n",
            "       Min         1Q     Median         3Q        Max \n",
            "-0.0171433 -0.0036309  0.0004651  0.0051441  0.0230270 \n",
            "\n",
            "Coefficients:\n",
            "            Estimate Std. Error t value Pr(>|t|)    \n",
            "z.lag.1     -1.44556    0.22083  -6.546 3.67e-09 ***\n",
            "z.diff.lag1  0.63152    0.17995   3.509 0.000707 ***\n",
            "z.diff.lag2  0.54276    0.14723   3.686 0.000391 ***\n",
            "z.diff.lag3  0.18325    0.12540   1.461 0.147439    \n",
            "z.diff.lag4  0.15383    0.09808   1.568 0.120315    \n",
            "---\n",
            "Signif. codes:  0 ‘***’ 0.001 ‘**’ 0.01 ‘*’ 0.05 ‘.’ 0.1 ‘ ’ 1\n",
            "\n",
            "Residual standard error: 0.007732 on 89 degrees of freedom\n",
            "Multiple R-squared:  0.4907,\tAdjusted R-squared:  0.462 \n",
            "F-statistic: 17.15 on 5 and 89 DF,  p-value: 7.585e-12\n",
            "\n",
            "\n",
            "Value of test-statistic is: -6.5461 \n",
            "\n",
            "Critical values for test statistics: \n",
            "     1pct  5pct 10pct\n",
            "tau1 -2.6 -1.95 -1.61\n",
            "\n",
            "[1] \"Modèle 1 pour la série diff_ltot\"\n",
            "\n",
            "############################################### \n",
            "# Augmented Dickey-Fuller Test Unit Root Test # \n",
            "############################################### \n",
            "\n",
            "Test regression none \n",
            "\n",
            "\n",
            "Call:\n",
            "lm(formula = z.diff ~ z.lag.1 - 1 + z.diff.lag)\n",
            "\n",
            "Residuals:\n",
            "      Min        1Q    Median        3Q       Max \n",
            "-0.072423 -0.009688  0.000509  0.015082  0.073843 \n",
            "\n",
            "Coefficients:\n",
            "            Estimate Std. Error t value Pr(>|t|)    \n",
            "z.lag.1     -1.15759    0.18235  -6.348 8.94e-09 ***\n",
            "z.diff.lag1  0.22653    0.15070   1.503   0.1363    \n",
            "z.diff.lag2  0.26272    0.12922   2.033   0.0450 *  \n",
            "z.diff.lag3  0.07182    0.11224   0.640   0.5239    \n",
            "z.diff.lag4  0.14361    0.08560   1.678   0.0969 .  \n",
            "---\n",
            "Signif. codes:  0 ‘***’ 0.001 ‘**’ 0.01 ‘*’ 0.05 ‘.’ 0.1 ‘ ’ 1\n",
            "\n",
            "Residual standard error: 0.02402 on 89 degrees of freedom\n",
            "Multiple R-squared:  0.5298,\tAdjusted R-squared:  0.5033 \n",
            "F-statistic: 20.05 on 5 and 89 DF,  p-value: 2.421e-13\n",
            "\n",
            "\n",
            "Value of test-statistic is: -6.3481 \n",
            "\n",
            "Critical values for test statistics: \n",
            "     1pct  5pct 10pct\n",
            "tau1 -2.6 -1.95 -1.61\n",
            "\n",
            "[1] \"Modèle 1 pour la série diff_intdiff\"\n",
            "\n",
            "############################################### \n",
            "# Augmented Dickey-Fuller Test Unit Root Test # \n",
            "############################################### \n",
            "\n",
            "Test regression none \n",
            "\n",
            "\n",
            "Call:\n",
            "lm(formula = z.diff ~ z.lag.1 - 1 + z.diff.lag)\n",
            "\n",
            "Residuals:\n",
            "     Min       1Q   Median       3Q      Max \n",
            "-2.54199 -0.59234 -0.04116  0.89493  2.78707 \n",
            "\n",
            "Coefficients:\n",
            "             Estimate Std. Error t value Pr(>|t|)    \n",
            "z.lag.1     -1.311171   0.223172  -5.875  7.2e-08 ***\n",
            "z.diff.lag1  0.436832   0.176492   2.475  0.01522 *  \n",
            "z.diff.lag2  0.406591   0.157455   2.582  0.01145 *  \n",
            "z.diff.lag3  0.442118   0.131156   3.371  0.00111 ** \n",
            "z.diff.lag4 -0.009507   0.103798  -0.092  0.92723    \n",
            "---\n",
            "Signif. codes:  0 ‘***’ 0.001 ‘**’ 0.01 ‘*’ 0.05 ‘.’ 0.1 ‘ ’ 1\n",
            "\n",
            "Residual standard error: 1.241 on 89 degrees of freedom\n",
            "Multiple R-squared:  0.5551,\tAdjusted R-squared:  0.5301 \n",
            "F-statistic: 22.21 on 5 and 89 DF,  p-value: 2.196e-14\n",
            "\n",
            "\n",
            "Value of test-statistic is: -5.8751 \n",
            "\n",
            "Critical values for test statistics: \n",
            "     1pct  5pct 10pct\n",
            "tau1 -2.6 -1.95 -1.61\n",
            "\n"
          ],
          "name": "stdout"
        }
      ]
    },
    {
      "cell_type": "markdown",
      "metadata": {
        "id": "auqGPMRmHg1p",
        "colab_type": "text"
      },
      "source": [
        "#### **Etape 2 : Estimer par les MCO, la relation de long terme**"
      ]
    },
    {
      "cell_type": "code",
      "metadata": {
        "id": "PchHDv5fYfDi",
        "colab_type": "code",
        "outputId": "7ad25a03-fb5b-4e26-d987-8d6b67c956cb",
        "colab": {
          "base_uri": "https://localhost:8080/",
          "height": 527
        }
      },
      "source": [
        "%%R\n",
        "reg <- lm(lrexr ~ lusprod + lusdisrat + ldisrat + ltot + INTDIFF)\n",
        "print(summary(reg))\n",
        "dwtest(reg)"
      ],
      "execution_count": 0,
      "outputs": [
        {
          "output_type": "stream",
          "text": [
            "\n",
            "Call:\n",
            "lm(formula = lrexr ~ lusprod + lusdisrat + ldisrat + ltot + INTDIFF)\n",
            "\n",
            "Residuals:\n",
            "      Min        1Q    Median        3Q       Max \n",
            "-0.161108 -0.055933 -0.000621  0.049134  0.228394 \n",
            "\n",
            "Coefficients:\n",
            "              Estimate Std. Error t value Pr(>|t|)    \n",
            "(Intercept) -19.256369   2.686385  -7.168 1.70e-10 ***\n",
            "lusprod      -2.114809   0.352461  -6.000 3.66e-08 ***\n",
            "lusdisrat     2.424133   0.369746   6.556 2.95e-09 ***\n",
            "ldisrat      -3.461006   0.501801  -6.897 6.08e-10 ***\n",
            "ltot          1.314856   0.159956   8.220 1.10e-12 ***\n",
            "INTDIFF       0.022134   0.003752   5.899 5.72e-08 ***\n",
            "---\n",
            "Signif. codes:  0 ‘***’ 0.001 ‘**’ 0.01 ‘*’ 0.05 ‘.’ 0.1 ‘ ’ 1\n",
            "\n",
            "Residual standard error: 0.07816 on 94 degrees of freedom\n",
            "Multiple R-squared:  0.7409,\tAdjusted R-squared:  0.7271 \n",
            "F-statistic: 53.75 on 5 and 94 DF,  p-value: < 2.2e-16\n",
            "\n",
            "\n",
            "\tDurbin-Watson test\n",
            "\n",
            "data:  reg\n",
            "DW = 0.84885, p-value = 1.821e-10\n",
            "alternative hypothesis: true autocorrelation is greater than 0\n",
            "\n"
          ],
          "name": "stdout"
        }
      ]
    },
    {
      "cell_type": "markdown",
      "metadata": {
        "id": "bBpovpFaZaMC",
        "colab_type": "text"
      },
      "source": [
        "#### **Etape 3 : Effectuer un test de racine unitaire sur les résidus estimés ε(t) et vérifier que I(0)**"
      ]
    },
    {
      "cell_type": "code",
      "metadata": {
        "id": "BOWW_hgoXTu8",
        "colab_type": "code",
        "outputId": "4aecd898-d7c2-410c-d2b2-9c624a2e83b1",
        "colab": {
          "base_uri": "https://localhost:8080/",
          "height": 612
        }
      },
      "source": [
        "%%R\n",
        "resid_reg <- reg$residuals\n",
        "test <- ur.df(resid_reg, type = \"drift\")\n",
        "summary(test)"
      ],
      "execution_count": 0,
      "outputs": [
        {
          "output_type": "stream",
          "text": [
            "\n",
            "############################################### \n",
            "# Augmented Dickey-Fuller Test Unit Root Test # \n",
            "############################################### \n",
            "\n",
            "Test regression drift \n",
            "\n",
            "\n",
            "Call:\n",
            "lm(formula = z.diff ~ z.lag.1 + 1 + z.diff.lag)\n",
            "\n",
            "Residuals:\n",
            "      Min        1Q    Median        3Q       Max \n",
            "-0.134613 -0.048527  0.000245  0.033960  0.167964 \n",
            "\n",
            "Coefficients:\n",
            "              Estimate Std. Error t value Pr(>|t|)    \n",
            "(Intercept)  0.0001407  0.0063707   0.022    0.982    \n",
            "z.lag.1     -0.4755918  0.0937907  -5.071 1.95e-06 ***\n",
            "z.diff.lag   0.1209698  0.1017812   1.189    0.238    \n",
            "---\n",
            "Signif. codes:  0 ‘***’ 0.001 ‘**’ 0.01 ‘*’ 0.05 ‘.’ 0.1 ‘ ’ 1\n",
            "\n",
            "Residual standard error: 0.06307 on 95 degrees of freedom\n",
            "Multiple R-squared:  0.2238,\tAdjusted R-squared:  0.2074 \n",
            "F-statistic: 13.69 on 2 and 95 DF,  p-value: 5.95e-06\n",
            "\n",
            "\n",
            "Value of test-statistic is: -5.0708 12.8564 \n",
            "\n",
            "Critical values for test statistics: \n",
            "      1pct  5pct 10pct\n",
            "tau2 -3.51 -2.89 -2.58\n",
            "phi1  6.70  4.71  3.86\n",
            "\n"
          ],
          "name": "stdout"
        }
      ]
    },
    {
      "cell_type": "markdown",
      "metadata": {
        "id": "3M3wr52zWKO_",
        "colab_type": "text"
      },
      "source": [
        "##### **Rang de cointégration : Test de Johansen**"
      ]
    },
    {
      "cell_type": "code",
      "metadata": {
        "id": "2HllBmxHWHAd",
        "colab_type": "code",
        "outputId": "019eb032-4714-43d1-9b2d-51aded5b1c11",
        "colab": {
          "base_uri": "https://localhost:8080/",
          "height": 969
        }
      },
      "source": [
        "%%R\n",
        "cointest <- ca.jo(data.frame(lrexr,lusprod,lusdisrat,ldisrat,ltot,INTDIFF), type=\"trace\", K=4, ecdet=\"none\", spec=\"longrun\")\n",
        "summary(cointest)"
      ],
      "execution_count": 0,
      "outputs": [
        {
          "output_type": "stream",
          "text": [
            "\n",
            "###################### \n",
            "# Johansen-Procedure # \n",
            "###################### \n",
            "\n",
            "Test type: trace statistic , with linear trend \n",
            "\n",
            "Eigenvalues (lambda):\n",
            "[1] 0.43942207 0.32275374 0.25986500 0.12710091 0.06426477 0.03987450\n",
            "\n",
            "Values of teststatistic and critical values of test:\n",
            "\n",
            "           test 10pct  5pct   1pct\n",
            "r <= 5 |   3.91  6.50  8.18  11.65\n",
            "r <= 4 |  10.28 15.66 17.95  23.52\n",
            "r <= 3 |  23.33 28.71 31.52  37.22\n",
            "r <= 2 |  52.22 45.23 48.28  55.43\n",
            "r <= 1 |  89.63 66.49 70.60  78.87\n",
            "r = 0  | 145.20 85.18 90.39 104.20\n",
            "\n",
            "Eigenvectors, normalised to first column:\n",
            "(These are the cointegration relations)\n",
            "\n",
            "               lrexr.l4  lusprod.l4 lusdisrat.l4  ldisrat.l4      ltot.l4\n",
            "lrexr.l4      1.0000000  1.00000000   1.00000000   1.0000000  1.000000000\n",
            "lusprod.l4    0.7977977  4.24807005  -5.39596864  20.7076928 -5.571896072\n",
            "lusdisrat.l4 -5.8629797 -2.13682643  -5.99215906  11.6769335 13.449669635\n",
            "ldisrat.l4   14.4378293  3.40244678   3.53192705 -29.1856116 -2.023972932\n",
            "ltot.l4       0.5077120 -2.43566265   2.10796060  -0.1400123  0.526839806\n",
            "INTDIFF.l4   -0.1246604 -0.01579226  -0.02596799  -0.2006669 -0.005277449\n",
            "              INTDIFF.l4\n",
            "lrexr.l4      1.00000000\n",
            "lusprod.l4    6.27458299\n",
            "lusdisrat.l4 -7.27551084\n",
            "ldisrat.l4   10.83841992\n",
            "ltot.l4       0.07698685\n",
            "INTDIFF.l4   -0.05109201\n",
            "\n",
            "Weights W:\n",
            "(This is the loading matrix)\n",
            "\n",
            "                lrexr.l4   lusprod.l4 lusdisrat.l4    ldisrat.l4      ltot.l4\n",
            "lrexr.d     -0.062524012 -0.109410854 -0.097206429  0.0124772081 -0.021173159\n",
            "lusprod.d    0.027090324 -0.044834438 -0.019342265 -0.0003328742  0.005423363\n",
            "lusdisrat.d  0.009334707  0.002251898 -0.001416256 -0.0013335957 -0.004286326\n",
            "ldisrat.d   -0.008267663  0.018166992  0.006549955  0.0010065648  0.001723177\n",
            "ltot.d      -0.008479936  0.165286031 -0.057443547 -0.0028130531  0.004723213\n",
            "INTDIFF.d    2.609350803  5.158290472  0.267749785  0.4596841774  0.053935816\n",
            "               INTDIFF.l4\n",
            "lrexr.d     -0.0055924094\n",
            "lusprod.d    0.0002535814\n",
            "lusdisrat.d -0.0038103235\n",
            "ldisrat.d   -0.0046666994\n",
            "ltot.d      -0.0001451058\n",
            "INTDIFF.d   -0.0687976508\n",
            "\n"
          ],
          "name": "stdout"
        }
      ]
    },
    {
      "cell_type": "markdown",
      "metadata": {
        "id": "DmyKrnFCYf6u",
        "colab_type": "text"
      },
      "source": [
        "### **Question 6 : Estimez avec votre logiciel cette/ces relation(s) de cointégration. Comparer avec (1)**"
      ]
    },
    {
      "cell_type": "code",
      "metadata": {
        "id": "652CF_t8YqR-",
        "colab_type": "code",
        "outputId": "6ce55aec-1498-4861-d93f-beaf00dc3d21",
        "colab": {
          "base_uri": "https://localhost:8080/",
          "height": 1000
        }
      },
      "source": [
        "%%R\n",
        "vecm <- cajorls(cointest)\n",
        "vecm"
      ],
      "execution_count": 0,
      "outputs": [
        {
          "output_type": "stream",
          "text": [
            "$rlm\n",
            "\n",
            "Call:\n",
            "lm(formula = substitute(form1), data = data.mat)\n",
            "\n",
            "Coefficients:\n",
            "               lrexr.d     lusprod.d   lusdisrat.d  ldisrat.d   ltot.d    \n",
            "ect1           -6.252e-02   2.709e-02   9.335e-03   -8.268e-03  -8.480e-03\n",
            "constant       -7.097e-01   3.086e-01   1.065e-01   -9.328e-02  -9.628e-02\n",
            "lrexr.dl1      -2.737e-02   8.080e-02   2.715e-02   -2.008e-02   2.361e-01\n",
            "lusprod.dl1     2.052e-01  -2.122e-01  -1.460e-01    1.713e-02   2.766e-01\n",
            "lusdisrat.dl1   1.716e+00  -4.052e-01  -4.600e-04    1.686e-01   7.382e-03\n",
            "ldisrat.dl1    -4.565e-01   3.786e-02   8.680e-02    1.010e-01   1.368e-01\n",
            "ltot.dl1        4.199e-01   5.305e-02   3.665e-02   -1.186e-02   1.026e-01\n",
            "INTDIFF.dl1     4.841e-03  -9.465e-04  -1.594e-03    1.282e-03  -1.096e-03\n",
            "lrexr.dl2      -2.931e-01  -5.296e-04  -1.646e-02    1.102e-02  -5.923e-02\n",
            "lusprod.dl2     3.887e-02  -6.561e-01  -4.230e-02    9.477e-02   3.094e-01\n",
            "lusdisrat.dl2   8.113e-01  -6.178e-02  -1.681e-01    1.742e-01   4.776e-01\n",
            "ldisrat.dl2    -1.322e+00   2.650e-01   4.813e-02    6.046e-02   1.319e-01\n",
            "ltot.dl2        5.542e-02   1.429e-01  -1.641e-02    3.002e-02  -4.730e-02\n",
            "INTDIFF.dl2     5.792e-03  -2.242e-03  -7.523e-04   -3.118e-04   1.220e-04\n",
            "lrexr.dl3      -2.681e-02  -2.532e-03   1.549e-02   -1.325e-02   4.257e-02\n",
            "lusprod.dl3     4.844e-01  -1.125e-01  -1.883e-01    1.223e-02   3.998e-01\n",
            "lusdisrat.dl3   1.257e+00  -2.072e-02  -1.754e-02   -1.546e-02   8.156e-02\n",
            "ldisrat.dl3    -1.964e+00   5.202e-01  -8.274e-02   -4.178e-01   1.866e-01\n",
            "ltot.dl3       -8.868e-03  -1.957e-04   2.789e-02   -3.023e-02  -2.102e-01\n",
            "INTDIFF.dl3     1.049e-02  -1.671e-03   5.451e-05   -3.425e-04   2.629e-03\n",
            "               INTDIFF.d \n",
            "ect1            2.609e+00\n",
            "constant        2.959e+01\n",
            "lrexr.dl1       7.798e-01\n",
            "lusprod.dl1    -3.643e+00\n",
            "lusdisrat.dl1  -1.437e+01\n",
            "ldisrat.dl1     2.014e+01\n",
            "ltot.dl1        4.994e+00\n",
            "INTDIFF.dl1    -1.572e-01\n",
            "lrexr.dl2       4.579e+00\n",
            "lusprod.dl2     7.224e+00\n",
            "lusdisrat.dl2  -1.354e+01\n",
            "ldisrat.dl2     4.390e+01\n",
            "ltot.dl2        6.790e+00\n",
            "INTDIFF.dl2    -2.737e-01\n",
            "lrexr.dl3       7.609e+00\n",
            "lusprod.dl3     6.612e+00\n",
            "lusdisrat.dl3  -1.969e+01\n",
            "ldisrat.dl3     3.275e+00\n",
            "ltot.dl3        7.639e+00\n",
            "INTDIFF.dl3    -1.838e-01\n",
            "\n",
            "\n",
            "$beta\n",
            "                   ect1\n",
            "lrexr.l4      1.0000000\n",
            "lusprod.l4    0.7977977\n",
            "lusdisrat.l4 -5.8629797\n",
            "ldisrat.l4   14.4378293\n",
            "ltot.l4       0.5077120\n",
            "INTDIFF.l4   -0.1246604\n",
            "\n"
          ],
          "name": "stdout"
        }
      ]
    },
    {
      "cell_type": "code",
      "metadata": {
        "id": "VnDyWgpzl1hg",
        "colab_type": "code",
        "outputId": "06c4a2e7-2f36-454b-d5cc-ef6ef17db5e6",
        "colab": {
          "base_uri": "https://localhost:8080/",
          "height": 51
        }
      },
      "source": [
        "%%R\n",
        "print(vecm$rlm$coefficients[1:6])\n",
        "print(vecm$beta[1:6])"
      ],
      "execution_count": 0,
      "outputs": [
        {
          "output_type": "stream",
          "text": [
            "[1] -0.06252401 -0.70968659 -0.02737413  0.20516039  1.71589083 -0.45646119\n",
            "[1]  1.0000000  0.7977977 -5.8629797 14.4378293  0.5077120 -0.1246604\n"
          ],
          "name": "stdout"
        }
      ]
    },
    {
      "cell_type": "code",
      "metadata": {
        "id": "ACU3dc79zP8C",
        "colab_type": "code",
        "outputId": "3a69e526-e7ab-46cb-e10b-65aa538f8fdf",
        "colab": {
          "base_uri": "https://localhost:8080/",
          "height": 1000
        }
      },
      "source": [
        "%%R\n",
        "summary(vecm$rlm)"
      ],
      "execution_count": 0,
      "outputs": [
        {
          "output_type": "stream",
          "text": [
            "Response lrexr.d :\n",
            "\n",
            "Call:\n",
            "lm(formula = lrexr.d ~ ect1 + constant + lrexr.dl1 + lusprod.dl1 + \n",
            "    lusdisrat.dl1 + ldisrat.dl1 + ltot.dl1 + INTDIFF.dl1 + lrexr.dl2 + \n",
            "    lusprod.dl2 + lusdisrat.dl2 + ldisrat.dl2 + ltot.dl2 + INTDIFF.dl2 + \n",
            "    lrexr.dl3 + lusprod.dl3 + lusdisrat.dl3 + ldisrat.dl3 + ltot.dl3 + \n",
            "    INTDIFF.dl3 - 1, data = data.mat)\n",
            "\n",
            "Residuals:\n",
            "      Min        1Q    Median        3Q       Max \n",
            "-0.171621 -0.030681  0.002458  0.034741  0.137009 \n",
            "\n",
            "Coefficients:\n",
            "               Estimate Std. Error t value Pr(>|t|)  \n",
            "ect1          -0.062524   0.036524  -1.712   0.0910 .\n",
            "constant      -0.709687   0.414273  -1.713   0.0908 .\n",
            "lrexr.dl1     -0.027374   0.122107  -0.224   0.8232  \n",
            "lusprod.dl1    0.205160   0.529074   0.388   0.6993  \n",
            "lusdisrat.dl1  1.715891   0.735578   2.333   0.0223 *\n",
            "ldisrat.dl1   -0.456461   0.794191  -0.575   0.5672  \n",
            "ltot.dl1       0.419936   0.237707   1.767   0.0813 .\n",
            "INTDIFF.dl1    0.004841   0.005231   0.925   0.3577  \n",
            "lrexr.dl2     -0.293090   0.131315  -2.232   0.0286 *\n",
            "lusprod.dl2    0.038870   0.366182   0.106   0.9157  \n",
            "lusdisrat.dl2  0.811346   0.770383   1.053   0.2956  \n",
            "ldisrat.dl2   -1.322292   0.758546  -1.743   0.0853 .\n",
            "ltot.dl2       0.055417   0.230311   0.241   0.8105  \n",
            "INTDIFF.dl2    0.005792   0.005387   1.075   0.2858  \n",
            "lrexr.dl3     -0.026810   0.136121  -0.197   0.8444  \n",
            "lusprod.dl3    0.484368   0.493485   0.982   0.3294  \n",
            "lusdisrat.dl3  1.256803   0.784871   1.601   0.1135  \n",
            "ldisrat.dl3   -1.963839   0.793019  -2.476   0.0155 *\n",
            "ltot.dl3      -0.008868   0.228318  -0.039   0.9691  \n",
            "INTDIFF.dl3    0.010490   0.005336   1.966   0.0530 .\n",
            "---\n",
            "Signif. codes:  0 ‘***’ 0.001 ‘**’ 0.01 ‘*’ 0.05 ‘.’ 0.1 ‘ ’ 1\n",
            "\n",
            "Residual standard error: 0.05591 on 76 degrees of freedom\n",
            "Multiple R-squared:  0.227,\tAdjusted R-squared:  0.02357 \n",
            "F-statistic: 1.116 on 20 and 76 DF,  p-value: 0.3523\n",
            "\n",
            "\n",
            "Response lusprod.d :\n",
            "\n",
            "Call:\n",
            "lm(formula = lusprod.d ~ ect1 + constant + lrexr.dl1 + lusprod.dl1 + \n",
            "    lusdisrat.dl1 + ldisrat.dl1 + ltot.dl1 + INTDIFF.dl1 + lrexr.dl2 + \n",
            "    lusprod.dl2 + lusdisrat.dl2 + ldisrat.dl2 + ltot.dl2 + INTDIFF.dl2 + \n",
            "    lrexr.dl3 + lusprod.dl3 + lusdisrat.dl3 + ldisrat.dl3 + ltot.dl3 + \n",
            "    INTDIFF.dl3 - 1, data = data.mat)\n",
            "\n",
            "Residuals:\n",
            "      Min        1Q    Median        3Q       Max \n",
            "-0.024442 -0.007602 -0.000119  0.008644  0.029638 \n",
            "\n",
            "Coefficients:\n",
            "                Estimate Std. Error t value Pr(>|t|)    \n",
            "ect1           0.0270903  0.0082937   3.266  0.00164 ** \n",
            "constant       0.3085934  0.0940713   3.280  0.00157 ** \n",
            "lrexr.dl1      0.0807966  0.0277275   2.914  0.00469 ** \n",
            "lusprod.dl1   -0.2122344  0.1201398  -1.767  0.08132 .  \n",
            "lusdisrat.dl1 -0.4052200  0.1670316  -2.426  0.01764 *  \n",
            "ldisrat.dl1    0.0378637  0.1803413   0.210  0.83426    \n",
            "ltot.dl1       0.0530518  0.0539775   0.983  0.32880    \n",
            "INTDIFF.dl1   -0.0009465  0.0011879  -0.797  0.42804    \n",
            "lrexr.dl2     -0.0005296  0.0298184  -0.018  0.98588    \n",
            "lusprod.dl2   -0.6560865  0.0831509  -7.890 1.78e-11 ***\n",
            "lusdisrat.dl2 -0.0617840  0.1749349  -0.353  0.72493    \n",
            "ldisrat.dl2    0.2649692  0.1722472   1.538  0.12813    \n",
            "ltot.dl2       0.1429103  0.0522980   2.733  0.00781 ** \n",
            "INTDIFF.dl2   -0.0022424  0.0012234  -1.833  0.07072 .  \n",
            "lrexr.dl3     -0.0025321  0.0309098  -0.082  0.93493    \n",
            "lusprod.dl3   -0.1125147  0.1120583  -1.004  0.31853    \n",
            "lusdisrat.dl3 -0.0207205  0.1782250  -0.116  0.90775    \n",
            "ldisrat.dl3    0.5202036  0.1800750   2.889  0.00504 ** \n",
            "ltot.dl3      -0.0001957  0.0518454  -0.004  0.99700    \n",
            "INTDIFF.dl3   -0.0016707  0.0012117  -1.379  0.17200    \n",
            "---\n",
            "Signif. codes:  0 ‘***’ 0.001 ‘**’ 0.01 ‘*’ 0.05 ‘.’ 0.1 ‘ ’ 1\n",
            "\n",
            "Residual standard error: 0.0127 on 76 degrees of freedom\n",
            "Multiple R-squared:  0.5937,\tAdjusted R-squared:  0.4867 \n",
            "F-statistic: 5.552 on 20 and 76 DF,  p-value: 2.024e-08\n",
            "\n",
            "\n",
            "Response lusdisrat.d :\n",
            "\n",
            "Call:\n",
            "lm(formula = lusdisrat.d ~ ect1 + constant + lrexr.dl1 + lusprod.dl1 + \n",
            "    lusdisrat.dl1 + ldisrat.dl1 + ltot.dl1 + INTDIFF.dl1 + lrexr.dl2 + \n",
            "    lusprod.dl2 + lusdisrat.dl2 + ldisrat.dl2 + ltot.dl2 + INTDIFF.dl2 + \n",
            "    lrexr.dl3 + lusprod.dl3 + lusdisrat.dl3 + ldisrat.dl3 + ltot.dl3 + \n",
            "    INTDIFF.dl3 - 1, data = data.mat)\n",
            "\n",
            "Residuals:\n",
            "      Min        1Q    Median        3Q       Max \n",
            "-0.040217 -0.004359 -0.000892  0.005527  0.018025 \n",
            "\n",
            "Coefficients:\n",
            "                Estimate Std. Error t value Pr(>|t|)  \n",
            "ect1           9.335e-03  5.948e-03   1.569   0.1207  \n",
            "constant       1.065e-01  6.747e-02   1.579   0.1185  \n",
            "lrexr.dl1      2.715e-02  1.989e-02   1.365   0.1761  \n",
            "lusprod.dl1   -1.460e-01  8.617e-02  -1.694   0.0944 .\n",
            "lusdisrat.dl1 -4.600e-04  1.198e-01  -0.004   0.9969  \n",
            "ldisrat.dl1    8.680e-02  1.293e-01   0.671   0.5042  \n",
            "ltot.dl1       3.665e-02  3.871e-02   0.947   0.3469  \n",
            "INTDIFF.dl1   -1.594e-03  8.520e-04  -1.871   0.0652 .\n",
            "lrexr.dl2     -1.646e-02  2.139e-02  -0.769   0.4440  \n",
            "lusprod.dl2   -4.230e-02  5.964e-02  -0.709   0.4803  \n",
            "lusdisrat.dl2 -1.681e-01  1.255e-01  -1.340   0.1843  \n",
            "ldisrat.dl2    4.813e-02  1.235e-01   0.390   0.6979  \n",
            "ltot.dl2      -1.641e-02  3.751e-02  -0.438   0.6629  \n",
            "INTDIFF.dl2   -7.522e-04  8.774e-04  -0.857   0.3939  \n",
            "lrexr.dl3      1.549e-02  2.217e-02   0.699   0.4867  \n",
            "lusprod.dl3   -1.883e-01  8.037e-02  -2.343   0.0217 *\n",
            "lusdisrat.dl3 -1.754e-02  1.278e-01  -0.137   0.8912  \n",
            "ldisrat.dl3   -8.274e-02  1.292e-01  -0.641   0.5237  \n",
            "ltot.dl3       2.789e-02  3.718e-02   0.750   0.4556  \n",
            "INTDIFF.dl3    5.451e-05  8.691e-04   0.063   0.9502  \n",
            "---\n",
            "Signif. codes:  0 ‘***’ 0.001 ‘**’ 0.01 ‘*’ 0.05 ‘.’ 0.1 ‘ ’ 1\n",
            "\n",
            "Residual standard error: 0.009106 on 76 degrees of freedom\n",
            "Multiple R-squared:  0.2001,\tAdjusted R-squared:  -0.01038 \n",
            "F-statistic: 0.9507 on 20 and 76 DF,  p-value: 0.5284\n",
            "\n",
            "\n",
            "Response ldisrat.d :\n",
            "\n",
            "Call:\n",
            "lm(formula = ldisrat.d ~ ect1 + constant + lrexr.dl1 + lusprod.dl1 + \n",
            "    lusdisrat.dl1 + ldisrat.dl1 + ltot.dl1 + INTDIFF.dl1 + lrexr.dl2 + \n",
            "    lusprod.dl2 + lusdisrat.dl2 + ldisrat.dl2 + ltot.dl2 + INTDIFF.dl2 + \n",
            "    lrexr.dl3 + lusprod.dl3 + lusdisrat.dl3 + ldisrat.dl3 + ltot.dl3 + \n",
            "    INTDIFF.dl3 - 1, data = data.mat)\n",
            "\n",
            "Residuals:\n",
            "       Min         1Q     Median         3Q        Max \n",
            "-0.0156192 -0.0045257 -0.0004155  0.0038113  0.0187544 \n",
            "\n",
            "Coefficients:\n",
            "                Estimate Std. Error t value Pr(>|t|)    \n",
            "ect1          -0.0082677  0.0051186  -1.615 0.110405    \n",
            "constant      -0.0932795  0.0580574  -1.607 0.112272    \n",
            "lrexr.dl1     -0.0200836  0.0171124  -1.174 0.244210    \n",
            "lusprod.dl1    0.0171274  0.0741460   0.231 0.817939    \n",
            "lusdisrat.dl1  0.1686340  0.1030859   1.636 0.106004    \n",
            "ldisrat.dl1    0.1009828  0.1113002   0.907 0.367115    \n",
            "ltot.dl1      -0.0118597  0.0333130  -0.356 0.722820    \n",
            "INTDIFF.dl1    0.0012822  0.0007331   1.749 0.084339 .  \n",
            "lrexr.dl2      0.0110233  0.0184029   0.599 0.550954    \n",
            "lusprod.dl2    0.0947668  0.0513177   1.847 0.068688 .  \n",
            "lusdisrat.dl2  0.1742098  0.1079636   1.614 0.110759    \n",
            "ldisrat.dl2    0.0604575  0.1063048   0.569 0.571224    \n",
            "ltot.dl2       0.0300155  0.0322765   0.930 0.355341    \n",
            "INTDIFF.dl2   -0.0003118  0.0007550  -0.413 0.680828    \n",
            "lrexr.dl3     -0.0132473  0.0190764  -0.694 0.489529    \n",
            "lusprod.dl3    0.0122317  0.0691584   0.177 0.860085    \n",
            "lusdisrat.dl3 -0.0154564  0.1099941  -0.141 0.888620    \n",
            "ldisrat.dl3   -0.4178467  0.1111358  -3.760 0.000332 ***\n",
            "ltot.dl3      -0.0302277  0.0319971  -0.945 0.347805    \n",
            "INTDIFF.dl3   -0.0003425  0.0007478  -0.458 0.648290    \n",
            "---\n",
            "Signif. codes:  0 ‘***’ 0.001 ‘**’ 0.01 ‘*’ 0.05 ‘.’ 0.1 ‘ ’ 1\n",
            "\n",
            "Residual standard error: 0.007836 on 76 degrees of freedom\n",
            "Multiple R-squared:  0.3378,\tAdjusted R-squared:  0.1636 \n",
            "F-statistic: 1.939 on 20 and 76 DF,  p-value: 0.02101\n",
            "\n",
            "\n",
            "Response ltot.d :\n",
            "\n",
            "Call:\n",
            "lm(formula = ltot.d ~ ect1 + constant + lrexr.dl1 + lusprod.dl1 + \n",
            "    lusdisrat.dl1 + ldisrat.dl1 + ltot.dl1 + INTDIFF.dl1 + lrexr.dl2 + \n",
            "    lusprod.dl2 + lusdisrat.dl2 + ldisrat.dl2 + ltot.dl2 + INTDIFF.dl2 + \n",
            "    lrexr.dl3 + lusprod.dl3 + lusdisrat.dl3 + ldisrat.dl3 + ltot.dl3 + \n",
            "    INTDIFF.dl3 - 1, data = data.mat)\n",
            "\n",
            "Residuals:\n",
            "      Min        1Q    Median        3Q       Max \n",
            "-0.101396 -0.012946 -0.000091  0.011839  0.081937 \n",
            "\n",
            "Coefficients:\n",
            "               Estimate Std. Error t value Pr(>|t|)    \n",
            "ect1          -0.008480   0.017574  -0.483 0.630811    \n",
            "constant      -0.096283   0.199329  -0.483 0.630460    \n",
            "lrexr.dl1      0.236078   0.058752   4.018 0.000137 ***\n",
            "lusprod.dl1    0.276640   0.254566   1.087 0.280599    \n",
            "lusdisrat.dl1  0.007382   0.353926   0.021 0.983414    \n",
            "ldisrat.dl1    0.136836   0.382128   0.358 0.721269    \n",
            "ltot.dl1       0.102629   0.114374   0.897 0.372388    \n",
            "INTDIFF.dl1   -0.001096   0.002517  -0.436 0.664366    \n",
            "lrexr.dl2     -0.059227   0.063183  -0.937 0.351530    \n",
            "lusprod.dl2    0.309413   0.176190   1.756 0.083094 .  \n",
            "lusdisrat.dl2  0.477648   0.370673   1.289 0.201447    \n",
            "ldisrat.dl2    0.131860   0.364977   0.361 0.718890    \n",
            "ltot.dl2      -0.047300   0.110815  -0.427 0.670707    \n",
            "INTDIFF.dl2    0.000122   0.002592   0.047 0.962577    \n",
            "lrexr.dl3      0.042573   0.065495   0.650 0.517643    \n",
            "lusprod.dl3    0.399792   0.237442   1.684 0.096334 .  \n",
            "lusdisrat.dl3  0.081559   0.377644   0.216 0.829592    \n",
            "ldisrat.dl3    0.186553   0.381564   0.489 0.626309    \n",
            "ltot.dl3      -0.210184   0.109856  -1.913 0.059480 .  \n",
            "INTDIFF.dl3    0.002629   0.002567   1.024 0.309017    \n",
            "---\n",
            "Signif. codes:  0 ‘***’ 0.001 ‘**’ 0.01 ‘*’ 0.05 ‘.’ 0.1 ‘ ’ 1\n",
            "\n",
            "Residual standard error: 0.0269 on 76 degrees of freedom\n",
            "Multiple R-squared:  0.3124,\tAdjusted R-squared:  0.1315 \n",
            "F-statistic: 1.727 on 20 and 76 DF,  p-value: 0.04702\n",
            "\n",
            "\n",
            "Response INTDIFF.d :\n",
            "\n",
            "Call:\n",
            "lm(formula = INTDIFF.d ~ ect1 + constant + lrexr.dl1 + lusprod.dl1 + \n",
            "    lusdisrat.dl1 + ldisrat.dl1 + ltot.dl1 + INTDIFF.dl1 + lrexr.dl2 + \n",
            "    lusprod.dl2 + lusdisrat.dl2 + ldisrat.dl2 + ltot.dl2 + INTDIFF.dl2 + \n",
            "    lrexr.dl3 + lusprod.dl3 + lusdisrat.dl3 + ldisrat.dl3 + ltot.dl3 + \n",
            "    INTDIFF.dl3 - 1, data = data.mat)\n",
            "\n",
            "Residuals:\n",
            "    Min      1Q  Median      3Q     Max \n",
            "-2.7379 -0.8718  0.0712  0.6315  3.7408 \n",
            "\n",
            "Coefficients:\n",
            "              Estimate Std. Error t value Pr(>|t|)   \n",
            "ect1            2.6094     0.8185   3.188  0.00208 **\n",
            "constant       29.5854     9.2843   3.187  0.00209 **\n",
            "lrexr.dl1       0.7798     2.7365   0.285  0.77646   \n",
            "lusprod.dl1    -3.6427    11.8571  -0.307  0.75952   \n",
            "lusdisrat.dl1 -14.3650    16.4850  -0.871  0.38628   \n",
            "ldisrat.dl1    20.1439    17.7986   1.132  0.26129   \n",
            "ltot.dl1        4.9939     5.3273   0.937  0.35151   \n",
            "INTDIFF.dl1    -0.1572     0.1172  -1.341  0.18383   \n",
            "lrexr.dl2       4.5793     2.9429   1.556  0.12385   \n",
            "lusprod.dl2     7.2244     8.2065   0.880  0.38146   \n",
            "lusdisrat.dl2 -13.5365    17.2650  -0.784  0.43545   \n",
            "ldisrat.dl2    43.9035    16.9998   2.583  0.01173 * \n",
            "ltot.dl2        6.7895     5.1615   1.315  0.19232   \n",
            "INTDIFF.dl2    -0.2737     0.1207  -2.267  0.02624 * \n",
            "lrexr.dl3       7.6089     3.0506   2.494  0.01480 * \n",
            "lusprod.dl3     6.6123    11.0595   0.598  0.55170   \n",
            "lusdisrat.dl3 -19.6861    17.5897  -1.119  0.26659   \n",
            "ldisrat.dl3     3.2746    17.7723   0.184  0.85431   \n",
            "ltot.dl3        7.6387     5.1168   1.493  0.13961   \n",
            "INTDIFF.dl3    -0.1838     0.1196  -1.537  0.12853   \n",
            "---\n",
            "Signif. codes:  0 ‘***’ 0.001 ‘**’ 0.01 ‘*’ 0.05 ‘.’ 0.1 ‘ ’ 1\n",
            "\n",
            "Residual standard error: 1.253 on 76 degrees of freedom\n",
            "Multiple R-squared:  0.3343,\tAdjusted R-squared:  0.1592 \n",
            "F-statistic: 1.909 on 20 and 76 DF,  p-value: 0.02361\n",
            "\n",
            "\n"
          ],
          "name": "stdout"
        }
      ]
    },
    {
      "cell_type": "markdown",
      "metadata": {
        "id": "uww1yXKhI7b9",
        "colab_type": "text"
      },
      "source": [
        "# **Exercice 2 : Etude sur le taux de chômage dans la région Nord-Pas-de-Calais**"
      ]
    },
    {
      "cell_type": "markdown",
      "metadata": {
        "id": "s71J7CczfmtS",
        "colab_type": "text"
      },
      "source": [
        "###### **Importation du fichier valeurs.csv**"
      ]
    },
    {
      "cell_type": "code",
      "metadata": {
        "id": "lzoDkxbnJAMU",
        "colab_type": "code",
        "outputId": "2a9e7c8d-cafa-4646-c41e-d1b47f3c803f",
        "colab": {
          "base_uri": "https://localhost:8080/",
          "height": 141
        }
      },
      "source": [
        "%%R\n",
        "valeur <- read.table(\"valeurs.csv\",header=TRUE, sep=',')\n",
        "head(valeur)"
      ],
      "execution_count": 0,
      "outputs": [
        {
          "output_type": "stream",
          "text": [
            "  Ann_e Trimestre NpdC IdF Tot t\n",
            "1  1982         1  9.0 5.6 6.7 1\n",
            "2  1982         2  9.0 5.6 6.8 2\n",
            "3  1982         3  9.1 5.6 7.0 3\n",
            "4  1982         4  8.9 5.5 7.0 4\n",
            "5  1983         1  9.0 5.6 7.0 5\n",
            "6  1983         2  9.3 5.7 7.0 6\n"
          ],
          "name": "stdout"
        }
      ]
    },
    {
      "cell_type": "markdown",
      "metadata": {
        "id": "ffe9vGDHONYS",
        "colab_type": "text"
      },
      "source": [
        "## **Partie A : Etude de la série univariée NPdC (taux de chômage dans le Nord-Pas-de-Calais)**"
      ]
    },
    {
      "cell_type": "markdown",
      "metadata": {
        "id": "iF8_D_ZqMr3E",
        "colab_type": "text"
      },
      "source": [
        "### **Question 1 : graphique de la série NPdC quelques statistiques**"
      ]
    },
    {
      "cell_type": "code",
      "metadata": {
        "id": "sea2dRGANUEZ",
        "colab_type": "code",
        "outputId": "8cf407a5-afa2-407e-d981-71cadccd62d0",
        "colab": {
          "base_uri": "https://localhost:8080/",
          "height": 1000
        }
      },
      "source": [
        "%%R\n",
        "# Transformation des données en série chronologique\n",
        "npdc <- ts(valeur$NpdC, start=1982, end=c(2013,2), frequency=4)\n",
        "idf <- ts(valeur$IdF, start=1982, end=c(2013,2), frequency=4)\n",
        "tot <- ts(valeur$Tot, start=1982, end=c(2013,2), frequency=4)\n",
        "# Tracer le graphique\n",
        "plot(npdc, xlab=\"trimestre\", col='red')\n",
        "print(acf2y(npdc, lag.max=40))"
      ],
      "execution_count": 0,
      "outputs": [
        {
          "output_type": "stream",
          "text": [
            "      LAG        ACF1         PACF\n",
            " [1,]   1  0.95305110  0.953051103\n",
            " [2,]   2  0.88071898 -0.300865389\n",
            " [3,]   3  0.80008367 -0.060962477\n",
            " [4,]   4  0.71406344 -0.080469475\n",
            " [5,]   5  0.63059027  0.005675845\n",
            " [6,]   6  0.55254706 -0.004182154\n",
            " [7,]   7  0.47903148 -0.025482480\n",
            " [8,]   8  0.41244792  0.006155592\n",
            " [9,]   9  0.35718617  0.048631296\n",
            "[10,]  10  0.31453910  0.048579434\n",
            "[11,]  11  0.27781985 -0.034367761\n",
            "[12,]  12  0.23628006 -0.124722394\n",
            "[13,]  13  0.18543228 -0.120150350\n",
            "[14,]  14  0.12976395 -0.040089485\n",
            "[15,]  15  0.07815230  0.045374310\n",
            "[16,]  16  0.02916388 -0.027348049\n",
            "[17,]  17 -0.01838203 -0.041613011\n",
            "[18,]  18 -0.05392327  0.093843239\n",
            "[19,]  19 -0.07749098  0.049087329\n",
            "[20,]  20 -0.08836359  0.050733460\n",
            "[21,]  21 -0.09264698 -0.060477907\n",
            "[22,]  22 -0.09409523 -0.050420017\n",
            "[23,]  23 -0.09663353 -0.040370426\n",
            "[24,]  24 -0.09830275  0.035635019\n",
            "[25,]  25 -0.10227388 -0.025651977\n",
            "[26,]  26 -0.11216044 -0.069383373\n",
            "[27,]  27 -0.12647004 -0.027732143\n",
            "[28,]  28 -0.14869711 -0.064163183\n",
            "[29,]  29 -0.17540194 -0.023133220\n",
            "[30,]  30 -0.20185677 -0.042069527\n",
            "[31,]  31 -0.22410530 -0.030085551\n",
            "[32,]  32 -0.24188575 -0.015184660\n",
            "[33,]  33 -0.25234151  0.042678008\n",
            "[34,]  34 -0.25746495  0.001241268\n",
            "[35,]  35 -0.26298106 -0.071020670\n",
            "[36,]  36 -0.26756644 -0.031303456\n",
            "[37,]  37 -0.27379927 -0.041540512\n",
            "[38,]  38 -0.28471692 -0.048748404\n",
            "[39,]  39 -0.29634646  0.003223381\n",
            "[40,]  40 -0.30777377 -0.025342884\n"
          ],
          "name": "stdout"
        },
        {
          "output_type": "display_data",
          "data": {
            "image/png": "[encoded data removed]"
          },
          "metadata": {
            "tags": []
          }
        },
        {
          "output_type": "display_data",
          "data": {
            "image/png": "[encoded data removed]"
          },
          "metadata": {
            "tags": []
          }
        }
      ]
    },
    {
      "cell_type": "markdown",
      "metadata": {
        "id": "fq2sn3I4SQPr",
        "colab_type": "text"
      },
      "source": [
        "##### **Statistiques de la série**"
      ]
    },
    {
      "cell_type": "code",
      "metadata": {
        "id": "GCAijWh2SXj0",
        "colab_type": "code",
        "outputId": "48a26b65-f204-4b90-ac0f-d4dc98f379a2",
        "colab": {
          "base_uri": "https://localhost:8080/",
          "height": 247
        }
      },
      "source": [
        "%%R\n",
        "stats(npdc)"
      ],
      "execution_count": 0,
      "outputs": [
        {
          "output_type": "stream",
          "text": [
            "variance : 2.100399\n",
            "écart-type : 1.449275\n",
            "summary :\n",
            "   Min. 1st Qu.  Median    Mean 3rd Qu.    Max. \n",
            "   8.90   11.30   11.90   12.16   13.15   14.90 \n",
            "\n",
            "skewness : 0.02010325\n",
            "kurtosis : 2.615489\n",
            "\tJarque Bera Test\n",
            "\n",
            "data:  (x)\n",
            "X-squared = 0.78469, df = 2, p-value = 0.6755\n",
            "\n"
          ],
          "name": "stdout"
        }
      ]
    },
    {
      "cell_type": "markdown",
      "metadata": {
        "id": "U6jE3jAFNVzI",
        "colab_type": "text"
      },
      "source": [
        "### **Question 2 : Teste d'intégration de la série NPdC ou non, puis estimation du modèle ARIMA**"
      ]
    },
    {
      "cell_type": "markdown",
      "metadata": {
        "id": "9Jxc8XzB2dZ4",
        "colab_type": "text"
      },
      "source": [
        "##### **Test de Dikey Fuller Augmenté pour chacune des séries**"
      ]
    },
    {
      "cell_type": "markdown",
      "metadata": {
        "id": "TS1QCRKV6-a7",
        "colab_type": "text"
      },
      "source": [
        "###### **Détermination du nombre de reatrds: critère de l'AIC**"
      ]
    },
    {
      "cell_type": "markdown",
      "metadata": {
        "id": "0Su-luHP2omM",
        "colab_type": "text"
      },
      "source": [
        "###### **Modèle 3 : NpdC**"
      ]
    },
    {
      "cell_type": "code",
      "metadata": {
        "id": "jzT_VoRiOAiH",
        "colab_type": "code",
        "outputId": "59705a26-c0c7-4397-cf16-552a9ef8325b",
        "colab": {
          "base_uri": "https://localhost:8080/",
          "height": 674
        }
      },
      "source": [
        "%%R\n",
        "test <- ur.df(npdc, type=\"trend\", lags=12, selectlags = \"AIC\")\n",
        "summary(test)"
      ],
      "execution_count": 0,
      "outputs": [
        {
          "output_type": "stream",
          "text": [
            "\n",
            "############################################### \n",
            "# Augmented Dickey-Fuller Test Unit Root Test # \n",
            "############################################### \n",
            "\n",
            "Test regression trend \n",
            "\n",
            "\n",
            "Call:\n",
            "lm(formula = z.diff ~ z.lag.1 + 1 + tt + z.diff.lag)\n",
            "\n",
            "Residuals:\n",
            "     Min       1Q   Median       3Q      Max \n",
            "-0.45521 -0.13263  0.01124  0.13863  0.65234 \n",
            "\n",
            "Coefficients:\n",
            "              Estimate Std. Error t value Pr(>|t|)    \n",
            "(Intercept)  0.5528964  0.2291661   2.413   0.0175 *  \n",
            "z.lag.1     -0.0431627  0.0181323  -2.380   0.0190 *  \n",
            "tt          -0.0000769  0.0006845  -0.112   0.9108    \n",
            "z.diff.lag   0.5643445  0.0780341   7.232 6.96e-11 ***\n",
            "---\n",
            "Signif. codes:  0 ‘***’ 0.001 ‘**’ 0.01 ‘*’ 0.05 ‘.’ 0.1 ‘ ’ 1\n",
            "\n",
            "Residual standard error: 0.237 on 109 degrees of freedom\n",
            "Multiple R-squared:  0.3322,\tAdjusted R-squared:  0.3139 \n",
            "F-statistic: 18.08 on 3 and 109 DF,  p-value: 1.361e-09\n",
            "\n",
            "\n",
            "Value of test-statistic is: -2.3804 2.0183 2.8489 \n",
            "\n",
            "Critical values for test statistics: \n",
            "      1pct  5pct 10pct\n",
            "tau3 -3.99 -3.43 -3.13\n",
            "phi2  6.22  4.75  4.07\n",
            "phi3  8.43  6.49  5.47\n",
            "\n"
          ],
          "name": "stdout"
        }
      ]
    },
    {
      "cell_type": "markdown",
      "metadata": {
        "id": "Ma2WfTg-3KSz",
        "colab_type": "text"
      },
      "source": [
        "###### **Modèle 2 : NpdC**"
      ]
    },
    {
      "cell_type": "code",
      "metadata": {
        "id": "cL62U3K63Pbx",
        "colab_type": "code",
        "outputId": "ed367779-3a2b-4037-a3fc-ab1822be2378",
        "colab": {
          "base_uri": "https://localhost:8080/",
          "height": 638
        }
      },
      "source": [
        "%%R\n",
        "test <- ur.df(npdc, type=\"drift\", lags=12, selectlags = \"AIC\")\n",
        "summary(test)"
      ],
      "execution_count": 0,
      "outputs": [
        {
          "output_type": "stream",
          "text": [
            "\n",
            "############################################### \n",
            "# Augmented Dickey-Fuller Test Unit Root Test # \n",
            "############################################### \n",
            "\n",
            "Test regression drift \n",
            "\n",
            "\n",
            "Call:\n",
            "lm(formula = z.diff ~ z.lag.1 + 1 + z.diff.lag)\n",
            "\n",
            "Residuals:\n",
            "    Min      1Q  Median      3Q     Max \n",
            "-0.4559 -0.1336  0.0100  0.1389  0.6494 \n",
            "\n",
            "Coefficients:\n",
            "            Estimate Std. Error t value Pr(>|t|)    \n",
            "(Intercept)  0.54828    0.22444   2.443   0.0162 *  \n",
            "z.lag.1     -0.04322    0.01804  -2.395   0.0183 *  \n",
            "z.diff.lag   0.56399    0.07762   7.266 5.67e-11 ***\n",
            "---\n",
            "Signif. codes:  0 ‘***’ 0.001 ‘**’ 0.01 ‘*’ 0.05 ‘.’ 0.1 ‘ ’ 1\n",
            "\n",
            "Residual standard error: 0.236 on 110 degrees of freedom\n",
            "Multiple R-squared:  0.3322,\tAdjusted R-squared:   0.32 \n",
            "F-statistic: 27.36 on 2 and 110 DF,  p-value: 2.275e-10\n",
            "\n",
            "\n",
            "Value of test-statistic is: -2.3951 3.0484 \n",
            "\n",
            "Critical values for test statistics: \n",
            "      1pct  5pct 10pct\n",
            "tau2 -3.46 -2.88 -2.57\n",
            "phi1  6.52  4.63  3.81\n",
            "\n"
          ],
          "name": "stdout"
        }
      ]
    },
    {
      "cell_type": "markdown",
      "metadata": {
        "id": "p8c8Y8MI3P3G",
        "colab_type": "text"
      },
      "source": [
        "###### **Modèle 1 : NpdC**"
      ]
    },
    {
      "cell_type": "code",
      "metadata": {
        "id": "-yiIiybh3Yg-",
        "colab_type": "code",
        "outputId": "7ed2362f-e50e-47e6-ad82-eafbf04ce315",
        "colab": {
          "base_uri": "https://localhost:8080/",
          "height": 603
        }
      },
      "source": [
        "%%R\n",
        "test <- ur.df(npdc, type=\"none\", lags=12, selectlags = \"AIC\")\n",
        "summary(test)"
      ],
      "execution_count": 0,
      "outputs": [
        {
          "output_type": "stream",
          "text": [
            "\n",
            "############################################### \n",
            "# Augmented Dickey-Fuller Test Unit Root Test # \n",
            "############################################### \n",
            "\n",
            "Test regression none \n",
            "\n",
            "\n",
            "Call:\n",
            "lm(formula = z.diff ~ z.lag.1 - 1 + z.diff.lag)\n",
            "\n",
            "Residuals:\n",
            "    Min      1Q  Median      3Q     Max \n",
            "-0.5013 -0.1311 -0.0092  0.1447  0.7235 \n",
            "\n",
            "Coefficients:\n",
            "            Estimate Std. Error t value Pr(>|t|)    \n",
            "z.lag.1    0.0006436  0.0018290   0.352    0.726    \n",
            "z.diff.lag 0.5387320  0.0786306   6.851 4.28e-10 ***\n",
            "---\n",
            "Signif. codes:  0 ‘***’ 0.001 ‘**’ 0.01 ‘*’ 0.05 ‘.’ 0.1 ‘ ’ 1\n",
            "\n",
            "Residual standard error: 0.2412 on 111 degrees of freedom\n",
            "Multiple R-squared:  0.3012,\tAdjusted R-squared:  0.2886 \n",
            "F-statistic: 23.92 on 2 and 111 DF,  p-value: 2.296e-09\n",
            "\n",
            "\n",
            "Value of test-statistic is: 0.3519 \n",
            "\n",
            "Critical values for test statistics: \n",
            "      1pct  5pct 10pct\n",
            "tau1 -2.58 -1.95 -1.62\n",
            "\n"
          ],
          "name": "stdout"
        }
      ]
    },
    {
      "cell_type": "markdown",
      "metadata": {
        "id": "h3Qr4ZYVWveW",
        "colab_type": "text"
      },
      "source": [
        "##### **L'ordre d'intégration de la série**"
      ]
    },
    {
      "cell_type": "code",
      "metadata": {
        "id": "xBivwbdKW5Qe",
        "colab_type": "code",
        "outputId": "02d3231d-4a1f-4f92-da6c-d660d52d1f14",
        "colab": {
          "base_uri": "https://localhost:8080/",
          "height": 34
        }
      },
      "source": [
        "%%R\n",
        "ndiffs(npdc)"
      ],
      "execution_count": 0,
      "outputs": [
        {
          "output_type": "stream",
          "text": [
            "[1] 1\n"
          ],
          "name": "stdout"
        }
      ]
    },
    {
      "cell_type": "markdown",
      "metadata": {
        "id": "JYkJRQizCONi",
        "colab_type": "text"
      },
      "source": [
        "###### **Estimation du modèle ARMA**"
      ]
    },
    {
      "cell_type": "markdown",
      "metadata": {
        "id": "EqIJmlIxCZnJ",
        "colab_type": "text"
      },
      "source": [
        "##### **Différenciation de la série NpdC et graphiques de la série différenciée** "
      ]
    },
    {
      "cell_type": "code",
      "metadata": {
        "id": "bZlJmNIVCgXu",
        "colab_type": "code",
        "outputId": "41eaabbf-67bc-469b-83b0-8707ea9fa3a1",
        "colab": {
          "base_uri": "https://localhost:8080/",
          "height": 1000
        }
      },
      "source": [
        "%%R\n",
        "diff_npdc <- diff(npdc)\n",
        "plot(diff_npdc, xlab=\"trimestre\", col='red')\n",
        "acf2y(diff_npdc, lag.max=20)"
      ],
      "execution_count": 0,
      "outputs": [
        {
          "output_type": "stream",
          "text": [
            "      LAG          ACF1        PACF\n",
            " [1,]   1  5.491802e-01  0.54918025\n",
            " [2,]   2  2.163365e-01 -0.12208230\n",
            " [3,]   3  1.130284e-01  0.06796807\n",
            " [4,]   4 -6.864771e-05 -0.10588628\n",
            " [5,]   5 -2.467491e-02  0.03692658\n",
            " [6,]   6 -4.264123e-02 -0.05206822\n",
            " [7,]   7 -1.276215e-01 -0.11275594\n",
            " [8,]   8 -1.161025e-01  0.01811517\n",
            " [9,]   9  7.967436e-03  0.11242508\n",
            "[10,]  10  6.583533e-03 -0.06746924\n",
            "[11,]  11  3.422410e-02  0.06602667\n",
            "[12,]  12  8.334151e-02  0.03406629\n",
            "[13,]  13  7.501045e-02  0.02004391\n",
            "[14,]  14  3.522516e-02 -0.05085998\n",
            "[15,]  15  5.110791e-02  0.05448602\n",
            "[16,]  16 -1.371651e-01 -0.26638165\n",
            "[17,]  17 -1.602143e-01  0.09402937\n",
            "[18,]  18 -1.228896e-01 -0.10069643\n",
            "[19,]  19 -1.581575e-01 -0.01985037\n",
            "[20,]  20 -6.266520e-02  0.07707769\n"
          ],
          "name": "stdout"
        },
        {
          "output_type": "display_data",
          "data": {
            "image/png": "[encoded data removed]"
          },
          "metadata": {
            "tags": []
          }
        },
        {
          "output_type": "display_data",
          "data": {
            "image/png": "[encoded data removed]"
          },
          "metadata": {
            "tags": []
          }
        }
      ]
    },
    {
      "cell_type": "code",
      "metadata": {
        "id": "dQw03JBXHzx1",
        "colab_type": "code",
        "outputId": "f0ecd251-89e4-48b8-b219-874049e10106",
        "colab": {
          "base_uri": "https://localhost:8080/",
          "height": 1000
        }
      },
      "source": [
        "%%R\n",
        "# Modèle ARIMA(1,1,1)\n",
        "npdc_arma <- Arima(diff_npdc, order=c(1,1,1), include.mean=FALSE, method=\"CSS-ML\")\n",
        "summary(npdc_arma)\n",
        "print(t_stat(npdc_arma))\n",
        "res_diff_npdc <- residuals(npdc_arma)\n",
        "#plot(res_diff_npdc, main= 'Residuals')\n",
        "acf(res_diff_npdc, main= 'Residuals Autocorrelations')\n",
        "print(jarque.bera.test((res_diff_npdc)))\n",
        "print(Box.test.2(res_diff_npdc,nlag=c(1,2,3,4,5,6,7,8,9,10,11,12,13,14,15,16,17,18,19,20),type=\"Ljung-Box\"))"
      ],
      "execution_count": 0,
      "outputs": [
        {
          "output_type": "stream",
          "text": [
            "Series: diff_npdc \n",
            "ARIMA(1,1,1) \n",
            "\n",
            "Coefficients:\n",
            "         ar1      ma1\n",
            "      0.5582  -1.0000\n",
            "s.e.  0.0755   0.0273\n",
            "\n",
            "sigma^2 estimated as 0.06555:  log likelihood=-7.78\n",
            "AIC=21.57   AICc=21.77   BIC=30.03\n",
            "\n",
            "Training set error measures:\n",
            "                      ME      RMSE      MAE MPE MAPE     MASE       ACF1\n",
            "Training set -0.01250919 0.2529278 0.196005 NaN  Inf 0.579868 0.06054472\n",
            "            ar1       ma1\n",
            "t.stat 7.390798 -36.63984\n",
            "p.val  0.000000   0.00000\n",
            "\n",
            "\tJarque Bera Test\n",
            "\n",
            "data:  (res_diff_npdc)\n",
            "X-squared = 3.1551, df = 2, p-value = 0.2065\n",
            "\n",
            "      Retard   p-value\n",
            " [1,]      1 0.4984627\n",
            " [2,]      2 0.3086620\n",
            " [3,]      3 0.4711639\n",
            " [4,]      4 0.5242064\n",
            " [5,]      5 0.6654563\n",
            " [6,]      6 0.7527187\n",
            " [7,]      7 0.6552535\n",
            " [8,]      8 0.5356991\n",
            " [9,]      9 0.5183229\n",
            "[10,]     10 0.6066794\n",
            "[11,]     11 0.6921162\n",
            "[12,]     12 0.7180548\n",
            "[13,]     13 0.7650284\n",
            "[14,]     14 0.8160295\n",
            "[15,]     15 0.6072356\n",
            "[16,]     16 0.4371872\n",
            "[17,]     17 0.4350664\n",
            "[18,]     18 0.5010985\n",
            "[19,]     19 0.3726865\n",
            "[20,]     20 0.4348443\n"
          ],
          "name": "stdout"
        },
        {
          "output_type": "display_data",
          "data": {
            "image/png": "[encoded data removed]"
          },
          "metadata": {
            "tags": []
          }
        }
      ]
    },
    {
      "cell_type": "code",
      "metadata": {
        "id": "KKhpaAATIGLM",
        "colab_type": "code",
        "outputId": "3cfe3f4b-3861-4c19-8397-10bb28c98d64",
        "colab": {
          "base_uri": "https://localhost:8080/",
          "height": 1000
        }
      },
      "source": [
        "%%R\n",
        "# Modèle ARIMA(1,1,2)\n",
        "npdc_arma <- Arima(diff_npdc, order=c(1,1,2), include.mean=FALSE, method=\"CSS-ML\")\n",
        "summary(npdc_arma)\n",
        "print(t_stat(npdc_arma))\n",
        "res_diff_npdc <- residuals(npdc_arma)\n",
        "#plot(res_diff_npdc, main= 'Residuals')\n",
        "acf(res_diff_npdc, main= 'Residuals Autocorrelations')\n",
        "print(jarque.bera.test((res_diff_npdc)))\n",
        "print(Box.test.2(res_diff_npdc,nlag=c(1,2,3,4,5,6,7,8,9,10,11,12,13,14,15,16,17,18,19,20),type=\"Ljung-Box\"))"
      ],
      "execution_count": 0,
      "outputs": [
        {
          "output_type": "stream",
          "text": [
            "Series: diff_npdc \n",
            "ARIMA(1,1,2) \n",
            "\n",
            "Coefficients:\n",
            "         ar1      ma1      ma2\n",
            "      0.3527  -0.7067  -0.2933\n",
            "s.e.  0.1688   0.1858   0.1832\n",
            "\n",
            "sigma^2 estimated as 0.06468:  log likelihood=-6.59\n",
            "AIC=21.19   AICc=21.53   BIC=32.47\n",
            "\n",
            "Training set error measures:\n",
            "                      ME     RMSE       MAE MPE MAPE      MASE        ACF1\n",
            "Training set -0.01401805 0.250224 0.1972384 NaN  Inf 0.5835171 -0.01372698\n",
            "            ar1       ma1       ma2\n",
            "t.stat 2.089442 -3.804428 -1.601034\n",
            "p.val  0.036668  0.000142  0.109369\n",
            "\n",
            "\tJarque Bera Test\n",
            "\n",
            "data:  (res_diff_npdc)\n",
            "X-squared = 3.9329, df = 2, p-value = 0.14\n",
            "\n",
            "      Retard   p-value\n",
            " [1,]      1 0.8780258\n",
            " [2,]      2 0.9848702\n",
            " [3,]      3 0.8200766\n",
            " [4,]      4 0.8320980\n",
            " [5,]      5 0.9153735\n",
            " [6,]      6 0.9503281\n",
            " [7,]      7 0.9052558\n",
            " [8,]      8 0.7815366\n",
            " [9,]      9 0.7340617\n",
            "[10,]     10 0.7915077\n",
            "[11,]     11 0.8541437\n",
            "[12,]     12 0.8798452\n",
            "[13,]     13 0.8945715\n",
            "[14,]     14 0.8998959\n",
            "[15,]     15 0.6576432\n",
            "[16,]     16 0.4327710\n",
            "[17,]     17 0.4512144\n",
            "[18,]     18 0.5158547\n",
            "[19,]     19 0.3572139\n",
            "[20,]     20 0.4187808\n"
          ],
          "name": "stdout"
        },
        {
          "output_type": "display_data",
          "data": {
            "image/png": "[encoded data removed]"
          },
          "metadata": {
            "tags": []
          }
        }
      ]
    },
    {
      "cell_type": "code",
      "metadata": {
        "id": "BvKV_lw_IQPW",
        "colab_type": "code",
        "outputId": "ebb035d0-1bbb-4d58-8d63-fc0aa2b19d16",
        "colab": {
          "base_uri": "https://localhost:8080/",
          "height": 1000
        }
      },
      "source": [
        "%%R\n",
        "# Modèle ARIMA(2,1,1)\n",
        "npdc_arma <- Arima(diff_npdc, order=c(2,1,1), include.mean=FALSE, method=\"CSS-ML\")\n",
        "summary(npdc_arma)\n",
        "print(t_stat(npdc_arma))\n",
        "res_diff_npdc <- residuals(npdc_arma)\n",
        "#plot(res_diff_npdc, main= 'Residuals')\n",
        "acf(res_diff_npdc, main= 'Residuals Autocorrelations')\n",
        "print(jarque.bera.test((res_diff_npdc)))\n",
        "print(Box.test.2(res_diff_npdc,nlag=c(1,2,3,4,5,6,7,8,9,10,11,12,13,14,15,16,17,18,19,20),type=\"Ljung-Box\"))"
      ],
      "execution_count": 0,
      "outputs": [
        {
          "output_type": "stream",
          "text": [
            "Series: diff_npdc \n",
            "ARIMA(2,1,1) \n",
            "\n",
            "Coefficients:\n",
            "         ar1      ar2      ma1\n",
            "      0.6209  -0.1155  -1.0000\n",
            "s.e.  0.0892   0.0889   0.0315\n",
            "\n",
            "sigma^2 estimated as 0.06507:  log likelihood=-6.95\n",
            "AIC=21.89   AICc=22.23   BIC=33.18\n",
            "\n",
            "Training set error measures:\n",
            "                      ME      RMSE       MAE MPE MAPE      MASE        ACF1\n",
            "Training set -0.01425531 0.2509825 0.1968984 NaN  Inf 0.5825111 0.004057727\n",
            "            ar1       ar2       ma1\n",
            "t.stat 6.964368 -1.299163 -31.70538\n",
            "p.val  0.000000  0.193888   0.00000\n",
            "\n",
            "\tJarque Bera Test\n",
            "\n",
            "data:  (res_diff_npdc)\n",
            "X-squared = 4.0756, df = 2, p-value = 0.1303\n",
            "\n",
            "      Retard   p-value\n",
            " [1,]      1 0.9638150\n",
            " [2,]      2 0.7996192\n",
            " [3,]      3 0.6548986\n",
            " [4,]      4 0.7125942\n",
            " [5,]      5 0.8298591\n",
            " [6,]      6 0.8794289\n",
            " [7,]      7 0.8090692\n",
            " [8,]      8 0.6798225\n",
            " [9,]      9 0.6314768\n",
            "[10,]     10 0.7051820\n",
            "[11,]     11 0.7809999\n",
            "[12,]     12 0.8047577\n",
            "[13,]     13 0.8415799\n",
            "[14,]     14 0.8628604\n",
            "[15,]     15 0.6231134\n",
            "[16,]     16 0.4158097\n",
            "[17,]     17 0.4281465\n",
            "[18,]     18 0.4895840\n",
            "[19,]     19 0.3309185\n",
            "[20,]     20 0.3908437\n"
          ],
          "name": "stdout"
        },
        {
          "output_type": "display_data",
          "data": {
            "image/png": "[encoded data removed]"
          },
          "metadata": {
            "tags": []
          }
        }
      ]
    },
    {
      "cell_type": "code",
      "metadata": {
        "id": "53YMkLx2G_F9",
        "colab_type": "code",
        "outputId": "f60bcf0a-dd89-4550-a219-f140cd829ac6",
        "colab": {
          "base_uri": "https://localhost:8080/",
          "height": 1000
        }
      },
      "source": [
        "%%R\n",
        "# Modèle ARIMA(2,1,2)\n",
        "npdc_arma <- Arima(diff_npdc, order=c(2,1,2), include.mean=FALSE, method=\"CSS-ML\")\n",
        "summary(npdc_arma)\n",
        "print(t_stat(npdc_arma))\n",
        "res_diff_npdc <- residuals(npdc_arma)\n",
        "#plot(res_diff_npdc, main= 'Residuals')\n",
        "acf(res_diff_npdc, lag=20, main= 'Residuals Autocorrelations')\n",
        "print(jarque.bera.test((res_diff_npdc)))\n",
        "print(Box.test.2(res_diff_npdc,nlag=c(1,2,3,4,5,6,7,8,9,10,11,12,13,14,15,16,17,18,19,20),type=\"Ljung-Box\"))"
      ],
      "execution_count": 0,
      "outputs": [
        {
          "output_type": "stream",
          "text": [
            "Series: diff_npdc \n",
            "ARIMA(2,1,2) \n",
            "\n",
            "Coefficients:\n",
            "          ar1     ar2     ma1      ma2\n",
            "      -0.3293  0.4458  0.0000  -1.0000\n",
            "s.e.   0.0820  0.0822  0.0421   0.0421\n",
            "\n",
            "sigma^2 estimated as 0.06164:  log likelihood=-4.16\n",
            "AIC=18.33   AICc=18.84   BIC=32.43\n",
            "\n",
            "Training set error measures:\n",
            "                      ME      RMSE       MAE MPE MAPE      MASE       ACF1\n",
            "Training set -0.01215624 0.2432484 0.1903161 NaN  Inf 0.5630377 0.01764497\n",
            "             ar1      ar2      ma1       ma2\n",
            "t.stat -4.014723 5.421869 0.000007 -23.77574\n",
            "p.val   0.000060 0.000000 0.999995   0.00000\n",
            "\n",
            "\tJarque Bera Test\n",
            "\n",
            "data:  (res_diff_npdc)\n",
            "X-squared = 2.9773, df = 2, p-value = 0.2257\n",
            "\n",
            "      Retard   p-value\n",
            " [1,]      1 0.8436110\n",
            " [2,]      2 0.8984509\n",
            " [3,]      3 0.9736722\n",
            " [4,]      4 0.9911433\n",
            " [5,]      5 0.9882791\n",
            " [6,]      6 0.9792853\n",
            " [7,]      7 0.8487734\n",
            " [8,]      8 0.8076538\n",
            " [9,]      9 0.8228591\n",
            "[10,]     10 0.8809539\n",
            "[11,]     11 0.9228463\n",
            "[12,]     12 0.9281419\n",
            "[13,]     13 0.9454323\n",
            "[14,]     14 0.9625157\n",
            "[15,]     15 0.8473828\n",
            "[16,]     16 0.6854383\n",
            "[17,]     17 0.6918238\n",
            "[18,]     18 0.7513104\n",
            "[19,]     19 0.6364785\n",
            "[20,]     20 0.6971755\n"
          ],
          "name": "stdout"
        },
        {
          "output_type": "display_data",
          "data": {
            "image/png": "[encoded data removed]"
          },
          "metadata": {
            "tags": []
          }
        }
      ]
    },
    {
      "cell_type": "markdown",
      "metadata": {
        "id": "g5DjvxMJNzJ6",
        "colab_type": "text"
      },
      "source": [
        "### **Question 3 : Réalisation de la prévision jusqu’à l’année 2015** "
      ]
    },
    {
      "cell_type": "code",
      "metadata": {
        "id": "4tX6TtziODF2",
        "colab_type": "code",
        "outputId": "5f6ab514-8b7c-4430-bd6b-e5a47428808b",
        "colab": {
          "base_uri": "https://localhost:8080/",
          "height": 905
        }
      },
      "source": [
        "%%R\n",
        "futurVal <- forecast(npdc_arma, h=10, level=c(95))\n",
        "print(futurVal)\n",
        "print(predict(npdc_arma, start=2014, n.ahead=10, se.fit=TRUE))\n",
        "autoplot(futurVal)"
      ],
      "execution_count": 0,
      "outputs": [
        {
          "output_type": "stream",
          "text": [
            "        Point Forecast      Lo 95     Hi 95\n",
            "2013 Q3     0.01693924 -0.4733253 0.5072038\n",
            "2013 Q4    -0.01667014 -0.6071521 0.5738118\n",
            "2014 Q1     0.04652943 -0.5555405 0.6485993\n",
            "2014 Q2     0.01073659 -0.6022939 0.6237671\n",
            "2014 Q3     0.05069716 -0.5626612 0.6640555\n",
            "2014 Q4     0.02158264 -0.5939227 0.6370880\n",
            "2015 Q1     0.04898399 -0.5664493 0.6644173\n",
            "2015 Q2     0.02698206 -0.5891639 0.6431280\n",
            "2015 Q3     0.04644241 -0.5696377 0.6625225\n",
            "2015 Q4     0.03022605 -0.5861955 0.6466476\n",
            "$pred\n",
            "            Qtr1        Qtr2        Qtr3        Qtr4\n",
            "2013                          0.01693924 -0.01667014\n",
            "2014  0.04652943  0.01073659  0.05069716  0.02158264\n",
            "2015  0.04898399  0.02698206  0.04644241  0.03022605\n",
            "\n",
            "$se\n",
            "          Qtr1      Qtr2      Qtr3      Qtr4\n",
            "2013                     0.2501396 0.3012718\n",
            "2014 0.3071842 0.3127764 0.3129437 0.3140391\n",
            "2015 0.3140024 0.3143659 0.3143323 0.3145066\n",
            "\n"
          ],
          "name": "stdout"
        },
        {
          "output_type": "display_data",
          "data": {
            "image/png": "[encoded data removed]"
          },
          "metadata": {
            "tags": []
          }
        }
      ]
    },
    {
      "cell_type": "markdown",
      "metadata": {
        "id": "ic9sikqQOlTc",
        "colab_type": "text"
      },
      "source": [
        "## **Partie B : approche multivariée**"
      ]
    },
    {
      "cell_type": "markdown",
      "metadata": {
        "id": "HSkwMAfUODz4",
        "colab_type": "text"
      },
      "source": [
        "### **Question 1 : graphique des courbes de chômage dans le Nord-Pasde-Calais, en Ile-de-France et dans toute la France.**"
      ]
    },
    {
      "cell_type": "code",
      "metadata": {
        "id": "X3tv-izLPIRh",
        "colab_type": "code",
        "outputId": "2d23caf9-e9c8-4c60-d15a-9416642d6e91",
        "colab": {
          "base_uri": "https://localhost:8080/",
          "height": 496
        }
      },
      "source": [
        "%%R\n",
        "ts.plot(npdc, idf, tot, xlab=\"trimestre\", ylab=\"taux de chômage\", col=c(1,2,3,3), lty=c(1,1,2,2), lwd=c(3,3,2,2))\n",
        "legend(\"topleft\", legend = c(\"npdc\", \"idf\", \"tot\"), col=c(1,2,3,3), lty = 1)"
      ],
      "execution_count": 0,
      "outputs": [
        {
          "output_type": "display_data",
          "data": {
            "image/png": "[encoded data removed]"
          },
          "metadata": {
            "tags": []
          }
        }
      ]
    },
    {
      "cell_type": "markdown",
      "metadata": {
        "id": "8zpn2sSXPKW-",
        "colab_type": "text"
      },
      "source": [
        "### **Question 2 : Tester la cointégration de ces séries**"
      ]
    },
    {
      "cell_type": "markdown",
      "metadata": {
        "id": "JQuyiuPEYKVo",
        "colab_type": "text"
      },
      "source": [
        "#### **Etape 1 : Tests de racine unitaire sur toutes les séries pour vérifier qu’elles sont I(1) : test de Dikey Fuller**"
      ]
    },
    {
      "cell_type": "markdown",
      "metadata": {
        "id": "Dqw0hj3ShBg2",
        "colab_type": "text"
      },
      "source": [
        "###### **Test de racine unitaire pour les séries idf et tot**"
      ]
    },
    {
      "cell_type": "markdown",
      "metadata": {
        "id": "cWxPO4M8hhf4",
        "colab_type": "text"
      },
      "source": [
        "###### **Modèle 3** "
      ]
    },
    {
      "cell_type": "code",
      "metadata": {
        "id": "Qhnxn9TChWn7",
        "colab_type": "code",
        "outputId": "62d4e88e-a8ab-432c-beb3-1df277ff3f58",
        "colab": {
          "base_uri": "https://localhost:8080/",
          "height": 1000
        }
      },
      "source": [
        "%%R\n",
        "test <-function(i){\n",
        "    ur.df(i, type=\"trend\", lags=12, selectlags = \"AIC\")\n",
        "} \n",
        "print(\"Modèle 3 pour la série idf\")\n",
        "print(summary(test(idf)))\n",
        "print(\"Modèle 3 pour la série tot\")\n",
        "print(summary(test(tot)))"
      ],
      "execution_count": 0,
      "outputs": [
        {
          "output_type": "stream",
          "text": [
            "[1] \"Modèle 3 pour la série idf\"\n",
            "\n",
            "############################################### \n",
            "# Augmented Dickey-Fuller Test Unit Root Test # \n",
            "############################################### \n",
            "\n",
            "Test regression trend \n",
            "\n",
            "\n",
            "Call:\n",
            "lm(formula = z.diff ~ z.lag.1 + 1 + tt + z.diff.lag)\n",
            "\n",
            "Residuals:\n",
            "     Min       1Q   Median       3Q      Max \n",
            "-0.47858 -0.10143  0.00452  0.10810  0.50374 \n",
            "\n",
            "Coefficients:\n",
            "              Estimate Std. Error t value Pr(>|t|)    \n",
            "(Intercept)  0.4362544  0.1444776   3.020  0.00316 ** \n",
            "z.lag.1     -0.0557521  0.0184626  -3.020  0.00316 ** \n",
            "tt           0.0002952  0.0005304   0.557  0.57897    \n",
            "z.diff.lag1  0.4864542  0.0920878   5.283 6.67e-07 ***\n",
            "z.diff.lag2  0.1923002  0.0949857   2.025  0.04538 *  \n",
            "---\n",
            "Signif. codes:  0 ‘***’ 0.001 ‘**’ 0.01 ‘*’ 0.05 ‘.’ 0.1 ‘ ’ 1\n",
            "\n",
            "Residual standard error: 0.1781 on 108 degrees of freedom\n",
            "Multiple R-squared:   0.39,\tAdjusted R-squared:  0.3674 \n",
            "F-statistic: 17.26 on 4 and 108 DF,  p-value: 5.624e-11\n",
            "\n",
            "\n",
            "Value of test-statistic is: -3.0197 3.1543 4.5795 \n",
            "\n",
            "Critical values for test statistics: \n",
            "      1pct  5pct 10pct\n",
            "tau3 -3.99 -3.43 -3.13\n",
            "phi2  6.22  4.75  4.07\n",
            "phi3  8.43  6.49  5.47\n",
            "\n",
            "[1] \"Modèle 3 pour la série tot\"\n",
            "\n",
            "############################################### \n",
            "# Augmented Dickey-Fuller Test Unit Root Test # \n",
            "############################################### \n",
            "\n",
            "Test regression trend \n",
            "\n",
            "\n",
            "Call:\n",
            "lm(formula = z.diff ~ z.lag.1 + 1 + tt + z.diff.lag)\n",
            "\n",
            "Residuals:\n",
            "     Min       1Q   Median       3Q      Max \n",
            "-0.48993 -0.09671  0.00268  0.10308  0.46447 \n",
            "\n",
            "Coefficients:\n",
            "              Estimate Std. Error t value Pr(>|t|)    \n",
            "(Intercept)  0.3774164  0.1828275   2.064  0.04147 *  \n",
            "z.lag.1     -0.0427616  0.0197753  -2.162  0.03288 *  \n",
            "tt           0.0001980  0.0004933   0.401  0.68901    \n",
            "z.diff.lag1  0.4618729  0.0952455   4.849 4.36e-06 ***\n",
            "z.diff.lag2  0.2759120  0.1041739   2.649  0.00934 ** \n",
            "z.diff.lag3  0.1450473  0.1052309   1.378  0.17105    \n",
            "z.diff.lag4 -0.1892682  0.1058504  -1.788  0.07668 .  \n",
            "z.diff.lag5 -0.1750600  0.1045972  -1.674  0.09720 .  \n",
            "z.diff.lag6  0.1572720  0.0964391   1.631  0.10596    \n",
            "---\n",
            "Signif. codes:  0 ‘***’ 0.001 ‘**’ 0.01 ‘*’ 0.05 ‘.’ 0.1 ‘ ’ 1\n",
            "\n",
            "Residual standard error: 0.1697 on 104 degrees of freedom\n",
            "Multiple R-squared:  0.4461,\tAdjusted R-squared:  0.4035 \n",
            "F-statistic: 10.47 on 8 and 104 DF,  p-value: 1.136e-10\n",
            "\n",
            "\n",
            "Value of test-statistic is: -2.1624 1.6686 2.4378 \n",
            "\n",
            "Critical values for test statistics: \n",
            "      1pct  5pct 10pct\n",
            "tau3 -3.99 -3.43 -3.13\n",
            "phi2  6.22  4.75  4.07\n",
            "phi3  8.43  6.49  5.47\n",
            "\n"
          ],
          "name": "stdout"
        }
      ]
    },
    {
      "cell_type": "markdown",
      "metadata": {
        "id": "FpbP_WxGhxin",
        "colab_type": "text"
      },
      "source": [
        "###### **Modèle 2**"
      ]
    },
    {
      "cell_type": "code",
      "metadata": {
        "id": "Fku2x3kAh2t0",
        "colab_type": "code",
        "outputId": "354e63af-bd9e-46db-d8d2-d35e135cbcb4",
        "colab": {
          "base_uri": "https://localhost:8080/",
          "height": 1000
        }
      },
      "source": [
        "%%R\n",
        "test <-function(i){\n",
        "    ur.df(i, type=\"drift\", lags=12, selectlags = \"AIC\")\n",
        "} \n",
        "print(\"Modèle 2 pour la série idf\")\n",
        "print(summary(test(idf)))\n",
        "print(\"Modèle 2 pour la série tot\")\n",
        "print(summary(test(tot)))"
      ],
      "execution_count": 0,
      "outputs": [
        {
          "output_type": "stream",
          "text": [
            "[1] \"Modèle 2 pour la série idf\"\n",
            "\n",
            "############################################### \n",
            "# Augmented Dickey-Fuller Test Unit Root Test # \n",
            "############################################### \n",
            "\n",
            "Test regression drift \n",
            "\n",
            "\n",
            "Call:\n",
            "lm(formula = z.diff ~ z.lag.1 + 1 + z.diff.lag)\n",
            "\n",
            "Residuals:\n",
            "     Min       1Q   Median       3Q      Max \n",
            "-0.49085 -0.10157  0.00899  0.10171  0.49041 \n",
            "\n",
            "Coefficients:\n",
            "            Estimate Std. Error t value Pr(>|t|)    \n",
            "(Intercept)  0.43614    0.14402   3.028  0.00307 ** \n",
            "z.lag.1     -0.05320    0.01783  -2.984  0.00351 ** \n",
            "z.diff.lag1  0.48690    0.09179   5.304 5.98e-07 ***\n",
            "z.diff.lag2  0.18821    0.09440   1.994  0.04868 *  \n",
            "---\n",
            "Signif. codes:  0 ‘***’ 0.001 ‘**’ 0.01 ‘*’ 0.05 ‘.’ 0.1 ‘ ’ 1\n",
            "\n",
            "Residual standard error: 0.1775 on 109 degrees of freedom\n",
            "Multiple R-squared:  0.3883,\tAdjusted R-squared:  0.3715 \n",
            "F-statistic: 23.06 on 3 and 109 DF,  p-value: 1.233e-11\n",
            "\n",
            "\n",
            "Value of test-statistic is: -2.9842 4.6058 \n",
            "\n",
            "Critical values for test statistics: \n",
            "      1pct  5pct 10pct\n",
            "tau2 -3.46 -2.88 -2.57\n",
            "phi1  6.52  4.63  3.81\n",
            "\n",
            "[1] \"Modèle 2 pour la série tot\"\n",
            "\n",
            "############################################### \n",
            "# Augmented Dickey-Fuller Test Unit Root Test # \n",
            "############################################### \n",
            "\n",
            "Test regression drift \n",
            "\n",
            "\n",
            "Call:\n",
            "lm(formula = z.diff ~ z.lag.1 + 1 + z.diff.lag)\n",
            "\n",
            "Residuals:\n",
            "     Min       1Q   Median       3Q      Max \n",
            "-0.48344 -0.09573 -0.00074  0.10224  0.47103 \n",
            "\n",
            "Coefficients:\n",
            "            Estimate Std. Error t value Pr(>|t|)    \n",
            "(Intercept)  0.39260    0.17815   2.204  0.02972 *  \n",
            "z.lag.1     -0.04293    0.01969  -2.180  0.03149 *  \n",
            "z.diff.lag1  0.46327    0.09480   4.887  3.7e-06 ***\n",
            "z.diff.lag2  0.27627    0.10375   2.663  0.00897 ** \n",
            "z.diff.lag3  0.14580    0.10479   1.391  0.16707    \n",
            "z.diff.lag4 -0.18894    0.10542  -1.792  0.07599 .  \n",
            "z.diff.lag5 -0.17609    0.10415  -1.691  0.09385 .  \n",
            "z.diff.lag6  0.15500    0.09589   1.616  0.10899    \n",
            "---\n",
            "Signif. codes:  0 ‘***’ 0.001 ‘**’ 0.01 ‘*’ 0.05 ‘.’ 0.1 ‘ ’ 1\n",
            "\n",
            "Residual standard error: 0.1691 on 105 degrees of freedom\n",
            "Multiple R-squared:  0.4453,\tAdjusted R-squared:  0.4083 \n",
            "F-statistic: 12.04 on 7 and 105 DF,  p-value: 3.354e-11\n",
            "\n",
            "\n",
            "Value of test-statistic is: -2.18 2.4419 \n",
            "\n",
            "Critical values for test statistics: \n",
            "      1pct  5pct 10pct\n",
            "tau2 -3.46 -2.88 -2.57\n",
            "phi1  6.52  4.63  3.81\n",
            "\n"
          ],
          "name": "stdout"
        }
      ]
    },
    {
      "cell_type": "markdown",
      "metadata": {
        "id": "YrJlwh7Wh-aO",
        "colab_type": "text"
      },
      "source": [
        "###### **Modèle 1**"
      ]
    },
    {
      "cell_type": "code",
      "metadata": {
        "id": "KpuB59xniCua",
        "colab_type": "code",
        "outputId": "d7051507-6fad-4cff-be14-48bcb9cd34e3",
        "colab": {
          "base_uri": "https://localhost:8080/",
          "height": 1000
        }
      },
      "source": [
        "%%R\n",
        "test <-function(i){\n",
        "    ur.df(i, type=\"none\", lags=12, selectlags = \"AIC\")\n",
        "} \n",
        "print(\"Modèle 1 pour la série idf\")\n",
        "print(summary(test(idf)))\n",
        "print(\"Modèle 1 pour la série tot\")\n",
        "print(summary(test(tot)))"
      ],
      "execution_count": 0,
      "outputs": [
        {
          "output_type": "stream",
          "text": [
            "[1] \"Modèle 1 pour la série idf\"\n",
            "\n",
            "############################################### \n",
            "# Augmented Dickey-Fuller Test Unit Root Test # \n",
            "############################################### \n",
            "\n",
            "Test regression none \n",
            "\n",
            "\n",
            "Call:\n",
            "lm(formula = z.diff ~ z.lag.1 - 1 + z.diff.lag)\n",
            "\n",
            "Residuals:\n",
            "     Min       1Q   Median       3Q      Max \n",
            "-0.49166 -0.10480  0.00989  0.12269  0.53877 \n",
            "\n",
            "Coefficients:\n",
            "            Estimate Std. Error t value Pr(>|t|)    \n",
            "z.lag.1    0.0005788  0.0021575   0.268    0.789    \n",
            "z.diff.lag 0.5734829  0.0779225   7.360 3.42e-11 ***\n",
            "---\n",
            "Signif. codes:  0 ‘***’ 0.001 ‘**’ 0.01 ‘*’ 0.05 ‘.’ 0.1 ‘ ’ 1\n",
            "\n",
            "Residual standard error: 0.1847 on 111 degrees of freedom\n",
            "Multiple R-squared:  0.3325,\tAdjusted R-squared:  0.3204 \n",
            "F-statistic: 27.64 on 2 and 111 DF,  p-value: 1.814e-10\n",
            "\n",
            "\n",
            "Value of test-statistic is: 0.2683 \n",
            "\n",
            "Critical values for test statistics: \n",
            "      1pct  5pct 10pct\n",
            "tau1 -2.58 -1.95 -1.62\n",
            "\n",
            "[1] \"Modèle 1 pour la série tot\"\n",
            "\n",
            "############################################### \n",
            "# Augmented Dickey-Fuller Test Unit Root Test # \n",
            "############################################### \n",
            "\n",
            "Test regression none \n",
            "\n",
            "\n",
            "Call:\n",
            "lm(formula = z.diff ~ z.lag.1 - 1 + z.diff.lag)\n",
            "\n",
            "Residuals:\n",
            "     Min       1Q   Median       3Q      Max \n",
            "-0.48058 -0.10573  0.01667  0.11371  0.45238 \n",
            "\n",
            "Coefficients:\n",
            "              Estimate Std. Error t value Pr(>|t|)    \n",
            "z.lag.1      0.0004471  0.0018023   0.248   0.8045    \n",
            "z.diff.lag1  0.4428312  0.0957771   4.624 1.06e-05 ***\n",
            "z.diff.lag2  0.2403286  0.1042205   2.306   0.0230 *  \n",
            "z.diff.lag3  0.1428706  0.1059311   1.349   0.1803    \n",
            "z.diff.lag4 -0.1867678  0.1041986  -1.792   0.0759 .  \n",
            "z.diff.lag5 -0.1444963  0.0955902  -1.512   0.1336    \n",
            "---\n",
            "Signif. codes:  0 ‘***’ 0.001 ‘**’ 0.01 ‘*’ 0.05 ‘.’ 0.1 ‘ ’ 1\n",
            "\n",
            "Residual standard error: 0.1726 on 107 degrees of freedom\n",
            "Multiple R-squared:  0.4131,\tAdjusted R-squared:  0.3802 \n",
            "F-statistic: 12.55 on 6 and 107 DF,  p-value: 1.127e-10\n",
            "\n",
            "\n",
            "Value of test-statistic is: 0.2481 \n",
            "\n",
            "Critical values for test statistics: \n",
            "      1pct  5pct 10pct\n",
            "tau1 -2.58 -1.95 -1.62\n",
            "\n"
          ],
          "name": "stdout"
        }
      ]
    },
    {
      "cell_type": "markdown",
      "metadata": {
        "id": "J4CqSsJdhXZe",
        "colab_type": "text"
      },
      "source": [
        "###### **Test de racine unitaire pour les séries idf et tot différenciées**"
      ]
    },
    {
      "cell_type": "code",
      "metadata": {
        "id": "GXwPtP05hC3c",
        "colab_type": "code",
        "outputId": "36bea1da-e190-44f5-ed1f-f510d99f9831",
        "colab": {
          "base_uri": "https://localhost:8080/",
          "height": 603
        }
      },
      "source": [
        "%%R\n",
        "diff_npdc <- diff(npdc)\n",
        "diff_idf <- diff(idf)\n",
        "diff_tot <- diff(tot)"
      ],
      "execution_count": 0,
      "outputs": [
        {
          "output_type": "stream",
          "text": [
            "     Qtr1 Qtr2 Qtr3 Qtr4\n",
            "1982       0.1  0.2  0.0\n",
            "1983  0.0  0.0  0.2  0.3\n",
            "1984  0.4  0.4  0.2  0.2\n",
            "1985  0.2 -0.1  0.1  0.0\n",
            "1986 -0.1  0.1  0.1  0.0\n",
            "1987  0.1  0.1 -0.1 -0.1\n",
            "1988 -0.1 -0.1  0.0 -0.2\n",
            "1989 -0.2 -0.2 -0.1 -0.1\n",
            "1990  0.0  0.0 -0.1  0.0\n",
            "1991 -0.1  0.2  0.2  0.3\n",
            "1992  0.2  0.2  0.2  0.2\n",
            "1993  0.3  0.3  0.3  0.3\n",
            "1994  0.2  0.1 -0.1 -0.3\n",
            "1995 -0.1 -0.3 -0.1  0.1\n",
            "1996  0.4  0.2  0.0  0.0\n",
            "1997  0.2  0.0 -0.1 -0.1\n",
            "1998 -0.2 -0.1 -0.1  0.0\n",
            "1999  0.1 -0.1 -0.3 -0.4\n",
            "2000 -0.4 -0.4 -0.4 -0.3\n",
            "2001 -0.2 -0.1  0.0  0.1\n",
            "2002  0.0  0.0  0.1  0.1\n",
            "2003  0.3  0.2 -0.1  0.4\n",
            "2004  0.1 -0.1  0.1  0.0\n",
            "2005 -0.2  0.1  0.2  0.1\n",
            "2006  0.0 -0.2  0.0 -0.5\n",
            "2007  0.0 -0.3 -0.1 -0.5\n",
            "2008 -0.4  0.2  0.1  0.4\n",
            "2009  0.8  0.6  0.0  0.4\n",
            "2010 -0.2 -0.1  0.0 -0.1\n",
            "2011 -0.1  0.0  0.1  0.1\n",
            "2012  0.2  0.3  0.1  0.2\n",
            "2013  0.3  0.0          \n"
          ],
          "name": "stdout"
        }
      ]
    },
    {
      "cell_type": "markdown",
      "metadata": {
        "id": "xgalHv6Le3UC",
        "colab_type": "text"
      },
      "source": [
        "###### **Modèle 3**"
      ]
    },
    {
      "cell_type": "code",
      "metadata": {
        "id": "1ggw0qjWZiUy",
        "colab_type": "code",
        "outputId": "b986f73b-1171-40c4-8304-7e1350907f05",
        "colab": {
          "base_uri": "https://localhost:8080/",
          "height": 1000
        }
      },
      "source": [
        "%%R\n",
        "test <-function(i){\n",
        "    ur.df(i, type=\"trend\", lags=12, selectlags = \"AIC\")\n",
        "} \n",
        "print(\"Modèle 3 pour la série diff_npdc\")\n",
        "print(summary(test(diff_npdc)))\n",
        "print(\"Modèle 3 pour la série diff_idf\")\n",
        "print(summary(test(diff_idf)))\n",
        "print(\"Modèle 3 pour la série diff_tot\")\n",
        "print(summary(test(diff_tot)))"
      ],
      "execution_count": 0,
      "outputs": [
        {
          "output_type": "stream",
          "text": [
            "[1] \"Modèle 3 pour la série diff_npdc\"\n",
            "\n",
            "############################################### \n",
            "# Augmented Dickey-Fuller Test Unit Root Test # \n",
            "############################################### \n",
            "\n",
            "Test regression trend \n",
            "\n",
            "\n",
            "Call:\n",
            "lm(formula = z.diff ~ z.lag.1 + 1 + tt + z.diff.lag)\n",
            "\n",
            "Residuals:\n",
            "     Min       1Q   Median       3Q      Max \n",
            "-0.50223 -0.15005 -0.01601  0.13232  0.71517 \n",
            "\n",
            "Coefficients:\n",
            "              Estimate Std. Error t value Pr(>|t|)    \n",
            "(Intercept)  1.497e-02  5.399e-02   0.277    0.782    \n",
            "z.lag.1     -4.610e-01  9.100e-02  -5.066 1.69e-06 ***\n",
            "tt          -4.563e-05  7.130e-04  -0.064    0.949    \n",
            "z.diff.lag   1.749e-02  9.492e-02   0.184    0.854    \n",
            "---\n",
            "Signif. codes:  0 ‘***’ 0.001 ‘**’ 0.01 ‘*’ 0.05 ‘.’ 0.1 ‘ ’ 1\n",
            "\n",
            "Residual standard error: 0.2437 on 108 degrees of freedom\n",
            "Multiple R-squared:  0.2269,\tAdjusted R-squared:  0.2055 \n",
            "F-statistic: 10.57 on 3 and 108 DF,  p-value: 3.769e-06\n",
            "\n",
            "\n",
            "Value of test-statistic is: -5.0661 8.5735 12.8591 \n",
            "\n",
            "Critical values for test statistics: \n",
            "      1pct  5pct 10pct\n",
            "tau3 -3.99 -3.43 -3.13\n",
            "phi2  6.22  4.75  4.07\n",
            "phi3  8.43  6.49  5.47\n",
            "\n",
            "[1] \"Modèle 3 pour la série diff_idf\"\n",
            "\n",
            "############################################### \n",
            "# Augmented Dickey-Fuller Test Unit Root Test # \n",
            "############################################### \n",
            "\n",
            "Test regression trend \n",
            "\n",
            "\n",
            "Call:\n",
            "lm(formula = z.diff ~ z.lag.1 + 1 + tt + z.diff.lag)\n",
            "\n",
            "Residuals:\n",
            "     Min       1Q   Median       3Q      Max \n",
            "-0.46943 -0.11168  0.00446  0.10760  0.55350 \n",
            "\n",
            "Coefficients:\n",
            "              Estimate Std. Error t value Pr(>|t|)    \n",
            "(Intercept)  9.951e-03  4.105e-02   0.242    0.809    \n",
            "z.lag.1     -3.699e-01  8.817e-02  -4.196  5.6e-05 ***\n",
            "tt          -3.097e-05  5.407e-04  -0.057    0.954    \n",
            "z.diff.lag  -1.303e-01  9.614e-02  -1.355    0.178    \n",
            "---\n",
            "Signif. codes:  0 ‘***’ 0.001 ‘**’ 0.01 ‘*’ 0.05 ‘.’ 0.1 ‘ ’ 1\n",
            "\n",
            "Residual standard error: 0.1849 on 108 degrees of freedom\n",
            "Multiple R-squared:  0.2261,\tAdjusted R-squared:  0.2046 \n",
            "F-statistic: 10.52 on 3 and 108 DF,  p-value: 3.98e-06\n",
            "\n",
            "\n",
            "Value of test-statistic is: -4.1958 5.8713 8.8068 \n",
            "\n",
            "Critical values for test statistics: \n",
            "      1pct  5pct 10pct\n",
            "tau3 -3.99 -3.43 -3.13\n",
            "phi2  6.22  4.75  4.07\n",
            "phi3  8.43  6.49  5.47\n",
            "\n",
            "[1] \"Modèle 3 pour la série diff_tot\"\n",
            "\n",
            "############################################### \n",
            "# Augmented Dickey-Fuller Test Unit Root Test # \n",
            "############################################### \n",
            "\n",
            "Test regression trend \n",
            "\n",
            "\n",
            "Call:\n",
            "lm(formula = z.diff ~ z.lag.1 + 1 + tt + z.diff.lag)\n",
            "\n",
            "Residuals:\n",
            "     Min       1Q   Median       3Q      Max \n",
            "-0.48553 -0.10356  0.01222  0.10497  0.44557 \n",
            "\n",
            "Coefficients:\n",
            "              Estimate Std. Error t value Pr(>|t|)    \n",
            "(Intercept) -8.204e-05  3.856e-02  -0.002   0.9983    \n",
            "z.lag.1     -4.926e-01  1.045e-01  -4.713 7.53e-06 ***\n",
            "tt           1.172e-04  5.096e-04   0.230   0.8185    \n",
            "z.diff.lag1 -6.184e-02  1.100e-01  -0.562   0.5753    \n",
            "z.diff.lag2  1.772e-01  1.086e-01   1.632   0.1056    \n",
            "z.diff.lag3  3.160e-01  1.057e-01   2.988   0.0035 ** \n",
            "z.diff.lag4  1.361e-01  9.657e-02   1.409   0.1617    \n",
            "---\n",
            "Signif. codes:  0 ‘***’ 0.001 ‘**’ 0.01 ‘*’ 0.05 ‘.’ 0.1 ‘ ’ 1\n",
            "\n",
            "Residual standard error: 0.1735 on 105 degrees of freedom\n",
            "Multiple R-squared:  0.2928,\tAdjusted R-squared:  0.2523 \n",
            "F-statistic: 7.244 on 6 and 105 DF,  p-value: 1.731e-06\n",
            "\n",
            "\n",
            "Value of test-statistic is: -4.7127 7.4073 11.108 \n",
            "\n",
            "Critical values for test statistics: \n",
            "      1pct  5pct 10pct\n",
            "tau3 -3.99 -3.43 -3.13\n",
            "phi2  6.22  4.75  4.07\n",
            "phi3  8.43  6.49  5.47\n",
            "\n"
          ],
          "name": "stdout"
        }
      ]
    },
    {
      "cell_type": "markdown",
      "metadata": {
        "id": "9wsxOkkce9QA",
        "colab_type": "text"
      },
      "source": [
        "###### **Modèle 2**"
      ]
    },
    {
      "cell_type": "code",
      "metadata": {
        "id": "NVm0l1QffAnP",
        "colab_type": "code",
        "outputId": "ebf4b938-1a07-4ce9-edc6-1debc7f33b52",
        "colab": {
          "base_uri": "https://localhost:8080/",
          "height": 1000
        }
      },
      "source": [
        "%%R\n",
        "test <-function(i){\n",
        "    ur.df(i, type=\"drift\", lags=12, selectlags = \"AIC\")\n",
        "} \n",
        "print(\"Modèle 2 pour la série diff_npdc\")\n",
        "print(summary(test(diff_npdc)))\n",
        "print(\"Modèle 2 pour la série diff_idf\")\n",
        "print(summary(test(diff_idf)))\n",
        "print(\"Modèle 2 pour la série diff_tot\")\n",
        "print(summary(test(diff_tot)))"
      ],
      "execution_count": 0,
      "outputs": [
        {
          "output_type": "stream",
          "text": [
            "[1] \"Modèle 2 pour la série diff_npdc\"\n",
            "\n",
            "############################################### \n",
            "# Augmented Dickey-Fuller Test Unit Root Test # \n",
            "############################################### \n",
            "\n",
            "Test regression drift \n",
            "\n",
            "\n",
            "Call:\n",
            "lm(formula = z.diff ~ z.lag.1 + 1 + z.diff.lag)\n",
            "\n",
            "Residuals:\n",
            "     Min       1Q   Median       3Q      Max \n",
            "-0.50231 -0.14776 -0.01484  0.13400  0.71344 \n",
            "\n",
            "Coefficients:\n",
            "            Estimate Std. Error t value Pr(>|t|)    \n",
            "(Intercept)  0.01185    0.02303   0.514    0.608    \n",
            "z.lag.1     -0.46119    0.09053  -5.094 1.48e-06 ***\n",
            "z.diff.lag   0.01772    0.09442   0.188    0.852    \n",
            "---\n",
            "Signif. codes:  0 ‘***’ 0.001 ‘**’ 0.01 ‘*’ 0.05 ‘.’ 0.1 ‘ ’ 1\n",
            "\n",
            "Residual standard error: 0.2426 on 109 degrees of freedom\n",
            "Multiple R-squared:  0.2269,\tAdjusted R-squared:  0.2127 \n",
            "F-statistic:    16 on 2 and 109 DF,  p-value: 8.104e-07\n",
            "\n",
            "\n",
            "Value of test-statistic is: -5.0942 12.9768 \n",
            "\n",
            "Critical values for test statistics: \n",
            "      1pct  5pct 10pct\n",
            "tau2 -3.46 -2.88 -2.57\n",
            "phi1  6.52  4.63  3.81\n",
            "\n",
            "[1] \"Modèle 2 pour la série diff_idf\"\n",
            "\n",
            "############################################### \n",
            "# Augmented Dickey-Fuller Test Unit Root Test # \n",
            "############################################### \n",
            "\n",
            "Test regression drift \n",
            "\n",
            "\n",
            "Call:\n",
            "lm(formula = z.diff ~ z.lag.1 + 1 + z.diff.lag)\n",
            "\n",
            "Residuals:\n",
            "     Min       1Q   Median       3Q      Max \n",
            "-0.47077 -0.11108  0.00522  0.10792  0.55524 \n",
            "\n",
            "Coefficients:\n",
            "             Estimate Std. Error t value Pr(>|t|)    \n",
            "(Intercept)  0.007826   0.017484   0.448    0.655    \n",
            "z.lag.1     -0.369750   0.087706  -4.216 5.16e-05 ***\n",
            "z.diff.lag  -0.130451   0.095668  -1.364    0.176    \n",
            "---\n",
            "Signif. codes:  0 ‘***’ 0.001 ‘**’ 0.01 ‘*’ 0.05 ‘.’ 0.1 ‘ ’ 1\n",
            "\n",
            "Residual standard error: 0.184 on 109 degrees of freedom\n",
            "Multiple R-squared:  0.2261,\tAdjusted R-squared:  0.2119 \n",
            "F-statistic: 15.92 on 2 and 109 DF,  p-value: 8.573e-07\n",
            "\n",
            "\n",
            "Value of test-statistic is: -4.2158 8.8865 \n",
            "\n",
            "Critical values for test statistics: \n",
            "      1pct  5pct 10pct\n",
            "tau2 -3.46 -2.88 -2.57\n",
            "phi1  6.52  4.63  3.81\n",
            "\n",
            "[1] \"Modèle 2 pour la série diff_tot\"\n",
            "\n",
            "############################################### \n",
            "# Augmented Dickey-Fuller Test Unit Root Test # \n",
            "############################################### \n",
            "\n",
            "Test regression drift \n",
            "\n",
            "\n",
            "Call:\n",
            "lm(formula = z.diff ~ z.lag.1 + 1 + z.diff.lag)\n",
            "\n",
            "Residuals:\n",
            "     Min       1Q   Median       3Q      Max \n",
            "-0.48130 -0.10429  0.01547  0.10803  0.45046 \n",
            "\n",
            "Coefficients:\n",
            "            Estimate Std. Error t value Pr(>|t|)    \n",
            "(Intercept)  0.00794    0.01638   0.485  0.62897    \n",
            "z.lag.1     -0.49180    0.10400  -4.729 6.99e-06 ***\n",
            "z.diff.lag1 -0.06138    0.10953  -0.560  0.57640    \n",
            "z.diff.lag2  0.17807    0.10801   1.649  0.10218    \n",
            "z.diff.lag3  0.31685    0.10519   3.012  0.00325 ** \n",
            "z.diff.lag4  0.13708    0.09605   1.427  0.15644    \n",
            "---\n",
            "Signif. codes:  0 ‘***’ 0.001 ‘**’ 0.01 ‘*’ 0.05 ‘.’ 0.1 ‘ ’ 1\n",
            "\n",
            "Residual standard error: 0.1727 on 106 degrees of freedom\n",
            "Multiple R-squared:  0.2924,\tAdjusted R-squared:  0.259 \n",
            "F-statistic:  8.76 on 5 and 106 DF,  p-value: 5.552e-07\n",
            "\n",
            "\n",
            "Value of test-statistic is: -4.7289 11.1845 \n",
            "\n",
            "Critical values for test statistics: \n",
            "      1pct  5pct 10pct\n",
            "tau2 -3.46 -2.88 -2.57\n",
            "phi1  6.52  4.63  3.81\n",
            "\n"
          ],
          "name": "stdout"
        }
      ]
    },
    {
      "cell_type": "markdown",
      "metadata": {
        "id": "Ifpc7D2UfcQU",
        "colab_type": "text"
      },
      "source": [
        "###### **Modèle 1**"
      ]
    },
    {
      "cell_type": "code",
      "metadata": {
        "id": "644aPjTzffWk",
        "colab_type": "code",
        "outputId": "95b9079e-4775-441e-f560-e62b600637ed",
        "colab": {
          "base_uri": "https://localhost:8080/",
          "height": 1000
        }
      },
      "source": [
        "%%R\n",
        "test <-function(i){\n",
        "    ur.df(i, type=\"none\", lags=12, selectlags = \"AIC\")\n",
        "} \n",
        "print(\"Modèle 1 pour la série diff_npdc\")\n",
        "print(summary(test(diff_npdc)))\n",
        "print(\"Modèle 1 pour la série diff_idf\")\n",
        "print(summary(test(diff_idf)))\n",
        "print(\"Modèle 1 pour la série diff_tot\")\n",
        "print(summary(test(diff_tot)))"
      ],
      "execution_count": 0,
      "outputs": [
        {
          "output_type": "stream",
          "text": [
            "[1] \"Modèle 1 pour la série diff_npdc\"\n",
            "\n",
            "############################################### \n",
            "# Augmented Dickey-Fuller Test Unit Root Test # \n",
            "############################################### \n",
            "\n",
            "Test regression none \n",
            "\n",
            "\n",
            "Call:\n",
            "lm(formula = z.diff ~ z.lag.1 - 1 + z.diff.lag)\n",
            "\n",
            "Residuals:\n",
            "     Min       1Q   Median       3Q      Max \n",
            "-0.48974 -0.13592 -0.00348  0.14579  0.72352 \n",
            "\n",
            "Coefficients:\n",
            "           Estimate Std. Error t value Pr(>|t|)    \n",
            "z.lag.1    -0.45693    0.08985  -5.085 1.52e-06 ***\n",
            "z.diff.lag  0.01649    0.09407   0.175    0.861    \n",
            "---\n",
            "Signif. codes:  0 ‘***’ 0.001 ‘**’ 0.01 ‘*’ 0.05 ‘.’ 0.1 ‘ ’ 1\n",
            "\n",
            "Residual standard error: 0.2418 on 110 degrees of freedom\n",
            "Multiple R-squared:  0.225,\tAdjusted R-squared:  0.2109 \n",
            "F-statistic: 15.97 on 2 and 110 DF,  p-value: 8.143e-07\n",
            "\n",
            "\n",
            "Value of test-statistic is: -5.0854 \n",
            "\n",
            "Critical values for test statistics: \n",
            "      1pct  5pct 10pct\n",
            "tau1 -2.58 -1.95 -1.62\n",
            "\n",
            "[1] \"Modèle 1 pour la série diff_idf\"\n",
            "\n",
            "############################################### \n",
            "# Augmented Dickey-Fuller Test Unit Root Test # \n",
            "############################################### \n",
            "\n",
            "Test regression none \n",
            "\n",
            "\n",
            "Call:\n",
            "lm(formula = z.diff ~ z.lag.1 - 1 + z.diff.lag)\n",
            "\n",
            "Residuals:\n",
            "     Min       1Q   Median       3Q      Max \n",
            "-0.46441 -0.10330  0.01294  0.11598  0.56294 \n",
            "\n",
            "Coefficients:\n",
            "           Estimate Std. Error t value Pr(>|t|)    \n",
            "z.lag.1    -0.36571    0.08692  -4.207 5.29e-05 ***\n",
            "z.diff.lag -0.13184    0.09527  -1.384    0.169    \n",
            "---\n",
            "Signif. codes:  0 ‘***’ 0.001 ‘**’ 0.01 ‘*’ 0.05 ‘.’ 0.1 ‘ ’ 1\n",
            "\n",
            "Residual standard error: 0.1834 on 110 degrees of freedom\n",
            "Multiple R-squared:  0.2247,\tAdjusted R-squared:  0.2106 \n",
            "F-statistic: 15.94 on 2 and 110 DF,  p-value: 8.335e-07\n",
            "\n",
            "\n",
            "Value of test-statistic is: -4.2073 \n",
            "\n",
            "Critical values for test statistics: \n",
            "      1pct  5pct 10pct\n",
            "tau1 -2.58 -1.95 -1.62\n",
            "\n",
            "[1] \"Modèle 1 pour la série diff_tot\"\n",
            "\n",
            "############################################### \n",
            "# Augmented Dickey-Fuller Test Unit Root Test # \n",
            "############################################### \n",
            "\n",
            "Test regression none \n",
            "\n",
            "\n",
            "Call:\n",
            "lm(formula = z.diff ~ z.lag.1 - 1 + z.diff.lag)\n",
            "\n",
            "Residuals:\n",
            "     Min       1Q   Median       3Q      Max \n",
            "-0.47291 -0.09623  0.02346  0.11494  0.45937 \n",
            "\n",
            "Coefficients:\n",
            "            Estimate Std. Error t value Pr(>|t|)    \n",
            "z.lag.1     -0.48745    0.10324  -4.722 7.13e-06 ***\n",
            "z.diff.lag1 -0.06390    0.10902  -0.586  0.55903    \n",
            "z.diff.lag2  0.17578    0.10752   1.635  0.10502    \n",
            "z.diff.lag3  0.31453    0.10471   3.004  0.00332 ** \n",
            "z.diff.lag4  0.13518    0.09562   1.414  0.16036    \n",
            "---\n",
            "Signif. codes:  0 ‘***’ 0.001 ‘**’ 0.01 ‘*’ 0.05 ‘.’ 0.1 ‘ ’ 1\n",
            "\n",
            "Residual standard error: 0.1721 on 107 degrees of freedom\n",
            "Multiple R-squared:  0.2908,\tAdjusted R-squared:  0.2577 \n",
            "F-statistic: 8.777 on 5 and 107 DF,  p-value: 5.282e-07\n",
            "\n",
            "\n",
            "Value of test-statistic is: -4.7216 \n",
            "\n",
            "Critical values for test statistics: \n",
            "      1pct  5pct 10pct\n",
            "tau1 -2.58 -1.95 -1.62\n",
            "\n"
          ],
          "name": "stdout"
        }
      ]
    },
    {
      "cell_type": "markdown",
      "metadata": {
        "id": "AWK7xAYcfsDJ",
        "colab_type": "text"
      },
      "source": [
        "#### **Etape 2 : Estimer par les MCO la relation de long terme**"
      ]
    },
    {
      "cell_type": "code",
      "metadata": {
        "id": "tYtBJBpdgDxL",
        "colab_type": "code",
        "outputId": "9eff9ea8-a58b-407d-9f5f-57d947ac5268",
        "colab": {
          "base_uri": "https://localhost:8080/",
          "height": 496
        }
      },
      "source": [
        "%%R\n",
        "reg <- lm(npdc ~ tot + idf)\n",
        "print(summary(reg))\n",
        "dwtest(reg)"
      ],
      "execution_count": 0,
      "outputs": [
        {
          "output_type": "stream",
          "text": [
            "\n",
            "Call:\n",
            "lm(formula = npdc ~ tot + idf)\n",
            "\n",
            "Residuals:\n",
            "     Min       1Q   Median       3Q      Max \n",
            "-0.85139 -0.27197  0.02641  0.23173  0.86458 \n",
            "\n",
            "Coefficients:\n",
            "            Estimate Std. Error t value Pr(>|t|)    \n",
            "(Intercept)  0.28452    0.30716   0.926   0.3561    \n",
            "tot          1.20117    0.08012  14.992   <2e-16 ***\n",
            "idf          0.14794    0.07360   2.010   0.0466 *  \n",
            "---\n",
            "Signif. codes:  0 ‘***’ 0.001 ‘**’ 0.01 ‘*’ 0.05 ‘.’ 0.1 ‘ ’ 1\n",
            "\n",
            "Residual standard error: 0.3851 on 123 degrees of freedom\n",
            "Multiple R-squared:  0.9305,\tAdjusted R-squared:  0.9294 \n",
            "F-statistic: 823.8 on 2 and 123 DF,  p-value: < 2.2e-16\n",
            "\n",
            "\n",
            "\tDurbin-Watson test\n",
            "\n",
            "data:  reg\n",
            "DW = 0.22146, p-value < 2.2e-16\n",
            "alternative hypothesis: true autocorrelation is greater than 0\n",
            "\n"
          ],
          "name": "stdout"
        }
      ]
    },
    {
      "cell_type": "markdown",
      "metadata": {
        "id": "ua9Kp-2ditNm",
        "colab_type": "text"
      },
      "source": [
        "#### **Etape 3 : Effectuer un test de racine unitaire sur les résidus estimés ε(t) et vérifier que I(0)**"
      ]
    },
    {
      "cell_type": "code",
      "metadata": {
        "id": "wPGiDYKXisQk",
        "colab_type": "code",
        "outputId": "61c4b660-4929-4bfd-df57-48df8134189a",
        "colab": {
          "base_uri": "https://localhost:8080/",
          "height": 638
        }
      },
      "source": [
        "%%R\n",
        "resid_reg <- reg$residuals\n",
        "test <- ur.df(resid_reg, type = \"drift\")\n",
        "summary(test)"
      ],
      "execution_count": 0,
      "outputs": [
        {
          "output_type": "stream",
          "text": [
            "\n",
            "############################################### \n",
            "# Augmented Dickey-Fuller Test Unit Root Test # \n",
            "############################################### \n",
            "\n",
            "Test regression drift \n",
            "\n",
            "\n",
            "Call:\n",
            "lm(formula = z.diff ~ z.lag.1 + 1 + z.diff.lag)\n",
            "\n",
            "Residuals:\n",
            "     Min       1Q   Median       3Q      Max \n",
            "-0.60561 -0.09036  0.01991  0.10912  0.45727 \n",
            "\n",
            "Coefficients:\n",
            "              Estimate Std. Error t value Pr(>|t|)    \n",
            "(Intercept)  0.0008252  0.0150329   0.055 0.956312    \n",
            "z.lag.1     -0.1478328  0.0404091  -3.658 0.000377 ***\n",
            "z.diff.lag   0.3273763  0.0857925   3.816 0.000215 ***\n",
            "---\n",
            "Signif. codes:  0 ‘***’ 0.001 ‘**’ 0.01 ‘*’ 0.05 ‘.’ 0.1 ‘ ’ 1\n",
            "\n",
            "Residual standard error: 0.1674 on 121 degrees of freedom\n",
            "Multiple R-squared:  0.1576,\tAdjusted R-squared:  0.1437 \n",
            "F-statistic: 11.32 on 2 and 121 DF,  p-value: 3.119e-05\n",
            "\n",
            "\n",
            "Value of test-statistic is: -3.6584 6.6923 \n",
            "\n",
            "Critical values for test statistics: \n",
            "      1pct  5pct 10pct\n",
            "tau2 -3.46 -2.88 -2.57\n",
            "phi1  6.52  4.63  3.81\n",
            "\n"
          ],
          "name": "stdout"
        }
      ]
    },
    {
      "cell_type": "markdown",
      "metadata": {
        "id": "1abPYQ0Nadym",
        "colab_type": "text"
      },
      "source": [
        "#### **Test de racine unitaire sur les résidus différenciés à l’ordre 1 de la relation statique**"
      ]
    },
    {
      "cell_type": "code",
      "metadata": {
        "id": "Bgu7NYkAVkau",
        "colab_type": "code",
        "outputId": "522f981b-2daf-403d-a2ad-6270e249cf3d",
        "colab": {
          "base_uri": "https://localhost:8080/",
          "height": 638
        }
      },
      "source": [
        "%%R\n",
        "diff_resid_reg <- diff(resid_reg)\n",
        "test <- ur.df(diff_resid_reg, type = \"drift\")\n",
        "summary(test)"
      ],
      "execution_count": 0,
      "outputs": [
        {
          "output_type": "stream",
          "text": [
            "\n",
            "############################################### \n",
            "# Augmented Dickey-Fuller Test Unit Root Test # \n",
            "############################################### \n",
            "\n",
            "Test regression drift \n",
            "\n",
            "\n",
            "Call:\n",
            "lm(formula = z.diff ~ z.lag.1 + 1 + z.diff.lag)\n",
            "\n",
            "Residuals:\n",
            "     Min       1Q   Median       3Q      Max \n",
            "-0.43394 -0.10826  0.03372  0.10770  0.45432 \n",
            "\n",
            "Coefficients:\n",
            "             Estimate Std. Error t value Pr(>|t|)    \n",
            "(Intercept)  0.002271   0.014657   0.155    0.877    \n",
            "z.lag.1     -1.049095   0.103147 -10.171  < 2e-16 ***\n",
            "z.diff.lag   0.397584   0.084601   4.700 7.01e-06 ***\n",
            "---\n",
            "Signif. codes:  0 ‘***’ 0.001 ‘**’ 0.01 ‘*’ 0.05 ‘.’ 0.1 ‘ ’ 1\n",
            "\n",
            "Residual standard error: 0.1625 on 120 degrees of freedom\n",
            "Multiple R-squared:  0.4725,\tAdjusted R-squared:  0.4637 \n",
            "F-statistic: 53.75 on 2 and 120 DF,  p-value: < 2.2e-16\n",
            "\n",
            "\n",
            "Value of test-statistic is: -10.1709 51.7237 \n",
            "\n",
            "Critical values for test statistics: \n",
            "      1pct  5pct 10pct\n",
            "tau2 -3.46 -2.88 -2.57\n",
            "phi1  6.52  4.63  3.81\n",
            "\n"
          ],
          "name": "stdout"
        }
      ]
    },
    {
      "cell_type": "markdown",
      "metadata": {
        "id": "ao82YFo8PRkg",
        "colab_type": "text"
      },
      "source": [
        "### **Question 3 : Estimation du modèle VAR multivarié**"
      ]
    },
    {
      "cell_type": "code",
      "metadata": {
        "id": "jsSnRIkuPij5",
        "colab_type": "code",
        "colab": {}
      },
      "source": [
        "%%R\n",
        "model_var <- cbind(diff_npdc, diff_idf, diff_tot)"
      ],
      "execution_count": 0,
      "outputs": []
    },
    {
      "cell_type": "markdown",
      "metadata": {
        "id": "20aQ_vECquSW",
        "colab_type": "text"
      },
      "source": [
        "##### **Recherche du nombre de retards appropriés**"
      ]
    },
    {
      "cell_type": "code",
      "metadata": {
        "id": "Kq1uJ7nIpmyU",
        "colab_type": "code",
        "outputId": "804514b1-4cf4-4a9f-e65e-e530b91aec98",
        "colab": {
          "base_uri": "https://localhost:8080/",
          "height": 301
        }
      },
      "source": [
        "%%R\n",
        "infocrit1 <- VARselect(model_var, lag.max =8, type = \"const\")\n",
        "infocrit1"
      ],
      "execution_count": 0,
      "outputs": [
        {
          "output_type": "stream",
          "text": [
            "$selection\n",
            "AIC(n)  HQ(n)  SC(n) FPE(n) \n",
            "     2      2      2      2 \n",
            "\n",
            "$criteria\n",
            "                   1             2             3             4             5\n",
            "AIC(n) -1.137696e+01 -1.175840e+01 -1.172278e+01 -1.169139e+01 -1.167051e+01\n",
            "HQ(n)  -1.126194e+01 -1.155712e+01 -1.143524e+01 -1.131758e+01 -1.121044e+01\n",
            "SC(n)  -1.109366e+01 -1.126262e+01 -1.101453e+01 -1.077066e+01 -1.053731e+01\n",
            "FPE(n)  1.145736e-05  7.826722e-06  8.117220e-06  8.388731e-06  8.586366e-06\n",
            "                   6             7             8\n",
            "AIC(n) -1.162046e+01 -1.152038e+01 -1.146294e+01\n",
            "HQ(n)  -1.107413e+01 -1.088779e+01 -1.074409e+01\n",
            "SC(n)  -1.027479e+01 -9.962234e+00 -9.692320e+00\n",
            "FPE(n)  9.058949e-06  1.006147e-05  1.072557e-05\n",
            "\n"
          ],
          "name": "stdout"
        }
      ]
    },
    {
      "cell_type": "markdown",
      "metadata": {
        "id": "RJZ-qu0iqnK1",
        "colab_type": "text"
      },
      "source": [
        "#### **Estimation du modéle retenu**"
      ]
    },
    {
      "cell_type": "code",
      "metadata": {
        "id": "NXGsyXFgp8wj",
        "colab_type": "code",
        "outputId": "b2d1bd59-6f5e-40d8-b3d0-2be3e9393c3a",
        "colab": {
          "base_uri": "https://localhost:8080/",
          "height": 1000
        }
      },
      "source": [
        "%%R\n",
        "var_multi <- VAR(model_var, p=2, type = \"const\", season = NULL, exogen = NULL)\n",
        "summary(var_multi)"
      ],
      "execution_count": 0,
      "outputs": [
        {
          "output_type": "stream",
          "text": [
            "\n",
            "VAR Estimation Results:\n",
            "========================= \n",
            "Endogenous variables: diff_npdc, diff_idf, diff_tot \n",
            "Deterministic variables: const \n",
            "Sample size: 123 \n",
            "Log Likelihood: 222.172 \n",
            "Roots of the characteristic polynomial:\n",
            "0.7785 0.7671 0.7671 0.3386 0.3378 0.2441\n",
            "Call:\n",
            "VAR(y = model_var, p = 2, type = \"const\", exogen = NULL)\n",
            "\n",
            "\n",
            "Estimation results for equation diff_npdc: \n",
            "========================================== \n",
            "diff_npdc = diff_npdc.l1 + diff_idf.l1 + diff_tot.l1 + diff_npdc.l2 + diff_idf.l2 + diff_tot.l2 + const \n",
            "\n",
            "             Estimate Std. Error t value Pr(>|t|)    \n",
            "diff_npdc.l1  0.58548    0.14950   3.916 0.000152 ***\n",
            "diff_idf.l1  -0.40233    0.20846  -1.930 0.056046 .  \n",
            "diff_tot.l1   0.36640    0.18776   1.951 0.053421 .  \n",
            "diff_npdc.l2 -0.57091    0.14816  -3.853 0.000191 ***\n",
            "diff_idf.l2   0.20345    0.21207   0.959 0.339357    \n",
            "diff_tot.l2   0.61477    0.19245   3.195 0.001804 ** \n",
            "const         0.01641    0.02154   0.762 0.447818    \n",
            "---\n",
            "Signif. codes:  0 ‘***’ 0.001 ‘**’ 0.01 ‘*’ 0.05 ‘.’ 0.1 ‘ ’ 1\n",
            "\n",
            "\n",
            "Residual standard error: 0.2361 on 116 degrees of freedom\n",
            "Multiple R-Squared: 0.4355,\tAdjusted R-squared: 0.4063 \n",
            "F-statistic: 14.92 on 6 and 116 DF,  p-value: 1.384e-12 \n",
            "\n",
            "\n",
            "Estimation results for equation diff_idf: \n",
            "========================================= \n",
            "diff_idf = diff_npdc.l1 + diff_idf.l1 + diff_tot.l1 + diff_npdc.l2 + diff_idf.l2 + diff_tot.l2 + const \n",
            "\n",
            "             Estimate Std. Error t value Pr(>|t|)    \n",
            "diff_npdc.l1  0.10925    0.10713   1.020 0.309943    \n",
            "diff_idf.l1   0.23831    0.14938   1.595 0.113351    \n",
            "diff_tot.l1   0.14815    0.13455   1.101 0.273150    \n",
            "diff_npdc.l2 -0.43316    0.10617  -4.080  8.3e-05 ***\n",
            "diff_idf.l2   0.15922    0.15196   1.048 0.296939    \n",
            "diff_tot.l2   0.53317    0.13790   3.866 0.000183 ***\n",
            "const         0.01127    0.01543   0.730 0.466643    \n",
            "---\n",
            "Signif. codes:  0 ‘***’ 0.001 ‘**’ 0.01 ‘*’ 0.05 ‘.’ 0.1 ‘ ’ 1\n",
            "\n",
            "\n",
            "Residual standard error: 0.1692 on 116 degrees of freedom\n",
            "Multiple R-Squared: 0.4585,\tAdjusted R-squared: 0.4305 \n",
            "F-statistic: 16.37 on 6 and 116 DF,  p-value: 1.373e-13 \n",
            "\n",
            "\n",
            "Estimation results for equation diff_tot: \n",
            "========================================= \n",
            "diff_tot = diff_npdc.l1 + diff_idf.l1 + diff_tot.l1 + diff_npdc.l2 + diff_idf.l2 + diff_tot.l2 + const \n",
            "\n",
            "              Estimate Std. Error t value Pr(>|t|)    \n",
            "diff_npdc.l1  0.149270   0.109579   1.362 0.175769    \n",
            "diff_idf.l1  -0.168926   0.152797  -1.106 0.271205    \n",
            "diff_tot.l1   0.473012   0.137629   3.437 0.000818 ***\n",
            "diff_npdc.l2 -0.137480   0.108598  -1.266 0.208064    \n",
            "diff_idf.l2   0.374893   0.155443   2.412 0.017443 *  \n",
            "diff_tot.l2   0.010914   0.141062   0.077 0.938463    \n",
            "const         0.007959   0.015788   0.504 0.615141    \n",
            "---\n",
            "Signif. codes:  0 ‘***’ 0.001 ‘**’ 0.01 ‘*’ 0.05 ‘.’ 0.1 ‘ ’ 1\n",
            "\n",
            "\n",
            "Residual standard error: 0.173 on 116 degrees of freedom\n",
            "Multiple R-Squared: 0.4119,\tAdjusted R-squared: 0.3815 \n",
            "F-statistic: 13.54 on 6 and 116 DF,  p-value: 1.342e-11 \n",
            "\n",
            "\n",
            "\n",
            "Covariance matrix of residuals:\n",
            "          diff_npdc diff_idf diff_tot\n",
            "diff_npdc   0.05573  0.03026  0.03129\n",
            "diff_idf    0.03026  0.02862  0.02291\n",
            "diff_tot    0.03129  0.02291  0.02994\n",
            "\n",
            "Correlation matrix of residuals:\n",
            "          diff_npdc diff_idf diff_tot\n",
            "diff_npdc    1.0000   0.7576   0.7660\n",
            "diff_idf     0.7576   1.0000   0.7825\n",
            "diff_tot     0.7660   0.7825   1.0000\n",
            "\n",
            "\n"
          ],
          "name": "stdout"
        }
      ]
    },
    {
      "cell_type": "markdown",
      "metadata": {
        "id": "70b-aoYSrPIB",
        "colab_type": "text"
      },
      "source": [
        "##### **Vérificaiton de la stationnarité**"
      ]
    },
    {
      "cell_type": "code",
      "metadata": {
        "id": "Xf_qAjUbrMmb",
        "colab_type": "code",
        "outputId": "de1afe61-2d19-4a6f-d864-0fafb3fa3fdb",
        "colab": {
          "base_uri": "https://localhost:8080/",
          "height": 34
        }
      },
      "source": [
        "%%R\n",
        "roots <- roots(var_multi)\n",
        "roots"
      ],
      "execution_count": 0,
      "outputs": [
        {
          "output_type": "stream",
          "text": [
            "[1] 0.7784609 0.7670834 0.7670834 0.3386325 0.3378343 0.2441458\n"
          ],
          "name": "stdout"
        }
      ]
    },
    {
      "cell_type": "markdown",
      "metadata": {
        "id": "R21mFkGhPopx",
        "colab_type": "text"
      },
      "source": [
        "### **Question 4 : Réalisation de la prévision jusqu’à l’année 2016**"
      ]
    },
    {
      "cell_type": "code",
      "metadata": {
        "id": "e2ubic4wsGcZ",
        "colab_type": "code",
        "outputId": "2b346900-709f-414b-d469-e3a6313e9078",
        "colab": {
          "base_uri": "https://localhost:8080/",
          "height": 1000
        }
      },
      "source": [
        "%%R \n",
        "args(vars:::predict.varest)\n",
        "pred <- predict(var_multi, n.ahead = 14, ci = 0.95)\n",
        "print(pred)\n",
        "class(pred)\n",
        "# Graphique de la prédiction de npdc\n",
        "args(vars:::plot.varprd)\n",
        "plot(pred, names=\"npdc\")\n",
        "# Graphique de la prédiction de idf\n",
        "args(vars:::plot.varprd)\n",
        "plot(pred, names=\"idf\")\n",
        "# Graphique de la prédiction de tot\n",
        "args(vars:::plot.varprd)\n",
        "plot(pred, names=\"tot\")"
      ],
      "execution_count": 0,
      "outputs": [
        {
          "output_type": "stream",
          "text": [
            "$diff_npdc\n",
            "            fcst      lower     upper        CI\n",
            " [1,] 0.14623503 -0.3164676 0.6089376 0.4627026\n",
            " [2,] 0.12764915 -0.4123496 0.6676479 0.5399987\n",
            " [3,] 0.07196702 -0.5083499 0.6522840 0.5803169\n",
            " [4,] 0.04545289 -0.5478678 0.6387736 0.5933207\n",
            " [5,] 0.07317850 -0.5277101 0.6740671 0.6008886\n",
            " [6,] 0.08487936 -0.5215891 0.6913479 0.6064685\n",
            " [7,] 0.06448192 -0.5451323 0.6740962 0.6096143\n",
            " [8,] 0.04464482 -0.5675693 0.6568590 0.6122142\n",
            " [9,] 0.04563430 -0.5674008 0.6586694 0.6130351\n",
            "[10,] 0.05305429 -0.5607183 0.6668269 0.6137726\n",
            "[11,] 0.05100660 -0.5631298 0.6651430 0.6141364\n",
            "[12,] 0.04332502 -0.5711342 0.6577842 0.6144592\n",
            "[13,] 0.04027660 -0.5743364 0.6548896 0.6146130\n",
            "[14,] 0.04228897 -0.5723994 0.6569774 0.6146884\n",
            "\n",
            "$diff_idf\n",
            "            fcst      lower     upper        CI\n",
            " [1,] 0.16474721 -0.1668195 0.4963139 0.3315667\n",
            " [2,] 0.12390368 -0.2467929 0.4946003 0.3706966\n",
            " [3,] 0.07728379 -0.3338541 0.4884217 0.4111379\n",
            " [4,] 0.04580295 -0.3819063 0.4735122 0.4277093\n",
            " [5,] 0.06023336 -0.3757824 0.4962491 0.4360157\n",
            " [6,] 0.06856014 -0.3734027 0.5105230 0.4419629\n",
            " [7,] 0.05454911 -0.3908287 0.4999269 0.4453778\n",
            " [8,] 0.03845714 -0.4095983 0.4865126 0.4480555\n",
            " [9,] 0.03692616 -0.4121709 0.4860232 0.4490970\n",
            "[10,] 0.04166332 -0.4081804 0.4915070 0.4498437\n",
            "[11,] 0.04055258 -0.4097178 0.4908230 0.4502704\n",
            "[12,] 0.03486285 -0.4157315 0.4854572 0.4505944\n",
            "[13,] 0.03193494 -0.4188387 0.4827086 0.4507736\n",
            "[14,] 0.03290576 -0.4179519 0.4837634 0.4508576\n",
            "\n",
            "$diff_tot\n",
            "            fcst      lower     upper        CI\n",
            " [1,] 0.09502591 -0.2441308 0.4341827 0.3391567\n",
            " [2,] 0.06065357 -0.3210832 0.4423903 0.3817367\n",
            " [3,] 0.07746751 -0.3314423 0.4863773 0.4089098\n",
            " [4,] 0.07185247 -0.3498379 0.4935428 0.4216904\n",
            " [5,] 0.06091791 -0.3692209 0.4910567 0.4301388\n",
            " [6,] 0.04922860 -0.3858412 0.4842984 0.4350698\n",
            " [7,] 0.04551819 -0.3923523 0.4833886 0.4378705\n",
            " [8,] 0.04447066 -0.3950853 0.4840266 0.4395559\n",
            " [9,] 0.04124357 -0.3993636 0.4818508 0.4406072\n",
            "[10,] 0.03680645 -0.4044683 0.4780812 0.4412747\n",
            "[11,] 0.03426978 -0.4073936 0.4759331 0.4416633\n",
            "[12,] 0.03365928 -0.4082281 0.4755467 0.4418874\n",
            "[13,] 0.03302245 -0.4090039 0.4750488 0.4420263\n",
            "[14,] 0.03167715 -0.4104366 0.4737909 0.4421137\n",
            "\n"
          ],
          "name": "stdout"
        },
        {
          "output_type": "display_data",
          "data": {
            "image/png": "[encoded data removed]"
          },
          "metadata": {
            "tags": []
          }
        },
        {
          "output_type": "display_data",
          "data": {
            "image/png": "[encoded data removed]"
          },
          "metadata": {
            "tags": []
          }
        },
        {
          "output_type": "display_data",
          "data": {
            "image/png": "[encoded data removed]"
          },
          "metadata": {
            "tags": []
          }
        }
      ]
    }
  ]
}