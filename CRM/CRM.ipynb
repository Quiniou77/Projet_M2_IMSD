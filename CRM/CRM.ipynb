{
 "cells": [
  {
   "cell_type": "markdown",
   "metadata": {},
   "source": [
    "# Prédiction des retards de vols et recommander le déploiement fonctionnel de ce modèle pour leurs clients"
   ]
  },
  {
   "cell_type": "code",
   "execution_count": 2,
   "metadata": {},
   "outputs": [],
   "source": [
    "import sqlite3\n",
    "import pandas as pd\n",
    "import numpy as np\n",
    "%matplotlib inline\n",
    "import seaborn as sns\n",
    "import matplotlib.pyplot as plt \n",
    "import time\n",
    "from sklearn.preprocessing import LabelEncoder\n",
    "from sklearn.model_selection import train_test_split\n",
    "from sklearn.model_selection import GridSearchCV\n",
    "from sklearn.ensemble import RandomForestClassifier\n",
    "from sklearn.model_selection import KFold\n",
    "from sklearn.model_selection import cross_val_score\n",
    "from sklearn.metrics import confusion_matrix\n",
    "from sklearn.metrics import roc_auc_score\n",
    "from sklearn.metrics import precision_score\n",
    "from sklearn.metrics import roc_curve\n",
    "from sklearn import metrics\n",
    "from sklearn.linear_model import LogisticRegression"
   ]
  },
  {
   "cell_type": "code",
   "execution_count": 3,
   "metadata": {},
   "outputs": [],
   "source": [
    "# Create your connection\n",
    "cnx = sqlite3.connect(r'C:\\Users\\33627\\Documents\\IMSD 2019-2020\\IMSD S2\\CRM\\batch_1.db')"
   ]
  },
  {
   "cell_type": "markdown",
   "metadata": {},
   "source": [
    "## La table vols"
   ]
  },
  {
   "cell_type": "code",
   "execution_count": 4,
   "metadata": {},
   "outputs": [
    {
     "data": {
      "text/html": [
       "<div>\n",
       "<style scoped>\n",
       "    .dataframe tbody tr th:only-of-type {\n",
       "        vertical-align: middle;\n",
       "    }\n",
       "\n",
       "    .dataframe tbody tr th {\n",
       "        vertical-align: top;\n",
       "    }\n",
       "\n",
       "    .dataframe thead th {\n",
       "        text-align: right;\n",
       "    }\n",
       "</style>\n",
       "<table border=\"1\" class=\"dataframe\">\n",
       "  <thead>\n",
       "    <tr style=\"text-align: right;\">\n",
       "      <th></th>\n",
       "      <th>IDENTIFIANT</th>\n",
       "      <th>VOL</th>\n",
       "      <th>CODE AVION</th>\n",
       "      <th>AEROPORT DEPART</th>\n",
       "      <th>AEROPORT ARRIVEE</th>\n",
       "      <th>DEPART PROGRAMME</th>\n",
       "      <th>HEURE DE DEPART</th>\n",
       "      <th>RETART DE DEPART</th>\n",
       "      <th>TEMPS DE DEPLACEMENT A TERRE AU DECOLLAGE</th>\n",
       "      <th>DECOLLAGE</th>\n",
       "      <th>...</th>\n",
       "      <th>ANNULATION</th>\n",
       "      <th>RAISON D'ANNULATION</th>\n",
       "      <th>RETARD SYSTEM</th>\n",
       "      <th>RETARD SECURITE</th>\n",
       "      <th>RETARD COMPAGNIE</th>\n",
       "      <th>RETARD AVION</th>\n",
       "      <th>RETARD METEO</th>\n",
       "      <th>DATE</th>\n",
       "      <th>NIVEAU DE SECURITE</th>\n",
       "      <th>COMPAGNIE AERIENNE</th>\n",
       "    </tr>\n",
       "  </thead>\n",
       "  <tbody>\n",
       "    <tr>\n",
       "      <th>0</th>\n",
       "      <td>651373</td>\n",
       "      <td>2317</td>\n",
       "      <td>28fa5df4d7</td>\n",
       "      <td>TIA</td>\n",
       "      <td>DSS</td>\n",
       "      <td>1410</td>\n",
       "      <td>1411.0</td>\n",
       "      <td>1.0</td>\n",
       "      <td>20.0</td>\n",
       "      <td>1431.0</td>\n",
       "      <td>...</td>\n",
       "      <td>0</td>\n",
       "      <td>None</td>\n",
       "      <td>NaN</td>\n",
       "      <td>NaN</td>\n",
       "      <td>NaN</td>\n",
       "      <td>NaN</td>\n",
       "      <td>NaN</td>\n",
       "      <td>10/4/2016</td>\n",
       "      <td>10</td>\n",
       "      <td>NVPPA</td>\n",
       "    </tr>\n",
       "    <tr>\n",
       "      <th>1</th>\n",
       "      <td>4153042</td>\n",
       "      <td>1755</td>\n",
       "      <td>4b31cd6358</td>\n",
       "      <td>MPM</td>\n",
       "      <td>BOH</td>\n",
       "      <td>1455</td>\n",
       "      <td>1449.0</td>\n",
       "      <td>-6.0</td>\n",
       "      <td>15.0</td>\n",
       "      <td>1504.0</td>\n",
       "      <td>...</td>\n",
       "      <td>0</td>\n",
       "      <td>None</td>\n",
       "      <td>NaN</td>\n",
       "      <td>NaN</td>\n",
       "      <td>NaN</td>\n",
       "      <td>NaN</td>\n",
       "      <td>NaN</td>\n",
       "      <td>16/7/2018</td>\n",
       "      <td>10</td>\n",
       "      <td>COA</td>\n",
       "    </tr>\n",
       "    <tr>\n",
       "      <th>2</th>\n",
       "      <td>3617513</td>\n",
       "      <td>804</td>\n",
       "      <td>f3e0769c08</td>\n",
       "      <td>TRN</td>\n",
       "      <td>TNA</td>\n",
       "      <td>1540</td>\n",
       "      <td>1607.0</td>\n",
       "      <td>27.0</td>\n",
       "      <td>9.0</td>\n",
       "      <td>1616.0</td>\n",
       "      <td>...</td>\n",
       "      <td>0</td>\n",
       "      <td>None</td>\n",
       "      <td>NaN</td>\n",
       "      <td>NaN</td>\n",
       "      <td>NaN</td>\n",
       "      <td>NaN</td>\n",
       "      <td>NaN</td>\n",
       "      <td>6/1/2018</td>\n",
       "      <td>10</td>\n",
       "      <td>NA</td>\n",
       "    </tr>\n",
       "    <tr>\n",
       "      <th>3</th>\n",
       "      <td>1829601</td>\n",
       "      <td>263</td>\n",
       "      <td>2ba258e5c4</td>\n",
       "      <td>BRU</td>\n",
       "      <td>SXF</td>\n",
       "      <td>2226</td>\n",
       "      <td>2219.0</td>\n",
       "      <td>-7.0</td>\n",
       "      <td>14.0</td>\n",
       "      <td>2233.0</td>\n",
       "      <td>...</td>\n",
       "      <td>0</td>\n",
       "      <td>None</td>\n",
       "      <td>NaN</td>\n",
       "      <td>NaN</td>\n",
       "      <td>NaN</td>\n",
       "      <td>NaN</td>\n",
       "      <td>NaN</td>\n",
       "      <td>9/1/2016</td>\n",
       "      <td>10</td>\n",
       "      <td>THA</td>\n",
       "    </tr>\n",
       "    <tr>\n",
       "      <th>4</th>\n",
       "      <td>1250864</td>\n",
       "      <td>4511</td>\n",
       "      <td>11e7ffe99f</td>\n",
       "      <td>VCE</td>\n",
       "      <td>AAL</td>\n",
       "      <td>1730</td>\n",
       "      <td>1719.0</td>\n",
       "      <td>-11.0</td>\n",
       "      <td>14.0</td>\n",
       "      <td>1733.0</td>\n",
       "      <td>...</td>\n",
       "      <td>0</td>\n",
       "      <td>None</td>\n",
       "      <td>NaN</td>\n",
       "      <td>NaN</td>\n",
       "      <td>NaN</td>\n",
       "      <td>NaN</td>\n",
       "      <td>NaN</td>\n",
       "      <td>23/1/2016</td>\n",
       "      <td>10</td>\n",
       "      <td>MAF</td>\n",
       "    </tr>\n",
       "  </tbody>\n",
       "</table>\n",
       "<p>5 rows × 30 columns</p>\n",
       "</div>"
      ],
      "text/plain": [
       "   IDENTIFIANT   VOL  CODE AVION AEROPORT DEPART AEROPORT ARRIVEE  \\\n",
       "0       651373  2317  28fa5df4d7             TIA              DSS   \n",
       "1      4153042  1755  4b31cd6358             MPM              BOH   \n",
       "2      3617513   804  f3e0769c08             TRN              TNA   \n",
       "3      1829601   263  2ba258e5c4             BRU              SXF   \n",
       "4      1250864  4511  11e7ffe99f             VCE              AAL   \n",
       "\n",
       "   DEPART PROGRAMME  HEURE DE DEPART  RETART DE DEPART  \\\n",
       "0              1410           1411.0               1.0   \n",
       "1              1455           1449.0              -6.0   \n",
       "2              1540           1607.0              27.0   \n",
       "3              2226           2219.0              -7.0   \n",
       "4              1730           1719.0             -11.0   \n",
       "\n",
       "   TEMPS DE DEPLACEMENT A TERRE AU DECOLLAGE  DECOLLAGE  ...  ANNULATION  \\\n",
       "0                                       20.0     1431.0  ...           0   \n",
       "1                                       15.0     1504.0  ...           0   \n",
       "2                                        9.0     1616.0  ...           0   \n",
       "3                                       14.0     2233.0  ...           0   \n",
       "4                                       14.0     1733.0  ...           0   \n",
       "\n",
       "   RAISON D'ANNULATION  RETARD SYSTEM  RETARD SECURITE  RETARD COMPAGNIE  \\\n",
       "0                 None            NaN              NaN               NaN   \n",
       "1                 None            NaN              NaN               NaN   \n",
       "2                 None            NaN              NaN               NaN   \n",
       "3                 None            NaN              NaN               NaN   \n",
       "4                 None            NaN              NaN               NaN   \n",
       "\n",
       "   RETARD AVION  RETARD METEO       DATE  NIVEAU DE SECURITE  \\\n",
       "0           NaN           NaN  10/4/2016                  10   \n",
       "1           NaN           NaN  16/7/2018                  10   \n",
       "2           NaN           NaN   6/1/2018                  10   \n",
       "3           NaN           NaN   9/1/2016                  10   \n",
       "4           NaN           NaN  23/1/2016                  10   \n",
       "\n",
       "   COMPAGNIE AERIENNE  \n",
       "0               NVPPA  \n",
       "1                 COA  \n",
       "2                  NA  \n",
       "3                 THA  \n",
       "4                 MAF  \n",
       "\n",
       "[5 rows x 30 columns]"
      ]
     },
     "execution_count": 4,
     "metadata": {},
     "output_type": "execute_result"
    }
   ],
   "source": [
    "df_vols = pd.read_sql_query(\"SELECT * FROM vols\", cnx)\n",
    "df_vols.head()"
   ]
  },
  {
   "cell_type": "code",
   "execution_count": 5,
   "metadata": {},
   "outputs": [
    {
     "data": {
      "text/plain": [
       "Index(['IDENTIFIANT', 'VOL', 'CODE AVION', 'AEROPORT DEPART',\n",
       "       'AEROPORT ARRIVEE', 'DEPART PROGRAMME', 'HEURE DE DEPART',\n",
       "       'RETART DE DEPART', 'TEMPS DE DEPLACEMENT A TERRE AU DECOLLAGE',\n",
       "       'DECOLLAGE', 'TEMPS PROGRAMME', 'TEMPS PASSE', 'TEMPS DE VOL',\n",
       "       'DISTANCE', 'ATTERRISSAGE',\n",
       "       'TEMPS DE DEPLACEMENT A TERRE A L'ATTERRISSAGE', 'ARRIVEE PROGRAMMEE',\n",
       "       'HEURE D'ARRIVEE', 'RETARD A L'ARRIVEE', 'DETOURNEMENT', 'ANNULATION',\n",
       "       'RAISON D'ANNULATION', 'RETARD SYSTEM', 'RETARD SECURITE',\n",
       "       'RETARD COMPAGNIE', 'RETARD AVION', 'RETARD METEO', 'DATE',\n",
       "       'NIVEAU DE SECURITE', 'COMPAGNIE AERIENNE'],\n",
       "      dtype='object')"
      ]
     },
     "execution_count": 5,
     "metadata": {},
     "output_type": "execute_result"
    }
   ],
   "source": [
    "df_vols.columns"
   ]
  },
  {
   "cell_type": "code",
   "execution_count": 6,
   "metadata": {},
   "outputs": [
    {
     "data": {
      "text/plain": [
       "(3000000, 30)"
      ]
     },
     "execution_count": 6,
     "metadata": {},
     "output_type": "execute_result"
    }
   ],
   "source": [
    "df_vols.shape"
   ]
  },
  {
   "cell_type": "markdown",
   "metadata": {},
   "source": [
    "## La table aeroports"
   ]
  },
  {
   "cell_type": "code",
   "execution_count": 21,
   "metadata": {},
   "outputs": [
    {
     "data": {
      "text/html": [
       "<div>\n",
       "<style scoped>\n",
       "    .dataframe tbody tr th:only-of-type {\n",
       "        vertical-align: middle;\n",
       "    }\n",
       "\n",
       "    .dataframe tbody tr th {\n",
       "        vertical-align: top;\n",
       "    }\n",
       "\n",
       "    .dataframe thead th {\n",
       "        text-align: right;\n",
       "    }\n",
       "</style>\n",
       "<table border=\"1\" class=\"dataframe\">\n",
       "  <thead>\n",
       "    <tr style=\"text-align: right;\">\n",
       "      <th></th>\n",
       "      <th>CODE IATA</th>\n",
       "      <th>NOM</th>\n",
       "      <th>LIEU</th>\n",
       "      <th>PAYS</th>\n",
       "      <th>LONGITUDE</th>\n",
       "      <th>LATITUDE</th>\n",
       "      <th>HAUTEUR</th>\n",
       "      <th>PRIX RETARD PREMIERE 10 MINUTES</th>\n",
       "      <th>PRIS RETARD POUR CHAQUE MINUTE APRES 10 MINUTES</th>\n",
       "    </tr>\n",
       "  </thead>\n",
       "  <tbody>\n",
       "    <tr>\n",
       "      <th>0</th>\n",
       "      <td>MCT</td>\n",
       "      <td>Muscat International Airport</td>\n",
       "      <td>Muscat</td>\n",
       "      <td>OM</td>\n",
       "      <td>58.284400939941406</td>\n",
       "      <td>23.593299865722656</td>\n",
       "      <td>48.0</td>\n",
       "      <td>6695</td>\n",
       "      <td>361</td>\n",
       "    </tr>\n",
       "    <tr>\n",
       "      <th>1</th>\n",
       "      <td>SOU</td>\n",
       "      <td>Southampton Airport</td>\n",
       "      <td>Southampton</td>\n",
       "      <td>GB</td>\n",
       "      <td>-1.3567999601364136</td>\n",
       "      <td>50.95029830932617</td>\n",
       "      <td>44.0</td>\n",
       "      <td>1061</td>\n",
       "      <td>71</td>\n",
       "    </tr>\n",
       "    <tr>\n",
       "      <th>2</th>\n",
       "      <td>PNH</td>\n",
       "      <td>Phnom Penh International Airport</td>\n",
       "      <td>Phnom Penh</td>\n",
       "      <td>KH</td>\n",
       "      <td>104.84400177001953</td>\n",
       "      <td>11.546600341796875</td>\n",
       "      <td>40.0</td>\n",
       "      <td>2402</td>\n",
       "      <td>909</td>\n",
       "    </tr>\n",
       "    <tr>\n",
       "      <th>3</th>\n",
       "      <td>BLR</td>\n",
       "      <td>Kempegowda International Airport</td>\n",
       "      <td>Bangalore</td>\n",
       "      <td>IN</td>\n",
       "      <td>77.706299</td>\n",
       "      <td>13.1979</td>\n",
       "      <td>3000.0</td>\n",
       "      <td>8641</td>\n",
       "      <td>550</td>\n",
       "    </tr>\n",
       "    <tr>\n",
       "      <th>4</th>\n",
       "      <td>FFD</td>\n",
       "      <td>RAF Fairford</td>\n",
       "      <td>Fairford</td>\n",
       "      <td>GB</td>\n",
       "      <td>-1.7900300025900002</td>\n",
       "      <td>51.6822013855</td>\n",
       "      <td>286.0</td>\n",
       "      <td>6883</td>\n",
       "      <td>870</td>\n",
       "    </tr>\n",
       "  </tbody>\n",
       "</table>\n",
       "</div>"
      ],
      "text/plain": [
       "  CODE IATA                               NOM         LIEU PAYS  \\\n",
       "0       MCT      Muscat International Airport       Muscat   OM   \n",
       "1       SOU               Southampton Airport  Southampton   GB   \n",
       "2       PNH  Phnom Penh International Airport   Phnom Penh   KH   \n",
       "3       BLR  Kempegowda International Airport    Bangalore   IN   \n",
       "4       FFD                      RAF Fairford     Fairford   GB   \n",
       "\n",
       "             LONGITUDE             LATITUDE  HAUTEUR  \\\n",
       "0   58.284400939941406   23.593299865722656     48.0   \n",
       "1  -1.3567999601364136    50.95029830932617     44.0   \n",
       "2   104.84400177001953   11.546600341796875     40.0   \n",
       "3            77.706299              13.1979   3000.0   \n",
       "4  -1.7900300025900002        51.6822013855    286.0   \n",
       "\n",
       "   PRIX RETARD PREMIERE 10 MINUTES  \\\n",
       "0                             6695   \n",
       "1                             1061   \n",
       "2                             2402   \n",
       "3                             8641   \n",
       "4                             6883   \n",
       "\n",
       "   PRIS RETARD POUR CHAQUE MINUTE APRES 10 MINUTES  \n",
       "0                                              361  \n",
       "1                                               71  \n",
       "2                                              909  \n",
       "3                                              550  \n",
       "4                                              870  "
      ]
     },
     "execution_count": 21,
     "metadata": {},
     "output_type": "execute_result"
    }
   ],
   "source": [
    "df_aeroports = pd.read_sql_query(\"SELECT * FROM aeroports\", cnx)\n",
    "df_aeroports.head()"
   ]
  },
  {
   "cell_type": "code",
   "execution_count": 8,
   "metadata": {},
   "outputs": [
    {
     "data": {
      "text/plain": [
       "Index(['CODE IATA', 'NOM', 'LIEU', 'PAYS', 'LONGITUDE', 'LATITUDE', 'HAUTEUR',\n",
       "       'PRIX RETARD PREMIERE 10 MINUTES',\n",
       "       'PRIS RETARD POUR CHAQUE MINUTE APRES 10 MINUTES'],\n",
       "      dtype='object')"
      ]
     },
     "execution_count": 8,
     "metadata": {},
     "output_type": "execute_result"
    }
   ],
   "source": [
    "df_aeroports.columns"
   ]
  },
  {
   "cell_type": "code",
   "execution_count": 9,
   "metadata": {},
   "outputs": [
    {
     "data": {
      "text/plain": [
       "(321, 9)"
      ]
     },
     "execution_count": 9,
     "metadata": {},
     "output_type": "execute_result"
    }
   ],
   "source": [
    "df_aeroports.shape"
   ]
  },
  {
   "cell_type": "markdown",
   "metadata": {},
   "source": [
    "## La table compagnies"
   ]
  },
  {
   "cell_type": "code",
   "execution_count": 10,
   "metadata": {},
   "outputs": [
    {
     "data": {
      "text/html": [
       "<div>\n",
       "<style scoped>\n",
       "    .dataframe tbody tr th:only-of-type {\n",
       "        vertical-align: middle;\n",
       "    }\n",
       "\n",
       "    .dataframe tbody tr th {\n",
       "        vertical-align: top;\n",
       "    }\n",
       "\n",
       "    .dataframe thead th {\n",
       "        text-align: right;\n",
       "    }\n",
       "</style>\n",
       "<table border=\"1\" class=\"dataframe\">\n",
       "  <thead>\n",
       "    <tr style=\"text-align: right;\">\n",
       "      <th></th>\n",
       "      <th>COMPAGNIE</th>\n",
       "      <th>CODE</th>\n",
       "    </tr>\n",
       "  </thead>\n",
       "  <tbody>\n",
       "    <tr>\n",
       "      <th>0</th>\n",
       "      <td>Try Hard Airlines</td>\n",
       "      <td>THA</td>\n",
       "    </tr>\n",
       "    <tr>\n",
       "      <th>1</th>\n",
       "      <td>Corporate Overlord Airways</td>\n",
       "      <td>COA</td>\n",
       "    </tr>\n",
       "    <tr>\n",
       "      <th>2</th>\n",
       "      <td>Neverland Airlines</td>\n",
       "      <td>NA</td>\n",
       "    </tr>\n",
       "    <tr>\n",
       "      <th>3</th>\n",
       "      <td>Always A Problem Flights</td>\n",
       "      <td>AAPF</td>\n",
       "    </tr>\n",
       "    <tr>\n",
       "      <th>4</th>\n",
       "      <td>Overpriced Air</td>\n",
       "      <td>OA</td>\n",
       "    </tr>\n",
       "  </tbody>\n",
       "</table>\n",
       "</div>"
      ],
      "text/plain": [
       "                    COMPAGNIE  CODE\n",
       "0           Try Hard Airlines   THA\n",
       "1  Corporate Overlord Airways   COA\n",
       "2          Neverland Airlines    NA\n",
       "3    Always A Problem Flights  AAPF\n",
       "4              Overpriced Air    OA"
      ]
     },
     "execution_count": 10,
     "metadata": {},
     "output_type": "execute_result"
    }
   ],
   "source": [
    "df_compagines = pd.read_sql_query(\"SELECT * FROM compagnies\", cnx)\n",
    "df_compagines.head()"
   ]
  },
  {
   "cell_type": "code",
   "execution_count": 11,
   "metadata": {},
   "outputs": [
    {
     "data": {
      "text/plain": [
       "(13, 2)"
      ]
     },
     "execution_count": 11,
     "metadata": {},
     "output_type": "execute_result"
    }
   ],
   "source": [
    "df_compagines.shape"
   ]
  },
  {
   "cell_type": "markdown",
   "metadata": {},
   "source": [
    "## Merger les fichiers "
   ]
  },
  {
   "cell_type": "markdown",
   "metadata": {},
   "source": [
    "### Garder les colonnes utiles pour le fichier aeroports"
   ]
  },
  {
   "cell_type": "code",
   "execution_count": 9,
   "metadata": {},
   "outputs": [],
   "source": [
    "col_to_keep = ['CODE IATA', \n",
    "               'PRIX RETARD PREMIERE 10 MINUTES', \n",
    "               'PRIS RETARD POUR CHAQUE MINUTE APRES 10 MINUTES']\n",
    "\n",
    "df_aeroports = df_aeroports[col_to_keep]"
   ]
  },
  {
   "cell_type": "code",
   "execution_count": 10,
   "metadata": {},
   "outputs": [],
   "source": [
    "retart_10_min = df_aeroports.iloc[:,:-1].set_index(\n",
    "        'CODE IATA').to_dict()['PRIX RETARD PREMIERE 10 MINUTES']"
   ]
  },
  {
   "cell_type": "code",
   "execution_count": 11,
   "metadata": {},
   "outputs": [],
   "source": [
    "retart_apres_10_min = df_aeroports.loc[:,['CODE IATA',\n",
    "        'PRIS RETARD POUR CHAQUE MINUTE APRES 10 MINUTES']].set_index(\n",
    "        'CODE IATA').to_dict()['PRIS RETARD POUR CHAQUE MINUTE APRES 10 MINUTES']"
   ]
  },
  {
   "cell_type": "markdown",
   "metadata": {},
   "source": [
    "### Appliquer les calculs dans le fichiers vols"
   ]
  },
  {
   "cell_type": "code",
   "execution_count": 12,
   "metadata": {},
   "outputs": [],
   "source": [
    "df_vols[\"PRIX_DEP_RP_10MIN\"] = df_vols['AEROPORT DEPART'].apply(lambda x : retart_10_min[x])\n",
    "df_vols[\"PRIX_ARIV_RP_10MIN\"] = df_vols['AEROPORT ARRIVEE'].apply(lambda x : retart_10_min[x])"
   ]
  },
  {
   "cell_type": "code",
   "execution_count": 13,
   "metadata": {},
   "outputs": [
    {
     "data": {
      "text/plain": [
       "(2940415, 34)"
      ]
     },
     "execution_count": 13,
     "metadata": {},
     "output_type": "execute_result"
    }
   ],
   "source": [
    "df_vols[\"PRIX_DEP_RCMA_10MIN\"] = df_vols['AEROPORT DEPART'].apply(lambda x : retart_apres_10_min[x])\n",
    "df_vols[\"PRIX_ARIV_RCMA_10MIN\"] = df_vols['AEROPORT ARRIVEE'].apply(lambda x : retart_apres_10_min[x])\n",
    "df_vols.shape"
   ]
  },
  {
   "cell_type": "code",
   "execution_count": 18,
   "metadata": {},
   "outputs": [
    {
     "data": {
      "text/html": [
       "<div>\n",
       "<style scoped>\n",
       "    .dataframe tbody tr th:only-of-type {\n",
       "        vertical-align: middle;\n",
       "    }\n",
       "\n",
       "    .dataframe tbody tr th {\n",
       "        vertical-align: top;\n",
       "    }\n",
       "\n",
       "    .dataframe thead th {\n",
       "        text-align: right;\n",
       "    }\n",
       "</style>\n",
       "<table border=\"1\" class=\"dataframe\">\n",
       "  <thead>\n",
       "    <tr style=\"text-align: right;\">\n",
       "      <th></th>\n",
       "      <th>IDENTIFIANT</th>\n",
       "      <th>VOL</th>\n",
       "      <th>CODE AVION</th>\n",
       "      <th>AEROPORT DEPART</th>\n",
       "      <th>AEROPORT ARRIVEE</th>\n",
       "      <th>DEPART PROGRAMME</th>\n",
       "      <th>HEURE DE DEPART</th>\n",
       "      <th>RETART DE DEPART</th>\n",
       "      <th>TEMPS DE DEPLACEMENT A TERRE AU DECOLLAGE</th>\n",
       "      <th>DECOLLAGE</th>\n",
       "      <th>...</th>\n",
       "      <th>RETARD COMPAGNIE</th>\n",
       "      <th>RETARD AVION</th>\n",
       "      <th>RETARD METEO</th>\n",
       "      <th>DATE</th>\n",
       "      <th>NIVEAU DE SECURITE</th>\n",
       "      <th>COMPAGNIE AERIENNE</th>\n",
       "      <th>PRIX_DEP_RP_10MIN</th>\n",
       "      <th>PRIX_ARIV_RP_10MIN</th>\n",
       "      <th>PRIX_DEP_RCMA_10MIN</th>\n",
       "      <th>PRIX_ARIV_RCMA_10MIN</th>\n",
       "    </tr>\n",
       "  </thead>\n",
       "  <tbody>\n",
       "    <tr>\n",
       "      <th>0</th>\n",
       "      <td>651373</td>\n",
       "      <td>2317</td>\n",
       "      <td>28fa5df4d7</td>\n",
       "      <td>TIA</td>\n",
       "      <td>DSS</td>\n",
       "      <td>1410</td>\n",
       "      <td>1411.0</td>\n",
       "      <td>1.0</td>\n",
       "      <td>20.0</td>\n",
       "      <td>1431.0</td>\n",
       "      <td>...</td>\n",
       "      <td>NaN</td>\n",
       "      <td>NaN</td>\n",
       "      <td>NaN</td>\n",
       "      <td>10/4/2016</td>\n",
       "      <td>10</td>\n",
       "      <td>NVPPA</td>\n",
       "      <td>4582</td>\n",
       "      <td>5499</td>\n",
       "      <td>586</td>\n",
       "      <td>120</td>\n",
       "    </tr>\n",
       "    <tr>\n",
       "      <th>1</th>\n",
       "      <td>4153042</td>\n",
       "      <td>1755</td>\n",
       "      <td>4b31cd6358</td>\n",
       "      <td>MPM</td>\n",
       "      <td>BOH</td>\n",
       "      <td>1455</td>\n",
       "      <td>1449.0</td>\n",
       "      <td>-6.0</td>\n",
       "      <td>15.0</td>\n",
       "      <td>1504.0</td>\n",
       "      <td>...</td>\n",
       "      <td>NaN</td>\n",
       "      <td>NaN</td>\n",
       "      <td>NaN</td>\n",
       "      <td>16/7/2018</td>\n",
       "      <td>10</td>\n",
       "      <td>COA</td>\n",
       "      <td>4778</td>\n",
       "      <td>3147</td>\n",
       "      <td>12</td>\n",
       "      <td>278</td>\n",
       "    </tr>\n",
       "    <tr>\n",
       "      <th>2</th>\n",
       "      <td>3617513</td>\n",
       "      <td>804</td>\n",
       "      <td>f3e0769c08</td>\n",
       "      <td>TRN</td>\n",
       "      <td>TNA</td>\n",
       "      <td>1540</td>\n",
       "      <td>1607.0</td>\n",
       "      <td>27.0</td>\n",
       "      <td>9.0</td>\n",
       "      <td>1616.0</td>\n",
       "      <td>...</td>\n",
       "      <td>NaN</td>\n",
       "      <td>NaN</td>\n",
       "      <td>NaN</td>\n",
       "      <td>6/1/2018</td>\n",
       "      <td>10</td>\n",
       "      <td>NA</td>\n",
       "      <td>352</td>\n",
       "      <td>2066</td>\n",
       "      <td>849</td>\n",
       "      <td>795</td>\n",
       "    </tr>\n",
       "    <tr>\n",
       "      <th>3</th>\n",
       "      <td>1829601</td>\n",
       "      <td>263</td>\n",
       "      <td>2ba258e5c4</td>\n",
       "      <td>BRU</td>\n",
       "      <td>SXF</td>\n",
       "      <td>2226</td>\n",
       "      <td>2219.0</td>\n",
       "      <td>-7.0</td>\n",
       "      <td>14.0</td>\n",
       "      <td>2233.0</td>\n",
       "      <td>...</td>\n",
       "      <td>NaN</td>\n",
       "      <td>NaN</td>\n",
       "      <td>NaN</td>\n",
       "      <td>9/1/2016</td>\n",
       "      <td>10</td>\n",
       "      <td>THA</td>\n",
       "      <td>5077</td>\n",
       "      <td>2151</td>\n",
       "      <td>48</td>\n",
       "      <td>685</td>\n",
       "    </tr>\n",
       "    <tr>\n",
       "      <th>4</th>\n",
       "      <td>1250864</td>\n",
       "      <td>4511</td>\n",
       "      <td>11e7ffe99f</td>\n",
       "      <td>VCE</td>\n",
       "      <td>AAL</td>\n",
       "      <td>1730</td>\n",
       "      <td>1719.0</td>\n",
       "      <td>-11.0</td>\n",
       "      <td>14.0</td>\n",
       "      <td>1733.0</td>\n",
       "      <td>...</td>\n",
       "      <td>NaN</td>\n",
       "      <td>NaN</td>\n",
       "      <td>NaN</td>\n",
       "      <td>23/1/2016</td>\n",
       "      <td>10</td>\n",
       "      <td>MAF</td>\n",
       "      <td>2143</td>\n",
       "      <td>8346</td>\n",
       "      <td>434</td>\n",
       "      <td>353</td>\n",
       "    </tr>\n",
       "  </tbody>\n",
       "</table>\n",
       "<p>5 rows × 34 columns</p>\n",
       "</div>"
      ],
      "text/plain": [
       "   IDENTIFIANT   VOL  CODE AVION AEROPORT DEPART AEROPORT ARRIVEE  \\\n",
       "0       651373  2317  28fa5df4d7             TIA              DSS   \n",
       "1      4153042  1755  4b31cd6358             MPM              BOH   \n",
       "2      3617513   804  f3e0769c08             TRN              TNA   \n",
       "3      1829601   263  2ba258e5c4             BRU              SXF   \n",
       "4      1250864  4511  11e7ffe99f             VCE              AAL   \n",
       "\n",
       "   DEPART PROGRAMME  HEURE DE DEPART  RETART DE DEPART  \\\n",
       "0              1410           1411.0               1.0   \n",
       "1              1455           1449.0              -6.0   \n",
       "2              1540           1607.0              27.0   \n",
       "3              2226           2219.0              -7.0   \n",
       "4              1730           1719.0             -11.0   \n",
       "\n",
       "   TEMPS DE DEPLACEMENT A TERRE AU DECOLLAGE  DECOLLAGE  ...  \\\n",
       "0                                       20.0     1431.0  ...   \n",
       "1                                       15.0     1504.0  ...   \n",
       "2                                        9.0     1616.0  ...   \n",
       "3                                       14.0     2233.0  ...   \n",
       "4                                       14.0     1733.0  ...   \n",
       "\n",
       "   RETARD COMPAGNIE  RETARD AVION  RETARD METEO       DATE  \\\n",
       "0               NaN           NaN           NaN  10/4/2016   \n",
       "1               NaN           NaN           NaN  16/7/2018   \n",
       "2               NaN           NaN           NaN   6/1/2018   \n",
       "3               NaN           NaN           NaN   9/1/2016   \n",
       "4               NaN           NaN           NaN  23/1/2016   \n",
       "\n",
       "   NIVEAU DE SECURITE  COMPAGNIE AERIENNE  PRIX_DEP_RP_10MIN  \\\n",
       "0                  10               NVPPA               4582   \n",
       "1                  10                 COA               4778   \n",
       "2                  10                  NA                352   \n",
       "3                  10                 THA               5077   \n",
       "4                  10                 MAF               2143   \n",
       "\n",
       "   PRIX_ARIV_RP_10MIN  PRIX_DEP_RCMA_10MIN  PRIX_ARIV_RCMA_10MIN  \n",
       "0                5499                  586                   120  \n",
       "1                3147                   12                   278  \n",
       "2                2066                  849                   795  \n",
       "3                2151                   48                   685  \n",
       "4                8346                  434                   353  \n",
       "\n",
       "[5 rows x 34 columns]"
      ]
     },
     "execution_count": 18,
     "metadata": {},
     "output_type": "execute_result"
    }
   ],
   "source": [
    "df_vols.head()"
   ]
  },
  {
   "cell_type": "code",
   "execution_count": 19,
   "metadata": {},
   "outputs": [
    {
     "data": {
      "text/plain": [
       "Index(['IDENTIFIANT', 'VOL', 'CODE AVION', 'AEROPORT DEPART',\n",
       "       'AEROPORT ARRIVEE', 'DEPART PROGRAMME', 'HEURE DE DEPART',\n",
       "       'RETART DE DEPART', 'TEMPS DE DEPLACEMENT A TERRE AU DECOLLAGE',\n",
       "       'DECOLLAGE', 'TEMPS PROGRAMME', 'TEMPS PASSE', 'TEMPS DE VOL',\n",
       "       'DISTANCE', 'ATTERRISSAGE',\n",
       "       'TEMPS DE DEPLACEMENT A TERRE A L'ATTERRISSAGE', 'ARRIVEE PROGRAMMEE',\n",
       "       'HEURE D'ARRIVEE', 'RETARD A L'ARRIVEE', 'DETOURNEMENT', 'ANNULATION',\n",
       "       'RAISON D'ANNULATION', 'RETARD SYSTEM', 'RETARD SECURITE',\n",
       "       'RETARD COMPAGNIE', 'RETARD AVION', 'RETARD METEO', 'DATE',\n",
       "       'NIVEAU DE SECURITE', 'COMPAGNIE AERIENNE', 'PRIX_DEP_RP_10MIN',\n",
       "       'PRIX_ARIV_RP_10MIN', 'PRIX_DEP_RCMA_10MIN', 'PRIX_ARIV_RCMA_10MIN'],\n",
       "      dtype='object')"
      ]
     },
     "execution_count": 19,
     "metadata": {},
     "output_type": "execute_result"
    }
   ],
   "source": [
    "df_vols.columns"
   ]
  },
  {
   "cell_type": "code",
   "execution_count": 20,
   "metadata": {
    "scrolled": false
   },
   "outputs": [
    {
     "data": {
      "text/plain": [
       "IDENTIFIANT                                            0\n",
       "VOL                                                    0\n",
       "CODE AVION                                             0\n",
       "AEROPORT DEPART                                        0\n",
       "AEROPORT ARRIVEE                                       0\n",
       "DEPART PROGRAMME                                       0\n",
       "HEURE DE DEPART                                    49226\n",
       "RETART DE DEPART                                   49226\n",
       "TEMPS DE DEPLACEMENT A TERRE AU DECOLLAGE          51070\n",
       "DECOLLAGE                                          51070\n",
       "TEMPS PROGRAMME                                        6\n",
       "TEMPS PASSE                                        59585\n",
       "TEMPS DE VOL                                       59585\n",
       "DISTANCE                                               0\n",
       "ATTERRISSAGE                                       52876\n",
       "TEMPS DE DEPLACEMENT A TERRE A L'ATTERRISSAGE      52876\n",
       "ARRIVEE PROGRAMMEE                                     0\n",
       "HEURE D'ARRIVEE                                    52876\n",
       "RETARD A L'ARRIVEE                                 59585\n",
       "DETOURNEMENT                                           0\n",
       "ANNULATION                                             0\n",
       "RAISON D'ANNULATION                              2948414\n",
       "RETARD SYSTEM                                    2439769\n",
       "RETARD SECURITE                                  2439769\n",
       "RETARD COMPAGNIE                                 2439769\n",
       "RETARD AVION                                     2439769\n",
       "RETARD METEO                                     2439769\n",
       "DATE                                                   0\n",
       "NIVEAU DE SECURITE                                     0\n",
       "COMPAGNIE AERIENNE                                     0\n",
       "PRIX_DEP_RP_10MIN                                      0\n",
       "PRIX_ARIV_RP_10MIN                                     0\n",
       "PRIX_DEP_RCMA_10MIN                                    0\n",
       "PRIX_ARIV_RCMA_10MIN                                   0\n",
       "dtype: int64"
      ]
     },
     "execution_count": 20,
     "metadata": {},
     "output_type": "execute_result"
    }
   ],
   "source": [
    "df_vols.isnull().sum()"
   ]
  },
  {
   "cell_type": "markdown",
   "metadata": {},
   "source": [
    "##### Garder les vols qui ont un temps passé non nul"
   ]
  },
  {
   "cell_type": "code",
   "execution_count": 6,
   "metadata": {},
   "outputs": [
    {
     "data": {
      "text/plain": [
       "IDENTIFIANT                                            0\n",
       "VOL                                                    0\n",
       "CODE AVION                                             0\n",
       "AEROPORT DEPART                                        0\n",
       "AEROPORT ARRIVEE                                       0\n",
       "DEPART PROGRAMME                                       0\n",
       "HEURE DE DEPART                                        0\n",
       "RETART DE DEPART                                       0\n",
       "TEMPS DE DEPLACEMENT A TERRE AU DECOLLAGE              0\n",
       "DECOLLAGE                                              0\n",
       "TEMPS PROGRAMME                                        0\n",
       "TEMPS PASSE                                            0\n",
       "TEMPS DE VOL                                           0\n",
       "DISTANCE                                               0\n",
       "ATTERRISSAGE                                           0\n",
       "TEMPS DE DEPLACEMENT A TERRE A L'ATTERRISSAGE          0\n",
       "ARRIVEE PROGRAMMEE                                     0\n",
       "HEURE D'ARRIVEE                                        0\n",
       "RETARD A L'ARRIVEE                                     0\n",
       "DETOURNEMENT                                           0\n",
       "ANNULATION                                             0\n",
       "RAISON D'ANNULATION                              2940415\n",
       "RETARD SYSTEM                                    2380184\n",
       "RETARD SECURITE                                  2380184\n",
       "RETARD COMPAGNIE                                 2380184\n",
       "RETARD AVION                                     2380184\n",
       "RETARD METEO                                     2380184\n",
       "DATE                                                   0\n",
       "NIVEAU DE SECURITE                                     0\n",
       "COMPAGNIE AERIENNE                                     0\n",
       "dtype: int64"
      ]
     },
     "execution_count": 6,
     "metadata": {},
     "output_type": "execute_result"
    }
   ],
   "source": [
    "df_vols = df_vols[df_vols['TEMPS PASSE'].notna()]\n",
    "df_vols.isnull().sum()"
   ]
  },
  {
   "cell_type": "code",
   "execution_count": 22,
   "metadata": {},
   "outputs": [
    {
     "data": {
      "text/plain": [
       "(2940415, 34)"
      ]
     },
     "execution_count": 22,
     "metadata": {},
     "output_type": "execute_result"
    }
   ],
   "source": [
    "df_vols.shape"
   ]
  },
  {
   "cell_type": "code",
   "execution_count": 23,
   "metadata": {},
   "outputs": [
    {
     "data": {
      "text/plain": [
       "0    2940415\n",
       "Name: ANNULATION, dtype: int64"
      ]
     },
     "execution_count": 23,
     "metadata": {},
     "output_type": "execute_result"
    }
   ],
   "source": [
    "df_vols.ANNULATION.value_counts()"
   ]
  },
  {
   "cell_type": "code",
   "execution_count": 24,
   "metadata": {},
   "outputs": [
    {
     "data": {
      "text/plain": [
       "0    2940415\n",
       "Name: DETOURNEMENT, dtype: int64"
      ]
     },
     "execution_count": 24,
     "metadata": {},
     "output_type": "execute_result"
    }
   ],
   "source": [
    "df_vols.DETOURNEMENT.value_counts()"
   ]
  },
  {
   "cell_type": "code",
   "execution_count": 25,
   "metadata": {},
   "outputs": [
    {
     "data": {
      "text/plain": [
       "10    2940415\n",
       "Name: NIVEAU DE SECURITE, dtype: int64"
      ]
     },
     "execution_count": 25,
     "metadata": {},
     "output_type": "execute_result"
    }
   ],
   "source": [
    "df_vols[\"NIVEAU DE SECURITE\"].value_counts()"
   ]
  },
  {
   "cell_type": "markdown",
   "metadata": {},
   "source": [
    "### Colonnes à garder dans le fichier final"
   ]
  },
  {
   "cell_type": "code",
   "execution_count": 49,
   "metadata": {},
   "outputs": [],
   "source": [
    "col_to_keep = [ \n",
    "               'AEROPORT ARRIVEE',\n",
    "               'AEROPORT DEPART', \n",
    "               'DEPART PROGRAMME',\n",
    "               'HEURE DE DEPART', \n",
    "               'RETART DE DEPART',\n",
    "               'TEMPS PROGRAMME', \n",
    "               \"TEMPS DE DEPLACEMENT A TERRE AU DECOLLAGE\",\n",
    "               'DISTANCE',  \n",
    "               'DATE', \n",
    "               'COMPAGNIE AERIENNE', \n",
    "               'PRIX_DEP_RP_10MIN',\n",
    "               'PRIX_DEP_RCMA_10MIN' \n",
    "               ]\n",
    "\n",
    "df = df_vols[col_to_keep]"
   ]
  },
  {
   "cell_type": "code",
   "execution_count": null,
   "metadata": {},
   "outputs": [],
   "source": [
    "df= df.drop_duplicates()\n",
    "df.shape"
   ]
  },
  {
   "cell_type": "code",
   "execution_count": 15,
   "metadata": {},
   "outputs": [
    {
     "data": {
      "text/html": [
       "<div>\n",
       "<style scoped>\n",
       "    .dataframe tbody tr th:only-of-type {\n",
       "        vertical-align: middle;\n",
       "    }\n",
       "\n",
       "    .dataframe tbody tr th {\n",
       "        vertical-align: top;\n",
       "    }\n",
       "\n",
       "    .dataframe thead th {\n",
       "        text-align: right;\n",
       "    }\n",
       "</style>\n",
       "<table border=\"1\" class=\"dataframe\">\n",
       "  <thead>\n",
       "    <tr style=\"text-align: right;\">\n",
       "      <th></th>\n",
       "      <th>COMPAGNIE AERIENNE</th>\n",
       "      <th>num_retart</th>\n",
       "      <th>retard_moyen</th>\n",
       "    </tr>\n",
       "  </thead>\n",
       "  <tbody>\n",
       "    <tr>\n",
       "      <th>0</th>\n",
       "      <td>AAPF</td>\n",
       "      <td>23507</td>\n",
       "      <td>45.519377</td>\n",
       "    </tr>\n",
       "    <tr>\n",
       "      <th>2</th>\n",
       "      <td>APSLM</td>\n",
       "      <td>34723</td>\n",
       "      <td>42.275149</td>\n",
       "    </tr>\n",
       "    <tr>\n",
       "      <th>6</th>\n",
       "      <td>I6F</td>\n",
       "      <td>113638</td>\n",
       "      <td>40.835029</td>\n",
       "    </tr>\n",
       "    <tr>\n",
       "      <th>11</th>\n",
       "      <td>SMITH</td>\n",
       "      <td>63265</td>\n",
       "      <td>40.212867</td>\n",
       "    </tr>\n",
       "    <tr>\n",
       "      <th>7</th>\n",
       "      <td>MAF</td>\n",
       "      <td>114011</td>\n",
       "      <td>39.584908</td>\n",
       "    </tr>\n",
       "    <tr>\n",
       "      <th>10</th>\n",
       "      <td>OA</td>\n",
       "      <td>67258</td>\n",
       "      <td>38.399254</td>\n",
       "    </tr>\n",
       "    <tr>\n",
       "      <th>4</th>\n",
       "      <td>COA</td>\n",
       "      <td>160510</td>\n",
       "      <td>34.606249</td>\n",
       "    </tr>\n",
       "    <tr>\n",
       "      <th>12</th>\n",
       "      <td>THA</td>\n",
       "      <td>171445</td>\n",
       "      <td>32.801067</td>\n",
       "    </tr>\n",
       "    <tr>\n",
       "      <th>3</th>\n",
       "      <td>BTATA</td>\n",
       "      <td>15328</td>\n",
       "      <td>30.604254</td>\n",
       "    </tr>\n",
       "    <tr>\n",
       "      <th>9</th>\n",
       "      <td>NVPPA</td>\n",
       "      <td>188981</td>\n",
       "      <td>30.162588</td>\n",
       "    </tr>\n",
       "    <tr>\n",
       "      <th>8</th>\n",
       "      <td>NA</td>\n",
       "      <td>44736</td>\n",
       "      <td>28.481849</td>\n",
       "    </tr>\n",
       "    <tr>\n",
       "      <th>5</th>\n",
       "      <td>FIPI</td>\n",
       "      <td>28934</td>\n",
       "      <td>26.056059</td>\n",
       "    </tr>\n",
       "    <tr>\n",
       "      <th>1</th>\n",
       "      <td>AP</td>\n",
       "      <td>13190</td>\n",
       "      <td>17.450417</td>\n",
       "    </tr>\n",
       "  </tbody>\n",
       "</table>\n",
       "</div>"
      ],
      "text/plain": [
       "   COMPAGNIE AERIENNE  num_retart  retard_moyen\n",
       "0                AAPF       23507     45.519377\n",
       "2               APSLM       34723     42.275149\n",
       "6                 I6F      113638     40.835029\n",
       "11              SMITH       63265     40.212867\n",
       "7                 MAF      114011     39.584908\n",
       "10                 OA       67258     38.399254\n",
       "4                 COA      160510     34.606249\n",
       "12                THA      171445     32.801067\n",
       "3               BTATA       15328     30.604254\n",
       "9               NVPPA      188981     30.162588\n",
       "8                  NA       44736     28.481849\n",
       "5                FIPI       28934     26.056059\n",
       "1                  AP       13190     17.450417"
      ]
     },
     "execution_count": 15,
     "metadata": {},
     "output_type": "execute_result"
    }
   ],
   "source": [
    "moy = df[[\"COMPAGNIE AERIENNE\", \"RETART DE DEPART\"]]\n",
    "moy = moy[moy[\"RETART DE DEPART\"] > 0]\n",
    "moy = moy.groupby('COMPAGNIE AERIENNE') \\\n",
    "       .agg({'COMPAGNIE AERIENNE':'size', 'RETART DE DEPART':'mean'}) \\\n",
    "       .rename(columns={'COMPAGNIE AERIENNE':'num_retart','RETART DE DEPART':'retard_moyen'}) \\\n",
    "       .reset_index()\n",
    "moy.sort_values(by='retard_moyen', ascending=False)"
   ]
  },
  {
   "cell_type": "code",
   "execution_count": 16,
   "metadata": {},
   "outputs": [
    {
     "data": {
      "text/html": [
       "<div>\n",
       "<style scoped>\n",
       "    .dataframe tbody tr th:only-of-type {\n",
       "        vertical-align: middle;\n",
       "    }\n",
       "\n",
       "    .dataframe tbody tr th {\n",
       "        vertical-align: top;\n",
       "    }\n",
       "\n",
       "    .dataframe thead th {\n",
       "        text-align: right;\n",
       "    }\n",
       "</style>\n",
       "<table border=\"1\" class=\"dataframe\">\n",
       "  <thead>\n",
       "    <tr style=\"text-align: right;\">\n",
       "      <th></th>\n",
       "      <th>AEROPORT DEPART</th>\n",
       "      <th>AEROPORT ARRIVEE</th>\n",
       "      <th>retard_moyen</th>\n",
       "    </tr>\n",
       "  </thead>\n",
       "  <tbody>\n",
       "    <tr>\n",
       "      <th>1900</th>\n",
       "      <td>IST</td>\n",
       "      <td>FAO</td>\n",
       "      <td>399.000000</td>\n",
       "    </tr>\n",
       "    <tr>\n",
       "      <th>548</th>\n",
       "      <td>BOD</td>\n",
       "      <td>JED</td>\n",
       "      <td>341.000000</td>\n",
       "    </tr>\n",
       "    <tr>\n",
       "      <th>290</th>\n",
       "      <td>AGP</td>\n",
       "      <td>TSN</td>\n",
       "      <td>222.000000</td>\n",
       "    </tr>\n",
       "    <tr>\n",
       "      <th>2805</th>\n",
       "      <td>OTP</td>\n",
       "      <td>DSS</td>\n",
       "      <td>196.333333</td>\n",
       "    </tr>\n",
       "    <tr>\n",
       "      <th>2960</th>\n",
       "      <td>SEZ</td>\n",
       "      <td>WAW</td>\n",
       "      <td>190.000000</td>\n",
       "    </tr>\n",
       "    <tr>\n",
       "      <th>1142</th>\n",
       "      <td>DPS</td>\n",
       "      <td>DSS</td>\n",
       "      <td>175.500000</td>\n",
       "    </tr>\n",
       "    <tr>\n",
       "      <th>3357</th>\n",
       "      <td>TFS</td>\n",
       "      <td>UPG</td>\n",
       "      <td>158.250000</td>\n",
       "    </tr>\n",
       "    <tr>\n",
       "      <th>1093</th>\n",
       "      <td>DMK</td>\n",
       "      <td>AGP</td>\n",
       "      <td>154.285714</td>\n",
       "    </tr>\n",
       "    <tr>\n",
       "      <th>1898</th>\n",
       "      <td>IST</td>\n",
       "      <td>BRE</td>\n",
       "      <td>153.000000</td>\n",
       "    </tr>\n",
       "    <tr>\n",
       "      <th>403</th>\n",
       "      <td>AMM</td>\n",
       "      <td>FRA</td>\n",
       "      <td>145.500000</td>\n",
       "    </tr>\n",
       "  </tbody>\n",
       "</table>\n",
       "</div>"
      ],
      "text/plain": [
       "     AEROPORT DEPART AEROPORT ARRIVEE  retard_moyen\n",
       "1900             IST              FAO    399.000000\n",
       "548              BOD              JED    341.000000\n",
       "290              AGP              TSN    222.000000\n",
       "2805             OTP              DSS    196.333333\n",
       "2960             SEZ              WAW    190.000000\n",
       "1142             DPS              DSS    175.500000\n",
       "3357             TFS              UPG    158.250000\n",
       "1093             DMK              AGP    154.285714\n",
       "1898             IST              BRE    153.000000\n",
       "403              AMM              FRA    145.500000"
      ]
     },
     "execution_count": 16,
     "metadata": {},
     "output_type": "execute_result"
    }
   ],
   "source": [
    "moy = df[['AEROPORT DEPART','AEROPORT ARRIVEE', \"RETART DE DEPART\"]]\n",
    "moy = moy[moy[\"RETART DE DEPART\"] > 0]\n",
    "moy = moy.groupby(['AEROPORT DEPART','AEROPORT ARRIVEE']) \\\n",
    "       .agg({'RETART DE DEPART':'mean'}) \\\n",
    "       .rename(columns={'RETART DE DEPART':'retard_moyen'}) \\\n",
    "       .reset_index()\n",
    "moy = moy.sort_values(by='retard_moyen', ascending=False)\n",
    "moy.head(10)"
   ]
  },
  {
   "cell_type": "markdown",
   "metadata": {},
   "source": [
    "### Créer la colonne RETARD"
   ]
  },
  {
   "cell_type": "code",
   "execution_count": 28,
   "metadata": {},
   "outputs": [
    {
     "name": "stderr",
     "output_type": "stream",
     "text": [
      "C:\\Users\\33627\\Anaconda3\\lib\\site-packages\\pandas\\core\\indexing.py:362: SettingWithCopyWarning: \n",
      "A value is trying to be set on a copy of a slice from a DataFrame.\n",
      "Try using .loc[row_indexer,col_indexer] = value instead\n",
      "\n",
      "See the caveats in the documentation: http://pandas.pydata.org/pandas-docs/stable/indexing.html#indexing-view-versus-copy\n",
      "  self.obj[key] = _infer_fill_value(value)\n",
      "C:\\Users\\33627\\Anaconda3\\lib\\site-packages\\pandas\\core\\indexing.py:543: SettingWithCopyWarning: \n",
      "A value is trying to be set on a copy of a slice from a DataFrame.\n",
      "Try using .loc[row_indexer,col_indexer] = value instead\n",
      "\n",
      "See the caveats in the documentation: http://pandas.pydata.org/pandas-docs/stable/indexing.html#indexing-view-versus-copy\n",
      "  self.obj[item] = s\n",
      "C:\\Users\\33627\\Anaconda3\\lib\\site-packages\\pandas\\core\\frame.py:3940: SettingWithCopyWarning: \n",
      "A value is trying to be set on a copy of a slice from a DataFrame\n",
      "\n",
      "See the caveats in the documentation: http://pandas.pydata.org/pandas-docs/stable/indexing.html#indexing-view-versus-copy\n",
      "  errors=errors)\n"
     ]
    },
    {
     "data": {
      "text/plain": [
       "0.0    1745787\n",
       "1.0    1194628\n",
       "Name: RETARD, dtype: int64"
      ]
     },
     "execution_count": 28,
     "metadata": {},
     "output_type": "execute_result"
    }
   ],
   "source": [
    "df.loc[df['RETART DE DEPART'] >= 0,'RETARD'] = 1\n",
    "df.loc[df['RETART DE DEPART'] < 0,'RETARD'] = 0\n",
    "df.drop([\n",
    "    'RETART DE DEPART'], \n",
    "     axis=1, \n",
    "     inplace=True)\n",
    "\n",
    "df.RETARD.value_counts()"
   ]
  },
  {
   "cell_type": "code",
   "execution_count": 29,
   "metadata": {},
   "outputs": [
    {
     "data": {
      "text/html": [
       "<div>\n",
       "<style scoped>\n",
       "    .dataframe tbody tr th:only-of-type {\n",
       "        vertical-align: middle;\n",
       "    }\n",
       "\n",
       "    .dataframe tbody tr th {\n",
       "        vertical-align: top;\n",
       "    }\n",
       "\n",
       "    .dataframe thead th {\n",
       "        text-align: right;\n",
       "    }\n",
       "</style>\n",
       "<table border=\"1\" class=\"dataframe\">\n",
       "  <thead>\n",
       "    <tr style=\"text-align: right;\">\n",
       "      <th></th>\n",
       "      <th>AEROPORT ARRIVEE</th>\n",
       "      <th>AEROPORT DEPART</th>\n",
       "      <th>DEPART PROGRAMME</th>\n",
       "      <th>HEURE DE DEPART</th>\n",
       "      <th>TEMPS PROGRAMME</th>\n",
       "      <th>TEMPS DE DEPLACEMENT A TERRE AU DECOLLAGE</th>\n",
       "      <th>DISTANCE</th>\n",
       "      <th>DATE</th>\n",
       "      <th>COMPAGNIE AERIENNE</th>\n",
       "      <th>PRIX_DEP_RP_10MIN</th>\n",
       "      <th>PRIX_DEP_RCMA_10MIN</th>\n",
       "      <th>RETARD</th>\n",
       "    </tr>\n",
       "  </thead>\n",
       "  <tbody>\n",
       "    <tr>\n",
       "      <th>0</th>\n",
       "      <td>DSS</td>\n",
       "      <td>TIA</td>\n",
       "      <td>1410</td>\n",
       "      <td>1411.0</td>\n",
       "      <td>229.0</td>\n",
       "      <td>20.0</td>\n",
       "      <td>1749</td>\n",
       "      <td>10/4/2016</td>\n",
       "      <td>NVPPA</td>\n",
       "      <td>4582</td>\n",
       "      <td>586</td>\n",
       "      <td>1.0</td>\n",
       "    </tr>\n",
       "    <tr>\n",
       "      <th>1</th>\n",
       "      <td>BOH</td>\n",
       "      <td>MPM</td>\n",
       "      <td>1455</td>\n",
       "      <td>1449.0</td>\n",
       "      <td>210.0</td>\n",
       "      <td>15.0</td>\n",
       "      <td>1325</td>\n",
       "      <td>16/7/2018</td>\n",
       "      <td>COA</td>\n",
       "      <td>4778</td>\n",
       "      <td>12</td>\n",
       "      <td>0.0</td>\n",
       "    </tr>\n",
       "    <tr>\n",
       "      <th>2</th>\n",
       "      <td>TNA</td>\n",
       "      <td>TRN</td>\n",
       "      <td>1540</td>\n",
       "      <td>1607.0</td>\n",
       "      <td>235.0</td>\n",
       "      <td>9.0</td>\n",
       "      <td>1520</td>\n",
       "      <td>6/1/2018</td>\n",
       "      <td>NA</td>\n",
       "      <td>352</td>\n",
       "      <td>849</td>\n",
       "      <td>1.0</td>\n",
       "    </tr>\n",
       "    <tr>\n",
       "      <th>3</th>\n",
       "      <td>SXF</td>\n",
       "      <td>BRU</td>\n",
       "      <td>2226</td>\n",
       "      <td>2219.0</td>\n",
       "      <td>84.0</td>\n",
       "      <td>14.0</td>\n",
       "      <td>337</td>\n",
       "      <td>9/1/2016</td>\n",
       "      <td>THA</td>\n",
       "      <td>5077</td>\n",
       "      <td>48</td>\n",
       "      <td>0.0</td>\n",
       "    </tr>\n",
       "    <tr>\n",
       "      <th>4</th>\n",
       "      <td>AAL</td>\n",
       "      <td>VCE</td>\n",
       "      <td>1730</td>\n",
       "      <td>1719.0</td>\n",
       "      <td>71.0</td>\n",
       "      <td>14.0</td>\n",
       "      <td>252</td>\n",
       "      <td>23/1/2016</td>\n",
       "      <td>MAF</td>\n",
       "      <td>2143</td>\n",
       "      <td>434</td>\n",
       "      <td>0.0</td>\n",
       "    </tr>\n",
       "  </tbody>\n",
       "</table>\n",
       "</div>"
      ],
      "text/plain": [
       "  AEROPORT ARRIVEE AEROPORT DEPART  DEPART PROGRAMME  HEURE DE DEPART  \\\n",
       "0              DSS             TIA              1410           1411.0   \n",
       "1              BOH             MPM              1455           1449.0   \n",
       "2              TNA             TRN              1540           1607.0   \n",
       "3              SXF             BRU              2226           2219.0   \n",
       "4              AAL             VCE              1730           1719.0   \n",
       "\n",
       "   TEMPS PROGRAMME  TEMPS DE DEPLACEMENT A TERRE AU DECOLLAGE  DISTANCE  \\\n",
       "0            229.0                                       20.0      1749   \n",
       "1            210.0                                       15.0      1325   \n",
       "2            235.0                                        9.0      1520   \n",
       "3             84.0                                       14.0       337   \n",
       "4             71.0                                       14.0       252   \n",
       "\n",
       "        DATE COMPAGNIE AERIENNE  PRIX_DEP_RP_10MIN  PRIX_DEP_RCMA_10MIN  \\\n",
       "0  10/4/2016              NVPPA               4582                  586   \n",
       "1  16/7/2018                COA               4778                   12   \n",
       "2   6/1/2018                 NA                352                  849   \n",
       "3   9/1/2016                THA               5077                   48   \n",
       "4  23/1/2016                MAF               2143                  434   \n",
       "\n",
       "   RETARD  \n",
       "0     1.0  \n",
       "1     0.0  \n",
       "2     1.0  \n",
       "3     0.0  \n",
       "4     0.0  "
      ]
     },
     "execution_count": 29,
     "metadata": {},
     "output_type": "execute_result"
    }
   ],
   "source": [
    "df.head()"
   ]
  },
  {
   "cell_type": "code",
   "execution_count": 30,
   "metadata": {},
   "outputs": [
    {
     "name": "stdout",
     "output_type": "stream",
     "text": [
      "<class 'pandas.core.frame.DataFrame'>\n",
      "Int64Index: 2940415 entries, 0 to 2999999\n",
      "Data columns (total 12 columns):\n",
      "AEROPORT ARRIVEE                             object\n",
      "AEROPORT DEPART                              object\n",
      "DEPART PROGRAMME                             int64\n",
      "HEURE DE DEPART                              float64\n",
      "TEMPS PROGRAMME                              float64\n",
      "TEMPS DE DEPLACEMENT A TERRE AU DECOLLAGE    float64\n",
      "DISTANCE                                     int64\n",
      "DATE                                         object\n",
      "COMPAGNIE AERIENNE                           object\n",
      "PRIX_DEP_RP_10MIN                            int64\n",
      "PRIX_DEP_RCMA_10MIN                          int64\n",
      "RETARD                                       float64\n",
      "dtypes: float64(4), int64(4), object(4)\n",
      "memory usage: 291.6+ MB\n"
     ]
    }
   ],
   "source": [
    "df.info()"
   ]
  },
  {
   "cell_type": "code",
   "execution_count": 31,
   "metadata": {},
   "outputs": [
    {
     "name": "stdout",
     "output_type": "stream",
     "text": [
      "1/1/2016\n",
      "9/9/2018\n"
     ]
    }
   ],
   "source": [
    "print(min(df['DATE']))\n",
    "print(max(df['DATE']))"
   ]
  },
  {
   "cell_type": "code",
   "execution_count": 32,
   "metadata": {},
   "outputs": [
    {
     "data": {
      "text/plain": [
       "array(['NVPPA', 'COA', 'NA', 'THA', 'MAF', 'I6F', 'SMITH', 'AP', 'APSLM',\n",
       "       'OA', 'FIPI', 'BTATA', 'AAPF'], dtype=object)"
      ]
     },
     "execution_count": 32,
     "metadata": {},
     "output_type": "execute_result"
    }
   ],
   "source": [
    "df['COMPAGNIE AERIENNE'].unique()"
   ]
  },
  {
   "cell_type": "code",
   "execution_count": 33,
   "metadata": {},
   "outputs": [
    {
     "data": {
      "text/plain": [
       "array(['TIA', 'MPM', 'TRN', 'BRU', 'VCE', 'DUR', 'GOI', 'DXB', 'AGP',\n",
       "       'KIX', 'GLA', 'LTK', 'SXF', 'TNA', 'FRA', 'WRO', 'DSS', 'KOJ',\n",
       "       'HAN', 'QUO', 'HAJ', 'LJU', 'NGO', 'SHA', 'BSL', 'WMI', 'BRI',\n",
       "       'CNX', 'CTU', 'SYZ', 'SOU', 'HKG', 'ALG', 'TFS', 'SZX', 'TPE',\n",
       "       'SHJ', 'DLM', 'LPA', 'TSN', 'CGY', 'CAI', 'DJJ', 'ISB', 'JNB',\n",
       "       'VIE', 'BTS', 'MFM', 'REP', 'CPH', 'SVG', 'CGN', 'LXR', 'BOD',\n",
       "       'KWL', 'PNH', 'MAN', 'LBA', 'BHX', 'AMM', 'ITM', 'BOH', 'ORK',\n",
       "       'GDN', 'PMI', 'KGF', 'KRK', 'EMA', 'HET', 'ERZ', 'TBS', 'MED',\n",
       "       'DQM', 'UPG', 'CEB', 'TGD', 'COK', 'DME', 'NCE', 'AAL', 'LGG',\n",
       "       'SVX', 'KAN', 'BWN', 'GOT', 'DAM', 'DMM', 'MXP', 'SYX', 'EIN',\n",
       "       'CTA', 'UFA', 'SAW', 'FAO', 'MBA', 'BLR', 'MAA', 'DOH', 'TYN',\n",
       "       'AER', 'HRE', 'BLL', 'JUB', 'LUN', 'OKO', 'BCN', 'NAP', 'NBE',\n",
       "       'LIS', 'VNO', 'ODS', 'WAW', 'TIP', 'PEK', 'BEG', 'TSE', 'FOC',\n",
       "       'NCL', 'MWX', 'GYD', 'ALA', 'MRU', 'PDL', 'KUF', 'SOQ', 'RUH',\n",
       "       'MMX', 'BHD', 'NIM', 'TOS', 'SIN', 'ATQ', 'OSL', 'PSA', 'ADD',\n",
       "       'DLC', 'TER', 'NKG', 'MCT', 'XMN', 'LHR', 'CRL', 'MRS', 'FSZ',\n",
       "       'HGH', 'SEZ', 'HEL', 'SJJ', 'AUH', 'KRT', 'FRU', 'PMO', 'BJV',\n",
       "       'DPS', 'SKP', 'KTW', 'DTM', 'DEL', 'TBZ', 'URC', 'GOA', 'CAG',\n",
       "       'LOS', 'LCA', 'HAM', 'CSX', 'KZN', 'CKG', 'TSF', 'BRE', 'ABV',\n",
       "       'HYD', 'ALC', 'MLA', 'SOF', 'ADB', 'PKX', 'DWC', 'TAS', 'CJJ',\n",
       "       'KUL', 'NUE', 'RMS', 'DMK', 'CMB', 'DRS', 'PRG', 'AAP', 'POZ',\n",
       "       'ZAG', 'KHH', 'HND', 'DAC', 'BAH', 'RIX', 'XIY', 'JED', 'ALP',\n",
       "       'MNL', 'LAD', 'GBE', 'ISE', 'BGW', 'EVN', 'BFS', 'DKR', 'DUB',\n",
       "       'FNA', 'NNG', 'LGW', 'BGO', 'KMG', 'GVA', 'CJU', 'KNH', 'TLS',\n",
       "       'OPO', 'NGB', 'CRK', 'OVB', 'KBP', 'TLL', 'BLQ', 'CWL', 'STR',\n",
       "       'ULN', 'IKA', 'LLA', 'BRS', 'OTP', 'VAR', 'MHZ', 'CMN', 'CGK',\n",
       "       'WUH', 'NBO', 'ICN', 'VRN', 'IST', 'MNH', 'BZZ', 'TXL', 'HKT',\n",
       "       'EXT', 'LUX', 'NKC', 'SVO', 'FFD', 'LTN', 'BOM', 'CIA', 'SKT',\n",
       "       'DVO', 'SNN', 'FUK', 'CCJ', 'GZT', 'BUD', 'ARN', 'PUS', 'BEY',\n",
       "       'ZIA', 'BSR', 'SCQ', 'SID', 'KEF', 'TUN', 'FMO', 'BOO', 'FIH',\n",
       "       'THR', 'FKB', 'VKO', 'AKT', 'PRN', 'ASB', 'LED', 'EBB', 'KWE',\n",
       "       'SKG', 'MAD', 'HER', 'SUB', 'LYS', 'MLE', 'GMP', 'LPL', 'OUA',\n",
       "       'DAD', 'HAK', 'MDL', 'ZRH', 'VDA', 'TNR', 'NWI', 'ROB', 'DSA',\n",
       "       'TZX', 'ACC', 'DAR', 'STN', 'CGO', 'SPC', 'HRG', 'KUV', 'PFO',\n",
       "       'GRJ', 'LIN', 'MSQ', 'LEJ', 'KJA', 'MHD', 'KTM', 'SIP', 'TRV',\n",
       "       'KHV', 'ZNZ', 'CTS'], dtype=object)"
      ]
     },
     "execution_count": 33,
     "metadata": {},
     "output_type": "execute_result"
    }
   ],
   "source": [
    "df['AEROPORT DEPART'].unique()"
   ]
  },
  {
   "cell_type": "markdown",
   "metadata": {},
   "source": [
    "# Garder quelques lignes pour entrainer notre modèle"
   ]
  },
  {
   "cell_type": "code",
   "execution_count": 34,
   "metadata": {},
   "outputs": [
    {
     "data": {
      "text/plain": [
       "0.0    1745787\n",
       "1.0    1194628\n",
       "Name: RETARD, dtype: int64"
      ]
     },
     "execution_count": 34,
     "metadata": {},
     "output_type": "execute_result"
    }
   ],
   "source": [
    "data = df.iloc[:2940415]\n",
    "data.RETARD.value_counts()"
   ]
  },
  {
   "cell_type": "markdown",
   "metadata": {},
   "source": [
    "### Preprocessing DATE"
   ]
  },
  {
   "cell_type": "code",
   "execution_count": 35,
   "metadata": {},
   "outputs": [],
   "source": [
    "def _encode_dates(data):\n",
    "    \n",
    "    data = data.copy()\n",
    "\n",
    "    data.loc[:, 'DATE'] = pd.to_datetime(data['DATE'])\n",
    "    data.loc[:, 'year'] = data['DATE'].dt.year\n",
    "    data.loc[:, 'month'] = data['DATE'].dt.month\n",
    "    data.loc[:, 'day'] = data['DATE'].dt.day\n",
    "    data.loc[:, 'weekday'] = data['DATE'].dt.weekday\n",
    "    \n",
    "    return data.drop(columns=[\"DATE\"])\n",
    "\n",
    "data = _encode_dates(data)"
   ]
  },
  {
   "cell_type": "code",
   "execution_count": 36,
   "metadata": {},
   "outputs": [
    {
     "data": {
      "text/plain": [
       "Index(['AEROPORT ARRIVEE', 'AEROPORT DEPART', 'DEPART PROGRAMME',\n",
       "       'HEURE DE DEPART', 'TEMPS PROGRAMME',\n",
       "       'TEMPS DE DEPLACEMENT A TERRE AU DECOLLAGE', 'DISTANCE',\n",
       "       'COMPAGNIE AERIENNE', 'PRIX_DEP_RP_10MIN', 'PRIX_DEP_RCMA_10MIN',\n",
       "       'RETARD', 'year', 'month', 'day', 'weekday'],\n",
       "      dtype='object')"
      ]
     },
     "execution_count": 36,
     "metadata": {},
     "output_type": "execute_result"
    }
   ],
   "source": [
    "data.columns"
   ]
  },
  {
   "cell_type": "markdown",
   "metadata": {},
   "source": [
    "## Exploration des données "
   ]
  },
  {
   "cell_type": "code",
   "execution_count": 37,
   "metadata": {},
   "outputs": [
    {
     "data": {
      "text/plain": [
       "<Figure size 1080x360 with 0 Axes>"
      ]
     },
     "metadata": {},
     "output_type": "display_data"
    },
    {
     "data": {
      "image/png": "[encoded data removed]",
      "text/plain": [
       "<Figure size 432x288 with 1 Axes>"
      ]
     },
     "metadata": {
      "needs_background": "light"
     },
     "output_type": "display_data"
    },
    {
     "data": {
      "image/png": "[encoded data removed]",
      "text/plain": [
       "<Figure size 432x288 with 1 Axes>"
      ]
     },
     "metadata": {
      "needs_background": "light"
     },
     "output_type": "display_data"
    },
    {
     "data": {
      "image/png": "[encoded data removed]",
      "text/plain": [
       "<Figure size 432x288 with 1 Axes>"
      ]
     },
     "metadata": {
      "needs_background": "light"
     },
     "output_type": "display_data"
    },
    {
     "data": {
      "image/png": "[encoded data removed]",
      "text/plain": [
       "<Figure size 432x288 with 1 Axes>"
      ]
     },
     "metadata": {
      "needs_background": "light"
     },
     "output_type": "display_data"
    }
   ],
   "source": [
    "percent_Late = np.sum(data['RETARD'])/len(data['RETARD'])\n",
    "col = ['year', 'month', 'day', 'weekday']\n",
    "\n",
    "for i,pred in enumerate(col):\n",
    "    plt.figure(i, figsize=(15, 5))\n",
    "    group = data.groupby([pred], as_index=False).aggregate(np.mean)[[pred, 'RETARD']]\n",
    "    group.sort_values(by=pred, inplace=True)    \n",
    "    group.plot.bar(x=pred, y='RETARD')\n",
    "    plt.axhline(y=percent_Late, label='Average')\n",
    "    plt.ylabel('Percent of Flights that Arrive Late')\n",
    "    plt.title(pred)\n",
    "    plt.legend().remove()"
   ]
  },
  {
   "cell_type": "markdown",
   "metadata": {},
   "source": [
    "## label encoding"
   ]
  },
  {
   "cell_type": "code",
   "execution_count": 38,
   "metadata": {},
   "outputs": [],
   "source": [
    "encode = LabelEncoder()\n",
    "\n",
    "data[\"AEROPORT_DEPART\"] = encode.fit_transform(data[\"AEROPORT DEPART\"])\n",
    "AEROPORT_DEPART = list(encode.classes_)\n",
    "data[\"AEROPORT_ARRIVEE\"] = encode.fit_transform(data[\"AEROPORT ARRIVEE\"])\n",
    "AEROPORT_DEPART = list(encode.classes_)\n",
    "data[\"COMPAGNIE_AERIENNE\"] = encode.fit_transform(data[\"COMPAGNIE AERIENNE\"])\n",
    "COMPAGNIE_AERIENNE = list(encode.classes_)"
   ]
  },
  {
   "cell_type": "code",
   "execution_count": 39,
   "metadata": {},
   "outputs": [],
   "source": [
    "data.drop([\n",
    "    \"AEROPORT DEPART\", \n",
    "    \"COMPAGNIE AERIENNE\",\n",
    "    \"AEROPORT ARRIVEE\"\n",
    "], axis=1, inplace=True)#Removing original encoded columns"
   ]
  },
  {
   "cell_type": "code",
   "execution_count": 40,
   "metadata": {},
   "outputs": [
    {
     "data": {
      "text/html": [
       "<div>\n",
       "<style scoped>\n",
       "    .dataframe tbody tr th:only-of-type {\n",
       "        vertical-align: middle;\n",
       "    }\n",
       "\n",
       "    .dataframe tbody tr th {\n",
       "        vertical-align: top;\n",
       "    }\n",
       "\n",
       "    .dataframe thead th {\n",
       "        text-align: right;\n",
       "    }\n",
       "</style>\n",
       "<table border=\"1\" class=\"dataframe\">\n",
       "  <thead>\n",
       "    <tr style=\"text-align: right;\">\n",
       "      <th></th>\n",
       "      <th>DEPART PROGRAMME</th>\n",
       "      <th>HEURE DE DEPART</th>\n",
       "      <th>TEMPS PROGRAMME</th>\n",
       "      <th>TEMPS DE DEPLACEMENT A TERRE AU DECOLLAGE</th>\n",
       "      <th>DISTANCE</th>\n",
       "      <th>PRIX_DEP_RP_10MIN</th>\n",
       "      <th>PRIX_DEP_RCMA_10MIN</th>\n",
       "      <th>RETARD</th>\n",
       "      <th>year</th>\n",
       "      <th>month</th>\n",
       "      <th>day</th>\n",
       "      <th>weekday</th>\n",
       "      <th>AEROPORT_DEPART</th>\n",
       "      <th>AEROPORT_ARRIVEE</th>\n",
       "      <th>COMPAGNIE_AERIENNE</th>\n",
       "    </tr>\n",
       "  </thead>\n",
       "  <tbody>\n",
       "    <tr>\n",
       "      <th>0</th>\n",
       "      <td>1410</td>\n",
       "      <td>1411.0</td>\n",
       "      <td>229.0</td>\n",
       "      <td>20.0</td>\n",
       "      <td>1749</td>\n",
       "      <td>4582</td>\n",
       "      <td>586</td>\n",
       "      <td>1.0</td>\n",
       "      <td>2016</td>\n",
       "      <td>10</td>\n",
       "      <td>4</td>\n",
       "      <td>1</td>\n",
       "      <td>280</td>\n",
       "      <td>86</td>\n",
       "      <td>9</td>\n",
       "    </tr>\n",
       "    <tr>\n",
       "      <th>1</th>\n",
       "      <td>1455</td>\n",
       "      <td>1449.0</td>\n",
       "      <td>210.0</td>\n",
       "      <td>15.0</td>\n",
       "      <td>1325</td>\n",
       "      <td>4778</td>\n",
       "      <td>12</td>\n",
       "      <td>0.0</td>\n",
       "      <td>2018</td>\n",
       "      <td>7</td>\n",
       "      <td>16</td>\n",
       "      <td>0</td>\n",
       "      <td>201</td>\n",
       "      <td>32</td>\n",
       "      <td>4</td>\n",
       "    </tr>\n",
       "    <tr>\n",
       "      <th>2</th>\n",
       "      <td>1540</td>\n",
       "      <td>1607.0</td>\n",
       "      <td>235.0</td>\n",
       "      <td>9.0</td>\n",
       "      <td>1520</td>\n",
       "      <td>352</td>\n",
       "      <td>849</td>\n",
       "      <td>1.0</td>\n",
       "      <td>2018</td>\n",
       "      <td>6</td>\n",
       "      <td>1</td>\n",
       "      <td>4</td>\n",
       "      <td>288</td>\n",
       "      <td>284</td>\n",
       "      <td>8</td>\n",
       "    </tr>\n",
       "    <tr>\n",
       "      <th>3</th>\n",
       "      <td>2226</td>\n",
       "      <td>2219.0</td>\n",
       "      <td>84.0</td>\n",
       "      <td>14.0</td>\n",
       "      <td>337</td>\n",
       "      <td>5077</td>\n",
       "      <td>48</td>\n",
       "      <td>0.0</td>\n",
       "      <td>2016</td>\n",
       "      <td>9</td>\n",
       "      <td>1</td>\n",
       "      <td>3</td>\n",
       "      <td>38</td>\n",
       "      <td>269</td>\n",
       "      <td>12</td>\n",
       "    </tr>\n",
       "    <tr>\n",
       "      <th>4</th>\n",
       "      <td>1730</td>\n",
       "      <td>1719.0</td>\n",
       "      <td>71.0</td>\n",
       "      <td>14.0</td>\n",
       "      <td>252</td>\n",
       "      <td>2143</td>\n",
       "      <td>434</td>\n",
       "      <td>0.0</td>\n",
       "      <td>2016</td>\n",
       "      <td>1</td>\n",
       "      <td>23</td>\n",
       "      <td>5</td>\n",
       "      <td>302</td>\n",
       "      <td>0</td>\n",
       "      <td>7</td>\n",
       "    </tr>\n",
       "  </tbody>\n",
       "</table>\n",
       "</div>"
      ],
      "text/plain": [
       "   DEPART PROGRAMME  HEURE DE DEPART  TEMPS PROGRAMME  \\\n",
       "0              1410           1411.0            229.0   \n",
       "1              1455           1449.0            210.0   \n",
       "2              1540           1607.0            235.0   \n",
       "3              2226           2219.0             84.0   \n",
       "4              1730           1719.0             71.0   \n",
       "\n",
       "   TEMPS DE DEPLACEMENT A TERRE AU DECOLLAGE  DISTANCE  PRIX_DEP_RP_10MIN  \\\n",
       "0                                       20.0      1749               4582   \n",
       "1                                       15.0      1325               4778   \n",
       "2                                        9.0      1520                352   \n",
       "3                                       14.0       337               5077   \n",
       "4                                       14.0       252               2143   \n",
       "\n",
       "   PRIX_DEP_RCMA_10MIN  RETARD  year  month  day  weekday  AEROPORT_DEPART  \\\n",
       "0                  586     1.0  2016     10    4        1              280   \n",
       "1                   12     0.0  2018      7   16        0              201   \n",
       "2                  849     1.0  2018      6    1        4              288   \n",
       "3                   48     0.0  2016      9    1        3               38   \n",
       "4                  434     0.0  2016      1   23        5              302   \n",
       "\n",
       "   AEROPORT_ARRIVEE  COMPAGNIE_AERIENNE  \n",
       "0                86                   9  \n",
       "1                32                   4  \n",
       "2               284                   8  \n",
       "3               269                  12  \n",
       "4                 0                   7  "
      ]
     },
     "execution_count": 40,
     "metadata": {},
     "output_type": "execute_result"
    }
   ],
   "source": [
    "data.head()"
   ]
  },
  {
   "cell_type": "code",
   "execution_count": 41,
   "metadata": {},
   "outputs": [
    {
     "data": {
      "text/plain": [
       "555.0     7863\n",
       "556.0     7364\n",
       "557.0     7204\n",
       "558.0     6772\n",
       "655.0     6477\n",
       "554.0     6277\n",
       "656.0     6123\n",
       "559.0     6038\n",
       "657.0     5989\n",
       "658.0     5802\n",
       "654.0     5595\n",
       "600.0     5373\n",
       "659.0     5288\n",
       "553.0     4988\n",
       "700.0     4969\n",
       "653.0     4787\n",
       "755.0     4739\n",
       "754.0     4342\n",
       "756.0     4325\n",
       "725.0     4194\n",
       "757.0     4167\n",
       "955.0     4137\n",
       "652.0     3969\n",
       "857.0     3947\n",
       "1355.0    3930\n",
       "753.0     3930\n",
       "900.0     3928\n",
       "855.0     3917\n",
       "724.0     3906\n",
       "959.0     3895\n",
       "          ... \n",
       "358.0        7\n",
       "346.0        7\n",
       "436.0        7\n",
       "430.0        7\n",
       "412.0        7\n",
       "431.0        6\n",
       "422.0        6\n",
       "340.0        6\n",
       "345.0        6\n",
       "353.0        6\n",
       "440.0        6\n",
       "332.0        6\n",
       "331.0        6\n",
       "435.0        6\n",
       "351.0        5\n",
       "439.0        5\n",
       "434.0        5\n",
       "428.0        4\n",
       "343.0        4\n",
       "347.0        4\n",
       "337.0        4\n",
       "339.0        4\n",
       "403.0        3\n",
       "432.0        3\n",
       "441.0        3\n",
       "442.0        3\n",
       "338.0        3\n",
       "350.0        3\n",
       "433.0        2\n",
       "438.0        1\n",
       "Name: HEURE DE DEPART, Length: 1440, dtype: int64"
      ]
     },
     "execution_count": 41,
     "metadata": {},
     "output_type": "execute_result"
    }
   ],
   "source": [
    "data['HEURE DE DEPART'].value_counts()"
   ]
  },
  {
   "cell_type": "code",
   "execution_count": 42,
   "metadata": {},
   "outputs": [
    {
     "data": {
      "text/plain": [
       "12.0     239090\n",
       "13.0     238107\n",
       "14.0     226159\n",
       "11.0     220936\n",
       "15.0     204845\n",
       "10.0     184715\n",
       "16.0     181766\n",
       "17.0     158677\n",
       "18.0     136730\n",
       "9.0      130450\n",
       "19.0     117328\n",
       "20.0     100641\n",
       "21.0      86032\n",
       "8.0       73961\n",
       "22.0      73503\n",
       "23.0      62627\n",
       "24.0      53317\n",
       "25.0      45836\n",
       "26.0      39645\n",
       "27.0      33973\n",
       "7.0       33162\n",
       "28.0      29494\n",
       "29.0      25836\n",
       "30.0      22257\n",
       "31.0      19595\n",
       "32.0      17046\n",
       "33.0      15198\n",
       "6.0       13926\n",
       "34.0      13318\n",
       "35.0      11766\n",
       "          ...  \n",
       "146.0        10\n",
       "156.0         9\n",
       "147.0         8\n",
       "161.0         7\n",
       "164.0         6\n",
       "152.0         5\n",
       "154.0         5\n",
       "155.0         5\n",
       "158.0         5\n",
       "160.0         5\n",
       "162.0         4\n",
       "170.0         3\n",
       "165.0         3\n",
       "171.0         3\n",
       "167.0         3\n",
       "172.0         2\n",
       "157.0         2\n",
       "168.0         2\n",
       "166.0         2\n",
       "163.0         2\n",
       "169.0         1\n",
       "175.0         1\n",
       "176.0         1\n",
       "177.0         1\n",
       "178.0         1\n",
       "179.0         1\n",
       "180.0         1\n",
       "181.0         1\n",
       "185.0         1\n",
       "200.0         1\n",
       "Name: TEMPS DE DEPLACEMENT A TERRE AU DECOLLAGE, Length: 181, dtype: int64"
      ]
     },
     "execution_count": 42,
     "metadata": {},
     "output_type": "execute_result"
    }
   ],
   "source": [
    "data['TEMPS DE DEPLACEMENT A TERRE AU DECOLLAGE'].value_counts()"
   ]
  },
  {
   "cell_type": "code",
   "execution_count": 43,
   "metadata": {},
   "outputs": [
    {
     "data": {
      "text/plain": [
       "90.0     29799\n",
       "80.0     26884\n",
       "85.0     26703\n",
       "95.0     26478\n",
       "110.0    24606\n",
       "75.0     24506\n",
       "115.0    23095\n",
       "120.0    22852\n",
       "76.0     22521\n",
       "100.0    22321\n",
       "105.0    21639\n",
       "88.0     21596\n",
       "94.0     21412\n",
       "125.0    21246\n",
       "82.0     20897\n",
       "79.0     20802\n",
       "87.0     20802\n",
       "70.0     20770\n",
       "109.0    20726\n",
       "92.0     20680\n",
       "77.0     20568\n",
       "83.0     20543\n",
       "78.0     20059\n",
       "119.0    19968\n",
       "93.0     19948\n",
       "96.0     19899\n",
       "98.0     19853\n",
       "99.0     19772\n",
       "113.0    19769\n",
       "81.0     19644\n",
       "         ...  \n",
       "473.0        8\n",
       "705.0        8\n",
       "445.0        8\n",
       "521.0        7\n",
       "451.0        7\n",
       "515.0        7\n",
       "464.0        6\n",
       "513.0        6\n",
       "632.0        6\n",
       "526.0        5\n",
       "668.0        5\n",
       "425.0        5\n",
       "636.0        5\n",
       "542.0        5\n",
       "540.0        5\n",
       "446.0        5\n",
       "554.0        4\n",
       "458.0        4\n",
       "611.0        4\n",
       "550.0        3\n",
       "576.0        3\n",
       "478.0        3\n",
       "602.0        3\n",
       "510.0        3\n",
       "553.0        2\n",
       "506.0        2\n",
       "530.0        1\n",
       "547.0        1\n",
       "584.0        1\n",
       "600.0        1\n",
       "Name: TEMPS PROGRAMME, Length: 543, dtype: int64"
      ]
     },
     "execution_count": 43,
     "metadata": {},
     "output_type": "execute_result"
    }
   ],
   "source": [
    "data['TEMPS PROGRAMME'].value_counts()"
   ]
  },
  {
   "cell_type": "markdown",
   "metadata": {},
   "source": [
    "La granularité des nombres dans la colonne \"HEURE DE DEPART\" peut avoir un impact négatif sur la précision dans un modèle Machine Learning : elle contient en effet plus de 500 valeurs uniques. Ceci peut être résolu à l’aide d’une technique appelée compartimentage ou quantification. On divise chaque nombre par 100, en arrondissant le résultat à l'entier le plus proche. Par exemple 1030 deviendra 10, 1925 deviendrait 19 et ainsi de suite, et nous aurons alors un maximum de 24 valeurs discrètes dans cette colonne.\n",
    "Intuitivement, ceci a du sens, car cela importe probablement peu qu’un vol parte à 10 h 30 ou à 10 h 40. "
   ]
  },
  {
   "cell_type": "code",
   "execution_count": 44,
   "metadata": {},
   "outputs": [
    {
     "data": {
      "text/html": [
       "<div>\n",
       "<style scoped>\n",
       "    .dataframe tbody tr th:only-of-type {\n",
       "        vertical-align: middle;\n",
       "    }\n",
       "\n",
       "    .dataframe tbody tr th {\n",
       "        vertical-align: top;\n",
       "    }\n",
       "\n",
       "    .dataframe thead th {\n",
       "        text-align: right;\n",
       "    }\n",
       "</style>\n",
       "<table border=\"1\" class=\"dataframe\">\n",
       "  <thead>\n",
       "    <tr style=\"text-align: right;\">\n",
       "      <th></th>\n",
       "      <th>TEMPS PROGRAMME</th>\n",
       "      <th>TEMPS DE DEPLACEMENT A TERRE AU DECOLLAGE</th>\n",
       "      <th>DISTANCE</th>\n",
       "      <th>PRIX_DEP_RP_10MIN</th>\n",
       "      <th>PRIX_DEP_RCMA_10MIN</th>\n",
       "      <th>RETARD</th>\n",
       "      <th>year</th>\n",
       "      <th>month</th>\n",
       "      <th>day</th>\n",
       "      <th>weekday</th>\n",
       "      <th>AEROPORT_DEPART</th>\n",
       "      <th>AEROPORT_ARRIVEE</th>\n",
       "      <th>COMPAGNIE_AERIENNE</th>\n",
       "      <th>HEURE_DEPART</th>\n",
       "      <th>DEPART_PROGRAMME</th>\n",
       "    </tr>\n",
       "  </thead>\n",
       "  <tbody>\n",
       "    <tr>\n",
       "      <th>0</th>\n",
       "      <td>229.0</td>\n",
       "      <td>20.0</td>\n",
       "      <td>1749</td>\n",
       "      <td>4582</td>\n",
       "      <td>586</td>\n",
       "      <td>1.0</td>\n",
       "      <td>2016</td>\n",
       "      <td>10</td>\n",
       "      <td>4</td>\n",
       "      <td>1</td>\n",
       "      <td>280</td>\n",
       "      <td>86</td>\n",
       "      <td>9</td>\n",
       "      <td>14</td>\n",
       "      <td>14</td>\n",
       "    </tr>\n",
       "    <tr>\n",
       "      <th>1</th>\n",
       "      <td>210.0</td>\n",
       "      <td>15.0</td>\n",
       "      <td>1325</td>\n",
       "      <td>4778</td>\n",
       "      <td>12</td>\n",
       "      <td>0.0</td>\n",
       "      <td>2018</td>\n",
       "      <td>7</td>\n",
       "      <td>16</td>\n",
       "      <td>0</td>\n",
       "      <td>201</td>\n",
       "      <td>32</td>\n",
       "      <td>4</td>\n",
       "      <td>14</td>\n",
       "      <td>15</td>\n",
       "    </tr>\n",
       "    <tr>\n",
       "      <th>2</th>\n",
       "      <td>235.0</td>\n",
       "      <td>9.0</td>\n",
       "      <td>1520</td>\n",
       "      <td>352</td>\n",
       "      <td>849</td>\n",
       "      <td>1.0</td>\n",
       "      <td>2018</td>\n",
       "      <td>6</td>\n",
       "      <td>1</td>\n",
       "      <td>4</td>\n",
       "      <td>288</td>\n",
       "      <td>284</td>\n",
       "      <td>8</td>\n",
       "      <td>16</td>\n",
       "      <td>15</td>\n",
       "    </tr>\n",
       "    <tr>\n",
       "      <th>3</th>\n",
       "      <td>84.0</td>\n",
       "      <td>14.0</td>\n",
       "      <td>337</td>\n",
       "      <td>5077</td>\n",
       "      <td>48</td>\n",
       "      <td>0.0</td>\n",
       "      <td>2016</td>\n",
       "      <td>9</td>\n",
       "      <td>1</td>\n",
       "      <td>3</td>\n",
       "      <td>38</td>\n",
       "      <td>269</td>\n",
       "      <td>12</td>\n",
       "      <td>22</td>\n",
       "      <td>22</td>\n",
       "    </tr>\n",
       "    <tr>\n",
       "      <th>4</th>\n",
       "      <td>71.0</td>\n",
       "      <td>14.0</td>\n",
       "      <td>252</td>\n",
       "      <td>2143</td>\n",
       "      <td>434</td>\n",
       "      <td>0.0</td>\n",
       "      <td>2016</td>\n",
       "      <td>1</td>\n",
       "      <td>23</td>\n",
       "      <td>5</td>\n",
       "      <td>302</td>\n",
       "      <td>0</td>\n",
       "      <td>7</td>\n",
       "      <td>17</td>\n",
       "      <td>17</td>\n",
       "    </tr>\n",
       "  </tbody>\n",
       "</table>\n",
       "</div>"
      ],
      "text/plain": [
       "   TEMPS PROGRAMME  TEMPS DE DEPLACEMENT A TERRE AU DECOLLAGE  DISTANCE  \\\n",
       "0            229.0                                       20.0      1749   \n",
       "1            210.0                                       15.0      1325   \n",
       "2            235.0                                        9.0      1520   \n",
       "3             84.0                                       14.0       337   \n",
       "4             71.0                                       14.0       252   \n",
       "\n",
       "   PRIX_DEP_RP_10MIN  PRIX_DEP_RCMA_10MIN  RETARD  year  month  day  weekday  \\\n",
       "0               4582                  586     1.0  2016     10    4        1   \n",
       "1               4778                   12     0.0  2018      7   16        0   \n",
       "2                352                  849     1.0  2018      6    1        4   \n",
       "3               5077                   48     0.0  2016      9    1        3   \n",
       "4               2143                  434     0.0  2016      1   23        5   \n",
       "\n",
       "   AEROPORT_DEPART  AEROPORT_ARRIVEE  COMPAGNIE_AERIENNE  HEURE_DEPART  \\\n",
       "0              280                86                   9            14   \n",
       "1              201                32                   4            14   \n",
       "2              288               284                   8            16   \n",
       "3               38               269                  12            22   \n",
       "4              302                 0                   7            17   \n",
       "\n",
       "   DEPART_PROGRAMME  \n",
       "0                14  \n",
       "1                15  \n",
       "2                15  \n",
       "3                22  \n",
       "4                17  "
      ]
     },
     "execution_count": 44,
     "metadata": {},
     "output_type": "execute_result"
    }
   ],
   "source": [
    "data['HEURE_DEPART'] = data['HEURE DE DEPART'].div(100).round().astype('int64')\n",
    "data['DEPART_PROGRAMME'] = data['DEPART PROGRAMME'].div(100).round().astype('int64')\n",
    "\n",
    "data.drop([\"HEURE DE DEPART\", \"DEPART PROGRAMME\"], axis=1, inplace=True) #Removing original encoded columns\n",
    "\n",
    "data.head()"
   ]
  },
  {
   "cell_type": "code",
   "execution_count": 45,
   "metadata": {},
   "outputs": [
    {
     "data": {
      "text/html": [
       "<div>\n",
       "<style scoped>\n",
       "    .dataframe tbody tr th:only-of-type {\n",
       "        vertical-align: middle;\n",
       "    }\n",
       "\n",
       "    .dataframe tbody tr th {\n",
       "        vertical-align: top;\n",
       "    }\n",
       "\n",
       "    .dataframe thead th {\n",
       "        text-align: right;\n",
       "    }\n",
       "</style>\n",
       "<table border=\"1\" class=\"dataframe\">\n",
       "  <thead>\n",
       "    <tr style=\"text-align: right;\">\n",
       "      <th></th>\n",
       "      <th>TEMPS PROGRAMME</th>\n",
       "      <th>TEMPS DE DEPLACEMENT A TERRE AU DECOLLAGE</th>\n",
       "      <th>DISTANCE</th>\n",
       "      <th>PRIX_DEP_RP_10MIN</th>\n",
       "      <th>PRIX_DEP_RCMA_10MIN</th>\n",
       "      <th>RETARD</th>\n",
       "      <th>year</th>\n",
       "      <th>month</th>\n",
       "      <th>day</th>\n",
       "      <th>weekday</th>\n",
       "      <th>AEROPORT_DEPART</th>\n",
       "      <th>AEROPORT_ARRIVEE</th>\n",
       "      <th>COMPAGNIE_AERIENNE</th>\n",
       "      <th>HEURE_DEPART</th>\n",
       "      <th>DEPART_PROGRAMME</th>\n",
       "    </tr>\n",
       "  </thead>\n",
       "  <tbody>\n",
       "    <tr>\n",
       "      <th>count</th>\n",
       "      <td>2.940415e+06</td>\n",
       "      <td>2.940415e+06</td>\n",
       "      <td>2.940415e+06</td>\n",
       "      <td>2.940415e+06</td>\n",
       "      <td>2.940415e+06</td>\n",
       "      <td>2.940415e+06</td>\n",
       "      <td>2.940415e+06</td>\n",
       "      <td>2.940415e+06</td>\n",
       "      <td>2.940415e+06</td>\n",
       "      <td>2.940415e+06</td>\n",
       "      <td>2.940415e+06</td>\n",
       "      <td>2.940415e+06</td>\n",
       "      <td>2.940415e+06</td>\n",
       "      <td>2.940415e+06</td>\n",
       "      <td>2.940415e+06</td>\n",
       "    </tr>\n",
       "    <tr>\n",
       "      <th>mean</th>\n",
       "      <td>1.461290e+02</td>\n",
       "      <td>1.725067e+01</td>\n",
       "      <td>8.487171e+02</td>\n",
       "      <td>5.111439e+03</td>\n",
       "      <td>4.754675e+02</td>\n",
       "      <td>4.062787e-01</td>\n",
       "      <td>2.017000e+03</td>\n",
       "      <td>6.339581e+00</td>\n",
       "      <td>1.557444e+01</td>\n",
       "      <td>3.027942e+00</td>\n",
       "      <td>1.401194e+02</td>\n",
       "      <td>1.401264e+02</td>\n",
       "      <td>7.333529e+00</td>\n",
       "      <td>1.322415e+01</td>\n",
       "      <td>1.315042e+01</td>\n",
       "    </tr>\n",
       "    <tr>\n",
       "      <th>std</th>\n",
       "      <td>7.920409e+01</td>\n",
       "      <td>9.256521e+00</td>\n",
       "      <td>6.447817e+02</td>\n",
       "      <td>2.714838e+03</td>\n",
       "      <td>2.791050e+02</td>\n",
       "      <td>4.911379e-01</td>\n",
       "      <td>8.163947e-01</td>\n",
       "      <td>3.403078e+00</td>\n",
       "      <td>8.878064e+00</td>\n",
       "      <td>1.993309e+00</td>\n",
       "      <td>9.626338e+01</td>\n",
       "      <td>9.624402e+01</td>\n",
       "      <td>3.033791e+00</td>\n",
       "      <td>4.966971e+00</td>\n",
       "      <td>4.865946e+00</td>\n",
       "    </tr>\n",
       "    <tr>\n",
       "      <th>min</th>\n",
       "      <td>1.800000e+01</td>\n",
       "      <td>1.000000e+00</td>\n",
       "      <td>3.100000e+01</td>\n",
       "      <td>1.050000e+02</td>\n",
       "      <td>1.100000e+01</td>\n",
       "      <td>0.000000e+00</td>\n",
       "      <td>2.016000e+03</td>\n",
       "      <td>1.000000e+00</td>\n",
       "      <td>1.000000e+00</td>\n",
       "      <td>0.000000e+00</td>\n",
       "      <td>0.000000e+00</td>\n",
       "      <td>0.000000e+00</td>\n",
       "      <td>0.000000e+00</td>\n",
       "      <td>0.000000e+00</td>\n",
       "      <td>0.000000e+00</td>\n",
       "    </tr>\n",
       "    <tr>\n",
       "      <th>25%</th>\n",
       "      <td>8.800000e+01</td>\n",
       "      <td>1.200000e+01</td>\n",
       "      <td>3.720000e+02</td>\n",
       "      <td>2.401000e+03</td>\n",
       "      <td>2.560000e+02</td>\n",
       "      <td>0.000000e+00</td>\n",
       "      <td>2.016000e+03</td>\n",
       "      <td>3.000000e+00</td>\n",
       "      <td>7.000000e+00</td>\n",
       "      <td>1.000000e+00</td>\n",
       "      <td>6.100000e+01</td>\n",
       "      <td>6.100000e+01</td>\n",
       "      <td>5.000000e+00</td>\n",
       "      <td>9.000000e+00</td>\n",
       "      <td>9.000000e+00</td>\n",
       "    </tr>\n",
       "    <tr>\n",
       "      <th>50%</th>\n",
       "      <td>1.250000e+02</td>\n",
       "      <td>1.500000e+01</td>\n",
       "      <td>6.660000e+02</td>\n",
       "      <td>5.389000e+03</td>\n",
       "      <td>4.850000e+02</td>\n",
       "      <td>0.000000e+00</td>\n",
       "      <td>2.017000e+03</td>\n",
       "      <td>6.000000e+00</td>\n",
       "      <td>1.600000e+01</td>\n",
       "      <td>3.000000e+00</td>\n",
       "      <td>1.240000e+02</td>\n",
       "      <td>1.240000e+02</td>\n",
       "      <td>7.000000e+00</td>\n",
       "      <td>1.300000e+01</td>\n",
       "      <td>1.300000e+01</td>\n",
       "    </tr>\n",
       "    <tr>\n",
       "      <th>75%</th>\n",
       "      <td>1.790000e+02</td>\n",
       "      <td>2.000000e+01</td>\n",
       "      <td>1.091000e+03</td>\n",
       "      <td>7.791000e+03</td>\n",
       "      <td>6.950000e+02</td>\n",
       "      <td>1.000000e+00</td>\n",
       "      <td>2.018000e+03</td>\n",
       "      <td>9.000000e+00</td>\n",
       "      <td>2.300000e+01</td>\n",
       "      <td>5.000000e+00</td>\n",
       "      <td>2.400000e+02</td>\n",
       "      <td>2.400000e+02</td>\n",
       "      <td>9.000000e+00</td>\n",
       "      <td>1.700000e+01</td>\n",
       "      <td>1.700000e+01</td>\n",
       "    </tr>\n",
       "    <tr>\n",
       "      <th>max</th>\n",
       "      <td>7.180000e+02</td>\n",
       "      <td>2.000000e+02</td>\n",
       "      <td>4.983000e+03</td>\n",
       "      <td>9.877000e+03</td>\n",
       "      <td>9.950000e+02</td>\n",
       "      <td>1.000000e+00</td>\n",
       "      <td>2.018000e+03</td>\n",
       "      <td>1.200000e+01</td>\n",
       "      <td>3.100000e+01</td>\n",
       "      <td>6.000000e+00</td>\n",
       "      <td>3.170000e+02</td>\n",
       "      <td>3.170000e+02</td>\n",
       "      <td>1.200000e+01</td>\n",
       "      <td>2.400000e+01</td>\n",
       "      <td>2.400000e+01</td>\n",
       "    </tr>\n",
       "  </tbody>\n",
       "</table>\n",
       "</div>"
      ],
      "text/plain": [
       "       TEMPS PROGRAMME  TEMPS DE DEPLACEMENT A TERRE AU DECOLLAGE  \\\n",
       "count     2.940415e+06                               2.940415e+06   \n",
       "mean      1.461290e+02                               1.725067e+01   \n",
       "std       7.920409e+01                               9.256521e+00   \n",
       "min       1.800000e+01                               1.000000e+00   \n",
       "25%       8.800000e+01                               1.200000e+01   \n",
       "50%       1.250000e+02                               1.500000e+01   \n",
       "75%       1.790000e+02                               2.000000e+01   \n",
       "max       7.180000e+02                               2.000000e+02   \n",
       "\n",
       "           DISTANCE  PRIX_DEP_RP_10MIN  PRIX_DEP_RCMA_10MIN        RETARD  \\\n",
       "count  2.940415e+06       2.940415e+06         2.940415e+06  2.940415e+06   \n",
       "mean   8.487171e+02       5.111439e+03         4.754675e+02  4.062787e-01   \n",
       "std    6.447817e+02       2.714838e+03         2.791050e+02  4.911379e-01   \n",
       "min    3.100000e+01       1.050000e+02         1.100000e+01  0.000000e+00   \n",
       "25%    3.720000e+02       2.401000e+03         2.560000e+02  0.000000e+00   \n",
       "50%    6.660000e+02       5.389000e+03         4.850000e+02  0.000000e+00   \n",
       "75%    1.091000e+03       7.791000e+03         6.950000e+02  1.000000e+00   \n",
       "max    4.983000e+03       9.877000e+03         9.950000e+02  1.000000e+00   \n",
       "\n",
       "               year         month           day       weekday  \\\n",
       "count  2.940415e+06  2.940415e+06  2.940415e+06  2.940415e+06   \n",
       "mean   2.017000e+03  6.339581e+00  1.557444e+01  3.027942e+00   \n",
       "std    8.163947e-01  3.403078e+00  8.878064e+00  1.993309e+00   \n",
       "min    2.016000e+03  1.000000e+00  1.000000e+00  0.000000e+00   \n",
       "25%    2.016000e+03  3.000000e+00  7.000000e+00  1.000000e+00   \n",
       "50%    2.017000e+03  6.000000e+00  1.600000e+01  3.000000e+00   \n",
       "75%    2.018000e+03  9.000000e+00  2.300000e+01  5.000000e+00   \n",
       "max    2.018000e+03  1.200000e+01  3.100000e+01  6.000000e+00   \n",
       "\n",
       "       AEROPORT_DEPART  AEROPORT_ARRIVEE  COMPAGNIE_AERIENNE  HEURE_DEPART  \\\n",
       "count     2.940415e+06      2.940415e+06        2.940415e+06  2.940415e+06   \n",
       "mean      1.401194e+02      1.401264e+02        7.333529e+00  1.322415e+01   \n",
       "std       9.626338e+01      9.624402e+01        3.033791e+00  4.966971e+00   \n",
       "min       0.000000e+00      0.000000e+00        0.000000e+00  0.000000e+00   \n",
       "25%       6.100000e+01      6.100000e+01        5.000000e+00  9.000000e+00   \n",
       "50%       1.240000e+02      1.240000e+02        7.000000e+00  1.300000e+01   \n",
       "75%       2.400000e+02      2.400000e+02        9.000000e+00  1.700000e+01   \n",
       "max       3.170000e+02      3.170000e+02        1.200000e+01  2.400000e+01   \n",
       "\n",
       "       DEPART_PROGRAMME  \n",
       "count      2.940415e+06  \n",
       "mean       1.315042e+01  \n",
       "std        4.865946e+00  \n",
       "min        0.000000e+00  \n",
       "25%        9.000000e+00  \n",
       "50%        1.300000e+01  \n",
       "75%        1.700000e+01  \n",
       "max        2.400000e+01  "
      ]
     },
     "execution_count": 45,
     "metadata": {},
     "output_type": "execute_result"
    }
   ],
   "source": [
    "data.describe()"
   ]
  },
  {
   "cell_type": "markdown",
   "metadata": {},
   "source": [
    "# Créer les modèles de Machine Learning"
   ]
  },
  {
   "cell_type": "markdown",
   "metadata": {},
   "source": [
    "Le modèle sera un modèle de classification binaire qui prédit si un vol arrivera à l’heure ou en retard (« binaire », car il n’y a que deux résultats possibles)."
   ]
  },
  {
   "cell_type": "markdown",
   "metadata": {},
   "source": [
    "Pour créer un modèle Machine Learning, Nous avons besoin de deux jeux de données : un pour l’entraînement et un pour les tests.\n",
    "\n",
    "Dans cet exercice, nous allons effectuer un fractionnement 75-25 sur notre DataFrame que vous avons préparé précédent, afin de pouvoir l’utiliser pour entraîner un modèle Machine Learning. Nous allons aussi séparer le DataFrame en colonnes de caractéristiques et en colonnes d’étiquettes. Le premier contient les colonnes utilisées comme entrée pour le modèle (par exemple l’aéroport d'arrivée, l'aéroport de départ, et l’heure de départ planifiée), tandis que le deuxième contient la colonne que le modèle va essayer de prédire : dans ce cas, la colonne Retard de départ, qui indique si un vol arrivera à l’heure."
   ]
  },
  {
   "cell_type": "code",
   "execution_count": 46,
   "metadata": {},
   "outputs": [],
   "source": [
    "# Getting the output variable\n",
    "y = data['RETARD']\n",
    "# Getting the input variables\n",
    "X = data.drop(['RETARD', 'year', 'weekday'], axis=1)\n",
    "\n",
    "X_train, X_test, y_train, y_test = train_test_split(\n",
    "                                    X, y, \n",
    "                                    test_size=0.25,\n",
    "                                    random_state=42)"
   ]
  },
  {
   "cell_type": "code",
   "execution_count": 47,
   "metadata": {},
   "outputs": [
    {
     "name": "stdout",
     "output_type": "stream",
     "text": [
      "Nombre de lignes et de colonnes de X_train : (2205311, 12)\n",
      "Nombre de lignes et de colonnes de X_test : (735104, 12)\n"
     ]
    }
   ],
   "source": [
    "print(f'Nombre de lignes et de colonnes de X_train : {X_train.shape}')\n",
    "print(f'Nombre de lignes et de colonnes de X_test : {X_test.shape}')"
   ]
  },
  {
   "cell_type": "markdown",
   "metadata": {},
   "source": [
    "Nous utiliserons le RandomForestClassifier, qui ajuste plusieurs arbres de décision aux données, et utilise la moyenne pour améliorer la précision globale et limiter le surajustement."
   ]
  },
  {
   "cell_type": "markdown",
   "metadata": {},
   "source": [
    "## Random Forest"
   ]
  },
  {
   "cell_type": "markdown",
   "metadata": {},
   "source": [
    "Nous utiliserons le RandomForestClassifier, qui ajuste plusieurs arbres de décision aux données, et utilise la moyenne pour améliorer la précision globale et limiter le surajustement."
   ]
  },
  {
   "cell_type": "markdown",
   "metadata": {},
   "source": [
    "- n_estimators : plus il y a d'arbres, moins l'algorithme a de chances de s'ajuster. Plus ce nombre est faible, plus le modèle est proche d'un arbre de décision, avec un ensemble de fonctionnalités restreint.\n",
    "- max_features : On doit essayer de réduire ce nombre. Cela définit le nombre d'entités attribuées au hasard à chaque arbre. \n",
    "- max_depth : ce paramètre réduira la complexité des modèles appris, réduisant ainsi le risque d'ajustement. \n",
    "- min_samples_leaf : On essaie de définir ces valeurs supérieures à un. Cela a un effet similaire au paramètre max_depth, cela signifie que la branche cessera de se séparer une fois que les feuilles auront ce nombre d'échantillons chacune."
   ]
  },
  {
   "cell_type": "code",
   "execution_count": 48,
   "metadata": {},
   "outputs": [
    {
     "name": "stdout",
     "output_type": "stream",
     "text": [
      "Accuracy on training set : 0.7670596120003029\n",
      "Accuracy on test set : 0.7441994602124326\n"
     ]
    }
   ],
   "source": [
    "clf = RandomForestClassifier(n_estimators=20, max_depth=20, min_samples_leaf=10, random_state=42,\n",
    "                             min_samples_split=4, max_features='auto', warm_start=True)\n",
    "clf.fit(X_train, y_train)\n",
    "print(f\"Accuracy on training set : {clf.score(X_train, y_train)}\")\n",
    "print(f\"Accuracy on test set : {clf.score(X_test, y_test)}\")"
   ]
  },
  {
   "cell_type": "markdown",
   "metadata": {},
   "source": [
    "#### AUC"
   ]
  },
  {
   "cell_type": "code",
   "execution_count": 49,
   "metadata": {},
   "outputs": [
    {
     "data": {
      "text/plain": [
       "0.7925601572628543"
      ]
     },
     "execution_count": 49,
     "metadata": {},
     "output_type": "execute_result"
    }
   ],
   "source": [
    "probabilities = clf.predict_proba(X_test)\n",
    "roc_auc_score(y_test, probabilities[:, 1])"
   ]
  },
  {
   "cell_type": "markdown",
   "metadata": {},
   "source": [
    "#### Matrice de confusion"
   ]
  },
  {
   "cell_type": "code",
   "execution_count": 52,
   "metadata": {},
   "outputs": [
    {
     "data": {
      "text/plain": [
       "array([[400424,  36721],\n",
       "       [151319, 146640]], dtype=int64)"
      ]
     },
     "execution_count": 52,
     "metadata": {},
     "output_type": "execute_result"
    }
   ],
   "source": [
    "y_preds = clf.predict(X_test)\n",
    "confusion_matrix(y_test, y_preds)"
   ]
  },
  {
   "cell_type": "markdown",
   "metadata": {},
   "source": [
    "#### Précision"
   ]
  },
  {
   "cell_type": "code",
   "execution_count": 53,
   "metadata": {},
   "outputs": [
    {
     "data": {
      "text/plain": [
       "0.8463653449245792"
      ]
     },
     "execution_count": 53,
     "metadata": {},
     "output_type": "execute_result"
    }
   ],
   "source": [
    "train_predictions = clf.predict(X_train)\n",
    "precision_score(y_train, train_predictions)"
   ]
  },
  {
   "cell_type": "markdown",
   "metadata": {},
   "source": [
    "#### Courbe de ROC"
   ]
  },
  {
   "cell_type": "code",
   "execution_count": 54,
   "metadata": {},
   "outputs": [
    {
     "data": {
      "text/plain": [
       "Text(0, 0.5, 'True Positive Rate')"
      ]
     },
     "execution_count": 54,
     "metadata": {},
     "output_type": "execute_result"
    },
    {
     "data": {
      "image/png": "[encoded data removed]",
      "text/plain": [
       "<Figure size 432x288 with 1 Axes>"
      ]
     },
     "metadata": {},
     "output_type": "display_data"
    }
   ],
   "source": [
    "sns.set()\n",
    "\n",
    "fpr, tpr, _ = roc_curve(y_test, probabilities[:, 1])\n",
    "#fig = plt.figure(figsize=(12, 6))\n",
    "plt.plot(fpr, tpr)\n",
    "plt.plot([0, 1], [0, 1], color='grey', lw=1, linestyle='--')\n",
    "plt.xlabel('False Positive Rate')\n",
    "plt.ylabel('True Positive Rate')"
   ]
  },
  {
   "cell_type": "markdown",
   "metadata": {},
   "source": [
    "# LogisticRegression"
   ]
  },
  {
   "cell_type": "code",
   "execution_count": 55,
   "metadata": {},
   "outputs": [
    {
     "name": "stdout",
     "output_type": "stream",
     "text": [
      "Accuracy on training set : 0.6919405018158437\n",
      "Accuracy on test set : 0.6919932417725927\n"
     ]
    }
   ],
   "source": [
    "logreg = LogisticRegression(max_iter=10000, random_state=42)\n",
    "logreg.fit(X_train, y_train)\n",
    "print(f\"Accuracy on training set : {logreg.score(X_train, y_train)}\")\n",
    "print(f\"Accuracy on test set : {logreg.score(X_test, y_test)}\")"
   ]
  },
  {
   "cell_type": "markdown",
   "metadata": {},
   "source": [
    "#### AUC"
   ]
  },
  {
   "cell_type": "code",
   "execution_count": 56,
   "metadata": {},
   "outputs": [
    {
     "data": {
      "text/plain": [
       "0.7168027633467902"
      ]
     },
     "execution_count": 56,
     "metadata": {},
     "output_type": "execute_result"
    }
   ],
   "source": [
    "probabilities = logreg.predict_proba(X_test)\n",
    "roc_auc_score(y_test, probabilities[:, 1])"
   ]
  },
  {
   "cell_type": "markdown",
   "metadata": {},
   "source": [
    "#### Matrice de confusion"
   ]
  },
  {
   "cell_type": "code",
   "execution_count": 57,
   "metadata": {},
   "outputs": [
    {
     "data": {
      "text/plain": [
       "array([[403835,  33310],\n",
       "       [193107, 104852]], dtype=int64)"
      ]
     },
     "execution_count": 57,
     "metadata": {},
     "output_type": "execute_result"
    }
   ],
   "source": [
    "y_preds = logreg.predict(X_test)\n",
    "confusion_matrix(y_test, y_preds)"
   ]
  },
  {
   "cell_type": "markdown",
   "metadata": {},
   "source": [
    "#### Précision"
   ]
  },
  {
   "cell_type": "code",
   "execution_count": null,
   "metadata": {},
   "outputs": [],
   "source": [
    "train_predictions = logreg.predict(X_train)\n",
    "precision_score(y_train, train_predictions)"
   ]
  },
  {
   "cell_type": "markdown",
   "metadata": {},
   "source": [
    "#### Courbe de ROC"
   ]
  },
  {
   "cell_type": "code",
   "execution_count": null,
   "metadata": {},
   "outputs": [],
   "source": [
    "sns.set()\n",
    "\n",
    "fpr, tpr, _ = roc_curve(y_test, probabilities[:, 1])\n",
    "#fig = plt.figure(figsize=(12, 6))\n",
    "plt.plot(fpr, tpr)\n",
    "plt.plot([0, 1], [0, 1], color='grey', lw=1, linestyle='--')\n",
    "plt.xlabel('False Positive Rate')\n",
    "plt.ylabel('True Positive Rate')"
   ]
  },
  {
   "cell_type": "markdown",
   "metadata": {},
   "source": [
    "## La mise en application de notre modèle "
   ]
  },
  {
   "cell_type": "code",
   "execution_count": 240,
   "metadata": {},
   "outputs": [],
   "source": [
    "def predict_delay(departure_date_time, origin, destination):\n",
    "    \n",
    "    from datetime import datetime\n",
    "\n",
    "    try:\n",
    "        departure_date_time_parsed = datetime.strptime(departure_date_time, '%d/%m/%Y %H:%M:%S')\n",
    "    except ValueError as e:\n",
    "        return 'Error parsing date/time - {}'.format(e)\n",
    "\n",
    "    month = departure_date_time_parsed.month\n",
    "    day = departure_date_time_parsed.day\n",
    "    day_of_week = departure_date_time_parsed.isoweekday()\n",
    "    hour = departure_date_time_parsed.hour\n",
    "\n",
    "    origin = origin.upper()\n",
    "    destination = destination.upper()\n",
    "\n",
    "    input = [{'MONTH': month,\n",
    "              'DAY': day,\n",
    "              'DAY_OF_WEEK': day_of_week,\n",
    "              'TIME': hour,\n",
    "              'ORIGIN_DSS': 1 if origin == 'DSS' else 0,\n",
    "              'ORIGIN_BOH': 1 if origin == 'BOH' else 0,\n",
    "              'ORIGIN_TNA': 1 if origin == 'TNA' else 0,\n",
    "              'ORIGIN_SXF': 1 if origin == 'SXF' else 0,\n",
    "              'DEST_DSS': 1 if destination == 'DSS' else 0,\n",
    "              'DEST_BOH': 1 if destination == 'BOH' else 0,\n",
    "              'DEST_TNA': 1 if destination == 'TNA' else 0,\n",
    "              'DEST_SXF': 1 if destination == 'SXF' else 0\n",
    "             }]\n",
    "\n",
    "    return clf.predict_proba(pd.DataFrame(input))[0][0]"
   ]
  },
  {
   "cell_type": "markdown",
   "metadata": {},
   "source": [
    "Cette fonction prend en entrée une date/heure, un code d’aéroport d’origine et un code d’aéroport de destination, et elle retourne une valeur entre 0,0 et 1,0 qui indique la probabilité que le vol arrive à l’heure à sa destination. Il utilise le modèle Machine Learning que nous avons créé dans le labo précédent pour calculer la probabilité. Pour appeler le modèle, elle passe un DataFrame contenant les valeurs d’entrée à predict_proba. La structure du DataFrame correspond exactement à la structure du DataFrame que nous avons utilisé précédemment."
   ]
  },
  {
   "cell_type": "markdown",
   "metadata": {},
   "source": [
    "Utilisons le code ci-dessous pour calculer la probabilité qu’un vol de Bournemouth à Dakar-Blaise Diagne le soir du 1er octobre arrive à l’heure. L’année que vous entrez est sans importance, car elle n’est pas utilisée par le modèle."
   ]
  },
  {
   "cell_type": "code",
   "execution_count": 241,
   "metadata": {},
   "outputs": [
    {
     "data": {
      "text/plain": [
       "0.7954421313595008"
      ]
     },
     "execution_count": 241,
     "metadata": {},
     "output_type": "execute_result"
    }
   ],
   "source": [
    "predict_delay('1/10/2018 21:45:00', 'BOH', 'DSS')"
   ]
  },
  {
   "cell_type": "markdown",
   "metadata": {},
   "source": [
    "probabilité d’une arrivée à l’heure est de 79%"
   ]
  },
  {
   "cell_type": "markdown",
   "metadata": {},
   "source": [
    "Modifiez le code pour calculer la probabilité que le même vol 20 jour plus tard arrive à l’heure"
   ]
  },
  {
   "cell_type": "code",
   "execution_count": 213,
   "metadata": {},
   "outputs": [
    {
     "data": {
      "text/plain": [
       "0.7497297253033742"
      ]
     },
     "execution_count": 213,
     "metadata": {},
     "output_type": "execute_result"
    }
   ],
   "source": [
    "predict_delay('20/10/2018 21:45:00', 'BOH', 'DSS')"
   ]
  },
  {
   "cell_type": "markdown",
   "metadata": {},
   "source": [
    "### Probabilité des arrivées à l’heure pour un vol le soir de BOH à DSS sur une plage de jours"
   ]
  },
  {
   "cell_type": "code",
   "execution_count": 223,
   "metadata": {},
   "outputs": [
    {
     "data": {
      "text/plain": [
       "(0.0, 1.0)"
      ]
     },
     "execution_count": 223,
     "metadata": {},
     "output_type": "execute_result"
    },
    {
     "data": {
      "image/png": "[encoded data removed]",
      "text/plain": [
       "<Figure size 432x288 with 1 Axes>"
      ]
     },
     "metadata": {
      "needs_background": "light"
     },
     "output_type": "display_data"
    }
   ],
   "source": [
    "labels = ('Mai 1', 'Mai 3', 'Mai 4', 'Mai 10', 'Mai 15', 'Mai 20', 'Mai 30')\n",
    "values = (predict_delay('1/05/2018 20:45:00', 'BOH', 'DSS'),\n",
    "          predict_delay('3/05/2018 20:45:00', 'BOH', 'DSS'),\n",
    "          predict_delay('4/05/2018 20:45:00', 'BOH', 'DSS'),\n",
    "          predict_delay('10/05/2018 20:45:00', 'BOH', 'DSS'),\n",
    "          predict_delay('15/05/2018 20:45:00', 'BOH', 'DSS'),\n",
    "          predict_delay('20/05/2018 20:45:00', 'BOH', 'DSS'),\n",
    "          predict_delay('30/05/2018 20:45:00', 'BOH', 'DSS'))\n",
    "\n",
    "alabels = np.arange(len(labels))\n",
    "plt.bar(alabels, values, align='center', alpha=0.5)\n",
    "plt.xticks(alabels, labels)\n",
    "plt.ylabel('Probability of On-Time Arrival')\n",
    "plt.title('Probabilité des arrivées à l’heure pour une plage de dates')\n",
    "plt.ylim((0.0, 1.0))"
   ]
  },
  {
   "cell_type": "code",
   "execution_count": 228,
   "metadata": {},
   "outputs": [
    {
     "data": {
      "text/plain": [
       "(0.0, 1.0)"
      ]
     },
     "execution_count": 228,
     "metadata": {},
     "output_type": "execute_result"
    },
    {
     "data": {
      "image/png": "[encoded data removed]",
      "text/plain": [
       "<Figure size 432x288 with 1 Axes>"
      ]
     },
     "metadata": {
      "needs_background": "light"
     },
     "output_type": "display_data"
    }
   ],
   "source": [
    "labels = ('avr 1', 'avr 2', 'avr 10', 'avr 13', 'avr 14', 'avr 15', 'avr 16')\n",
    "values = (predict_delay('1/04/2018 13:00:00', 'BOH', 'SXF'),\n",
    "          predict_delay('2/04/2018 13:00:00', 'BOH', 'SXF'),\n",
    "          predict_delay('10/04/2018 13:00:00', 'BOH', 'SXF'),\n",
    "          predict_delay('13/04/2018 13:00:00', 'BOH', 'SXF'),\n",
    "          predict_delay('14/04/2018 13:00:00', 'BOH', 'SXF'),\n",
    "          predict_delay('15/04/2018 13:00:00', 'BOH', 'SXF'),\n",
    "          predict_delay('16/04/2018 13:00:00', 'BOH', 'SXF'))\n",
    "alabels = np.arange(len(labels))\n",
    "\n",
    "plt.bar(alabels, values, align='center', alpha=0.5)\n",
    "plt.xticks(alabels, labels)\n",
    "plt.ylabel('Probability of On-Time Arrival')\n",
    "plt.title('Probabilité des arrivées à l’heure pour une plage de dates')\n",
    "plt.ylim((0.0, 1.0))"
   ]
  },
  {
   "cell_type": "code",
   "execution_count": 235,
   "metadata": {},
   "outputs": [
    {
     "data": {
      "text/plain": [
       "(0.0, 1.0)"
      ]
     },
     "execution_count": 235,
     "metadata": {},
     "output_type": "execute_result"
    },
    {
     "data": {
      "image/png": "[encoded data removed]",
      "text/plain": [
       "<Figure size 432x288 with 1 Axes>"
      ]
     },
     "metadata": {
      "needs_background": "light"
     },
     "output_type": "display_data"
    }
   ],
   "source": [
    "labels = ('9H: AM', 'NOON', '3H: PM', '6H: PM', '9H: PM',)\n",
    "\n",
    "values = (predict_delay('30/01/2018 09:00:00', 'TNA', 'BOH'),\n",
    "          predict_delay('30/01/2018 12:00:00', 'TNA', 'BOH'),\n",
    "          predict_delay('30/01/2018 15:00:00', 'TNA', 'BOH'),\n",
    "          predict_delay('30/01/2018 18:00:00', 'TNA', 'BOH'),\n",
    "          predict_delay('30/01/2018 21:00:00', 'TNA', 'BOH'))\n",
    "\n",
    "alabels = np.arange(len(labels))\n",
    "\n",
    "plt.bar(alabels, values, align='center', alpha=0.5)\n",
    "plt.xticks(alabels, labels)\n",
    "plt.ylabel('Probability of On-Time Arrival')\n",
    "plt.title(\"Probabilité des arrivées à l’heure pour une plage de d'heures\")\n",
    "plt.ylim((0.0, 1.0))"
   ]
  },
  {
   "cell_type": "markdown",
   "metadata": {},
   "source": [
    "## application opérationnelle - coût\n"
   ]
  },
  {
   "cell_type": "code",
   "execution_count": 67,
   "metadata": {},
   "outputs": [
    {
     "data": {
      "text/html": [
       "<div>\n",
       "<style scoped>\n",
       "    .dataframe tbody tr th:only-of-type {\n",
       "        vertical-align: middle;\n",
       "    }\n",
       "\n",
       "    .dataframe tbody tr th {\n",
       "        vertical-align: top;\n",
       "    }\n",
       "\n",
       "    .dataframe thead th {\n",
       "        text-align: right;\n",
       "    }\n",
       "</style>\n",
       "<table border=\"1\" class=\"dataframe\">\n",
       "  <thead>\n",
       "    <tr style=\"text-align: right;\">\n",
       "      <th></th>\n",
       "      <th>AEROPORT DEPART</th>\n",
       "      <th>num_retart</th>\n",
       "      <th>prix_inf_10min</th>\n",
       "      <th>prix_sup_10min</th>\n",
       "      <th>retard_moyen</th>\n",
       "    </tr>\n",
       "  </thead>\n",
       "  <tbody>\n",
       "    <tr>\n",
       "      <th>1</th>\n",
       "      <td>SHJ</td>\n",
       "      <td>87161</td>\n",
       "      <td>8241</td>\n",
       "      <td>341</td>\n",
       "      <td>37.143264</td>\n",
       "    </tr>\n",
       "    <tr>\n",
       "      <th>0</th>\n",
       "      <td>AGP</td>\n",
       "      <td>79593</td>\n",
       "      <td>771</td>\n",
       "      <td>143</td>\n",
       "      <td>29.146709</td>\n",
       "    </tr>\n",
       "  </tbody>\n",
       "</table>\n",
       "</div>"
      ],
      "text/plain": [
       "  AEROPORT DEPART  num_retart  prix_inf_10min  prix_sup_10min  retard_moyen\n",
       "1             SHJ       87161            8241             341     37.143264\n",
       "0             AGP       79593             771             143     29.146709"
      ]
     },
     "execution_count": 67,
     "metadata": {},
     "output_type": "execute_result"
    }
   ],
   "source": [
    "moy_prix = df[[\"AEROPORT DEPART\", \"RETART DE DEPART\",\"PRIX_DEP_RP_10MIN\", \"PRIX_DEP_RCMA_10MIN\"]]\n",
    "moy_prix = moy_prix[moy_prix[\"RETART DE DEPART\"] > 0]\n",
    "moy_prix = moy_prix.loc[(moy_prix[\"AEROPORT DEPART\"] == \"SHJ\") | (moy_prix[\"AEROPORT DEPART\"] == \"AGP\") ]\n",
    "moy_prix = moy_prix.groupby('AEROPORT DEPART') \\\n",
    "       .agg({'AEROPORT DEPART':'size', 'PRIX_DEP_RP_10MIN':'mean', 'PRIX_DEP_RCMA_10MIN':'mean', 'RETART DE DEPART':'mean'}) \\\n",
    "       .rename(columns={'AEROPORT DEPART':'num_retart','PRIX_DEP_RP_10MIN':'prix_inf_10min', 'PRIX_DEP_RCMA_10MIN':'prix_sup_10min', \n",
    "                        'RETART DE DEPART':'retard_moyen'  }) \\\n",
    "       .reset_index()\n",
    "moy_prix.sort_values(by='num_retart', ascending=False)"
   ]
  },
  {
   "cell_type": "markdown",
   "metadata": {},
   "source": [
    "# Cartographie"
   ]
  },
  {
   "cell_type": "code",
   "execution_count": 38,
   "metadata": {},
   "outputs": [
    {
     "data": {
      "text/html": [
       "<div>\n",
       "<style scoped>\n",
       "    .dataframe tbody tr th:only-of-type {\n",
       "        vertical-align: middle;\n",
       "    }\n",
       "\n",
       "    .dataframe tbody tr th {\n",
       "        vertical-align: top;\n",
       "    }\n",
       "\n",
       "    .dataframe thead th {\n",
       "        text-align: right;\n",
       "    }\n",
       "</style>\n",
       "<table border=\"1\" class=\"dataframe\">\n",
       "  <thead>\n",
       "    <tr style=\"text-align: right;\">\n",
       "      <th></th>\n",
       "      <th>AEROPORT ARRIVEE</th>\n",
       "      <th>AEROPORT DEPART</th>\n",
       "      <th>DEPART PROGRAMME</th>\n",
       "      <th>HEURE DE DEPART</th>\n",
       "      <th>RETART DE DEPART</th>\n",
       "      <th>TEMPS PROGRAMME</th>\n",
       "      <th>TEMPS DE DEPLACEMENT A TERRE AU DECOLLAGE</th>\n",
       "      <th>DISTANCE</th>\n",
       "      <th>DATE</th>\n",
       "      <th>COMPAGNIE AERIENNE</th>\n",
       "      <th>PRIX_DEP_RP_10MIN</th>\n",
       "      <th>PRIX_DEP_RCMA_10MIN</th>\n",
       "    </tr>\n",
       "  </thead>\n",
       "  <tbody>\n",
       "    <tr>\n",
       "      <th>0</th>\n",
       "      <td>DSS</td>\n",
       "      <td>TIA</td>\n",
       "      <td>1410</td>\n",
       "      <td>1411.0</td>\n",
       "      <td>1.0</td>\n",
       "      <td>229.0</td>\n",
       "      <td>20.0</td>\n",
       "      <td>1749</td>\n",
       "      <td>10/4/2016</td>\n",
       "      <td>NVPPA</td>\n",
       "      <td>4582</td>\n",
       "      <td>586</td>\n",
       "    </tr>\n",
       "    <tr>\n",
       "      <th>1</th>\n",
       "      <td>BOH</td>\n",
       "      <td>MPM</td>\n",
       "      <td>1455</td>\n",
       "      <td>1449.0</td>\n",
       "      <td>-6.0</td>\n",
       "      <td>210.0</td>\n",
       "      <td>15.0</td>\n",
       "      <td>1325</td>\n",
       "      <td>16/7/2018</td>\n",
       "      <td>COA</td>\n",
       "      <td>4778</td>\n",
       "      <td>12</td>\n",
       "    </tr>\n",
       "    <tr>\n",
       "      <th>2</th>\n",
       "      <td>TNA</td>\n",
       "      <td>TRN</td>\n",
       "      <td>1540</td>\n",
       "      <td>1607.0</td>\n",
       "      <td>27.0</td>\n",
       "      <td>235.0</td>\n",
       "      <td>9.0</td>\n",
       "      <td>1520</td>\n",
       "      <td>6/1/2018</td>\n",
       "      <td>NA</td>\n",
       "      <td>352</td>\n",
       "      <td>849</td>\n",
       "    </tr>\n",
       "    <tr>\n",
       "      <th>3</th>\n",
       "      <td>SXF</td>\n",
       "      <td>BRU</td>\n",
       "      <td>2226</td>\n",
       "      <td>2219.0</td>\n",
       "      <td>-7.0</td>\n",
       "      <td>84.0</td>\n",
       "      <td>14.0</td>\n",
       "      <td>337</td>\n",
       "      <td>9/1/2016</td>\n",
       "      <td>THA</td>\n",
       "      <td>5077</td>\n",
       "      <td>48</td>\n",
       "    </tr>\n",
       "    <tr>\n",
       "      <th>4</th>\n",
       "      <td>AAL</td>\n",
       "      <td>VCE</td>\n",
       "      <td>1730</td>\n",
       "      <td>1719.0</td>\n",
       "      <td>-11.0</td>\n",
       "      <td>71.0</td>\n",
       "      <td>14.0</td>\n",
       "      <td>252</td>\n",
       "      <td>23/1/2016</td>\n",
       "      <td>MAF</td>\n",
       "      <td>2143</td>\n",
       "      <td>434</td>\n",
       "    </tr>\n",
       "  </tbody>\n",
       "</table>\n",
       "</div>"
      ],
      "text/plain": [
       "  AEROPORT ARRIVEE AEROPORT DEPART  DEPART PROGRAMME  HEURE DE DEPART  \\\n",
       "0              DSS             TIA              1410           1411.0   \n",
       "1              BOH             MPM              1455           1449.0   \n",
       "2              TNA             TRN              1540           1607.0   \n",
       "3              SXF             BRU              2226           2219.0   \n",
       "4              AAL             VCE              1730           1719.0   \n",
       "\n",
       "   RETART DE DEPART  TEMPS PROGRAMME  \\\n",
       "0               1.0            229.0   \n",
       "1              -6.0            210.0   \n",
       "2              27.0            235.0   \n",
       "3              -7.0             84.0   \n",
       "4             -11.0             71.0   \n",
       "\n",
       "   TEMPS DE DEPLACEMENT A TERRE AU DECOLLAGE  DISTANCE       DATE  \\\n",
       "0                                       20.0      1749  10/4/2016   \n",
       "1                                       15.0      1325  16/7/2018   \n",
       "2                                        9.0      1520   6/1/2018   \n",
       "3                                       14.0       337   9/1/2016   \n",
       "4                                       14.0       252  23/1/2016   \n",
       "\n",
       "  COMPAGNIE AERIENNE  PRIX_DEP_RP_10MIN  PRIX_DEP_RCMA_10MIN  \n",
       "0              NVPPA               4582                  586  \n",
       "1                COA               4778                   12  \n",
       "2                 NA                352                  849  \n",
       "3                THA               5077                   48  \n",
       "4                MAF               2143                  434  "
      ]
     },
     "execution_count": 38,
     "metadata": {},
     "output_type": "execute_result"
    }
   ],
   "source": [
    "df.head()"
   ]
  },
  {
   "cell_type": "code",
   "execution_count": 39,
   "metadata": {},
   "outputs": [
    {
     "data": {
      "text/plain": [
       "Index(['AEROPORT ARRIVEE', 'AEROPORT DEPART', 'DEPART PROGRAMME',\n",
       "       'HEURE DE DEPART', 'RETART DE DEPART', 'TEMPS PROGRAMME',\n",
       "       'TEMPS DE DEPLACEMENT A TERRE AU DECOLLAGE', 'DISTANCE', 'DATE',\n",
       "       'COMPAGNIE AERIENNE', 'PRIX_DEP_RP_10MIN', 'PRIX_DEP_RCMA_10MIN'],\n",
       "      dtype='object')"
      ]
     },
     "execution_count": 39,
     "metadata": {},
     "output_type": "execute_result"
    }
   ],
   "source": [
    "df.columns"
   ]
  },
  {
   "cell_type": "code",
   "execution_count": 48,
   "metadata": {
    "scrolled": true
   },
   "outputs": [
    {
     "data": {
      "text/html": [
       "<div>\n",
       "<style scoped>\n",
       "    .dataframe tbody tr th:only-of-type {\n",
       "        vertical-align: middle;\n",
       "    }\n",
       "\n",
       "    .dataframe tbody tr th {\n",
       "        vertical-align: top;\n",
       "    }\n",
       "\n",
       "    .dataframe thead th {\n",
       "        text-align: right;\n",
       "    }\n",
       "</style>\n",
       "<table border=\"1\" class=\"dataframe\">\n",
       "  <thead>\n",
       "    <tr style=\"text-align: right;\">\n",
       "      <th></th>\n",
       "      <th>AEROPORT DEPART</th>\n",
       "      <th>num_retart</th>\n",
       "      <th>retard_moyen</th>\n",
       "    </tr>\n",
       "  </thead>\n",
       "  <tbody>\n",
       "    <tr>\n",
       "      <th>250</th>\n",
       "      <td>SHJ</td>\n",
       "      <td>87161</td>\n",
       "      <td>37.143264</td>\n",
       "    </tr>\n",
       "    <tr>\n",
       "      <th>7</th>\n",
       "      <td>AGP</td>\n",
       "      <td>79593</td>\n",
       "      <td>29.146709</td>\n",
       "    </tr>\n",
       "    <tr>\n",
       "      <th>92</th>\n",
       "      <td>DXB</td>\n",
       "      <td>68902</td>\n",
       "      <td>33.293707</td>\n",
       "    </tr>\n",
       "    <tr>\n",
       "      <th>201</th>\n",
       "      <td>MPM</td>\n",
       "      <td>43796</td>\n",
       "      <td>32.879258</td>\n",
       "    </tr>\n",
       "    <tr>\n",
       "      <th>38</th>\n",
       "      <td>BRU</td>\n",
       "      <td>43702</td>\n",
       "      <td>31.208000</td>\n",
       "    </tr>\n",
       "    <tr>\n",
       "      <th>124</th>\n",
       "      <td>HAN</td>\n",
       "      <td>43284</td>\n",
       "      <td>32.363529</td>\n",
       "    </tr>\n",
       "    <tr>\n",
       "      <th>269</th>\n",
       "      <td>SXF</td>\n",
       "      <td>37904</td>\n",
       "      <td>34.163571</td>\n",
       "    </tr>\n",
       "    <tr>\n",
       "      <th>67</th>\n",
       "      <td>CTU</td>\n",
       "      <td>30478</td>\n",
       "      <td>35.081108</td>\n",
       "    </tr>\n",
       "    <tr>\n",
       "      <th>284</th>\n",
       "      <td>TNA</td>\n",
       "      <td>26018</td>\n",
       "      <td>28.700938</td>\n",
       "    </tr>\n",
       "    <tr>\n",
       "      <th>163</th>\n",
       "      <td>KWL</td>\n",
       "      <td>25380</td>\n",
       "      <td>37.762687</td>\n",
       "    </tr>\n",
       "    <tr>\n",
       "      <th>61</th>\n",
       "      <td>CPH</td>\n",
       "      <td>25088</td>\n",
       "      <td>25.231744</td>\n",
       "    </tr>\n",
       "    <tr>\n",
       "      <th>89</th>\n",
       "      <td>DUR</td>\n",
       "      <td>24799</td>\n",
       "      <td>33.220614</td>\n",
       "    </tr>\n",
       "    <tr>\n",
       "      <th>86</th>\n",
       "      <td>DSS</td>\n",
       "      <td>24081</td>\n",
       "      <td>35.036626</td>\n",
       "    </tr>\n",
       "    <tr>\n",
       "      <th>0</th>\n",
       "      <td>AAL</td>\n",
       "      <td>22971</td>\n",
       "      <td>30.816551</td>\n",
       "    </tr>\n",
       "    <tr>\n",
       "      <th>180</th>\n",
       "      <td>LTK</td>\n",
       "      <td>22810</td>\n",
       "      <td>42.083384</td>\n",
       "    </tr>\n",
       "    <tr>\n",
       "      <th>142</th>\n",
       "      <td>JNB</td>\n",
       "      <td>22512</td>\n",
       "      <td>29.525675</td>\n",
       "    </tr>\n",
       "    <tr>\n",
       "      <th>155</th>\n",
       "      <td>KRK</td>\n",
       "      <td>20837</td>\n",
       "      <td>34.790469</td>\n",
       "    </tr>\n",
       "    <tr>\n",
       "      <th>11</th>\n",
       "      <td>ALG</td>\n",
       "      <td>20203</td>\n",
       "      <td>39.797802</td>\n",
       "    </tr>\n",
       "    <tr>\n",
       "      <th>150</th>\n",
       "      <td>KIX</td>\n",
       "      <td>16951</td>\n",
       "      <td>29.149136</td>\n",
       "    </tr>\n",
       "    <tr>\n",
       "      <th>310</th>\n",
       "      <td>WRO</td>\n",
       "      <td>15457</td>\n",
       "      <td>35.596235</td>\n",
       "    </tr>\n",
       "    <tr>\n",
       "      <th>280</th>\n",
       "      <td>TIA</td>\n",
       "      <td>15207</td>\n",
       "      <td>38.124745</td>\n",
       "    </tr>\n",
       "    <tr>\n",
       "      <th>32</th>\n",
       "      <td>BOH</td>\n",
       "      <td>15093</td>\n",
       "      <td>35.287749</td>\n",
       "    </tr>\n",
       "    <tr>\n",
       "      <th>299</th>\n",
       "      <td>UPG</td>\n",
       "      <td>13315</td>\n",
       "      <td>35.552910</td>\n",
       "    </tr>\n",
       "    <tr>\n",
       "      <th>31</th>\n",
       "      <td>BOD</td>\n",
       "      <td>9932</td>\n",
       "      <td>35.141764</td>\n",
       "    </tr>\n",
       "    <tr>\n",
       "      <th>112</th>\n",
       "      <td>GLA</td>\n",
       "      <td>9197</td>\n",
       "      <td>38.755899</td>\n",
       "    </tr>\n",
       "    <tr>\n",
       "      <th>304</th>\n",
       "      <td>VIE</td>\n",
       "      <td>8749</td>\n",
       "      <td>22.190193</td>\n",
       "    </tr>\n",
       "    <tr>\n",
       "      <th>137</th>\n",
       "      <td>ISB</td>\n",
       "      <td>8356</td>\n",
       "      <td>31.965653</td>\n",
       "    </tr>\n",
       "    <tr>\n",
       "      <th>80</th>\n",
       "      <td>DMM</td>\n",
       "      <td>6639</td>\n",
       "      <td>31.771803</td>\n",
       "    </tr>\n",
       "    <tr>\n",
       "      <th>266</th>\n",
       "      <td>SVG</td>\n",
       "      <td>6613</td>\n",
       "      <td>38.877060</td>\n",
       "    </tr>\n",
       "    <tr>\n",
       "      <th>213</th>\n",
       "      <td>NGO</td>\n",
       "      <td>6119</td>\n",
       "      <td>37.561530</td>\n",
       "    </tr>\n",
       "    <tr>\n",
       "      <th>...</th>\n",
       "      <td>...</td>\n",
       "      <td>...</td>\n",
       "      <td>...</td>\n",
       "    </tr>\n",
       "    <tr>\n",
       "      <th>222</th>\n",
       "      <td>OPO</td>\n",
       "      <td>64</td>\n",
       "      <td>72.343750</td>\n",
       "    </tr>\n",
       "    <tr>\n",
       "      <th>283</th>\n",
       "      <td>TLS</td>\n",
       "      <td>62</td>\n",
       "      <td>58.370968</td>\n",
       "    </tr>\n",
       "    <tr>\n",
       "      <th>97</th>\n",
       "      <td>EVN</td>\n",
       "      <td>61</td>\n",
       "      <td>48.377049</td>\n",
       "    </tr>\n",
       "    <tr>\n",
       "      <th>267</th>\n",
       "      <td>SVO</td>\n",
       "      <td>60</td>\n",
       "      <td>50.383333</td>\n",
       "    </tr>\n",
       "    <tr>\n",
       "      <th>251</th>\n",
       "      <td>SID</td>\n",
       "      <td>59</td>\n",
       "      <td>74.237288</td>\n",
       "    </tr>\n",
       "    <tr>\n",
       "      <th>70</th>\n",
       "      <td>DAD</td>\n",
       "      <td>58</td>\n",
       "      <td>96.448276</td>\n",
       "    </tr>\n",
       "    <tr>\n",
       "      <th>195</th>\n",
       "      <td>MHZ</td>\n",
       "      <td>57</td>\n",
       "      <td>51.035088</td>\n",
       "    </tr>\n",
       "    <tr>\n",
       "      <th>117</th>\n",
       "      <td>GRJ</td>\n",
       "      <td>56</td>\n",
       "      <td>42.357143</td>\n",
       "    </tr>\n",
       "    <tr>\n",
       "      <th>244</th>\n",
       "      <td>ROB</td>\n",
       "      <td>54</td>\n",
       "      <td>30.000000</td>\n",
       "    </tr>\n",
       "    <tr>\n",
       "      <th>34</th>\n",
       "      <td>BOO</td>\n",
       "      <td>53</td>\n",
       "      <td>88.358491</td>\n",
       "    </tr>\n",
       "    <tr>\n",
       "      <th>225</th>\n",
       "      <td>OTP</td>\n",
       "      <td>51</td>\n",
       "      <td>68.215686</td>\n",
       "    </tr>\n",
       "    <tr>\n",
       "      <th>314</th>\n",
       "      <td>ZAG</td>\n",
       "      <td>47</td>\n",
       "      <td>53.340426</td>\n",
       "    </tr>\n",
       "    <tr>\n",
       "      <th>111</th>\n",
       "      <td>GDN</td>\n",
       "      <td>45</td>\n",
       "      <td>81.777778</td>\n",
       "    </tr>\n",
       "    <tr>\n",
       "      <th>133</th>\n",
       "      <td>HRG</td>\n",
       "      <td>43</td>\n",
       "      <td>75.488372</td>\n",
       "    </tr>\n",
       "    <tr>\n",
       "      <th>169</th>\n",
       "      <td>LEJ</td>\n",
       "      <td>38</td>\n",
       "      <td>61.526316</td>\n",
       "    </tr>\n",
       "    <tr>\n",
       "      <th>194</th>\n",
       "      <td>MHD</td>\n",
       "      <td>38</td>\n",
       "      <td>40.052632</td>\n",
       "    </tr>\n",
       "    <tr>\n",
       "      <th>72</th>\n",
       "      <td>DAR</td>\n",
       "      <td>37</td>\n",
       "      <td>24.378378</td>\n",
       "    </tr>\n",
       "    <tr>\n",
       "      <th>312</th>\n",
       "      <td>XIY</td>\n",
       "      <td>36</td>\n",
       "      <td>38.305556</td>\n",
       "    </tr>\n",
       "    <tr>\n",
       "      <th>289</th>\n",
       "      <td>TRV</td>\n",
       "      <td>35</td>\n",
       "      <td>50.057143</td>\n",
       "    </tr>\n",
       "    <tr>\n",
       "      <th>161</th>\n",
       "      <td>KUV</td>\n",
       "      <td>32</td>\n",
       "      <td>39.781250</td>\n",
       "    </tr>\n",
       "    <tr>\n",
       "      <th>157</th>\n",
       "      <td>KTM</td>\n",
       "      <td>31</td>\n",
       "      <td>32.290323</td>\n",
       "    </tr>\n",
       "    <tr>\n",
       "      <th>264</th>\n",
       "      <td>STR</td>\n",
       "      <td>30</td>\n",
       "      <td>26.100000</td>\n",
       "    </tr>\n",
       "    <tr>\n",
       "      <th>197</th>\n",
       "      <td>MLE</td>\n",
       "      <td>28</td>\n",
       "      <td>25.642857</td>\n",
       "    </tr>\n",
       "    <tr>\n",
       "      <th>66</th>\n",
       "      <td>CTS</td>\n",
       "      <td>27</td>\n",
       "      <td>58.962963</td>\n",
       "    </tr>\n",
       "    <tr>\n",
       "      <th>151</th>\n",
       "      <td>KJA</td>\n",
       "      <td>23</td>\n",
       "      <td>13.217391</td>\n",
       "    </tr>\n",
       "    <tr>\n",
       "      <th>149</th>\n",
       "      <td>KHV</td>\n",
       "      <td>18</td>\n",
       "      <td>19.055556</td>\n",
       "    </tr>\n",
       "    <tr>\n",
       "      <th>253</th>\n",
       "      <td>SIP</td>\n",
       "      <td>17</td>\n",
       "      <td>75.352941</td>\n",
       "    </tr>\n",
       "    <tr>\n",
       "      <th>316</th>\n",
       "      <td>ZNZ</td>\n",
       "      <td>9</td>\n",
       "      <td>26.222222</td>\n",
       "    </tr>\n",
       "    <tr>\n",
       "      <th>204</th>\n",
       "      <td>MSQ</td>\n",
       "      <td>7</td>\n",
       "      <td>136.714286</td>\n",
       "    </tr>\n",
       "    <tr>\n",
       "      <th>315</th>\n",
       "      <td>ZIA</td>\n",
       "      <td>6</td>\n",
       "      <td>37.166667</td>\n",
       "    </tr>\n",
       "  </tbody>\n",
       "</table>\n",
       "<p>318 rows × 3 columns</p>\n",
       "</div>"
      ],
      "text/plain": [
       "    AEROPORT DEPART  num_retart  retard_moyen\n",
       "250             SHJ       87161     37.143264\n",
       "7               AGP       79593     29.146709\n",
       "92              DXB       68902     33.293707\n",
       "201             MPM       43796     32.879258\n",
       "38              BRU       43702     31.208000\n",
       "124             HAN       43284     32.363529\n",
       "269             SXF       37904     34.163571\n",
       "67              CTU       30478     35.081108\n",
       "284             TNA       26018     28.700938\n",
       "163             KWL       25380     37.762687\n",
       "61              CPH       25088     25.231744\n",
       "89              DUR       24799     33.220614\n",
       "86              DSS       24081     35.036626\n",
       "0               AAL       22971     30.816551\n",
       "180             LTK       22810     42.083384\n",
       "142             JNB       22512     29.525675\n",
       "155             KRK       20837     34.790469\n",
       "11              ALG       20203     39.797802\n",
       "150             KIX       16951     29.149136\n",
       "310             WRO       15457     35.596235\n",
       "280             TIA       15207     38.124745\n",
       "32              BOH       15093     35.287749\n",
       "299             UPG       13315     35.552910\n",
       "31              BOD        9932     35.141764\n",
       "112             GLA        9197     38.755899\n",
       "304             VIE        8749     22.190193\n",
       "137             ISB        8356     31.965653\n",
       "80              DMM        6639     31.771803\n",
       "266             SVG        6613     38.877060\n",
       "213             NGO        6119     37.561530\n",
       "..              ...         ...           ...\n",
       "222             OPO          64     72.343750\n",
       "283             TLS          62     58.370968\n",
       "97              EVN          61     48.377049\n",
       "267             SVO          60     50.383333\n",
       "251             SID          59     74.237288\n",
       "70              DAD          58     96.448276\n",
       "195             MHZ          57     51.035088\n",
       "117             GRJ          56     42.357143\n",
       "244             ROB          54     30.000000\n",
       "34              BOO          53     88.358491\n",
       "225             OTP          51     68.215686\n",
       "314             ZAG          47     53.340426\n",
       "111             GDN          45     81.777778\n",
       "133             HRG          43     75.488372\n",
       "169             LEJ          38     61.526316\n",
       "194             MHD          38     40.052632\n",
       "72              DAR          37     24.378378\n",
       "312             XIY          36     38.305556\n",
       "289             TRV          35     50.057143\n",
       "161             KUV          32     39.781250\n",
       "157             KTM          31     32.290323\n",
       "264             STR          30     26.100000\n",
       "197             MLE          28     25.642857\n",
       "66              CTS          27     58.962963\n",
       "151             KJA          23     13.217391\n",
       "149             KHV          18     19.055556\n",
       "253             SIP          17     75.352941\n",
       "316             ZNZ           9     26.222222\n",
       "204             MSQ           7    136.714286\n",
       "315             ZIA           6     37.166667\n",
       "\n",
       "[318 rows x 3 columns]"
      ]
     },
     "execution_count": 48,
     "metadata": {},
     "output_type": "execute_result"
    }
   ],
   "source": [
    "moy_dep = df[[\"AEROPORT DEPART\", \"RETART DE DEPART\"]]\n",
    "moy_dep = moy_dep[moy_dep[\"RETART DE DEPART\"] > 0]\n",
    "moy_dep = moy_dep.groupby('AEROPORT DEPART') \\\n",
    "       .agg({'AEROPORT DEPART':'size', 'RETART DE DEPART':'mean'}) \\\n",
    "       .rename(columns={'AEROPORT DEPART':'num_retart','RETART DE DEPART':'retard_moyen'}) \\\n",
    "       .reset_index()\n",
    "moy_dep.sort_values(by='num_retart', ascending=False)\n",
    "\n"
   ]
  },
  {
   "cell_type": "code",
   "execution_count": 45,
   "metadata": {},
   "outputs": [],
   "source": [
    "col_to_keep = ['CODE IATA', \n",
    "               'LONGITUDE', \n",
    "               'LATITUDE']\n",
    "\n",
    "df_coord = df_aeroports[col_to_keep]\n",
    "\n",
    "long = df_coord.iloc[:,:-1].set_index(\n",
    "        'CODE IATA').to_dict()['LONGITUDE']\n",
    "\n",
    "lat = df_coord.loc[:,['CODE IATA',\n",
    "        'LATITUDE']].set_index(\n",
    "        'CODE IATA').to_dict()['LATITUDE']"
   ]
  },
  {
   "cell_type": "code",
   "execution_count": 46,
   "metadata": {},
   "outputs": [
    {
     "data": {
      "text/html": [
       "<div>\n",
       "<style scoped>\n",
       "    .dataframe tbody tr th:only-of-type {\n",
       "        vertical-align: middle;\n",
       "    }\n",
       "\n",
       "    .dataframe tbody tr th {\n",
       "        vertical-align: top;\n",
       "    }\n",
       "\n",
       "    .dataframe thead th {\n",
       "        text-align: right;\n",
       "    }\n",
       "</style>\n",
       "<table border=\"1\" class=\"dataframe\">\n",
       "  <thead>\n",
       "    <tr style=\"text-align: right;\">\n",
       "      <th></th>\n",
       "      <th>AEROPORT DEPART</th>\n",
       "      <th>num_retart</th>\n",
       "      <th>retard_moyen</th>\n",
       "      <th>lat</th>\n",
       "      <th>long</th>\n",
       "    </tr>\n",
       "  </thead>\n",
       "  <tbody>\n",
       "    <tr>\n",
       "      <th>0</th>\n",
       "      <td>AAL</td>\n",
       "      <td>22971</td>\n",
       "      <td>30.816551</td>\n",
       "      <td>57.0927589138</td>\n",
       "      <td>9.84924316406</td>\n",
       "    </tr>\n",
       "    <tr>\n",
       "      <th>1</th>\n",
       "      <td>AAP</td>\n",
       "      <td>322</td>\n",
       "      <td>51.934783</td>\n",
       "      <td>-0.374448</td>\n",
       "      <td>117.249392</td>\n",
       "    </tr>\n",
       "    <tr>\n",
       "      <th>2</th>\n",
       "      <td>ABV</td>\n",
       "      <td>1670</td>\n",
       "      <td>45.513174</td>\n",
       "      <td>9.006790161132812</td>\n",
       "      <td>7.263169765472412</td>\n",
       "    </tr>\n",
       "    <tr>\n",
       "      <th>3</th>\n",
       "      <td>ACC</td>\n",
       "      <td>130</td>\n",
       "      <td>40.323077</td>\n",
       "      <td>5.605189800262451</td>\n",
       "      <td>-0.16678600013256073</td>\n",
       "    </tr>\n",
       "    <tr>\n",
       "      <th>4</th>\n",
       "      <td>ADB</td>\n",
       "      <td>132</td>\n",
       "      <td>49.128788</td>\n",
       "      <td>38.2924003601</td>\n",
       "      <td>27.156999588</td>\n",
       "    </tr>\n",
       "  </tbody>\n",
       "</table>\n",
       "</div>"
      ],
      "text/plain": [
       "  AEROPORT DEPART  num_retart  retard_moyen                 lat  \\\n",
       "0             AAL       22971     30.816551       57.0927589138   \n",
       "1             AAP         322     51.934783           -0.374448   \n",
       "2             ABV        1670     45.513174   9.006790161132812   \n",
       "3             ACC         130     40.323077   5.605189800262451   \n",
       "4             ADB         132     49.128788       38.2924003601   \n",
       "\n",
       "                   long  \n",
       "0         9.84924316406  \n",
       "1            117.249392  \n",
       "2     7.263169765472412  \n",
       "3  -0.16678600013256073  \n",
       "4          27.156999588  "
      ]
     },
     "execution_count": 46,
     "metadata": {},
     "output_type": "execute_result"
    }
   ],
   "source": [
    "moy_dep[\"lat\"] = moy_dep['AEROPORT DEPART'].apply(lambda x : lat[x])\n",
    "moy_dep[\"long\"] = moy_dep['AEROPORT DEPART'].apply(lambda x : long[x])\n",
    "\n",
    "moy_dep.head()"
   ]
  },
  {
   "cell_type": "code",
   "execution_count": 47,
   "metadata": {},
   "outputs": [
    {
     "name": "stdout",
     "output_type": "stream",
     "text": [
      "Requirement already satisfied: plotly in c:\\users\\33627\\anaconda3\\lib\\site-packages (4.6.0)\n",
      "Requirement already satisfied: six in c:\\users\\33627\\anaconda3\\lib\\site-packages (from plotly) (1.12.0)\n",
      "Requirement already satisfied: retrying>=1.3.3 in c:\\users\\33627\\anaconda3\\lib\\site-packages (from plotly) (1.3.3)\n"
     ]
    },
    {
     "data": {
      "application/vnd.plotly.v1+json": {
       "config": {
        "plotlyServerURL": "https://plot.ly"
       },
       "data": [
        {
         "lat": [
          " 57.0927589138",
          " -0.374448",
          " 9.006790161132812",
          " 5.605189800262451",
          " 38.2924003601",
          " 8.97789001465",
          " 43.449902",
          " 36.67490005493164",
          " 34.590401",
          " 43.35210037231445",
          " 38.28219985961914",
          " 36.691001892089844",
          " 36.18069839477539",
          " 31.7226009369",
          " 59.651901245117",
          " 37.986801",
          " 31.7096004486",
          " 24.433000564575195",
          " 26.27079963684082",
          " 41.2971",
          " 44.8184013367",
          " 33.820899963378906",
          " 54.6575012207",
          " 60.29339981",
          " 33.262500762900004",
          " 54.618099212646484",
          " 52.453899383499994",
          " 37.25059890749999",
          " 55.7402992249",
          " 44.5354",
          " 13.1979",
          " 44.828300476100004",
          " 50.779998779296875",
          " 19.0886993408",
          " 67.26920318603516",
          " 53.0475006104",
          " 41.138901",
          " 51.382702",
          " 50.901401519800004",
          " 47.59",
          " 30.549100875854492",
          " 48.17020034790039",
          " 47.42976",
          " 4.944200038909912",
          " 51.75",
          " 39.251499",
          " 30.12190055847168",
          " 11.1367998123",
          " 10.307499885559",
          " -6.1255698204",
          " 50.8658981323",
          " 34.519699096699995",
          " 8.612203",
          " 41.7994",
          " 36.717008",
          " 33.51129913330078",
          " 29.719200134277344",
          " 7.180759906768799",
          " 33.36750030517578",
          " 18.766799926799997",
          " 10.152",
          " 55.617900848389",
          " 15.186",
          " 50.459202",
          " 28.189199447599997",
          " 37.466801",
          " 42.77519989013672",
          " 30.578500747680664",
          " 51.39670181274414",
          " 23.843347",
          " 16.043899536132812",
          " 33.4114990234375",
          " -6.87811",
          " 28.5665",
          " -2.5769500733",
          " 14.739700317382812",
          " 38.9656982421875",
          " 36.7131004333",
          " 55.40879821777344",
          " 13.9125995636",
          " 26.471200942993164",
          " 25.273056",
          " -8.7481698989868",
          " 19.501944",
          " 51.1328010559082",
          " 53.4805378105",
          " 14.67",
          " 51.51829910279999",
          " 53.421299",
          " -29.6144444444",
          " 7.1255202293396",
          " 24.896356",
          " 25.2527999878",
          " 0.042386",
          " 51.4500999451",
          " 52.8311004639",
          " 39.9565010071",
          " 40.1473007202",
          " 50.73440170288086",
          " 37.0144004822",
          " 51.6822013855",
          " -4.38575",
          " 48.7793998718",
          " 52.134601593",
          " 8.61644",
          " 25.935100555419922",
          " 50.033333",
          " 43.0612983704",
          " 34.7960434679",
          " 33.585899353027344",
          " -24.555201",
          " 54.377601623535156",
          " 55.8718986511",
          " 37.5583",
          " 44.4133",
          " 15.3808002472",
          " 57.662799835205",
          " -34.0056",
          " 46.23809814453125",
          " 40.467498779296875",
          " 36.9472007751",
          " 52.461101532",
          " 19.934900283813477",
          " 53.630401611328",
          " 21.221200942993164",
          " 60.317199707031",
          " 35.3396987915",
          " 40.851398",
          " 30.22949981689453",
          " 22.308901",
          " 8.1132",
          " 35.552299",
          " -17.931801",
          " 27.178300857543945",
          " 17.2313175201",
          " 37.46910095214844",
          " 35.416099548339844",
          " 33.560713",
          " 37.8554000854",
          " 41.275278",
          " 34.785499572753906",
          " 21.6796",
          " -26.1392",
          " 4.87201023102",
          " 12.0476",
          " 50.345001220703125",
          " 63.985000610352",
          " 49.670799255371094",
          " 22.57710075378418",
          " 48.52799987793",
          " 34.42729949951172",
          " 56.172901",
          " 25.1019444",
          " 24.4279",
          " 31.80340003967285",
          " 50.077702",
          " 15.589500427246094",
          " 27.6966",
          " 50.4743",
          " 53.504901885986",
          " 2.745579957962",
          " 35.90380096435547",
          " 26.53849983215332",
          " 25.21809959411621",
          " 55.606201171875",
          " -8.85837",
          " 53.86589813232422",
          " 34.875099182128906",
          " 59.80030059814453",
          " 51.423889",
          " 50.63740158081055",
          " 51.148102",
          " 51.4706",
          " 45.445099",
          " 38.7813",
          " 46.223701",
          " 65.543800354004",
          " 6.5773701667785645",
          " 27.931900024414062",
          " 53.33359909057617",
          " 35.401100158691406",
          " 51.874698638916016",
          " -15.3308000565",
          " 49.6233333",
          " 25.671",
          " 45.725556",
          " 12.990005493164062",
          " 40.471926",
          " 53.35369873046875",
          " -4.034830093383789",
          " 23.593299865722656",
          " 21.702199935913086",
          " 24.5534",
          " 22.149599",
          " 36.235198974609375",
          " 52.361900329589844",
          " 35.857498",
          " 4.191830158233643",
          " 55.536305364",
          " 23.640556",
          " 14.5086",
          " -25.920799",
          " 43.439271922",
          " -20.430201",
          " 53.882499694824",
          " 34.991406",
          " 45.6306",
          " 40.886002",
          " 36.075833",
          " -1.31923997402",
          " 43.6584014893",
          " 55.037498474121094",
          " 29.82670021057129",
          " 34.8583984375",
          " 13.4815",
          " 18.31",
          " 31.742000579833984",
          " 22.608299255371094",
          " 49.498699",
          " 52.6758003235",
          " 46.42679977416992",
          " 35.74850082397461",
          " 41.2481002808",
          " 51.84130096435547",
          " 60.193901062012",
          " 44.5711111",
          " 12.3532",
          " 55.012599945068",
          " 37.7411994934",
          " 40.080101013183594",
          " 34.71799850463867",
          " 39.509945",
          " 39.551700592",
          " 38.175999",
          " 11.546600341796875",
          " 52.421001434299995",
          " 50.1008",
          " 42.5728",
          " 43.683899",
          " 35.1795005798",
          " 4.8725",
          " 13.410699844400002",
          " 56.92359924316406",
          " 49.4369010925293",
          " 6.23379",
          " 24.957599639892578",
          " 40.898601532",
          " 42.89630126953125",
          " -4.67434",
          " 31.197900772094727",
          " 25.32859992980957",
          " 16.7414",
          " 1.35019",
          " 45.05220031738281",
          " 43.82460021972656",
          " 40.51969909667969",
          " 41.961601",
          " 32.5355567932",
          " 52.702",
          " 42.696693420410156",
          " -0.894",
          " 50.95029830932617",
          " 28.626499",
          " 51.8849983215",
          " 48.689899444599995",
          " -7.3798298835754395",
          " 58.876701354",
          " 55.972599",
          " 56.743099212646",
          " 52.380001",
          " 18.302900314331055",
          " 29.539199829101562",
          " 22.639299392700195",
          " 41.257900238",
          " 41.6692008972",
          " 38.1338996887207",
          " 38.761799",
          " 28.044500351",
          " 42.359402",
          " 35.68920135498047",
          " 41.4146995544",
          " 32.6635017395",
          " 59.41329956049999",
          " 43.629101",
          " 36.857200622558594",
          " -18.7969",
          " 69.68329620361328",
          " 25.0777",
          " 45.200802",
          " 8.48211956024",
          " 51.02220153808594",
          " 45.648399",
          " 39.124401092499994",
          " 36.85100173950195",
          " 52.5597",
          " 37.74689865112305",
          " 40.99509811401367",
          " 54.557498931885",
          " 47.843102",
          " -5.061629772186279",
          " 43.907100677490234",
          " 43.232101",
          " 45.505299",
          " 29.94029998779297",
          " 48.110298156738",
          " 55.5914993286",
          " 54.634102",
          " 45.395699",
          " 52.1656990051",
          " 52.451099",
          " 51.1026992798",
          " 30.7838",
          " 34.447102",
          " 24.54400062561035",
          " 45.7429008484",
          " 55.553299",
          " -6.22202",
          " 47.464699"
         ],
         "lon": [
          "9.84924316406",
          "117.249392",
          "7.263169765472412",
          "-0.16678600013256073",
          "27.156999588",
          "38.799301147499996",
          "39.9566",
          "-4.499110221862793",
          "32.9879",
          "77.04049682617188",
          "-0.5581560134887695",
          "3.215409994125366",
          "37.22439956665039",
          "35.9931983948",
          "17.918600082397",
          "58.361",
          "74.7973022461",
          "54.651100158691406",
          "50.63359832763672",
          "2.07846",
          "20.3090991974",
          "35.488399505615234",
          "-6.2158298492399995",
          "5.218140125",
          "44.2346000671",
          "-5.872499942779541",
          "-1.74802994728",
          "27.6643009186",
          "9.15178012848",
          "11.2887",
          "77.706299",
          "-0.715556025505",
          "-1.8424999713897705",
          "72.8678970337",
          "14.365300178527832",
          "8.78666973114",
          "16.760599",
          "-2.71909",
          "4.48443984985",
          "7.5291667",
          "47.66210174560547",
          "17.21269989013672",
          "19.261093",
          "114.9280014038086",
          "-1.58362",
          "9.05428",
          "31.40559959411621",
          "75.95529937740001",
          "123.97899627686",
          "106.65599823",
          "7.1427397728",
          "113.841003418",
          "124.456496",
          "12.5949",
          "127.498741",
          "126.49299621582031",
          "106.64199829101562",
          "79.88410186767578",
          "-7.589970111846924",
          "98.962600708",
          "76.401901",
          "12.656000137329",
          "120.559998",
          "4.45382",
          "113.220001221",
          "15.0664",
          "141.69200134277344",
          "103.9469985961914",
          "-3.343329906463623",
          "90.397783",
          "108.1989974975586",
          "36.51559829711914",
          "39.202599",
          "77.103104",
          "140.5160064698",
          "-17.49020004272461",
          "121.53900146484375",
          "28.7924995422",
          "37.90629959106445",
          "100.607002258",
          "49.79790115356445",
          "51.608056",
          "115.16699981689",
          "57.634167",
          "13.767200469970703",
          "-1.01065635681",
          "-17.073333",
          "7.61223983765",
          "-6.27007",
          "31.1197222222",
          "125.64600372314453",
          "55.161389",
          "55.3643989563",
          "32.443501",
          "5.37452983856",
          "-1.32806003094",
          "41.17020034789999",
          "44.3959007263",
          "-3.4138898849487305",
          "-7.96590995789",
          "-1.7900300025900002",
          "15.4446",
          "8.08049964905",
          "7.68483018875",
          "-13.1955",
          "119.66300201416016",
          "8.570556",
          "74.4776000977",
          "138.18775177",
          "130.4510040283203",
          "25.9182",
          "18.46619987487793",
          "-4.43306016922",
          "126.791",
          "8.8375",
          "73.8313980103",
          "12.279800415039",
          "22.378902",
          "6.108950138092041",
          "50.04669952392578",
          "37.4786987305",
          "9.685079574580001",
          "110.45899963378906",
          "9.9882297515869",
          "105.80699920654297",
          "24.963300704956",
          "25.180299758900002",
          "111.823997",
          "120.43399810791016",
          "113.915001",
          "98.316902",
          "139.779999",
          "31.0928",
          "33.799400329589844",
          "78.4298553467",
          "126.45099639892578",
          "51.152198791503906",
          "72.851613",
          "30.368400573699997",
          "28.751944",
          "135.43800354003906",
          "39.156502",
          "28.246",
          "31.6011009216",
          "8.52462",
          "30.894699096679688",
          "-22.605600357056",
          "73.33439636230469",
          "120.3499984741211",
          "135.18800354004",
          "135.24400329589844",
          "92.493301",
          "102.9291667",
          "118.359001",
          "130.718994140625",
          "19.7848",
          "32.553199768066406",
          "85.3591",
          "19.08",
          "50.16429901123",
          "101.70999908447",
          "126.61599731445312",
          "106.8010025024414",
          "110.03900146484375",
          "49.278701782227",
          "13.2312",
          "-1.6605700254440308",
          "33.624900817871094",
          "30.262500762939453",
          "12.236389",
          "5.443220138549805",
          "-0.190278",
          "-0.461941",
          "9.27674",
          "-9.13592",
          "14.4576",
          "22.121999740601",
          "3.321160078048706",
          "-15.38659954071045",
          "-2.849720001220703",
          "35.948699951171875",
          "-0.36833301186561584",
          "28.4526004791",
          "6.2044444",
          "32.7066",
          "5.081111",
          "80.16929626464844",
          "-3.56264",
          "-2.2749500274658203",
          "39.594200134277344",
          "58.284400939941406",
          "95.97789764404297",
          "39.705101",
          "113.592003",
          "59.64099884033203",
          "0.48640599846839905",
          "14.4775",
          "73.52909851074219",
          "13.376197814900001",
          "57.4875",
          "121.019997",
          "32.572601",
          "5.22142410278",
          "57.683601",
          "28.030700683594",
          "126.382814",
          "8.72811",
          "14.2908",
          "10.438611",
          "36.9277992249",
          "7.215869903560001",
          "-1.6916699409484863",
          "121.46199798583984",
          "136.80499267578125",
          "2.18361",
          "-15.9697222",
          "118.86199951171875",
          "108.1719970703125",
          "11.078056",
          "1.28278005123",
          "30.67650032043457",
          "139.34800720214844",
          "-8.68138980865",
          "-8.491109848022461",
          "11.100399971008",
          "26.085",
          "-1.51242",
          "82.650703430176",
          "-25.6979007721",
          "116.58499908447266",
          "32.48569869995117",
          "116.41092",
          "2.73881006241",
          "13.091",
          "104.84400177001953",
          "16.8262996674",
          "14.26",
          "21.035801",
          "10.3927",
          "128.93800354",
          "8.093",
          "103.81300354",
          "23.971099853515625",
          "7.600279808044434",
          "-10.3623",
          "46.69879913330078",
          "29.3092002869",
          "-8.415140151977539",
          "55.521801",
          "121.33599853515625",
          "55.5172004699707",
          "-22.9494",
          "103.994003",
          "33.975101470947266",
          "18.331499099731445",
          "22.97089958190918",
          "21.621401",
          "74.3638916016",
          "-8.92482",
          "23.411436080932617",
          "131.287",
          "-1.3567999601364136",
          "-17.7556",
          "0.234999999404",
          "9.22196006775",
          "112.78700256347656",
          "5.6377801895",
          "37.4146",
          "60.802700042725",
          "13.5225",
          "109.41200256347656",
          "52.58980178833008",
          "113.81099700927734",
          "69.2811965942",
          "44.95470047",
          "46.23500061035156",
          "-27.090799",
          "-16.5725002289",
          "19.2519",
          "51.31340026855469",
          "19.7206001282",
          "13.1590003967",
          "24.832799911499997",
          "1.36382",
          "117.21600341796875",
          "47.478802",
          "18.918899536132812",
          "121.233002",
          "7.64963",
          "76.9200973511",
          "71.46690368652344",
          "12.1944",
          "117.346000671",
          "10.22719955444336",
          "13.2877",
          "112.62799835205078",
          "39.78969955444336",
          "55.874401092529",
          "106.766998",
          "119.55400085449219",
          "87.47419738769531",
          "27.8251",
          "12.3519",
          "34.93579864501953",
          "16.569700241089",
          "37.2615013123",
          "25.285801",
          "10.8885",
          "20.967100143399996",
          "20.6518",
          "16.885799408",
          "114.208",
          "108.751999",
          "118.12799835205078",
          "16.0687999725",
          "38.150002",
          "39.224899",
          "8.54917"
         ],
         "marker": {
          "color": [
           30.816551303817857,
           51.93478260869565,
           45.51317365269461,
           40.323076923076925,
           49.128787878787875,
           43.515406162464984,
           44.28121720881427,
           29.146708881434297,
           27.11111111111111,
           36.14993917274939,
           49.076298701298704,
           39.79780230658813,
           35.03210272873194,
           37.64675705386588,
           38.19047619047619,
           40.626543209876544,
           40.442875481386395,
           48.921487603305785,
           48.84550561797753,
           50.101621621621625,
           49.64912280701754,
           56.08,
           45.14435946462715,
           38.76425855513308,
           40.75325301204819,
           43.160940325497286,
           40.61244263131056,
           43.46580226904376,
           44.36798221234019,
           52.57746478873239,
           68.74257425742574,
           35.14176399516714,
           35.287749287749286,
           36.06607929515418,
           88.35849056603773,
           36.15114848236259,
           46.63845050215208,
           58.4375,
           31.207999633884032,
           44.10221923335575,
           47.21804511278196,
           44.17777777777778,
           52.015625,
           41.34601664684899,
           52.560402684563755,
           46.45777777777778,
           48.0795847750865,
           45.08661417322835,
           47.65824308062575,
           26.4468085106383,
           40.34701492537314,
           46.442953020134226,
           29.314917127071823,
           56.525252525252526,
           60.8705035971223,
           38.73926701570681,
           47.817708333333336,
           32.81165919282511,
           69.8170731707317,
           35.37781084656085,
           38.699644358228255,
           25.23174426020408,
           34.84521384928717,
           38.773456790123454,
           55.80263157894737,
           47.581377744133235,
           58.96296296296296,
           35.08110768423125,
           48.301818181818184,
           41.75912408759124,
           96.44827586206897,
           58.78260869565217,
           24.37837837837838,
           39.38601823708207,
           52.28660436137071,
           41.81221719457014,
           42.765078620042246,
           43.75147611379496,
           50.55653568564555,
           40.23817863397548,
           31.771802982376865,
           44.00612244897959,
           49.27113702623907,
           34.07454289732771,
           53.28294573643411,
           47.24444444444445,
           35.03662638594743,
           48.64722351843211,
           38.87170596393897,
           33.220613734424774,
           39.31375579598145,
           42.758823529411764,
           33.293707004150825,
           49.976470588235294,
           48.23451327433628,
           43.29012345679013,
           43.917518745739606,
           48.377049180327866,
           42.72313296903461,
           37.42965177629265,
           52.76223776223776,
           43.81927710843374,
           50.196969696969695,
           51.854395604395606,
           44.755319148936174,
           42.62630359212051,
           43.84533591106815,
           43.57984790874525,
           38.757009345794394,
           48.96666666666667,
           36.666666666666664,
           81.77777777777777,
           38.75589866260737,
           36.94117647058823,
           35.954522227899844,
           40.3273401826484,
           40.064690026954175,
           42.357142857142854,
           29.4468085106383,
           39.08988764044944,
           53.904347826086955,
           33.10425663170882,
           41.09326424870466,
           47.27463503649635,
           32.363529248683115,
           39.489736070381234,
           53.61832061068702,
           49.15540015540016,
           34.806748466257666,
           41.32017543859649,
           51.23232323232323,
           35.064777327935225,
           48.66951566951567,
           75.48837209302326,
           42.353658536585364,
           36.13861386138614,
           43.11290322580645,
           31.965653422690284,
           42.21337579617835,
           51.2625,
           38.99884526558891,
           54.83519553072626,
           29.525675195451313,
           39.53437013996889,
           33.18932305998899,
           26.24277456647399,
           39.80921052631579,
           39.65049556598852,
           39.136,
           19.055555555555557,
           29.149135744203882,
           13.217391304347826,
           45.62770562770563,
           42.91468253968254,
           47.93850806451613,
           34.790468877477565,
           39.6,
           32.29032258064516,
           40.545806451612904,
           40.78636363636364,
           43.04968944099379,
           39.78125,
           34.88942307692308,
           37.76268715524035,
           64.56857142857143,
           38.2093023255814,
           49.34557595993322,
           45.966442953020135,
           35.92857142857143,
           61.526315789473685,
           44.21768292682927,
           34.484,
           44.72739361702128,
           50.94017094017094,
           43.696850393700785,
           22.387234042553192,
           25.695652173913043,
           38.14860907759883,
           51.92819979188346,
           27.701030927835053,
           42.08338448049101,
           30.941176470588236,
           45.400812064965194,
           49.42786069651741,
           36.37777777777778,
           68.11945392491468,
           47.983700862895496,
           64.83823529411765,
           22.08067158067158,
           38.88968481375358,
           46.80132450331126,
           40.87755102040816,
           58.166666666666664,
           39.67774762550882,
           40.05263157894737,
           51.03508771929825,
           44.51456310679612,
           25.642857142857142,
           52.07453416149068,
           40.904761904761905,
           61.81578947368421,
           32.87925837976071,
           16.856420626895854,
           58.9009900990099,
           136.71428571428572,
           40.68390804597701,
           51.45410628019324,
           42.701128668171556,
           44.718820861678005,
           52.79761904761905,
           34.39334287759485,
           47.29181245626312,
           46.82367149758454,
           37.56152966170943,
           41.227148330596606,
           46.454887218045116,
           40.75555555555555,
           58.262172284644194,
           56.5,
           46.392405063291136,
           34.74052132701422,
           38.512900703674745,
           72.34375,
           46.71470588235294,
           42.41744186046512,
           68.2156862745098,
           29.353846153846153,
           49.6013986013986,
           46.37460317460317,
           32.05042864346949,
           36.298507462686565,
           37.59514687100894,
           37.95080500894454,
           47.16531165311653,
           46.19479606188467,
           38.59322033898305,
           37.62686567164179,
           49.785714285714285,
           56.58474576271186,
           58.34168564920273,
           39.5414798206278,
           26.86829117828501,
           40.09770114942529,
           48.13149847094801,
           30,
           32.775775245163,
           44.24679170779862,
           25.737430167597765,
           43.219437652811735,
           93.82608695652173,
           37.1432636156079,
           74.23728813559322,
           37.20557851239669,
           75.3529411764706,
           44.33582089552239,
           41,
           47.6609375,
           48.651162790697676,
           44.04095563139932,
           41.02921068986949,
           41.28983957219251,
           46.43532338308458,
           22.70886075949367,
           28.914893617021278,
           26.1,
           31.418367346938776,
           38.8770603357024,
           50.38333333333333,
           42.16877637130802,
           34.16357112705783,
           52.552083333333336,
           51.926253687315636,
           39.89163498098859,
           44.080906148867314,
           39.26105651105651,
           59.44954128440367,
           42.02846648301194,
           46.57953394123607,
           34.75951761645779,
           47.7,
           38.124745183139346,
           49.23833333333334,
           49.678082191780824,
           58.37096774193548,
           28.700937812283804,
           65.62857142857143,
           40.76606683804627,
           36.560887605989535,
           45.942723004694834,
           50.05714285714286,
           46.68645640074212,
           44.91341705221414,
           31.9595015576324,
           50.19259259259259,
           50.05048076923077,
           22.87046908315565,
           39.95454545454545,
           40.48729446935725,
           46.70292887029289,
           35.55291025159595,
           51.90501043841336,
           39.98347107438016,
           45.121883656509695,
           44.166666666666664,
           22.190193164933135,
           41.88755020080321,
           43.331320754716984,
           42.972972972972975,
           46.39449541284404,
           37.68771138669673,
           35.59623471566281,
           30.361842105263158,
           38.30555555555556,
           52.47152847152847,
           53.340425531914896,
           37.166666666666664,
           26.22222222222222,
           54.32941176470588
          ]
         },
         "mode": "markers",
         "text": [
          "AALRetart: 30.816551303817857",
          "AAPRetart: 51.93478260869565",
          "ABVRetart: 45.51317365269461",
          "ACCRetart: 40.323076923076925",
          "ADBRetart: 49.128787878787875",
          "ADDRetart: 43.515406162464984",
          "AERRetart: 44.28121720881427",
          "AGPRetart: 29.146708881434297",
          "AKTRetart: 27.11111111111111",
          "ALARetart: 36.14993917274939",
          "ALCRetart: 49.076298701298704",
          "ALGRetart: 39.79780230658813",
          "ALPRetart: 35.03210272873194",
          "AMMRetart: 37.64675705386588",
          "ARNRetart: 38.19047619047619",
          "ASBRetart: 40.626543209876544",
          "ATQRetart: 40.442875481386395",
          "AUHRetart: 48.921487603305785",
          "BAHRetart: 48.84550561797753",
          "BCNRetart: 50.101621621621625",
          "BEGRetart: 49.64912280701754",
          "BEYRetart: 56.08",
          "BFSRetart: 45.14435946462715",
          "BGORetart: 38.76425855513308",
          "BGWRetart: 40.75325301204819",
          "BHDRetart: 43.160940325497286",
          "BHXRetart: 40.61244263131056",
          "BJVRetart: 43.46580226904376",
          "BLLRetart: 44.36798221234019",
          "BLQRetart: 52.57746478873239",
          "BLRRetart: 68.74257425742574",
          "BODRetart: 35.14176399516714",
          "BOHRetart: 35.287749287749286",
          "BOMRetart: 36.06607929515418",
          "BOORetart: 88.35849056603773",
          "BRERetart: 36.15114848236259",
          "BRIRetart: 46.63845050215208",
          "BRSRetart: 58.4375",
          "BRURetart: 31.207999633884032",
          "BSLRetart: 44.10221923335575",
          "BSRRetart: 47.21804511278196",
          "BTSRetart: 44.17777777777778",
          "BUDRetart: 52.015625",
          "BWNRetart: 41.34601664684899",
          "BZZRetart: 52.560402684563755",
          "CAGRetart: 46.45777777777778",
          "CAIRetart: 48.0795847750865",
          "CCJRetart: 45.08661417322835",
          "CEBRetart: 47.65824308062575",
          "CGKRetart: 26.4468085106383",
          "CGNRetart: 40.34701492537314",
          "CGORetart: 46.442953020134226",
          "CGYRetart: 29.314917127071823",
          "CIARetart: 56.525252525252526",
          "CJJRetart: 60.8705035971223",
          "CJURetart: 38.73926701570681",
          "CKGRetart: 47.817708333333336",
          "CMBRetart: 32.81165919282511",
          "CMNRetart: 69.8170731707317",
          "CNXRetart: 35.37781084656085",
          "COKRetart: 38.699644358228255",
          "CPHRetart: 25.23174426020408",
          "CRKRetart: 34.84521384928717",
          "CRLRetart: 38.773456790123454",
          "CSXRetart: 55.80263157894737",
          "CTARetart: 47.581377744133235",
          "CTSRetart: 58.96296296296296",
          "CTURetart: 35.08110768423125",
          "CWLRetart: 48.301818181818184",
          "DACRetart: 41.75912408759124",
          "DADRetart: 96.44827586206897",
          "DAMRetart: 58.78260869565217",
          "DARRetart: 24.37837837837838",
          "DELRetart: 39.38601823708207",
          "DJJRetart: 52.28660436137071",
          "DKRRetart: 41.81221719457014",
          "DLCRetart: 42.765078620042246",
          "DLMRetart: 43.75147611379496",
          "DMERetart: 50.55653568564555",
          "DMKRetart: 40.23817863397548",
          "DMMRetart: 31.771802982376865",
          "DOHRetart: 44.00612244897959",
          "DPSRetart: 49.27113702623907",
          "DQMRetart: 34.07454289732771",
          "DRSRetart: 53.28294573643411",
          "DSARetart: 47.24444444444445",
          "DSSRetart: 35.03662638594743",
          "DTMRetart: 48.64722351843211",
          "DUBRetart: 38.87170596393897",
          "DURRetart: 33.220613734424774",
          "DVORetart: 39.31375579598145",
          "DWCRetart: 42.758823529411764",
          "DXBRetart: 33.293707004150825",
          "EBBRetart: 49.976470588235294",
          "EINRetart: 48.23451327433628",
          "EMARetart: 43.29012345679013",
          "ERZRetart: 43.917518745739606",
          "EVNRetart: 48.377049180327866",
          "EXTRetart: 42.72313296903461",
          "FAORetart: 37.42965177629265",
          "FFDRetart: 52.76223776223776",
          "FIHRetart: 43.81927710843374",
          "FKBRetart: 50.196969696969695",
          "FMORetart: 51.854395604395606",
          "FNARetart: 44.755319148936174",
          "FOCRetart: 42.62630359212051",
          "FRARetart: 43.84533591106815",
          "FRURetart: 43.57984790874525",
          "FSZRetart: 38.757009345794394",
          "FUKRetart: 48.96666666666667",
          "GBERetart: 36.666666666666664",
          "GDNRetart: 81.77777777777777",
          "GLARetart: 38.75589866260737",
          "GMPRetart: 36.94117647058823",
          "GOARetart: 35.954522227899844",
          "GOIRetart: 40.3273401826484",
          "GOTRetart: 40.064690026954175",
          "GRJRetart: 42.357142857142854",
          "GVARetart: 29.4468085106383",
          "GYDRetart: 39.08988764044944",
          "GZTRetart: 53.904347826086955",
          "HAJRetart: 33.10425663170882",
          "HAKRetart: 41.09326424870466",
          "HAMRetart: 47.27463503649635",
          "HANRetart: 32.363529248683115",
          "HELRetart: 39.489736070381234",
          "HERRetart: 53.61832061068702",
          "HETRetart: 49.15540015540016",
          "HGHRetart: 34.806748466257666",
          "HKGRetart: 41.32017543859649",
          "HKTRetart: 51.23232323232323",
          "HNDRetart: 35.064777327935225",
          "HRERetart: 48.66951566951567",
          "HRGRetart: 75.48837209302326",
          "HYDRetart: 42.353658536585364",
          "ICNRetart: 36.13861386138614",
          "IKARetart: 43.11290322580645",
          "ISBRetart: 31.965653422690284",
          "ISERetart: 42.21337579617835",
          "ISTRetart: 51.2625",
          "ITMRetart: 38.99884526558891",
          "JEDRetart: 54.83519553072626",
          "JNBRetart: 29.525675195451313",
          "JUBRetart: 39.53437013996889",
          "KANRetart: 33.18932305998899",
          "KBPRetart: 26.24277456647399",
          "KEFRetart: 39.80921052631579",
          "KGFRetart: 39.65049556598852",
          "KHHRetart: 39.136",
          "KHVRetart: 19.055555555555557",
          "KIXRetart: 29.149135744203882",
          "KJARetart: 13.217391304347826",
          "KMGRetart: 45.62770562770563",
          "KNHRetart: 42.91468253968254",
          "KOJRetart: 47.93850806451613",
          "KRKRetart: 34.790468877477565",
          "KRTRetart: 39.6",
          "KTMRetart: 32.29032258064516",
          "KTWRetart: 40.545806451612904",
          "KUFRetart: 40.78636363636364",
          "KULRetart: 43.04968944099379",
          "KUVRetart: 39.78125",
          "KWERetart: 34.88942307692308",
          "KWLRetart: 37.76268715524035",
          "KZNRetart: 64.56857142857143",
          "LADRetart: 38.2093023255814",
          "LBARetart: 49.34557595993322",
          "LCARetart: 45.966442953020135",
          "LEDRetart: 35.92857142857143",
          "LEJRetart: 61.526315789473685",
          "LGGRetart: 44.21768292682927",
          "LGWRetart: 34.484",
          "LHRRetart: 44.72739361702128",
          "LINRetart: 50.94017094017094",
          "LISRetart: 43.696850393700785",
          "LJURetart: 22.387234042553192",
          "LLARetart: 25.695652173913043",
          "LOSRetart: 38.14860907759883",
          "LPARetart: 51.92819979188346",
          "LPLRetart: 27.701030927835053",
          "LTKRetart: 42.08338448049101",
          "LTNRetart: 30.941176470588236",
          "LUNRetart: 45.400812064965194",
          "LUXRetart: 49.42786069651741",
          "LXRRetart: 36.37777777777778",
          "LYSRetart: 68.11945392491468",
          "MAARetart: 47.983700862895496",
          "MADRetart: 64.83823529411765",
          "MANRetart: 22.08067158067158",
          "MBARetart: 38.88968481375358",
          "MCTRetart: 46.80132450331126",
          "MDLRetart: 40.87755102040816",
          "MEDRetart: 58.166666666666664",
          "MFMRetart: 39.67774762550882",
          "MHDRetart: 40.05263157894737",
          "MHZRetart: 51.03508771929825",
          "MLARetart: 44.51456310679612",
          "MLERetart: 25.642857142857142",
          "MMXRetart: 52.07453416149068",
          "MNHRetart: 40.904761904761905",
          "MNLRetart: 61.81578947368421",
          "MPMRetart: 32.87925837976071",
          "MRSRetart: 16.856420626895854",
          "MRURetart: 58.9009900990099",
          "MSQRetart: 136.71428571428572",
          "MWXRetart: 40.68390804597701",
          "MXPRetart: 51.45410628019324",
          "NAPRetart: 42.701128668171556",
          "NBERetart: 44.718820861678005",
          "NBORetart: 52.79761904761905",
          "NCERetart: 34.39334287759485",
          "NCLRetart: 47.29181245626312",
          "NGBRetart: 46.82367149758454",
          "NGORetart: 37.56152966170943",
          "NIMRetart: 41.227148330596606",
          "NKCRetart: 46.454887218045116",
          "NKGRetart: 40.75555555555555",
          "NNGRetart: 58.262172284644194",
          "NUERetart: 56.5",
          "NWIRetart: 46.392405063291136",
          "ODSRetart: 34.74052132701422",
          "OKORetart: 38.512900703674745",
          "OPORetart: 72.34375",
          "ORKRetart: 46.71470588235294",
          "OSLRetart: 42.41744186046512",
          "OTPRetart: 68.2156862745098",
          "OUARetart: 29.353846153846153",
          "OVBRetart: 49.6013986013986",
          "PDLRetart: 46.37460317460317",
          "PEKRetart: 32.05042864346949",
          "PFORetart: 36.298507462686565",
          "PKXRetart: 37.59514687100894",
          "PMIRetart: 37.95080500894454",
          "PMORetart: 47.16531165311653",
          "PNHRetart: 46.19479606188467",
          "POZRetart: 38.59322033898305",
          "PRGRetart: 37.62686567164179",
          "PRNRetart: 49.785714285714285",
          "PSARetart: 56.58474576271186",
          "PUSRetart: 58.34168564920273",
          "QUORetart: 39.5414798206278",
          "REPRetart: 26.86829117828501",
          "RIXRetart: 40.09770114942529",
          "RMSRetart: 48.13149847094801",
          "ROBRetart: 30.0",
          "RUHRetart: 32.775775245163",
          "SAWRetart: 44.24679170779862",
          "SCQRetart: 25.737430167597765",
          "SEZRetart: 43.219437652811735",
          "SHARetart: 93.82608695652173",
          "SHJRetart: 37.1432636156079",
          "SIDRetart: 74.23728813559322",
          "SINRetart: 37.20557851239669",
          "SIPRetart: 75.3529411764706",
          "SJJRetart: 44.33582089552239",
          "SKGRetart: 41.0",
          "SKPRetart: 47.6609375",
          "SKTRetart: 48.651162790697676",
          "SNNRetart: 44.04095563139932",
          "SOFRetart: 41.02921068986949",
          "SOQRetart: 41.28983957219251",
          "SOURetart: 46.43532338308458",
          "SPCRetart: 22.70886075949367",
          "STNRetart: 28.914893617021278",
          "STRRetart: 26.1",
          "SUBRetart: 31.418367346938776",
          "SVGRetart: 38.8770603357024",
          "SVORetart: 50.38333333333333",
          "SVXRetart: 42.16877637130802",
          "SXFRetart: 34.16357112705783",
          "SYXRetart: 52.552083333333336",
          "SYZRetart: 51.926253687315636",
          "SZXRetart: 39.89163498098859",
          "TASRetart: 44.080906148867314",
          "TBSRetart: 39.26105651105651",
          "TBZRetart: 59.44954128440367",
          "TERRetart: 42.02846648301194",
          "TFSRetart: 46.57953394123607",
          "TGDRetart: 34.75951761645779",
          "THRRetart: 47.7",
          "TIARetart: 38.124745183139346",
          "TIPRetart: 49.23833333333334",
          "TLLRetart: 49.678082191780824",
          "TLSRetart: 58.37096774193548",
          "TNARetart: 28.700937812283804",
          "TNRRetart: 65.62857142857143",
          "TOSRetart: 40.76606683804627",
          "TPERetart: 36.560887605989535",
          "TRNRetart: 45.942723004694834",
          "TRVRetart: 50.05714285714286",
          "TSERetart: 46.68645640074212",
          "TSFRetart: 44.91341705221414",
          "TSNRetart: 31.9595015576324",
          "TUNRetart: 50.19259259259259",
          "TXLRetart: 50.05048076923077",
          "TYNRetart: 22.87046908315565",
          "TZXRetart: 39.95454545454545",
          "UFARetart: 40.48729446935725",
          "ULNRetart: 46.70292887029289",
          "UPGRetart: 35.55291025159595",
          "URCRetart: 51.90501043841336",
          "VARRetart: 39.98347107438016",
          "VCERetart: 45.121883656509695",
          "VDARetart: 44.166666666666664",
          "VIERetart: 22.190193164933135",
          "VKORetart: 41.88755020080321",
          "VNORetart: 43.331320754716984",
          "VRNRetart: 42.972972972972975",
          "WAWRetart: 46.39449541284404",
          "WMIRetart: 37.68771138669673",
          "WRORetart: 35.59623471566281",
          "WUHRetart: 30.361842105263158",
          "XIYRetart: 38.30555555555556",
          "XMNRetart: 52.47152847152847",
          "ZAGRetart: 53.340425531914896",
          "ZIARetart: 37.166666666666664",
          "ZNZRetart: 26.22222222222222",
          "ZRHRetart: 54.32941176470588"
         ],
         "type": "scattergeo"
        }
       ],
       "layout": {
        "template": {
         "data": {
          "bar": [
           {
            "error_x": {
             "color": "#2a3f5f"
            },
            "error_y": {
             "color": "#2a3f5f"
            },
            "marker": {
             "line": {
              "color": "#E5ECF6",
              "width": 0.5
             }
            },
            "type": "bar"
           }
          ],
          "barpolar": [
           {
            "marker": {
             "line": {
              "color": "#E5ECF6",
              "width": 0.5
             }
            },
            "type": "barpolar"
           }
          ],
          "carpet": [
           {
            "aaxis": {
             "endlinecolor": "#2a3f5f",
             "gridcolor": "white",
             "linecolor": "white",
             "minorgridcolor": "white",
             "startlinecolor": "#2a3f5f"
            },
            "baxis": {
             "endlinecolor": "#2a3f5f",
             "gridcolor": "white",
             "linecolor": "white",
             "minorgridcolor": "white",
             "startlinecolor": "#2a3f5f"
            },
            "type": "carpet"
           }
          ],
          "choropleth": [
           {
            "colorbar": {
             "outlinewidth": 0,
             "ticks": ""
            },
            "type": "choropleth"
           }
          ],
          "contour": [
           {
            "colorbar": {
             "outlinewidth": 0,
             "ticks": ""
            },
            "colorscale": [
             [
              0,
              "#0d0887"
             ],
             [
              0.1111111111111111,
              "#46039f"
             ],
             [
              0.2222222222222222,
              "#7201a8"
             ],
             [
              0.3333333333333333,
              "#9c179e"
             ],
             [
              0.4444444444444444,
              "#bd3786"
             ],
             [
              0.5555555555555556,
              "#d8576b"
             ],
             [
              0.6666666666666666,
              "#ed7953"
             ],
             [
              0.7777777777777778,
              "#fb9f3a"
             ],
             [
              0.8888888888888888,
              "#fdca26"
             ],
             [
              1,
              "#f0f921"
             ]
            ],
            "type": "contour"
           }
          ],
          "contourcarpet": [
           {
            "colorbar": {
             "outlinewidth": 0,
             "ticks": ""
            },
            "type": "contourcarpet"
           }
          ],
          "heatmap": [
           {
            "colorbar": {
             "outlinewidth": 0,
             "ticks": ""
            },
            "colorscale": [
             [
              0,
              "#0d0887"
             ],
             [
              0.1111111111111111,
              "#46039f"
             ],
             [
              0.2222222222222222,
              "#7201a8"
             ],
             [
              0.3333333333333333,
              "#9c179e"
             ],
             [
              0.4444444444444444,
              "#bd3786"
             ],
             [
              0.5555555555555556,
              "#d8576b"
             ],
             [
              0.6666666666666666,
              "#ed7953"
             ],
             [
              0.7777777777777778,
              "#fb9f3a"
             ],
             [
              0.8888888888888888,
              "#fdca26"
             ],
             [
              1,
              "#f0f921"
             ]
            ],
            "type": "heatmap"
           }
          ],
          "heatmapgl": [
           {
            "colorbar": {
             "outlinewidth": 0,
             "ticks": ""
            },
            "colorscale": [
             [
              0,
              "#0d0887"
             ],
             [
              0.1111111111111111,
              "#46039f"
             ],
             [
              0.2222222222222222,
              "#7201a8"
             ],
             [
              0.3333333333333333,
              "#9c179e"
             ],
             [
              0.4444444444444444,
              "#bd3786"
             ],
             [
              0.5555555555555556,
              "#d8576b"
             ],
             [
              0.6666666666666666,
              "#ed7953"
             ],
             [
              0.7777777777777778,
              "#fb9f3a"
             ],
             [
              0.8888888888888888,
              "#fdca26"
             ],
             [
              1,
              "#f0f921"
             ]
            ],
            "type": "heatmapgl"
           }
          ],
          "histogram": [
           {
            "marker": {
             "colorbar": {
              "outlinewidth": 0,
              "ticks": ""
             }
            },
            "type": "histogram"
           }
          ],
          "histogram2d": [
           {
            "colorbar": {
             "outlinewidth": 0,
             "ticks": ""
            },
            "colorscale": [
             [
              0,
              "#0d0887"
             ],
             [
              0.1111111111111111,
              "#46039f"
             ],
             [
              0.2222222222222222,
              "#7201a8"
             ],
             [
              0.3333333333333333,
              "#9c179e"
             ],
             [
              0.4444444444444444,
              "#bd3786"
             ],
             [
              0.5555555555555556,
              "#d8576b"
             ],
             [
              0.6666666666666666,
              "#ed7953"
             ],
             [
              0.7777777777777778,
              "#fb9f3a"
             ],
             [
              0.8888888888888888,
              "#fdca26"
             ],
             [
              1,
              "#f0f921"
             ]
            ],
            "type": "histogram2d"
           }
          ],
          "histogram2dcontour": [
           {
            "colorbar": {
             "outlinewidth": 0,
             "ticks": ""
            },
            "colorscale": [
             [
              0,
              "#0d0887"
             ],
             [
              0.1111111111111111,
              "#46039f"
             ],
             [
              0.2222222222222222,
              "#7201a8"
             ],
             [
              0.3333333333333333,
              "#9c179e"
             ],
             [
              0.4444444444444444,
              "#bd3786"
             ],
             [
              0.5555555555555556,
              "#d8576b"
             ],
             [
              0.6666666666666666,
              "#ed7953"
             ],
             [
              0.7777777777777778,
              "#fb9f3a"
             ],
             [
              0.8888888888888888,
              "#fdca26"
             ],
             [
              1,
              "#f0f921"
             ]
            ],
            "type": "histogram2dcontour"
           }
          ],
          "mesh3d": [
           {
            "colorbar": {
             "outlinewidth": 0,
             "ticks": ""
            },
            "type": "mesh3d"
           }
          ],
          "parcoords": [
           {
            "line": {
             "colorbar": {
              "outlinewidth": 0,
              "ticks": ""
             }
            },
            "type": "parcoords"
           }
          ],
          "pie": [
           {
            "automargin": true,
            "type": "pie"
           }
          ],
          "scatter": [
           {
            "marker": {
             "colorbar": {
              "outlinewidth": 0,
              "ticks": ""
             }
            },
            "type": "scatter"
           }
          ],
          "scatter3d": [
           {
            "line": {
             "colorbar": {
              "outlinewidth": 0,
              "ticks": ""
             }
            },
            "marker": {
             "colorbar": {
              "outlinewidth": 0,
              "ticks": ""
             }
            },
            "type": "scatter3d"
           }
          ],
          "scattercarpet": [
           {
            "marker": {
             "colorbar": {
              "outlinewidth": 0,
              "ticks": ""
             }
            },
            "type": "scattercarpet"
           }
          ],
          "scattergeo": [
           {
            "marker": {
             "colorbar": {
              "outlinewidth": 0,
              "ticks": ""
             }
            },
            "type": "scattergeo"
           }
          ],
          "scattergl": [
           {
            "marker": {
             "colorbar": {
              "outlinewidth": 0,
              "ticks": ""
             }
            },
            "type": "scattergl"
           }
          ],
          "scattermapbox": [
           {
            "marker": {
             "colorbar": {
              "outlinewidth": 0,
              "ticks": ""
             }
            },
            "type": "scattermapbox"
           }
          ],
          "scatterpolar": [
           {
            "marker": {
             "colorbar": {
              "outlinewidth": 0,
              "ticks": ""
             }
            },
            "type": "scatterpolar"
           }
          ],
          "scatterpolargl": [
           {
            "marker": {
             "colorbar": {
              "outlinewidth": 0,
              "ticks": ""
             }
            },
            "type": "scatterpolargl"
           }
          ],
          "scatterternary": [
           {
            "marker": {
             "colorbar": {
              "outlinewidth": 0,
              "ticks": ""
             }
            },
            "type": "scatterternary"
           }
          ],
          "surface": [
           {
            "colorbar": {
             "outlinewidth": 0,
             "ticks": ""
            },
            "colorscale": [
             [
              0,
              "#0d0887"
             ],
             [
              0.1111111111111111,
              "#46039f"
             ],
             [
              0.2222222222222222,
              "#7201a8"
             ],
             [
              0.3333333333333333,
              "#9c179e"
             ],
             [
              0.4444444444444444,
              "#bd3786"
             ],
             [
              0.5555555555555556,
              "#d8576b"
             ],
             [
              0.6666666666666666,
              "#ed7953"
             ],
             [
              0.7777777777777778,
              "#fb9f3a"
             ],
             [
              0.8888888888888888,
              "#fdca26"
             ],
             [
              1,
              "#f0f921"
             ]
            ],
            "type": "surface"
           }
          ],
          "table": [
           {
            "cells": {
             "fill": {
              "color": "#EBF0F8"
             },
             "line": {
              "color": "white"
             }
            },
            "header": {
             "fill": {
              "color": "#C8D4E3"
             },
             "line": {
              "color": "white"
             }
            },
            "type": "table"
           }
          ]
         },
         "layout": {
          "annotationdefaults": {
           "arrowcolor": "#2a3f5f",
           "arrowhead": 0,
           "arrowwidth": 1
          },
          "coloraxis": {
           "colorbar": {
            "outlinewidth": 0,
            "ticks": ""
           }
          },
          "colorscale": {
           "diverging": [
            [
             0,
             "#8e0152"
            ],
            [
             0.1,
             "#c51b7d"
            ],
            [
             0.2,
             "#de77ae"
            ],
            [
             0.3,
             "#f1b6da"
            ],
            [
             0.4,
             "#fde0ef"
            ],
            [
             0.5,
             "#f7f7f7"
            ],
            [
             0.6,
             "#e6f5d0"
            ],
            [
             0.7,
             "#b8e186"
            ],
            [
             0.8,
             "#7fbc41"
            ],
            [
             0.9,
             "#4d9221"
            ],
            [
             1,
             "#276419"
            ]
           ],
           "sequential": [
            [
             0,
             "#0d0887"
            ],
            [
             0.1111111111111111,
             "#46039f"
            ],
            [
             0.2222222222222222,
             "#7201a8"
            ],
            [
             0.3333333333333333,
             "#9c179e"
            ],
            [
             0.4444444444444444,
             "#bd3786"
            ],
            [
             0.5555555555555556,
             "#d8576b"
            ],
            [
             0.6666666666666666,
             "#ed7953"
            ],
            [
             0.7777777777777778,
             "#fb9f3a"
            ],
            [
             0.8888888888888888,
             "#fdca26"
            ],
            [
             1,
             "#f0f921"
            ]
           ],
           "sequentialminus": [
            [
             0,
             "#0d0887"
            ],
            [
             0.1111111111111111,
             "#46039f"
            ],
            [
             0.2222222222222222,
             "#7201a8"
            ],
            [
             0.3333333333333333,
             "#9c179e"
            ],
            [
             0.4444444444444444,
             "#bd3786"
            ],
            [
             0.5555555555555556,
             "#d8576b"
            ],
            [
             0.6666666666666666,
             "#ed7953"
            ],
            [
             0.7777777777777778,
             "#fb9f3a"
            ],
            [
             0.8888888888888888,
             "#fdca26"
            ],
            [
             1,
             "#f0f921"
            ]
           ]
          },
          "colorway": [
           "#636efa",
           "#EF553B",
           "#00cc96",
           "#ab63fa",
           "#FFA15A",
           "#19d3f3",
           "#FF6692",
           "#B6E880",
           "#FF97FF",
           "#FECB52"
          ],
          "font": {
           "color": "#2a3f5f"
          },
          "geo": {
           "bgcolor": "white",
           "lakecolor": "white",
           "landcolor": "#E5ECF6",
           "showlakes": true,
           "showland": true,
           "subunitcolor": "white"
          },
          "hoverlabel": {
           "align": "left"
          },
          "hovermode": "closest",
          "mapbox": {
           "style": "light"
          },
          "paper_bgcolor": "white",
          "plot_bgcolor": "#E5ECF6",
          "polar": {
           "angularaxis": {
            "gridcolor": "white",
            "linecolor": "white",
            "ticks": ""
           },
           "bgcolor": "#E5ECF6",
           "radialaxis": {
            "gridcolor": "white",
            "linecolor": "white",
            "ticks": ""
           }
          },
          "scene": {
           "xaxis": {
            "backgroundcolor": "#E5ECF6",
            "gridcolor": "white",
            "gridwidth": 2,
            "linecolor": "white",
            "showbackground": true,
            "ticks": "",
            "zerolinecolor": "white"
           },
           "yaxis": {
            "backgroundcolor": "#E5ECF6",
            "gridcolor": "white",
            "gridwidth": 2,
            "linecolor": "white",
            "showbackground": true,
            "ticks": "",
            "zerolinecolor": "white"
           },
           "zaxis": {
            "backgroundcolor": "#E5ECF6",
            "gridcolor": "white",
            "gridwidth": 2,
            "linecolor": "white",
            "showbackground": true,
            "ticks": "",
            "zerolinecolor": "white"
           }
          },
          "shapedefaults": {
           "line": {
            "color": "#2a3f5f"
           }
          },
          "ternary": {
           "aaxis": {
            "gridcolor": "white",
            "linecolor": "white",
            "ticks": ""
           },
           "baxis": {
            "gridcolor": "white",
            "linecolor": "white",
            "ticks": ""
           },
           "bgcolor": "#E5ECF6",
           "caxis": {
            "gridcolor": "white",
            "linecolor": "white",
            "ticks": ""
           }
          },
          "title": {
           "x": 0.05
          },
          "xaxis": {
           "automargin": true,
           "gridcolor": "white",
           "linecolor": "white",
           "ticks": "",
           "title": {
            "standoff": 15
           },
           "zerolinecolor": "white",
           "zerolinewidth": 2
          },
          "yaxis": {
           "automargin": true,
           "gridcolor": "white",
           "linecolor": "white",
           "ticks": "",
           "title": {
            "standoff": 15
           },
           "zerolinecolor": "white",
           "zerolinewidth": 2
          }
         }
        },
        "title": {
         "text": "Retard moyen au départ de chaque aéroport"
        }
       }
      },
      "text/html": [
       "<div>\n",
       "        \n",
       "        \n",
       "            <div id=\"d72711f7-5cfe-4f3d-80a5-3bf1e9583cf7\" class=\"plotly-graph-div\" style=\"height:525px; width:100%;\"></div>\n",
       "            <script type=\"text/javascript\">\n",
       "                require([\"plotly\"], function(Plotly) {\n",
       "                    window.PLOTLYENV=window.PLOTLYENV || {};\n",
       "                    \n",
       "                if (document.getElementById(\"d72711f7-5cfe-4f3d-80a5-3bf1e9583cf7\")) {\n",
       "                    Plotly.newPlot(\n",
       "                        'd72711f7-5cfe-4f3d-80a5-3bf1e9583cf7',\n",
       "                        [{\"lat\": [\" 57.0927589138\", \" -0.374448\", \" 9.006790161132812\", \" 5.605189800262451\", \" 38.2924003601\", \" 8.97789001465\", \" 43.449902\", \" 36.67490005493164\", \" 34.590401\", \" 43.35210037231445\", \" 38.28219985961914\", \" 36.691001892089844\", \" 36.18069839477539\", \" 31.7226009369\", \" 59.651901245117\", \" 37.986801\", \" 31.7096004486\", \" 24.433000564575195\", \" 26.27079963684082\", \" 41.2971\", \" 44.8184013367\", \" 33.820899963378906\", \" 54.6575012207\", \" 60.29339981\", \" 33.262500762900004\", \" 54.618099212646484\", \" 52.453899383499994\", \" 37.25059890749999\", \" 55.7402992249\", \" 44.5354\", \" 13.1979\", \" 44.828300476100004\", \" 50.779998779296875\", \" 19.0886993408\", \" 67.26920318603516\", \" 53.0475006104\", \" 41.138901\", \" 51.382702\", \" 50.901401519800004\", \" 47.59\", \" 30.549100875854492\", \" 48.17020034790039\", \" 47.42976\", \" 4.944200038909912\", \" 51.75\", \" 39.251499\", \" 30.12190055847168\", \" 11.1367998123\", \" 10.307499885559\", \" -6.1255698204\", \" 50.8658981323\", \" 34.519699096699995\", \" 8.612203\", \" 41.7994\", \" 36.717008\", \" 33.51129913330078\", \" 29.719200134277344\", \" 7.180759906768799\", \" 33.36750030517578\", \" 18.766799926799997\", \" 10.152\", \" 55.617900848389\", \" 15.186\", \" 50.459202\", \" 28.189199447599997\", \" 37.466801\", \" 42.77519989013672\", \" 30.578500747680664\", \" 51.39670181274414\", \" 23.843347\", \" 16.043899536132812\", \" 33.4114990234375\", \" -6.87811\", \" 28.5665\", \" -2.5769500733\", \" 14.739700317382812\", \" 38.9656982421875\", \" 36.7131004333\", \" 55.40879821777344\", \" 13.9125995636\", \" 26.471200942993164\", \" 25.273056\", \" -8.7481698989868\", \" 19.501944\", \" 51.1328010559082\", \" 53.4805378105\", \" 14.67\", \" 51.51829910279999\", \" 53.421299\", \" -29.6144444444\", \" 7.1255202293396\", \" 24.896356\", \" 25.2527999878\", \" 0.042386\", \" 51.4500999451\", \" 52.8311004639\", \" 39.9565010071\", \" 40.1473007202\", \" 50.73440170288086\", \" 37.0144004822\", \" 51.6822013855\", \" -4.38575\", \" 48.7793998718\", \" 52.134601593\", \" 8.61644\", \" 25.935100555419922\", \" 50.033333\", \" 43.0612983704\", \" 34.7960434679\", \" 33.585899353027344\", \" -24.555201\", \" 54.377601623535156\", \" 55.8718986511\", \" 37.5583\", \" 44.4133\", \" 15.3808002472\", \" 57.662799835205\", \" -34.0056\", \" 46.23809814453125\", \" 40.467498779296875\", \" 36.9472007751\", \" 52.461101532\", \" 19.934900283813477\", \" 53.630401611328\", \" 21.221200942993164\", \" 60.317199707031\", \" 35.3396987915\", \" 40.851398\", \" 30.22949981689453\", \" 22.308901\", \" 8.1132\", \" 35.552299\", \" -17.931801\", \" 27.178300857543945\", \" 17.2313175201\", \" 37.46910095214844\", \" 35.416099548339844\", \" 33.560713\", \" 37.8554000854\", \" 41.275278\", \" 34.785499572753906\", \" 21.6796\", \" -26.1392\", \" 4.87201023102\", \" 12.0476\", \" 50.345001220703125\", \" 63.985000610352\", \" 49.670799255371094\", \" 22.57710075378418\", \" 48.52799987793\", \" 34.42729949951172\", \" 56.172901\", \" 25.1019444\", \" 24.4279\", \" 31.80340003967285\", \" 50.077702\", \" 15.589500427246094\", \" 27.6966\", \" 50.4743\", \" 53.504901885986\", \" 2.745579957962\", \" 35.90380096435547\", \" 26.53849983215332\", \" 25.21809959411621\", \" 55.606201171875\", \" -8.85837\", \" 53.86589813232422\", \" 34.875099182128906\", \" 59.80030059814453\", \" 51.423889\", \" 50.63740158081055\", \" 51.148102\", \" 51.4706\", \" 45.445099\", \" 38.7813\", \" 46.223701\", \" 65.543800354004\", \" 6.5773701667785645\", \" 27.931900024414062\", \" 53.33359909057617\", \" 35.401100158691406\", \" 51.874698638916016\", \" -15.3308000565\", \" 49.6233333\", \" 25.671\", \" 45.725556\", \" 12.990005493164062\", \" 40.471926\", \" 53.35369873046875\", \" -4.034830093383789\", \" 23.593299865722656\", \" 21.702199935913086\", \" 24.5534\", \" 22.149599\", \" 36.235198974609375\", \" 52.361900329589844\", \" 35.857498\", \" 4.191830158233643\", \" 55.536305364\", \" 23.640556\", \" 14.5086\", \" -25.920799\", \" 43.439271922\", \" -20.430201\", \" 53.882499694824\", \" 34.991406\", \" 45.6306\", \" 40.886002\", \" 36.075833\", \" -1.31923997402\", \" 43.6584014893\", \" 55.037498474121094\", \" 29.82670021057129\", \" 34.8583984375\", \" 13.4815\", \" 18.31\", \" 31.742000579833984\", \" 22.608299255371094\", \" 49.498699\", \" 52.6758003235\", \" 46.42679977416992\", \" 35.74850082397461\", \" 41.2481002808\", \" 51.84130096435547\", \" 60.193901062012\", \" 44.5711111\", \" 12.3532\", \" 55.012599945068\", \" 37.7411994934\", \" 40.080101013183594\", \" 34.71799850463867\", \" 39.509945\", \" 39.551700592\", \" 38.175999\", \" 11.546600341796875\", \" 52.421001434299995\", \" 50.1008\", \" 42.5728\", \" 43.683899\", \" 35.1795005798\", \" 4.8725\", \" 13.410699844400002\", \" 56.92359924316406\", \" 49.4369010925293\", \" 6.23379\", \" 24.957599639892578\", \" 40.898601532\", \" 42.89630126953125\", \" -4.67434\", \" 31.197900772094727\", \" 25.32859992980957\", \" 16.7414\", \" 1.35019\", \" 45.05220031738281\", \" 43.82460021972656\", \" 40.51969909667969\", \" 41.961601\", \" 32.5355567932\", \" 52.702\", \" 42.696693420410156\", \" -0.894\", \" 50.95029830932617\", \" 28.626499\", \" 51.8849983215\", \" 48.689899444599995\", \" -7.3798298835754395\", \" 58.876701354\", \" 55.972599\", \" 56.743099212646\", \" 52.380001\", \" 18.302900314331055\", \" 29.539199829101562\", \" 22.639299392700195\", \" 41.257900238\", \" 41.6692008972\", \" 38.1338996887207\", \" 38.761799\", \" 28.044500351\", \" 42.359402\", \" 35.68920135498047\", \" 41.4146995544\", \" 32.6635017395\", \" 59.41329956049999\", \" 43.629101\", \" 36.857200622558594\", \" -18.7969\", \" 69.68329620361328\", \" 25.0777\", \" 45.200802\", \" 8.48211956024\", \" 51.02220153808594\", \" 45.648399\", \" 39.124401092499994\", \" 36.85100173950195\", \" 52.5597\", \" 37.74689865112305\", \" 40.99509811401367\", \" 54.557498931885\", \" 47.843102\", \" -5.061629772186279\", \" 43.907100677490234\", \" 43.232101\", \" 45.505299\", \" 29.94029998779297\", \" 48.110298156738\", \" 55.5914993286\", \" 54.634102\", \" 45.395699\", \" 52.1656990051\", \" 52.451099\", \" 51.1026992798\", \" 30.7838\", \" 34.447102\", \" 24.54400062561035\", \" 45.7429008484\", \" 55.553299\", \" -6.22202\", \" 47.464699\"], \"lon\": [\"9.84924316406\", \"117.249392\", \"7.263169765472412\", \"-0.16678600013256073\", \"27.156999588\", \"38.799301147499996\", \"39.9566\", \"-4.499110221862793\", \"32.9879\", \"77.04049682617188\", \"-0.5581560134887695\", \"3.215409994125366\", \"37.22439956665039\", \"35.9931983948\", \"17.918600082397\", \"58.361\", \"74.7973022461\", \"54.651100158691406\", \"50.63359832763672\", \"2.07846\", \"20.3090991974\", \"35.488399505615234\", \"-6.2158298492399995\", \"5.218140125\", \"44.2346000671\", \"-5.872499942779541\", \"-1.74802994728\", \"27.6643009186\", \"9.15178012848\", \"11.2887\", \"77.706299\", \"-0.715556025505\", \"-1.8424999713897705\", \"72.8678970337\", \"14.365300178527832\", \"8.78666973114\", \"16.760599\", \"-2.71909\", \"4.48443984985\", \"7.5291667\", \"47.66210174560547\", \"17.21269989013672\", \"19.261093\", \"114.9280014038086\", \"-1.58362\", \"9.05428\", \"31.40559959411621\", \"75.95529937740001\", \"123.97899627686\", \"106.65599823\", \"7.1427397728\", \"113.841003418\", \"124.456496\", \"12.5949\", \"127.498741\", \"126.49299621582031\", \"106.64199829101562\", \"79.88410186767578\", \"-7.589970111846924\", \"98.962600708\", \"76.401901\", \"12.656000137329\", \"120.559998\", \"4.45382\", \"113.220001221\", \"15.0664\", \"141.69200134277344\", \"103.9469985961914\", \"-3.343329906463623\", \"90.397783\", \"108.1989974975586\", \"36.51559829711914\", \"39.202599\", \"77.103104\", \"140.5160064698\", \"-17.49020004272461\", \"121.53900146484375\", \"28.7924995422\", \"37.90629959106445\", \"100.607002258\", \"49.79790115356445\", \"51.608056\", \"115.16699981689\", \"57.634167\", \"13.767200469970703\", \"-1.01065635681\", \"-17.073333\", \"7.61223983765\", \"-6.27007\", \"31.1197222222\", \"125.64600372314453\", \"55.161389\", \"55.3643989563\", \"32.443501\", \"5.37452983856\", \"-1.32806003094\", \"41.17020034789999\", \"44.3959007263\", \"-3.4138898849487305\", \"-7.96590995789\", \"-1.7900300025900002\", \"15.4446\", \"8.08049964905\", \"7.68483018875\", \"-13.1955\", \"119.66300201416016\", \"8.570556\", \"74.4776000977\", \"138.18775177\", \"130.4510040283203\", \"25.9182\", \"18.46619987487793\", \"-4.43306016922\", \"126.791\", \"8.8375\", \"73.8313980103\", \"12.279800415039\", \"22.378902\", \"6.108950138092041\", \"50.04669952392578\", \"37.4786987305\", \"9.685079574580001\", \"110.45899963378906\", \"9.9882297515869\", \"105.80699920654297\", \"24.963300704956\", \"25.180299758900002\", \"111.823997\", \"120.43399810791016\", \"113.915001\", \"98.316902\", \"139.779999\", \"31.0928\", \"33.799400329589844\", \"78.4298553467\", \"126.45099639892578\", \"51.152198791503906\", \"72.851613\", \"30.368400573699997\", \"28.751944\", \"135.43800354003906\", \"39.156502\", \"28.246\", \"31.6011009216\", \"8.52462\", \"30.894699096679688\", \"-22.605600357056\", \"73.33439636230469\", \"120.3499984741211\", \"135.18800354004\", \"135.24400329589844\", \"92.493301\", \"102.9291667\", \"118.359001\", \"130.718994140625\", \"19.7848\", \"32.553199768066406\", \"85.3591\", \"19.08\", \"50.16429901123\", \"101.70999908447\", \"126.61599731445312\", \"106.8010025024414\", \"110.03900146484375\", \"49.278701782227\", \"13.2312\", \"-1.6605700254440308\", \"33.624900817871094\", \"30.262500762939453\", \"12.236389\", \"5.443220138549805\", \"-0.190278\", \"-0.461941\", \"9.27674\", \"-9.13592\", \"14.4576\", \"22.121999740601\", \"3.321160078048706\", \"-15.38659954071045\", \"-2.849720001220703\", \"35.948699951171875\", \"-0.36833301186561584\", \"28.4526004791\", \"6.2044444\", \"32.7066\", \"5.081111\", \"80.16929626464844\", \"-3.56264\", \"-2.2749500274658203\", \"39.594200134277344\", \"58.284400939941406\", \"95.97789764404297\", \"39.705101\", \"113.592003\", \"59.64099884033203\", \"0.48640599846839905\", \"14.4775\", \"73.52909851074219\", \"13.376197814900001\", \"57.4875\", \"121.019997\", \"32.572601\", \"5.22142410278\", \"57.683601\", \"28.030700683594\", \"126.382814\", \"8.72811\", \"14.2908\", \"10.438611\", \"36.9277992249\", \"7.215869903560001\", \"-1.6916699409484863\", \"121.46199798583984\", \"136.80499267578125\", \"2.18361\", \"-15.9697222\", \"118.86199951171875\", \"108.1719970703125\", \"11.078056\", \"1.28278005123\", \"30.67650032043457\", \"139.34800720214844\", \"-8.68138980865\", \"-8.491109848022461\", \"11.100399971008\", \"26.085\", \"-1.51242\", \"82.650703430176\", \"-25.6979007721\", \"116.58499908447266\", \"32.48569869995117\", \"116.41092\", \"2.73881006241\", \"13.091\", \"104.84400177001953\", \"16.8262996674\", \"14.26\", \"21.035801\", \"10.3927\", \"128.93800354\", \"8.093\", \"103.81300354\", \"23.971099853515625\", \"7.600279808044434\", \"-10.3623\", \"46.69879913330078\", \"29.3092002869\", \"-8.415140151977539\", \"55.521801\", \"121.33599853515625\", \"55.5172004699707\", \"-22.9494\", \"103.994003\", \"33.975101470947266\", \"18.331499099731445\", \"22.97089958190918\", \"21.621401\", \"74.3638916016\", \"-8.92482\", \"23.411436080932617\", \"131.287\", \"-1.3567999601364136\", \"-17.7556\", \"0.234999999404\", \"9.22196006775\", \"112.78700256347656\", \"5.6377801895\", \"37.4146\", \"60.802700042725\", \"13.5225\", \"109.41200256347656\", \"52.58980178833008\", \"113.81099700927734\", \"69.2811965942\", \"44.95470047\", \"46.23500061035156\", \"-27.090799\", \"-16.5725002289\", \"19.2519\", \"51.31340026855469\", \"19.7206001282\", \"13.1590003967\", \"24.832799911499997\", \"1.36382\", \"117.21600341796875\", \"47.478802\", \"18.918899536132812\", \"121.233002\", \"7.64963\", \"76.9200973511\", \"71.46690368652344\", \"12.1944\", \"117.346000671\", \"10.22719955444336\", \"13.2877\", \"112.62799835205078\", \"39.78969955444336\", \"55.874401092529\", \"106.766998\", \"119.55400085449219\", \"87.47419738769531\", \"27.8251\", \"12.3519\", \"34.93579864501953\", \"16.569700241089\", \"37.2615013123\", \"25.285801\", \"10.8885\", \"20.967100143399996\", \"20.6518\", \"16.885799408\", \"114.208\", \"108.751999\", \"118.12799835205078\", \"16.0687999725\", \"38.150002\", \"39.224899\", \"8.54917\"], \"marker\": {\"color\": [30.816551303817857, 51.93478260869565, 45.51317365269461, 40.323076923076925, 49.128787878787875, 43.515406162464984, 44.28121720881427, 29.146708881434297, 27.11111111111111, 36.14993917274939, 49.076298701298704, 39.79780230658813, 35.03210272873194, 37.64675705386588, 38.19047619047619, 40.626543209876544, 40.442875481386395, 48.921487603305785, 48.84550561797753, 50.101621621621625, 49.64912280701754, 56.08, 45.14435946462715, 38.76425855513308, 40.75325301204819, 43.160940325497286, 40.61244263131056, 43.46580226904376, 44.36798221234019, 52.57746478873239, 68.74257425742574, 35.14176399516714, 35.287749287749286, 36.06607929515418, 88.35849056603773, 36.15114848236259, 46.63845050215208, 58.4375, 31.207999633884032, 44.10221923335575, 47.21804511278196, 44.17777777777778, 52.015625, 41.34601664684899, 52.560402684563755, 46.45777777777778, 48.0795847750865, 45.08661417322835, 47.65824308062575, 26.4468085106383, 40.34701492537314, 46.442953020134226, 29.314917127071823, 56.525252525252526, 60.8705035971223, 38.73926701570681, 47.817708333333336, 32.81165919282511, 69.8170731707317, 35.37781084656085, 38.699644358228255, 25.23174426020408, 34.84521384928717, 38.773456790123454, 55.80263157894737, 47.581377744133235, 58.96296296296296, 35.08110768423125, 48.301818181818184, 41.75912408759124, 96.44827586206897, 58.78260869565217, 24.37837837837838, 39.38601823708207, 52.28660436137071, 41.81221719457014, 42.765078620042246, 43.75147611379496, 50.55653568564555, 40.23817863397548, 31.771802982376865, 44.00612244897959, 49.27113702623907, 34.07454289732771, 53.28294573643411, 47.24444444444445, 35.03662638594743, 48.64722351843211, 38.87170596393897, 33.220613734424774, 39.31375579598145, 42.758823529411764, 33.293707004150825, 49.976470588235294, 48.23451327433628, 43.29012345679013, 43.917518745739606, 48.377049180327866, 42.72313296903461, 37.42965177629265, 52.76223776223776, 43.81927710843374, 50.196969696969695, 51.854395604395606, 44.755319148936174, 42.62630359212051, 43.84533591106815, 43.57984790874525, 38.757009345794394, 48.96666666666667, 36.666666666666664, 81.77777777777777, 38.75589866260737, 36.94117647058823, 35.954522227899844, 40.3273401826484, 40.064690026954175, 42.357142857142854, 29.4468085106383, 39.08988764044944, 53.904347826086955, 33.10425663170882, 41.09326424870466, 47.27463503649635, 32.363529248683115, 39.489736070381234, 53.61832061068702, 49.15540015540016, 34.806748466257666, 41.32017543859649, 51.23232323232323, 35.064777327935225, 48.66951566951567, 75.48837209302326, 42.353658536585364, 36.13861386138614, 43.11290322580645, 31.965653422690284, 42.21337579617835, 51.2625, 38.99884526558891, 54.83519553072626, 29.525675195451313, 39.53437013996889, 33.18932305998899, 26.24277456647399, 39.80921052631579, 39.65049556598852, 39.136, 19.055555555555557, 29.149135744203882, 13.217391304347826, 45.62770562770563, 42.91468253968254, 47.93850806451613, 34.790468877477565, 39.6, 32.29032258064516, 40.545806451612904, 40.78636363636364, 43.04968944099379, 39.78125, 34.88942307692308, 37.76268715524035, 64.56857142857143, 38.2093023255814, 49.34557595993322, 45.966442953020135, 35.92857142857143, 61.526315789473685, 44.21768292682927, 34.484, 44.72739361702128, 50.94017094017094, 43.696850393700785, 22.387234042553192, 25.695652173913043, 38.14860907759883, 51.92819979188346, 27.701030927835053, 42.08338448049101, 30.941176470588236, 45.400812064965194, 49.42786069651741, 36.37777777777778, 68.11945392491468, 47.983700862895496, 64.83823529411765, 22.08067158067158, 38.88968481375358, 46.80132450331126, 40.87755102040816, 58.166666666666664, 39.67774762550882, 40.05263157894737, 51.03508771929825, 44.51456310679612, 25.642857142857142, 52.07453416149068, 40.904761904761905, 61.81578947368421, 32.87925837976071, 16.856420626895854, 58.9009900990099, 136.71428571428572, 40.68390804597701, 51.45410628019324, 42.701128668171556, 44.718820861678005, 52.79761904761905, 34.39334287759485, 47.29181245626312, 46.82367149758454, 37.56152966170943, 41.227148330596606, 46.454887218045116, 40.75555555555555, 58.262172284644194, 56.5, 46.392405063291136, 34.74052132701422, 38.512900703674745, 72.34375, 46.71470588235294, 42.41744186046512, 68.2156862745098, 29.353846153846153, 49.6013986013986, 46.37460317460317, 32.05042864346949, 36.298507462686565, 37.59514687100894, 37.95080500894454, 47.16531165311653, 46.19479606188467, 38.59322033898305, 37.62686567164179, 49.785714285714285, 56.58474576271186, 58.34168564920273, 39.5414798206278, 26.86829117828501, 40.09770114942529, 48.13149847094801, 30.0, 32.775775245163, 44.24679170779862, 25.737430167597765, 43.219437652811735, 93.82608695652173, 37.1432636156079, 74.23728813559322, 37.20557851239669, 75.3529411764706, 44.33582089552239, 41.0, 47.6609375, 48.651162790697676, 44.04095563139932, 41.02921068986949, 41.28983957219251, 46.43532338308458, 22.70886075949367, 28.914893617021278, 26.1, 31.418367346938776, 38.8770603357024, 50.38333333333333, 42.16877637130802, 34.16357112705783, 52.552083333333336, 51.926253687315636, 39.89163498098859, 44.080906148867314, 39.26105651105651, 59.44954128440367, 42.02846648301194, 46.57953394123607, 34.75951761645779, 47.7, 38.124745183139346, 49.23833333333334, 49.678082191780824, 58.37096774193548, 28.700937812283804, 65.62857142857143, 40.76606683804627, 36.560887605989535, 45.942723004694834, 50.05714285714286, 46.68645640074212, 44.91341705221414, 31.9595015576324, 50.19259259259259, 50.05048076923077, 22.87046908315565, 39.95454545454545, 40.48729446935725, 46.70292887029289, 35.55291025159595, 51.90501043841336, 39.98347107438016, 45.121883656509695, 44.166666666666664, 22.190193164933135, 41.88755020080321, 43.331320754716984, 42.972972972972975, 46.39449541284404, 37.68771138669673, 35.59623471566281, 30.361842105263158, 38.30555555555556, 52.47152847152847, 53.340425531914896, 37.166666666666664, 26.22222222222222, 54.32941176470588]}, \"mode\": \"markers\", \"text\": [\"AALRetart: 30.816551303817857\", \"AAPRetart: 51.93478260869565\", \"ABVRetart: 45.51317365269461\", \"ACCRetart: 40.323076923076925\", \"ADBRetart: 49.128787878787875\", \"ADDRetart: 43.515406162464984\", \"AERRetart: 44.28121720881427\", \"AGPRetart: 29.146708881434297\", \"AKTRetart: 27.11111111111111\", \"ALARetart: 36.14993917274939\", \"ALCRetart: 49.076298701298704\", \"ALGRetart: 39.79780230658813\", \"ALPRetart: 35.03210272873194\", \"AMMRetart: 37.64675705386588\", \"ARNRetart: 38.19047619047619\", \"ASBRetart: 40.626543209876544\", \"ATQRetart: 40.442875481386395\", \"AUHRetart: 48.921487603305785\", \"BAHRetart: 48.84550561797753\", \"BCNRetart: 50.101621621621625\", \"BEGRetart: 49.64912280701754\", \"BEYRetart: 56.08\", \"BFSRetart: 45.14435946462715\", \"BGORetart: 38.76425855513308\", \"BGWRetart: 40.75325301204819\", \"BHDRetart: 43.160940325497286\", \"BHXRetart: 40.61244263131056\", \"BJVRetart: 43.46580226904376\", \"BLLRetart: 44.36798221234019\", \"BLQRetart: 52.57746478873239\", \"BLRRetart: 68.74257425742574\", \"BODRetart: 35.14176399516714\", \"BOHRetart: 35.287749287749286\", \"BOMRetart: 36.06607929515418\", \"BOORetart: 88.35849056603773\", \"BRERetart: 36.15114848236259\", \"BRIRetart: 46.63845050215208\", \"BRSRetart: 58.4375\", \"BRURetart: 31.207999633884032\", \"BSLRetart: 44.10221923335575\", \"BSRRetart: 47.21804511278196\", \"BTSRetart: 44.17777777777778\", \"BUDRetart: 52.015625\", \"BWNRetart: 41.34601664684899\", \"BZZRetart: 52.560402684563755\", \"CAGRetart: 46.45777777777778\", \"CAIRetart: 48.0795847750865\", \"CCJRetart: 45.08661417322835\", \"CEBRetart: 47.65824308062575\", \"CGKRetart: 26.4468085106383\", \"CGNRetart: 40.34701492537314\", \"CGORetart: 46.442953020134226\", \"CGYRetart: 29.314917127071823\", \"CIARetart: 56.525252525252526\", \"CJJRetart: 60.8705035971223\", \"CJURetart: 38.73926701570681\", \"CKGRetart: 47.817708333333336\", \"CMBRetart: 32.81165919282511\", \"CMNRetart: 69.8170731707317\", \"CNXRetart: 35.37781084656085\", \"COKRetart: 38.699644358228255\", \"CPHRetart: 25.23174426020408\", \"CRKRetart: 34.84521384928717\", \"CRLRetart: 38.773456790123454\", \"CSXRetart: 55.80263157894737\", \"CTARetart: 47.581377744133235\", \"CTSRetart: 58.96296296296296\", \"CTURetart: 35.08110768423125\", \"CWLRetart: 48.301818181818184\", \"DACRetart: 41.75912408759124\", \"DADRetart: 96.44827586206897\", \"DAMRetart: 58.78260869565217\", \"DARRetart: 24.37837837837838\", \"DELRetart: 39.38601823708207\", \"DJJRetart: 52.28660436137071\", \"DKRRetart: 41.81221719457014\", \"DLCRetart: 42.765078620042246\", \"DLMRetart: 43.75147611379496\", \"DMERetart: 50.55653568564555\", \"DMKRetart: 40.23817863397548\", \"DMMRetart: 31.771802982376865\", \"DOHRetart: 44.00612244897959\", \"DPSRetart: 49.27113702623907\", \"DQMRetart: 34.07454289732771\", \"DRSRetart: 53.28294573643411\", \"DSARetart: 47.24444444444445\", \"DSSRetart: 35.03662638594743\", \"DTMRetart: 48.64722351843211\", \"DUBRetart: 38.87170596393897\", \"DURRetart: 33.220613734424774\", \"DVORetart: 39.31375579598145\", \"DWCRetart: 42.758823529411764\", \"DXBRetart: 33.293707004150825\", \"EBBRetart: 49.976470588235294\", \"EINRetart: 48.23451327433628\", \"EMARetart: 43.29012345679013\", \"ERZRetart: 43.917518745739606\", \"EVNRetart: 48.377049180327866\", \"EXTRetart: 42.72313296903461\", \"FAORetart: 37.42965177629265\", \"FFDRetart: 52.76223776223776\", \"FIHRetart: 43.81927710843374\", \"FKBRetart: 50.196969696969695\", \"FMORetart: 51.854395604395606\", \"FNARetart: 44.755319148936174\", \"FOCRetart: 42.62630359212051\", \"FRARetart: 43.84533591106815\", \"FRURetart: 43.57984790874525\", \"FSZRetart: 38.757009345794394\", \"FUKRetart: 48.96666666666667\", \"GBERetart: 36.666666666666664\", \"GDNRetart: 81.77777777777777\", \"GLARetart: 38.75589866260737\", \"GMPRetart: 36.94117647058823\", \"GOARetart: 35.954522227899844\", \"GOIRetart: 40.3273401826484\", \"GOTRetart: 40.064690026954175\", \"GRJRetart: 42.357142857142854\", \"GVARetart: 29.4468085106383\", \"GYDRetart: 39.08988764044944\", \"GZTRetart: 53.904347826086955\", \"HAJRetart: 33.10425663170882\", \"HAKRetart: 41.09326424870466\", \"HAMRetart: 47.27463503649635\", \"HANRetart: 32.363529248683115\", \"HELRetart: 39.489736070381234\", \"HERRetart: 53.61832061068702\", \"HETRetart: 49.15540015540016\", \"HGHRetart: 34.806748466257666\", \"HKGRetart: 41.32017543859649\", \"HKTRetart: 51.23232323232323\", \"HNDRetart: 35.064777327935225\", \"HRERetart: 48.66951566951567\", \"HRGRetart: 75.48837209302326\", \"HYDRetart: 42.353658536585364\", \"ICNRetart: 36.13861386138614\", \"IKARetart: 43.11290322580645\", \"ISBRetart: 31.965653422690284\", \"ISERetart: 42.21337579617835\", \"ISTRetart: 51.2625\", \"ITMRetart: 38.99884526558891\", \"JEDRetart: 54.83519553072626\", \"JNBRetart: 29.525675195451313\", \"JUBRetart: 39.53437013996889\", \"KANRetart: 33.18932305998899\", \"KBPRetart: 26.24277456647399\", \"KEFRetart: 39.80921052631579\", \"KGFRetart: 39.65049556598852\", \"KHHRetart: 39.136\", \"KHVRetart: 19.055555555555557\", \"KIXRetart: 29.149135744203882\", \"KJARetart: 13.217391304347826\", \"KMGRetart: 45.62770562770563\", \"KNHRetart: 42.91468253968254\", \"KOJRetart: 47.93850806451613\", \"KRKRetart: 34.790468877477565\", \"KRTRetart: 39.6\", \"KTMRetart: 32.29032258064516\", \"KTWRetart: 40.545806451612904\", \"KUFRetart: 40.78636363636364\", \"KULRetart: 43.04968944099379\", \"KUVRetart: 39.78125\", \"KWERetart: 34.88942307692308\", \"KWLRetart: 37.76268715524035\", \"KZNRetart: 64.56857142857143\", \"LADRetart: 38.2093023255814\", \"LBARetart: 49.34557595993322\", \"LCARetart: 45.966442953020135\", \"LEDRetart: 35.92857142857143\", \"LEJRetart: 61.526315789473685\", \"LGGRetart: 44.21768292682927\", \"LGWRetart: 34.484\", \"LHRRetart: 44.72739361702128\", \"LINRetart: 50.94017094017094\", \"LISRetart: 43.696850393700785\", \"LJURetart: 22.387234042553192\", \"LLARetart: 25.695652173913043\", \"LOSRetart: 38.14860907759883\", \"LPARetart: 51.92819979188346\", \"LPLRetart: 27.701030927835053\", \"LTKRetart: 42.08338448049101\", \"LTNRetart: 30.941176470588236\", \"LUNRetart: 45.400812064965194\", \"LUXRetart: 49.42786069651741\", \"LXRRetart: 36.37777777777778\", \"LYSRetart: 68.11945392491468\", \"MAARetart: 47.983700862895496\", \"MADRetart: 64.83823529411765\", \"MANRetart: 22.08067158067158\", \"MBARetart: 38.88968481375358\", \"MCTRetart: 46.80132450331126\", \"MDLRetart: 40.87755102040816\", \"MEDRetart: 58.166666666666664\", \"MFMRetart: 39.67774762550882\", \"MHDRetart: 40.05263157894737\", \"MHZRetart: 51.03508771929825\", \"MLARetart: 44.51456310679612\", \"MLERetart: 25.642857142857142\", \"MMXRetart: 52.07453416149068\", \"MNHRetart: 40.904761904761905\", \"MNLRetart: 61.81578947368421\", \"MPMRetart: 32.87925837976071\", \"MRSRetart: 16.856420626895854\", \"MRURetart: 58.9009900990099\", \"MSQRetart: 136.71428571428572\", \"MWXRetart: 40.68390804597701\", \"MXPRetart: 51.45410628019324\", \"NAPRetart: 42.701128668171556\", \"NBERetart: 44.718820861678005\", \"NBORetart: 52.79761904761905\", \"NCERetart: 34.39334287759485\", \"NCLRetart: 47.29181245626312\", \"NGBRetart: 46.82367149758454\", \"NGORetart: 37.56152966170943\", \"NIMRetart: 41.227148330596606\", \"NKCRetart: 46.454887218045116\", \"NKGRetart: 40.75555555555555\", \"NNGRetart: 58.262172284644194\", \"NUERetart: 56.5\", \"NWIRetart: 46.392405063291136\", \"ODSRetart: 34.74052132701422\", \"OKORetart: 38.512900703674745\", \"OPORetart: 72.34375\", \"ORKRetart: 46.71470588235294\", \"OSLRetart: 42.41744186046512\", \"OTPRetart: 68.2156862745098\", \"OUARetart: 29.353846153846153\", \"OVBRetart: 49.6013986013986\", \"PDLRetart: 46.37460317460317\", \"PEKRetart: 32.05042864346949\", \"PFORetart: 36.298507462686565\", \"PKXRetart: 37.59514687100894\", \"PMIRetart: 37.95080500894454\", \"PMORetart: 47.16531165311653\", \"PNHRetart: 46.19479606188467\", \"POZRetart: 38.59322033898305\", \"PRGRetart: 37.62686567164179\", \"PRNRetart: 49.785714285714285\", \"PSARetart: 56.58474576271186\", \"PUSRetart: 58.34168564920273\", \"QUORetart: 39.5414798206278\", \"REPRetart: 26.86829117828501\", \"RIXRetart: 40.09770114942529\", \"RMSRetart: 48.13149847094801\", \"ROBRetart: 30.0\", \"RUHRetart: 32.775775245163\", \"SAWRetart: 44.24679170779862\", \"SCQRetart: 25.737430167597765\", \"SEZRetart: 43.219437652811735\", \"SHARetart: 93.82608695652173\", \"SHJRetart: 37.1432636156079\", \"SIDRetart: 74.23728813559322\", \"SINRetart: 37.20557851239669\", \"SIPRetart: 75.3529411764706\", \"SJJRetart: 44.33582089552239\", \"SKGRetart: 41.0\", \"SKPRetart: 47.6609375\", \"SKTRetart: 48.651162790697676\", \"SNNRetart: 44.04095563139932\", \"SOFRetart: 41.02921068986949\", \"SOQRetart: 41.28983957219251\", \"SOURetart: 46.43532338308458\", \"SPCRetart: 22.70886075949367\", \"STNRetart: 28.914893617021278\", \"STRRetart: 26.1\", \"SUBRetart: 31.418367346938776\", \"SVGRetart: 38.8770603357024\", \"SVORetart: 50.38333333333333\", \"SVXRetart: 42.16877637130802\", \"SXFRetart: 34.16357112705783\", \"SYXRetart: 52.552083333333336\", \"SYZRetart: 51.926253687315636\", \"SZXRetart: 39.89163498098859\", \"TASRetart: 44.080906148867314\", \"TBSRetart: 39.26105651105651\", \"TBZRetart: 59.44954128440367\", \"TERRetart: 42.02846648301194\", \"TFSRetart: 46.57953394123607\", \"TGDRetart: 34.75951761645779\", \"THRRetart: 47.7\", \"TIARetart: 38.124745183139346\", \"TIPRetart: 49.23833333333334\", \"TLLRetart: 49.678082191780824\", \"TLSRetart: 58.37096774193548\", \"TNARetart: 28.700937812283804\", \"TNRRetart: 65.62857142857143\", \"TOSRetart: 40.76606683804627\", \"TPERetart: 36.560887605989535\", \"TRNRetart: 45.942723004694834\", \"TRVRetart: 50.05714285714286\", \"TSERetart: 46.68645640074212\", \"TSFRetart: 44.91341705221414\", \"TSNRetart: 31.9595015576324\", \"TUNRetart: 50.19259259259259\", \"TXLRetart: 50.05048076923077\", \"TYNRetart: 22.87046908315565\", \"TZXRetart: 39.95454545454545\", \"UFARetart: 40.48729446935725\", \"ULNRetart: 46.70292887029289\", \"UPGRetart: 35.55291025159595\", \"URCRetart: 51.90501043841336\", \"VARRetart: 39.98347107438016\", \"VCERetart: 45.121883656509695\", \"VDARetart: 44.166666666666664\", \"VIERetart: 22.190193164933135\", \"VKORetart: 41.88755020080321\", \"VNORetart: 43.331320754716984\", \"VRNRetart: 42.972972972972975\", \"WAWRetart: 46.39449541284404\", \"WMIRetart: 37.68771138669673\", \"WRORetart: 35.59623471566281\", \"WUHRetart: 30.361842105263158\", \"XIYRetart: 38.30555555555556\", \"XMNRetart: 52.47152847152847\", \"ZAGRetart: 53.340425531914896\", \"ZIARetart: 37.166666666666664\", \"ZNZRetart: 26.22222222222222\", \"ZRHRetart: 54.32941176470588\"], \"type\": \"scattergeo\"}],\n",
       "                        {\"template\": {\"data\": {\"bar\": [{\"error_x\": {\"color\": \"#2a3f5f\"}, \"error_y\": {\"color\": \"#2a3f5f\"}, \"marker\": {\"line\": {\"color\": \"#E5ECF6\", \"width\": 0.5}}, \"type\": \"bar\"}], \"barpolar\": [{\"marker\": {\"line\": {\"color\": \"#E5ECF6\", \"width\": 0.5}}, \"type\": \"barpolar\"}], \"carpet\": [{\"aaxis\": {\"endlinecolor\": \"#2a3f5f\", \"gridcolor\": \"white\", \"linecolor\": \"white\", \"minorgridcolor\": \"white\", \"startlinecolor\": \"#2a3f5f\"}, \"baxis\": {\"endlinecolor\": \"#2a3f5f\", \"gridcolor\": \"white\", \"linecolor\": \"white\", \"minorgridcolor\": \"white\", \"startlinecolor\": \"#2a3f5f\"}, \"type\": \"carpet\"}], \"choropleth\": [{\"colorbar\": {\"outlinewidth\": 0, \"ticks\": \"\"}, \"type\": \"choropleth\"}], \"contour\": [{\"colorbar\": {\"outlinewidth\": 0, \"ticks\": \"\"}, \"colorscale\": [[0.0, \"#0d0887\"], [0.1111111111111111, \"#46039f\"], [0.2222222222222222, \"#7201a8\"], [0.3333333333333333, \"#9c179e\"], [0.4444444444444444, \"#bd3786\"], [0.5555555555555556, \"#d8576b\"], [0.6666666666666666, \"#ed7953\"], [0.7777777777777778, \"#fb9f3a\"], [0.8888888888888888, \"#fdca26\"], [1.0, \"#f0f921\"]], \"type\": \"contour\"}], \"contourcarpet\": [{\"colorbar\": {\"outlinewidth\": 0, \"ticks\": \"\"}, \"type\": \"contourcarpet\"}], \"heatmap\": [{\"colorbar\": {\"outlinewidth\": 0, \"ticks\": \"\"}, \"colorscale\": [[0.0, \"#0d0887\"], [0.1111111111111111, \"#46039f\"], [0.2222222222222222, \"#7201a8\"], [0.3333333333333333, \"#9c179e\"], [0.4444444444444444, \"#bd3786\"], [0.5555555555555556, \"#d8576b\"], [0.6666666666666666, \"#ed7953\"], [0.7777777777777778, \"#fb9f3a\"], [0.8888888888888888, \"#fdca26\"], [1.0, \"#f0f921\"]], \"type\": \"heatmap\"}], \"heatmapgl\": [{\"colorbar\": {\"outlinewidth\": 0, \"ticks\": \"\"}, \"colorscale\": [[0.0, \"#0d0887\"], [0.1111111111111111, \"#46039f\"], [0.2222222222222222, \"#7201a8\"], [0.3333333333333333, \"#9c179e\"], [0.4444444444444444, \"#bd3786\"], [0.5555555555555556, \"#d8576b\"], [0.6666666666666666, \"#ed7953\"], [0.7777777777777778, \"#fb9f3a\"], [0.8888888888888888, \"#fdca26\"], [1.0, \"#f0f921\"]], \"type\": \"heatmapgl\"}], \"histogram\": [{\"marker\": {\"colorbar\": {\"outlinewidth\": 0, \"ticks\": \"\"}}, \"type\": \"histogram\"}], \"histogram2d\": [{\"colorbar\": {\"outlinewidth\": 0, \"ticks\": \"\"}, \"colorscale\": [[0.0, \"#0d0887\"], [0.1111111111111111, \"#46039f\"], [0.2222222222222222, \"#7201a8\"], [0.3333333333333333, \"#9c179e\"], [0.4444444444444444, \"#bd3786\"], [0.5555555555555556, \"#d8576b\"], [0.6666666666666666, \"#ed7953\"], [0.7777777777777778, \"#fb9f3a\"], [0.8888888888888888, \"#fdca26\"], [1.0, \"#f0f921\"]], \"type\": \"histogram2d\"}], \"histogram2dcontour\": [{\"colorbar\": {\"outlinewidth\": 0, \"ticks\": \"\"}, \"colorscale\": [[0.0, \"#0d0887\"], [0.1111111111111111, \"#46039f\"], [0.2222222222222222, \"#7201a8\"], [0.3333333333333333, \"#9c179e\"], [0.4444444444444444, \"#bd3786\"], [0.5555555555555556, \"#d8576b\"], [0.6666666666666666, \"#ed7953\"], [0.7777777777777778, \"#fb9f3a\"], [0.8888888888888888, \"#fdca26\"], [1.0, \"#f0f921\"]], \"type\": \"histogram2dcontour\"}], \"mesh3d\": [{\"colorbar\": {\"outlinewidth\": 0, \"ticks\": \"\"}, \"type\": \"mesh3d\"}], \"parcoords\": [{\"line\": {\"colorbar\": {\"outlinewidth\": 0, \"ticks\": \"\"}}, \"type\": \"parcoords\"}], \"pie\": [{\"automargin\": true, \"type\": \"pie\"}], \"scatter\": [{\"marker\": {\"colorbar\": {\"outlinewidth\": 0, \"ticks\": \"\"}}, \"type\": \"scatter\"}], \"scatter3d\": [{\"line\": {\"colorbar\": {\"outlinewidth\": 0, \"ticks\": \"\"}}, \"marker\": {\"colorbar\": {\"outlinewidth\": 0, \"ticks\": \"\"}}, \"type\": \"scatter3d\"}], \"scattercarpet\": [{\"marker\": {\"colorbar\": {\"outlinewidth\": 0, \"ticks\": \"\"}}, \"type\": \"scattercarpet\"}], \"scattergeo\": [{\"marker\": {\"colorbar\": {\"outlinewidth\": 0, \"ticks\": \"\"}}, \"type\": \"scattergeo\"}], \"scattergl\": [{\"marker\": {\"colorbar\": {\"outlinewidth\": 0, \"ticks\": \"\"}}, \"type\": \"scattergl\"}], \"scattermapbox\": [{\"marker\": {\"colorbar\": {\"outlinewidth\": 0, \"ticks\": \"\"}}, \"type\": \"scattermapbox\"}], \"scatterpolar\": [{\"marker\": {\"colorbar\": {\"outlinewidth\": 0, \"ticks\": \"\"}}, \"type\": \"scatterpolar\"}], \"scatterpolargl\": [{\"marker\": {\"colorbar\": {\"outlinewidth\": 0, \"ticks\": \"\"}}, \"type\": \"scatterpolargl\"}], \"scatterternary\": [{\"marker\": {\"colorbar\": {\"outlinewidth\": 0, \"ticks\": \"\"}}, \"type\": \"scatterternary\"}], \"surface\": [{\"colorbar\": {\"outlinewidth\": 0, \"ticks\": \"\"}, \"colorscale\": [[0.0, \"#0d0887\"], [0.1111111111111111, \"#46039f\"], [0.2222222222222222, \"#7201a8\"], [0.3333333333333333, \"#9c179e\"], [0.4444444444444444, \"#bd3786\"], [0.5555555555555556, \"#d8576b\"], [0.6666666666666666, \"#ed7953\"], [0.7777777777777778, \"#fb9f3a\"], [0.8888888888888888, \"#fdca26\"], [1.0, \"#f0f921\"]], \"type\": \"surface\"}], \"table\": [{\"cells\": {\"fill\": {\"color\": \"#EBF0F8\"}, \"line\": {\"color\": \"white\"}}, \"header\": {\"fill\": {\"color\": \"#C8D4E3\"}, \"line\": {\"color\": \"white\"}}, \"type\": \"table\"}]}, \"layout\": {\"annotationdefaults\": {\"arrowcolor\": \"#2a3f5f\", \"arrowhead\": 0, \"arrowwidth\": 1}, \"coloraxis\": {\"colorbar\": {\"outlinewidth\": 0, \"ticks\": \"\"}}, \"colorscale\": {\"diverging\": [[0, \"#8e0152\"], [0.1, \"#c51b7d\"], [0.2, \"#de77ae\"], [0.3, \"#f1b6da\"], [0.4, \"#fde0ef\"], [0.5, \"#f7f7f7\"], [0.6, \"#e6f5d0\"], [0.7, \"#b8e186\"], [0.8, \"#7fbc41\"], [0.9, \"#4d9221\"], [1, \"#276419\"]], \"sequential\": [[0.0, \"#0d0887\"], [0.1111111111111111, \"#46039f\"], [0.2222222222222222, \"#7201a8\"], [0.3333333333333333, \"#9c179e\"], [0.4444444444444444, \"#bd3786\"], [0.5555555555555556, \"#d8576b\"], [0.6666666666666666, \"#ed7953\"], [0.7777777777777778, \"#fb9f3a\"], [0.8888888888888888, \"#fdca26\"], [1.0, \"#f0f921\"]], \"sequentialminus\": [[0.0, \"#0d0887\"], [0.1111111111111111, \"#46039f\"], [0.2222222222222222, \"#7201a8\"], [0.3333333333333333, \"#9c179e\"], [0.4444444444444444, \"#bd3786\"], [0.5555555555555556, \"#d8576b\"], [0.6666666666666666, \"#ed7953\"], [0.7777777777777778, \"#fb9f3a\"], [0.8888888888888888, \"#fdca26\"], [1.0, \"#f0f921\"]]}, \"colorway\": [\"#636efa\", \"#EF553B\", \"#00cc96\", \"#ab63fa\", \"#FFA15A\", \"#19d3f3\", \"#FF6692\", \"#B6E880\", \"#FF97FF\", \"#FECB52\"], \"font\": {\"color\": \"#2a3f5f\"}, \"geo\": {\"bgcolor\": \"white\", \"lakecolor\": \"white\", \"landcolor\": \"#E5ECF6\", \"showlakes\": true, \"showland\": true, \"subunitcolor\": \"white\"}, \"hoverlabel\": {\"align\": \"left\"}, \"hovermode\": \"closest\", \"mapbox\": {\"style\": \"light\"}, \"paper_bgcolor\": \"white\", \"plot_bgcolor\": \"#E5ECF6\", \"polar\": {\"angularaxis\": {\"gridcolor\": \"white\", \"linecolor\": \"white\", \"ticks\": \"\"}, \"bgcolor\": \"#E5ECF6\", \"radialaxis\": {\"gridcolor\": \"white\", \"linecolor\": \"white\", \"ticks\": \"\"}}, \"scene\": {\"xaxis\": {\"backgroundcolor\": \"#E5ECF6\", \"gridcolor\": \"white\", \"gridwidth\": 2, \"linecolor\": \"white\", \"showbackground\": true, \"ticks\": \"\", \"zerolinecolor\": \"white\"}, \"yaxis\": {\"backgroundcolor\": \"#E5ECF6\", \"gridcolor\": \"white\", \"gridwidth\": 2, \"linecolor\": \"white\", \"showbackground\": true, \"ticks\": \"\", \"zerolinecolor\": \"white\"}, \"zaxis\": {\"backgroundcolor\": \"#E5ECF6\", \"gridcolor\": \"white\", \"gridwidth\": 2, \"linecolor\": \"white\", \"showbackground\": true, \"ticks\": \"\", \"zerolinecolor\": \"white\"}}, \"shapedefaults\": {\"line\": {\"color\": \"#2a3f5f\"}}, \"ternary\": {\"aaxis\": {\"gridcolor\": \"white\", \"linecolor\": \"white\", \"ticks\": \"\"}, \"baxis\": {\"gridcolor\": \"white\", \"linecolor\": \"white\", \"ticks\": \"\"}, \"bgcolor\": \"#E5ECF6\", \"caxis\": {\"gridcolor\": \"white\", \"linecolor\": \"white\", \"ticks\": \"\"}}, \"title\": {\"x\": 0.05}, \"xaxis\": {\"automargin\": true, \"gridcolor\": \"white\", \"linecolor\": \"white\", \"ticks\": \"\", \"title\": {\"standoff\": 15}, \"zerolinecolor\": \"white\", \"zerolinewidth\": 2}, \"yaxis\": {\"automargin\": true, \"gridcolor\": \"white\", \"linecolor\": \"white\", \"ticks\": \"\", \"title\": {\"standoff\": 15}, \"zerolinecolor\": \"white\", \"zerolinewidth\": 2}}}, \"title\": {\"text\": \"Retard moyen au d\\u00e9part de chaque a\\u00e9roport\"}},\n",
       "                        {\"responsive\": true}\n",
       "                    ).then(function(){\n",
       "                            \n",
       "var gd = document.getElementById('d72711f7-5cfe-4f3d-80a5-3bf1e9583cf7');\n",
       "var x = new MutationObserver(function (mutations, observer) {{\n",
       "        var display = window.getComputedStyle(gd).display;\n",
       "        if (!display || display === 'none') {{\n",
       "            console.log([gd, 'removed!']);\n",
       "            Plotly.purge(gd);\n",
       "            observer.disconnect();\n",
       "        }}\n",
       "}});\n",
       "\n",
       "// Listen for the removal of the full notebook cells\n",
       "var notebookContainer = gd.closest('#notebook-container');\n",
       "if (notebookContainer) {{\n",
       "    x.observe(notebookContainer, {childList: true});\n",
       "}}\n",
       "\n",
       "// Listen for the clearing of the current output cell\n",
       "var outputEl = gd.closest('.output');\n",
       "if (outputEl) {{\n",
       "    x.observe(outputEl, {childList: true});\n",
       "}}\n",
       "\n",
       "                        })\n",
       "                };\n",
       "                });\n",
       "            </script>\n",
       "        </div>"
      ]
     },
     "metadata": {},
     "output_type": "display_data"
    }
   ],
   "source": [
    "!pip install plotly\n",
    "import plotly.graph_objects as go\n",
    "\n",
    "import pandas as pd\n",
    "\n",
    "moy_dep['text'] = moy_dep['AEROPORT DEPART'] + ''  + 'Retart: ' + moy_dep['retard_moyen'].astype(str)\n",
    "\n",
    "fig = go.Figure(data=go.Scattergeo(\n",
    "        lon = moy_dep['long'],\n",
    "        lat = moy_dep['lat'],\n",
    "        text = moy_dep['text'],\n",
    "        mode = 'markers',\n",
    "        marker_color = moy_dep['retard_moyen'],\n",
    "        ))\n",
    "\n",
    "fig.update_layout(\n",
    "        title = 'Retard moyen au départ de chaque aéroport')\n",
    "fig.show()"
   ]
  },
  {
   "cell_type": "code",
   "execution_count": null,
   "metadata": {},
   "outputs": [],
   "source": []
  },
  {
   "cell_type": "code",
   "execution_count": null,
   "metadata": {},
   "outputs": [],
   "source": []
  }
 ],
 "metadata": {
  "kernelspec": {
   "display_name": "Python 3",
   "language": "python",
   "name": "python3"
  },
  "language_info": {
   "codemirror_mode": {
    "name": "ipython",
    "version": 3
   },
   "file_extension": ".py",
   "mimetype": "text/x-python",
   "name": "python",
   "nbconvert_exporter": "python",
   "pygments_lexer": "ipython3",
   "version": "3.7.3"
  }
 },
 "nbformat": 4,
 "nbformat_minor": 2
}
